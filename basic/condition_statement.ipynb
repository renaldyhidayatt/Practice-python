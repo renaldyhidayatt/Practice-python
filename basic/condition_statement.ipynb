{
 "cells": [
  {
   "cell_type": "markdown",
   "metadata": {},
   "source": [
    "## Conditional Statements\n",
    "\n",
    "### What is a Conditional Statement?\n",
    "\n",
    "A conditional statement is an expression which evaluates either **True** or **False**."
   ]
  },
  {
   "cell_type": "code",
   "execution_count": 38,
   "metadata": {},
   "outputs": [
    {
     "data": {
      "text/plain": [
       "True"
      ]
     },
     "execution_count": 38,
     "metadata": {},
     "output_type": "execute_result"
    }
   ],
   "source": [
    "6 == 6"
   ]
  },
  {
   "cell_type": "code",
   "execution_count": 39,
   "metadata": {},
   "outputs": [
    {
     "name": "stdout",
     "output_type": "stream",
     "text": [
      "x == y : False\n",
      "x != y : True\n",
      "x < y : False\n",
      "x > y : True\n",
      "x <= y : False\n",
      "x >= y : True\n"
     ]
    }
   ],
   "source": [
    "x = 12\n",
    "y = 8\n",
    "\n",
    "print(\"x == y :\", x == y)\n",
    "print(\"x != y :\", x != y)\n",
    "print(\"x < y :\", x < y)\n",
    "print(\"x > y :\", x > y)\n",
    "print(\"x <= y :\", x <= y)\n",
    "print(\"x >= y :\", x >= y)"
   ]
  },
  {
   "cell_type": "code",
   "execution_count": 40,
   "metadata": {},
   "outputs": [
    {
     "data": {
      "text/plain": [
       "False"
      ]
     },
     "execution_count": 40,
     "metadata": {},
     "output_type": "execute_result"
    }
   ],
   "source": [
    "a = 5 == 5\n",
    "a\n",
    "\n",
    "b = 'a' == 'A'\n",
    "b"
   ]
  },
  {
   "cell_type": "code",
   "execution_count": 41,
   "metadata": {},
   "outputs": [
    {
     "name": "stdout",
     "output_type": "stream",
     "text": [
      "----  and ----\n",
      "True and False: False\n"
     ]
    }
   ],
   "source": [
    "# and\n",
    "\n",
    "print(\"----  and ----\")\n",
    "print(\"{0} and {1}: {2}\".format(a, b, a and b))"
   ]
  },
  {
   "cell_type": "markdown",
   "metadata": {},
   "source": [
    "### IF\n",
    "\n",
    "Python runs the code from top to down.\n",
    "\n",
    "We call it Execution Flow.\n",
    "\n",
    "There will be places in the code, that you may want to control this flow.\n",
    "\n",
    "For example, let's say you want to print the number if it is positive.\n",
    "\n",
    "This decision making is called **conditional execution** and it is done via **if statements**."
   ]
  },
  {
   "cell_type": "code",
   "execution_count": 42,
   "metadata": {},
   "outputs": [
    {
     "name": "stdout",
     "output_type": "stream",
     "text": [
      "7 is greater than 0.\n"
     ]
    }
   ],
   "source": [
    "\n",
    "x = 7\n",
    "\n",
    "if x > 0:\n",
    "    print(\"{} is greater than 0.\".format(x))    \n",
    "    "
   ]
  },
  {
   "cell_type": "code",
   "execution_count": 43,
   "metadata": {},
   "outputs": [
    {
     "name": "stdout",
     "output_type": "stream",
     "text": [
      "end of if statement\n"
     ]
    }
   ],
   "source": [
    "x = -10\n",
    "\n",
    "if x > 0:\n",
    "    print(\"{} is greater than 0.\".format(x))    \n",
    "    \n",
    "print(\"end of if statement\")"
   ]
  },
  {
   "cell_type": "code",
   "execution_count": 44,
   "metadata": {},
   "outputs": [
    {
     "name": "stdout",
     "output_type": "stream",
     "text": [
      "---------\n",
      "10 is greater than 0 and less than or equal to 10.\n",
      "---------\n"
     ]
    }
   ],
   "source": [
    "x = 10\n",
    "\n",
    "print(\"---------\")\n",
    "\n",
    "if x > 0 and x <= 10:\n",
    "    print(\"{} is greater than 0 and less than or equal to 10.\".format(x))\n",
    "\n",
    "print(\"---------\")"
   ]
  },
  {
   "cell_type": "markdown",
   "metadata": {},
   "source": [
    "### Else"
   ]
  },
  {
   "cell_type": "markdown",
   "metadata": {},
   "source": [
    "**Alternative Execution: else**"
   ]
  },
  {
   "cell_type": "markdown",
   "metadata": {},
   "source": [
    "Most of the time we need more than one condition to check.\n",
    "\n",
    "For multiple conditions check we use **else** with **if**."
   ]
  },
  {
   "cell_type": "code",
   "execution_count": 45,
   "metadata": {},
   "outputs": [
    {
     "name": "stdout",
     "output_type": "stream",
     "text": [
      "---- before if block ----\n",
      "EVEN\n",
      "---- after if block ----\n"
     ]
    }
   ],
   "source": [
    "\n",
    "x = 14\n",
    "\n",
    "print(\"---- before if block ----\")\n",
    "\n",
    "if x % 2 == 0:\n",
    "    print(\"EVEN\")\n",
    "else:\n",
    "    print(\"ODD\")       \n",
    "\n",
    "print(\"---- after if block ----\")"
   ]
  },
  {
   "cell_type": "markdown",
   "metadata": {},
   "source": [
    "### Elif"
   ]
  },
  {
   "cell_type": "markdown",
   "metadata": {},
   "source": [
    "So far, we only checked for 2 conditions:\n",
    "* if\n",
    "* else\n",
    "\n",
    "When need more than 2 conditions: **elif**\n",
    "\n",
    "Namely: **if-elif-elif-...-else**\n",
    "\n",
    "* if\n",
    "* elif\n",
    "* elif\n",
    "* elif\n",
    "* .\n",
    "* .\n",
    "* .\n",
    "* else"
   ]
  },
  {
   "cell_type": "code",
   "execution_count": 46,
   "metadata": {},
   "outputs": [],
   "source": [
    "def is_positive():\n",
    "    \n",
    "    # input() returns str\n",
    "    user_input = input(\"Please enter a number: \")\n",
    "    \n",
    "    # cast input into int -> int()\n",
    "    n = int(user_input)\n",
    "    \n",
    "    # check conditions\n",
    "    if n > 0:\n",
    "        print(\"POSITIVE\")\n",
    "    elif n == 0:\n",
    "        print(\"ZERO\")\n",
    "    else:\n",
    "        print(\"NEGATIVE\")"
   ]
  },
  {
   "cell_type": "code",
   "execution_count": 47,
   "metadata": {},
   "outputs": [
    {
     "name": "stdout",
     "output_type": "stream",
     "text": [
      "POSITIVE\n"
     ]
    }
   ],
   "source": [
    "is_positive()"
   ]
  },
  {
   "cell_type": "code",
   "execution_count": 48,
   "metadata": {},
   "outputs": [],
   "source": [
    "def day_of_week():\n",
    "    \n",
    "    # ask for number of the day\n",
    "    number_of_day = int(input(\"Please enter a number (1-7): \"))\n",
    "    \n",
    "    # define a variable for name of the day\n",
    "    name_of_day = \"\"\n",
    "    \n",
    "    # conditions\n",
    "    if number_of_day == 1:\n",
    "        name_of_day = 'MONDAY'\n",
    "    elif number_of_day == 2:\n",
    "        name_of_day = 'TUESDAY'\n",
    "    elif number_of_day == 3:\n",
    "        name_of_day = 'WEDNESDAY'\n",
    "    elif number_of_day == 4:\n",
    "        name_of_day = 'THURSDAY'\n",
    "    elif number_of_day == 5:\n",
    "        name_of_day = 'FRIDAY'\n",
    "    elif number_of_day == 6:\n",
    "        name_of_day = 'SATURDAY'\n",
    "    else:\n",
    "        name_of_day = 'SUNDAY'\n",
    "        \n",
    "    # return name of day\n",
    "    return name_of_day\n"
   ]
  },
  {
   "cell_type": "code",
   "execution_count": 49,
   "metadata": {},
   "outputs": [
    {
     "data": {
      "text/plain": [
       "'WEDNESDAY'"
      ]
     },
     "execution_count": 49,
     "metadata": {},
     "output_type": "execute_result"
    }
   ],
   "source": [
    "day_of_week()"
   ]
  },
  {
   "cell_type": "markdown",
   "metadata": {},
   "source": [
    "### Recursion\n",
    "\n",
    "A function can call other functions.\n",
    "\n",
    "It also can call itself.\n",
    "\n",
    "We call this **Recursion**\n",
    "\n",
    "Ex: A function which prints backwards from a given number up to 0.\n",
    "\n",
    "\n",
    "**Very Important:**\n",
    "\n",
    "In Recursion, you have to set an **exit condition**.\n",
    "\n",
    "Otherwise, the function will call itself up to infinity -> infinite recursion."
   ]
  },
  {
   "cell_type": "code",
   "execution_count": 50,
   "metadata": {},
   "outputs": [],
   "source": [
    "\n",
    "def write_text(text, n):\n",
    "    \n",
    "    # exit condition\n",
    "    if n <= 0:\n",
    "        return\n",
    "    \n",
    "    else:\n",
    "        print(\"{} : {}\".format(n, text))\n",
    "        write_text(text, n-1)"
   ]
  },
  {
   "cell_type": "code",
   "execution_count": 51,
   "metadata": {},
   "outputs": [
    {
     "name": "stdout",
     "output_type": "stream",
     "text": [
      "5 : Machine Learning\n",
      "4 : Machine Learning\n",
      "3 : Machine Learning\n",
      "2 : Machine Learning\n",
      "1 : Machine Learning\n"
     ]
    }
   ],
   "source": [
    "write_text('Machine Learning', 5)"
   ]
  },
  {
   "cell_type": "code",
   "execution_count": 52,
   "metadata": {},
   "outputs": [],
   "source": [
    "def up_to_hundred(n):\n",
    "    \n",
    "    # exit condition\n",
    "    if n > 100:\n",
    "        return\n",
    "    else:\n",
    "        print(n)\n",
    "        up_to_hundred(n+1)"
   ]
  },
  {
   "cell_type": "code",
   "execution_count": 53,
   "metadata": {},
   "outputs": [
    {
     "name": "stdout",
     "output_type": "stream",
     "text": [
      "80\n",
      "81\n",
      "82\n",
      "83\n",
      "84\n",
      "85\n",
      "86\n",
      "87\n",
      "88\n",
      "89\n",
      "90\n",
      "91\n",
      "92\n",
      "93\n",
      "94\n",
      "95\n",
      "96\n",
      "97\n",
      "98\n",
      "99\n",
      "100\n"
     ]
    }
   ],
   "source": [
    "up_to_hundred(80)"
   ]
  },
  {
   "cell_type": "markdown",
   "metadata": {},
   "source": [
    "## Question Quiz"
   ]
  },
  {
   "cell_type": "markdown",
   "metadata": {},
   "source": [
    "**Q 1:**\n",
    "\n",
    "Ask the user to enter a number.\n",
    "\n",
    "Find out if this number is Odd or Even."
   ]
  },
  {
   "cell_type": "code",
   "execution_count": 54,
   "metadata": {},
   "outputs": [
    {
     "ename": "ValueError",
     "evalue": "invalid literal for int() with base 10: ''",
     "output_type": "error",
     "traceback": [
      "\u001b[0;31m---------------------------------------------------------------------------\u001b[0m",
      "\u001b[0;31mValueError\u001b[0m                                Traceback (most recent call last)",
      "Cell \u001b[0;32mIn [54], line 2\u001b[0m\n\u001b[1;32m      1\u001b[0m \u001b[38;5;66;03m# ask for number\u001b[39;00m\n\u001b[0;32m----> 2\u001b[0m num \u001b[38;5;241m=\u001b[39m \u001b[38;5;28;43mint\u001b[39;49m\u001b[43m(\u001b[49m\u001b[38;5;28;43minput\u001b[39;49m\u001b[43m(\u001b[49m\u001b[38;5;124;43m\"\u001b[39;49m\u001b[38;5;124;43mPlease enter a number: \u001b[39;49m\u001b[38;5;124;43m\"\u001b[39;49m\u001b[43m)\u001b[49m\u001b[43m)\u001b[49m\n\u001b[1;32m      4\u001b[0m \u001b[38;5;66;03m# decide\u001b[39;00m\n\u001b[1;32m      5\u001b[0m \u001b[38;5;28;01mif\u001b[39;00m num \u001b[38;5;241m%\u001b[39m \u001b[38;5;241m2\u001b[39m \u001b[38;5;241m==\u001b[39m \u001b[38;5;241m0\u001b[39m:\n",
      "\u001b[0;31mValueError\u001b[0m: invalid literal for int() with base 10: ''"
     ]
    }
   ],
   "source": [
    "# ask for number\n",
    "num = int(input(\"Please enter a number: \"))\n",
    "\n",
    "# decide\n",
    "if num % 2 == 0:\n",
    "    print(num, \"is EVEN\")\n",
    "else:\n",
    "    print(num, \"is ODD\")"
   ]
  },
  {
   "cell_type": "markdown",
   "metadata": {},
   "source": [
    "**Q 2:**\n",
    "\n",
    "Ask for a letter from the user.\n",
    "\n",
    "Find out if it is a vowel or consonant."
   ]
  },
  {
   "cell_type": "code",
   "execution_count": null,
   "metadata": {},
   "outputs": [
    {
     "name": "stdout",
     "output_type": "stream",
     "text": [
      "Consonant 3\n"
     ]
    }
   ],
   "source": [
    "letter = input(\"Please enter a letter\")\n",
    "\n",
    "if letter == 'a' or letter == 'e' or letter == 'i' or letter == 'o' or letter == 'u':\n",
    "    print(\"Vowel:\", letter)\n",
    "else:\n",
    "    print(\"Consonant\", letter)"
   ]
  },
  {
   "cell_type": "markdown",
   "metadata": {},
   "source": [
    "**Q 3:**\n",
    "\n",
    "Define a function named **which_shape**.\n",
    "\n",
    "The function will ask a number from the user.\n",
    "\n",
    "It will decide the name of the shape according to that number, and return that name.\n",
    "\n",
    "Sides & Shapes:\n",
    "* 3 - Triangle\n",
    "* 4 - Rectangle\n",
    "* 5 - Pentagon\n",
    "* 6 - Hexagon\n",
    "* 7 and more - Polygon"
   ]
  },
  {
   "cell_type": "code",
   "execution_count": null,
   "metadata": {},
   "outputs": [],
   "source": [
    "def which_shape():\n",
    "    \"\"\"\n",
    "    Asks for a number and returns the name of the shape.\n",
    "    Parameters: None\n",
    "    Returns: str shape_name\n",
    "    \"\"\"\n",
    "\n",
    "    # get the number\n",
    "    number_of_sides = int(input(\"Please enter the number of sides: \"))\n",
    "    \n",
    "    # define a variable to keep the shape name\n",
    "    shape_name = \"\"\n",
    "    \n",
    "    if number_of_sides == 3:\n",
    "        shape_name = 'Triangle'\n",
    "    elif number_of_sides == 4:\n",
    "        shape_name = 'Rectangle'\n",
    "    elif number_of_sides == 5:\n",
    "        shape_name = 'Pentagon'\n",
    "    elif number_of_sides == 6:\n",
    "        shape_name = 'Hexagon'\n",
    "    else:\n",
    "        shape_name = 'Polygon'\n",
    "    \n",
    "    # return the shape name\n",
    "    return shape_name"
   ]
  },
  {
   "cell_type": "code",
   "execution_count": null,
   "metadata": {},
   "outputs": [
    {
     "name": "stdout",
     "output_type": "stream",
     "text": [
      "None\n"
     ]
    }
   ],
   "source": [
    "shape = which_shape()\n",
    "\n",
    "print(shape)"
   ]
  },
  {
   "cell_type": "markdown",
   "metadata": {},
   "source": [
    "**Q 4:**\n",
    "\n",
    "Define a function to print the number of days in the given month.\n",
    "\n",
    "Function name will be **number_of_days_in_month**.\n",
    "\n",
    "It will ask month name from the user.\n",
    "\n",
    "Number of Days in Gregorian Calendar:\n",
    "* January - 31\n",
    "* February - 28 or 29\n",
    "* March - 31\n",
    "* April - 30\n",
    "* May - 31\n",
    "* June - 30\n",
    "* July - 31\n",
    "* August - 31\n",
    "* September - 30\n",
    "* October - 31\n",
    "* November - 30\n",
    "* December - 31\n",
    "\n",
    "<pre>\n",
    "Expected Output:\n",
    "Please enter the month name:  October\n",
    "'There are 31 days in October'\n",
    "</pre>"
   ]
  },
  {
   "cell_type": "code",
   "execution_count": null,
   "metadata": {},
   "outputs": [],
   "source": [
    "def number_of_days_in_month():\n",
    "    \n",
    "    # variable for number of days\n",
    "    days = 31\n",
    "    \n",
    "    # ask for the month\n",
    "    month = input(\"Please enter the month name: \")\n",
    "    \n",
    "    # Now check months with number of days 28-29, 30 and 31\n",
    "    \n",
    "    if month == 'April' or month == 'June' or \\\n",
    "       month == 'September' or month == 'November':\n",
    "        days = 30\n",
    "    elif month == 'February':\n",
    "        days = '28 or 29'\n",
    "        \n",
    "    return 'There are ' + str(days) + ' days in ' + str(month)"
   ]
  },
  {
   "cell_type": "code",
   "execution_count": null,
   "metadata": {},
   "outputs": [],
   "source": [
    "number_of_days_in_month()"
   ]
  },
  {
   "cell_type": "markdown",
   "metadata": {},
   "source": [
    "---"
   ]
  },
  {
   "cell_type": "markdown",
   "metadata": {},
   "source": [
    "**Q 5:**\n",
    "\n",
    "Define a function to ask the length of sides of a triangle.\n",
    "\n",
    "Function name is **name_the_triangle**.\n",
    "\n",
    "The function will decide the type of triangle, according to the sides length.\n",
    "\n",
    "And will return its name.\n",
    "\n",
    "Types of Triangles:\n",
    "* Equilateral: three equal sides\n",
    "* Isosceles: two equal sides\n",
    "* Scalene: no equal sides"
   ]
  },
  {
   "cell_type": "code",
   "execution_count": null,
   "metadata": {},
   "outputs": [],
   "source": [
    "def name_the_triangle():\n",
    "    \n",
    "    # variable to keep name\n",
    "    name = \"\"\n",
    "    \n",
    "    # ask for lengths\n",
    "    side_1 = float(input('Length for the first side: '))\n",
    "    side_2 = float(input('Length for the second side: '))\n",
    "    side_3 = float(input('Length for the third side: '))\n",
    "    \n",
    "    # conditions\n",
    "    if side_1 == side_2 and side_1 == side_3:\n",
    "        name = 'Equilateral'\n",
    "    elif side_1 == side_2 or side_1 == side_3 or side_2 == side_3:\n",
    "        name = 'Isosceles'\n",
    "    else:\n",
    "        name = 'Scalene'\n",
    "    \n",
    "    return name\n"
   ]
  },
  {
   "cell_type": "code",
   "execution_count": null,
   "metadata": {},
   "outputs": [],
   "source": [
    "print(name_the_triangle())"
   ]
  },
  {
   "cell_type": "markdown",
   "metadata": {},
   "source": [
    "**Q 6:**\n",
    "\n",
    "Define a function that decides what to wear, according to the month and number of the day.\n",
    "\n",
    "Function name will be **what_to_wear** and it will ask for the name of the month and day number.\n",
    "\n",
    "According to month and day number, it will check for the season and with season, it will return what to wear.\n",
    "\n",
    "<pre>\n",
    "Seasons and Garments \n",
    "Spring: Shirt\n",
    "Summer: T-shirt\n",
    "Autumn: Sweater\n",
    "Winter: Coat\n",
    "\n",
    "The Solstices:\n",
    "* June (21)\n",
    "* December (21)\n",
    "\n",
    "The Equinoxes:\n",
    "* March (21)\n",
    "* September (23)\n",
    "\n",
    "Expected Output:\n",
    "Enter month name:  March\n",
    "Enter day number:  24\n",
    "In March, day 24 we wear Shirt\n",
    "</pre>"
   ]
  },
  {
   "cell_type": "code",
   "execution_count": null,
   "metadata": {},
   "outputs": [],
   "source": [
    "def what_to_wear():\n",
    "    \n",
    "    # ask for month and day number\n",
    "    month = input(\"Enter month name: \")\n",
    "    day = int(input(\"Enter day number: \"))\n",
    "\n",
    "    # keep the garment\n",
    "    garment = \"\"\n",
    "    \n",
    "    # decide what to wear\n",
    "    if month == 'January' or month == 'February':\n",
    "        garment = 'Coat'\n",
    "    elif month == 'March':\n",
    "        # March 21\n",
    "        if day < 21:\n",
    "            garment = 'Coat'\n",
    "        else:\n",
    "            garment = 'Shirt'\n",
    "    elif month == 'April' or month == 'May':\n",
    "        garment = 'Shirt'\n",
    "    elif month == 'June':\n",
    "        # June 21\n",
    "        if day < 21:\n",
    "            garment = 'Shirt'\n",
    "        else:\n",
    "            garment = 'T-shirt'\n",
    "    elif month == 'July' or month == 'August':\n",
    "        garment = 'T-shirt'\n",
    "    elif month == 'September':\n",
    "        # September 23\n",
    "        if day < 23:\n",
    "            garment = 'T-shirt'\n",
    "        else:\n",
    "            garment = 'Sweater'\n",
    "    elif month == 'October' or month == 'November':\n",
    "        garment = 'Sweater'\n",
    "    elif month == 'December':\n",
    "        # December 21\n",
    "        if day < 21:\n",
    "            garment = 'Sweater'\n",
    "        else:\n",
    "            garment = 'Coat'\n",
    "            \n",
    "    print('In {0}, day {1} we wear {2}'.format(month, day, garment))        "
   ]
  },
  {
   "cell_type": "code",
   "execution_count": null,
   "metadata": {},
   "outputs": [],
   "source": [
    "what_to_wear()"
   ]
  },
  {
   "cell_type": "markdown",
   "metadata": {},
   "source": [
    "**Q 7:**\n",
    "\n",
    "Define a function named **which_day**.\n",
    "\n",
    "It will ask for any of the capital letters: F, M, S, T, W\n",
    "\n",
    "These are the first letters of the day names in a week.\n",
    "\n",
    "The function will decide which day by the first letter.\n",
    "\n",
    "It may ask additional questions if needed?\n",
    "\n",
    "Days:\n",
    "* Monday, Tuesday, Wednesday, Thursday, Friday, Saturday, Sunday\n",
    "\n",
    "Additional questions by letter:\n",
    "* S: \n",
    "    * \"first day of weekend\" or \n",
    "    * \"last day of weekend\"\n",
    "* T: \n",
    "    * \"at the beginning of the week\" or \n",
    "    * \"at the middle of the week\"\n",
    "    \n",
    "<pre>\n",
    "Expected Output:\n",
    "Please enter any of the capital letters: F, M, S, T, W :  T\n",
    "Is it at the beginning of the week? Yes - No? No\n",
    "Your day: THURSDAY\n",
    "</pre>"
   ]
  },
  {
   "cell_type": "code",
   "execution_count": null,
   "metadata": {},
   "outputs": [],
   "source": [
    "def which_day():\n",
    "    \n",
    "    # ask for a letter\n",
    "    letter = input(\"Enter one of: F, M, S, T, W  : \")\n",
    "    \n",
    "    # check if the letter is in list\n",
    "    if not (letter == 'F' or letter == 'M' or letter == 'S' or letter == 'T' or letter == 'W'):\n",
    "        print(\"Wrong letter.\")\n",
    "        return\n",
    "    \n",
    "    # if the letter is correct\n",
    "    \n",
    "    else:\n",
    "        \n",
    "        # lettter controls\n",
    "        # F\n",
    "        if letter == 'F':\n",
    "            day = 'FRIDAY'\n",
    "        \n",
    "        # M\n",
    "        elif letter == 'M':\n",
    "            day = 'MONDAY'\n",
    "            \n",
    "        # S\n",
    "        elif letter == 'S':\n",
    "            # ask additional question\n",
    "            first_day_of_weekend = input('Is it the first day of the weekend? Yes - No: ')\n",
    "            \n",
    "            if first_day_of_weekend == 'Yes':\n",
    "                day = 'SATURDAY'\n",
    "            else:\n",
    "                day = 'SUNDAY'\n",
    "                \n",
    "        \n",
    "        # T\n",
    "        elif letter == 'T':\n",
    "            # ask additional question\n",
    "            beginning_of_week = input('Is it at the beginning of the week? Yes - No : ')\n",
    "            \n",
    "            if beginning_of_week == 'Yes':\n",
    "                day = 'TUESDAY'\n",
    "            else:\n",
    "                day = 'THURSDAY'\n",
    "            \n",
    "        # W\n",
    "        elif letter == 'W':\n",
    "            day = 'WEDNESDAY'\n",
    "    \n",
    "        \n",
    "        print('Your day:', day)"
   ]
  },
  {
   "cell_type": "code",
   "execution_count": null,
   "metadata": {},
   "outputs": [],
   "source": [
    "which_day()"
   ]
  },
  {
   "cell_type": "markdown",
   "metadata": {},
   "source": [
    "**Q 8:**\n",
    "\n",
    "Define a function named **odds_evens**.\n",
    "\n",
    "It will ask for a pozitif number from the user.\n",
    "\n",
    "Check if the input is an integer or not.\n",
    "\n",
    "Also check if the number is a positive number.\n",
    "\n",
    "Decide if the number is ODD or EVEN and print:\n",
    "* If the number is odd -> ODD\n",
    "* If the number is event and between 1 and 10 (both included) -> EVEN of TEN\n",
    "* If the number is even and between 11 and 20 (both included) -> EVEN of TWENTY\n",
    "* If the number is even and greater than 20 -> EVEN\n",
    "\n",
    "<pre>\n",
    "Expected Output:\n",
    "Plase enter a number:  18\n",
    "EVEN of TWENTY\n",
    "</pre>"
   ]
  },
  {
   "cell_type": "code",
   "execution_count": null,
   "metadata": {},
   "outputs": [],
   "source": [
    "def odds_evens():\n",
    "    \n",
    "    n = input(\"Please enter a number: \")\n",
    "    \n",
    "    # if int\n",
    "    if not n.isdigit():\n",
    "        print('Not a number')\n",
    "        return\n",
    "    \n",
    "    # cast to int\n",
    "    n = int(n)\n",
    "    \n",
    "    # Positivity\n",
    "    if n <= 0:\n",
    "        print('Not Positive.')\n",
    "        return\n",
    "    \n",
    "    # It is positive\n",
    "    else:\n",
    "        \n",
    "        # odd?\n",
    "        if n % 2 == 1:\n",
    "            print('ODD')\n",
    "            \n",
    "        else:\n",
    "            # even\n",
    "            if 1 <= n <= 10:\n",
    "                print('EVEN OF TEN')\n",
    "            elif 11 <= n <= 20:\n",
    "                print('EVEN OF TVENTY')\n",
    "            elif n > 20:\n",
    "                print(\"EVEN\")\n"
   ]
  },
  {
   "cell_type": "code",
   "execution_count": null,
   "metadata": {},
   "outputs": [],
   "source": [
    "odds_evens()"
   ]
  },
  {
   "cell_type": "markdown",
   "metadata": {},
   "source": [
    "**Q 9:**\n",
    "\n",
    "**Sum of Odds and Evens:** \n",
    "* If the sum of two numbers is Odd then only one of these is Odd.\n",
    "* It the sum of two numbers is Even then both are Odd or both are Even.\n",
    "\n",
    "Define a function named **sum_of_odds_and_evens**.\n",
    "\n",
    "It will ask for two integers from the user.\n",
    "\n",
    "Then it will decide if the sum is Odd or Even.\n",
    "\n",
    "**Important Note:** Do not calculate the actual summation as x + y.\n",
    "\n",
    "<pre>\n",
    "Expected Output:\n",
    "First Number:  8\n",
    "Second Number:  3\n",
    "Sum is ODD\n",
    "</pre>"
   ]
  },
  {
   "cell_type": "code",
   "execution_count": null,
   "metadata": {},
   "outputs": [],
   "source": [
    "\n",
    "def sum_of_odds_and_evens():\n",
    "    \n",
    "    # get numbers\n",
    "    n1 = int(input(\"Number One: \"))\n",
    "    n2 = int(input(\"Number Two: \"))\n",
    "    \n",
    "    # if only one is Odd -> summation ODD\n",
    "    # (n1 is odd and n2 is even)\n",
    "    # (n1 is even and n2 is odd)\n",
    "    if (n1 % 2 == 1 and n2 % 2 == 0) or (n1 % 2 == 0 and n2 % 2 == 1):\n",
    "        print(\"Sum is ODD\")\n",
    "    else:\n",
    "        print(\"Sum is EVEN\")\n",
    "             "
   ]
  },
  {
   "cell_type": "code",
   "execution_count": null,
   "metadata": {},
   "outputs": [],
   "source": [
    "sum_of_odds_and_evens()"
   ]
  },
  {
   "cell_type": "markdown",
   "metadata": {},
   "source": [
    "**Q 10:**\n",
    "\n",
    "Define a function named **count_down**.\n",
    "\n",
    "It will ask for two integers from the user.\n",
    "\n",
    "First it will decide which one of them is small and which one is large.\n",
    "\n",
    "Then it will print the numbers starting from the large one up to the small one. (backwards)\n",
    "\n",
    "**Hints:** \n",
    "* Solve with Recursion.\n",
    "* There may be a second function as **print_down** for Recursion.\n",
    "\n",
    "<pre>\n",
    "Expected Output:\n",
    "First Number:  26\n",
    "Second Number:  12\n",
    "small: 12\n",
    "large: 26\n",
    "26\n",
    "25\n",
    "24\n",
    "23\n",
    "22\n",
    "21\n",
    "20\n",
    "19\n",
    "18\n",
    "17\n",
    "16\n",
    "15\n",
    "14\n",
    "13\n",
    "12\n",
    "</pre>"
   ]
  },
  {
   "cell_type": "code",
   "execution_count": null,
   "metadata": {},
   "outputs": [],
   "source": [
    "# S 10:\n",
    "   \n",
    "def count_down():\n",
    "    # get numbers\n",
    "    num1 = int(input(\"Number One: \"))\n",
    "    num2 = int(input(\"Number Two: \"))\n",
    "    \n",
    "    # variables for small and large\n",
    "    small = 0\n",
    "    large = 0\n",
    "    \n",
    "    if num1 <= num2:\n",
    "        small = num1\n",
    "        large = num2\n",
    "    else:\n",
    "        small = num2\n",
    "        large = num1\n",
    "    \n",
    "    print(\"small\", small)\n",
    "    print(\"large\", large)\n",
    "    \n",
    "    # call recursion\n",
    "    print_down(small, large)\n",
    "    \n",
    "    \n",
    "# recursion function\n",
    "def print_down(end, value):\n",
    "    \n",
    "    # exit condition\n",
    "    if value == end:\n",
    "        print(value)\n",
    "        return\n",
    "    else:\n",
    "        print(value)\n",
    "        print_down(end, value - 1)\n"
   ]
  },
  {
   "cell_type": "code",
   "execution_count": 55,
   "metadata": {},
   "outputs": [
    {
     "ename": "NameError",
     "evalue": "name 'count_down' is not defined",
     "output_type": "error",
     "traceback": [
      "\u001b[0;31m---------------------------------------------------------------------------\u001b[0m",
      "\u001b[0;31mNameError\u001b[0m                                 Traceback (most recent call last)",
      "Cell \u001b[0;32mIn [55], line 1\u001b[0m\n\u001b[0;32m----> 1\u001b[0m \u001b[43mcount_down\u001b[49m()\n",
      "\u001b[0;31mNameError\u001b[0m: name 'count_down' is not defined"
     ]
    }
   ],
   "source": [
    "count_down()"
   ]
  }
 ],
 "metadata": {
  "kernelspec": {
   "display_name": "Python 3.10.6 64-bit",
   "language": "python",
   "name": "python3"
  },
  "language_info": {
   "codemirror_mode": {
    "name": "ipython",
    "version": 3
   },
   "file_extension": ".py",
   "mimetype": "text/x-python",
   "name": "python",
   "nbconvert_exporter": "python",
   "pygments_lexer": "ipython3",
   "version": "3.10.6"
  },
  "orig_nbformat": 4,
  "vscode": {
   "interpreter": {
    "hash": "e7370f93d1d0cde622a1f8e1c04877d8463912d04d973331ad4851f04de6915a"
   }
  }
 },
 "nbformat": 4,
 "nbformat_minor": 2
}
