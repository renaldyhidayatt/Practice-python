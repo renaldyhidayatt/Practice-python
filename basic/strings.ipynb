{
 "cells": [
  {
   "cell_type": "markdown",
   "metadata": {},
   "source": [
    "## Strings"
   ]
  },
  {
   "cell_type": "markdown",
   "metadata": {},
   "source": [
    "Strings are different from other primitive types, int, float, bool."
   ]
  },
  {
   "cell_type": "markdown",
   "metadata": {},
   "source": [
    "Strings are sequences."
   ]
  },
  {
   "cell_type": "markdown",
   "metadata": {},
   "source": [
    "Strings include array of characters in them."
   ]
  },
  {
   "cell_type": "markdown",
   "metadata": {},
   "source": [
    "**Ex:**\n",
    "\n",
    "\"Python\" -> P y t h o n"
   ]
  },
  {
   "cell_type": "markdown",
   "metadata": {},
   "source": [
    "**Sequence Types:**\n",
    "* String\n",
    "* List\n",
    "* Tuple"
   ]
  },
  {
   "cell_type": "markdown",
   "metadata": {},
   "source": [
    "## String is a Squence"
   ]
  },
  {
   "cell_type": "code",
   "execution_count": null,
   "metadata": {},
   "outputs": [],
   "source": [
    "fruit = 'orange'\n",
    "fruit"
   ]
  },
  {
   "cell_type": "code",
   "execution_count": null,
   "metadata": {},
   "outputs": [],
   "source": [
    "fruit[0]"
   ]
  },
  {
   "cell_type": "markdown",
   "metadata": {},
   "source": [
    "In Python, for sequence types, we access elements via indices.\n",
    "\n",
    "`sequence[index]`"
   ]
  },
  {
   "cell_type": "markdown",
   "metadata": {},
   "source": [
    "**In Python, index starts from 0**:\n",
    "\n",
    "0, 1, 2, 3, ..."
   ]
  },
  {
   "cell_type": "raw",
   "metadata": {},
   "source": [
    "fruit\n",
    "get the element in the third (3rd) order \n",
    "\n",
    "Orders:\n",
    "1  2  3  4  5  6\n",
    "o  r  a  n  g  e\n",
    "0  1  2  3  4  5\n",
    "Index:"
   ]
  },
  {
   "cell_type": "code",
   "execution_count": null,
   "metadata": {},
   "outputs": [],
   "source": [
    "fruit[2]"
   ]
  },
  {
   "cell_type": "markdown",
   "metadata": {},
   "source": [
    "## String Length (len)"
   ]
  },
  {
   "cell_type": "markdown",
   "metadata": {},
   "source": [
    "In Python, to get the length of sequence types we use standard function: `len()`"
   ]
  },
  {
   "cell_type": "code",
   "execution_count": null,
   "metadata": {},
   "outputs": [],
   "source": [
    "fruit = 'orange'\n",
    "fruit"
   ]
  },
  {
   "cell_type": "code",
   "execution_count": null,
   "metadata": {},
   "outputs": [],
   "source": [
    "# length of fruit\n",
    "\n",
    "len(fruit)"
   ]
  },
  {
   "cell_type": "code",
   "execution_count": null,
   "metadata": {},
   "outputs": [],
   "source": [
    "# the last element -> order 6\n",
    "# index = 5\n",
    "# last index = length - 1\n",
    "\n",
    "last_index = len(fruit) - 1\n",
    "print('last index:', last_index)\n",
    "\n",
    "last_element = fruit[last_index]\n",
    "print(\"last element:\", last_element)\n"
   ]
  },
  {
   "cell_type": "code",
   "execution_count": null,
   "metadata": {},
   "outputs": [],
   "source": [
    "fruit[len(fruit) - 1]"
   ]
  },
  {
   "cell_type": "markdown",
   "metadata": {},
   "source": [
    "## String Slicing"
   ]
  },
  {
   "cell_type": "markdown",
   "metadata": {},
   "source": [
    "A part of a sequence is called a `slice`."
   ]
  },
  {
   "cell_type": "markdown",
   "metadata": {},
   "source": [
    "For slicing we use `indexing`."
   ]
  },
  {
   "cell_type": "markdown",
   "metadata": {},
   "source": [
    "**Slicing:**\n",
    "\n",
    "* `sequence[start : end : step]`\n",
    "* start -> leave blank -> default: 0\n",
    "* end -> leave blank -> default: last index\n",
    "* step -> leave blank -> default: 1\n",
    "* start is included, end is excluded -> [start, end)"
   ]
  },
  {
   "cell_type": "code",
   "execution_count": null,
   "metadata": {},
   "outputs": [],
   "source": [
    "s = 'Python Hands-On'"
   ]
  },
  {
   "cell_type": "code",
   "execution_count": null,
   "metadata": {},
   "outputs": [],
   "source": [
    "# We want to slice 'Python'\n",
    "\n",
    "s[0:6]"
   ]
  },
  {
   "cell_type": "markdown",
   "metadata": {},
   "source": [
    "**How to Read:**\n",
    "\n",
    "`s[0:6]` : Start slicing from index 0 up to index 6. (Step is 1)"
   ]
  },
  {
   "cell_type": "code",
   "execution_count": null,
   "metadata": {},
   "outputs": [],
   "source": [
    "# We want the word Hands \n",
    "\n",
    "s[7:12]"
   ]
  },
  {
   "cell_type": "markdown",
   "metadata": {},
   "source": [
    "**Step Size:**\n",
    "\n",
    "It determines by how much you increase/decrease the index."
   ]
  },
  {
   "cell_type": "code",
   "execution_count": null,
   "metadata": {},
   "outputs": [],
   "source": [
    "numbers = '123456789'\n",
    "numbers"
   ]
  },
  {
   "cell_type": "code",
   "execution_count": null,
   "metadata": {},
   "outputs": [],
   "source": [
    "numbers[::2]"
   ]
  },
  {
   "cell_type": "code",
   "execution_count": null,
   "metadata": {},
   "outputs": [],
   "source": [
    "copy_of_numbers = numbers[::]\n",
    "copy_of_numbers"
   ]
  },
  {
   "cell_type": "markdown",
   "metadata": {},
   "source": [
    "## Negative Index"
   ]
  },
  {
   "cell_type": "markdown",
   "metadata": {},
   "source": [
    "Index from Left to Right:\n",
    "* normal index\n",
    "* index\n",
    "* starts from `0`\n",
    "\n",
    "Index from Right to Left:\n",
    "* reverse index\n",
    "* negative index\n",
    "* starts from `-1`\n"
   ]
  },
  {
   "cell_type": "code",
   "execution_count": null,
   "metadata": {},
   "outputs": [],
   "source": [
    "numbers = '123456789'\n",
    "numbers"
   ]
  },
  {
   "cell_type": "code",
   "execution_count": null,
   "metadata": {},
   "outputs": [],
   "source": [
    "# get the last element\n",
    "# index (normal)\n",
    "\n",
    "numbers[8]"
   ]
  },
  {
   "cell_type": "markdown",
   "metadata": {},
   "source": [
    "Rule:\n",
    "* Going from Start to End (Left to Right) index starts at **0**.\n",
    "* Going from End to Start (Right to Left) index starts at **-1**."
   ]
  },
  {
   "cell_type": "markdown",
   "metadata": {},
   "source": [
    "<pre>\n",
    "s                |  P  |  y  |  t  |  h  |  o  |  n  |\n",
    "\n",
    "                 >>>>>>>>>>>\n",
    "index            |  0  |  1  |  2  |  3  |  4  |  5  |\n",
    "\n",
    "                 <<<<<<<<<<<\n",
    "negative index   | -6  | -5  | -4  | -3  | -2  | -1  |\n",
    "\n",
    "</pre>"
   ]
  },
  {
   "cell_type": "code",
   "execution_count": null,
   "metadata": {},
   "outputs": [],
   "source": [
    "# last letter (item)\n",
    "\n",
    "s[5], s[-1]"
   ]
  },
  {
   "cell_type": "code",
   "execution_count": null,
   "metadata": {},
   "outputs": [],
   "source": [
    "# first letter (item)\n",
    "\n",
    "s[0], s[-6]"
   ]
  },
  {
   "cell_type": "markdown",
   "metadata": {},
   "source": [
    "**Hint:**\n",
    "\n",
    "**Sum** of absolute values of Normal Index and Negative Index is **Length** of sequence."
   ]
  },
  {
   "cell_type": "code",
   "execution_count": null,
   "metadata": {},
   "outputs": [],
   "source": [
    "# index -3 \n",
    "# you want to get the same index (normal)\n",
    "\n",
    "s[-3]"
   ]
  },
  {
   "cell_type": "raw",
   "metadata": {},
   "source": [
    "negative index = -3\n",
    "index = 3\n",
    "\n",
    "3 + ..3.. = 6"
   ]
  },
  {
   "cell_type": "raw",
   "metadata": {},
   "source": [
    "s[-3], s[3]"
   ]
  },
  {
   "cell_type": "raw",
   "metadata": {},
   "source": [
    "negative index = -2\n",
    "index = 4\n",
    "\n",
    "2 + ..4.. = 6"
   ]
  },
  {
   "cell_type": "code",
   "execution_count": null,
   "metadata": {},
   "outputs": [],
   "source": [
    "s[-2], s[4]"
   ]
  },
  {
   "cell_type": "markdown",
   "metadata": {},
   "source": [
    "**Practical Way**:\n",
    "\n",
    "For negative index:\n",
    "* you write the sequence at the beginning of the original one\n",
    "* then you start from 0 for original one\n",
    "* then -1 and so on for the copy"
   ]
  },
  {
   "cell_type": "code",
   "execution_count": null,
   "metadata": {},
   "outputs": [],
   "source": [
    "txt = 'numpy'"
   ]
  },
  {
   "cell_type": "code",
   "execution_count": null,
   "metadata": {},
   "outputs": [],
   "source": [
    "txt[len(txt) - 1]"
   ]
  },
  {
   "cell_type": "code",
   "execution_count": null,
   "metadata": {},
   "outputs": [],
   "source": [
    "len(txt)"
   ]
  },
  {
   "cell_type": "markdown",
   "metadata": {},
   "source": [
    "## Reverse Slicing"
   ]
  },
  {
   "cell_type": "markdown",
   "metadata": {},
   "source": [
    "Reverse slicing is slicing the sequence from end to start (from right to left).\n",
    "\n",
    "We use reverse index or negative step size."
   ]
  },
  {
   "cell_type": "markdown",
   "metadata": {},
   "source": [
    "**Reverse Slicing:**\n",
    "* sequence[end : start : -step]\n",
    "* from end to start\n",
    "* the last index **-1** (not 0)"
   ]
  },
  {
   "cell_type": "code",
   "execution_count": null,
   "metadata": {},
   "outputs": [],
   "source": [
    "numbers = '123456789'\n",
    "numbers"
   ]
  },
  {
   "cell_type": "code",
   "execution_count": null,
   "metadata": {},
   "outputs": [],
   "source": [
    "# print numbers (normal)\n",
    "\n",
    "numbers[::]"
   ]
  },
  {
   "cell_type": "code",
   "execution_count": null,
   "metadata": {},
   "outputs": [],
   "source": [
    "# print numbers from end to start -> reverse order\n",
    "\n",
    "numbers[::-1]"
   ]
  },
  {
   "cell_type": "markdown",
   "metadata": {},
   "source": [
    "**Step Size:**\n",
    "\n",
    "* positive -> Left to Right (normal)\n",
    "* negative -> Right to Left (reverse)"
   ]
  },
  {
   "cell_type": "code",
   "execution_count": null,
   "metadata": {},
   "outputs": [],
   "source": [
    "# print numbers from start to end by incrementing 2 (step => 3)\n",
    "\n",
    "numbers[::2]"
   ]
  },
  {
   "cell_type": "markdown",
   "metadata": {},
   "source": [
    "<pre>\n",
    "numbers     |  1  |  2  |  3  |  4  |  5  |  6  |  7  |  8  |  9  |\n",
    "\n",
    "            >>>>>>>>>>>\n",
    "index       |  0  |  1  |  2  |  3  |  4  |  5  |  6  |  7  |  8  |\n",
    "\n",
    "            <<<<<<<<<<<\n",
    "neg. index  | -9  | -8  | -7  | -6  | -5  | -4  | -3  | -2  | -1  |\n",
    "\n",
    "</pre>"
   ]
  },
  {
   "cell_type": "markdown",
   "metadata": {},
   "source": [
    "**Normal Index** -> get '456' and '654'"
   ]
  },
  {
   "cell_type": "code",
   "execution_count": null,
   "metadata": {},
   "outputs": [],
   "source": [
    "# normal index --------->\n",
    "# 456  -> index from 3 up to 6\n",
    "\n",
    "numbers[3:6]"
   ]
  },
  {
   "cell_type": "code",
   "execution_count": null,
   "metadata": {},
   "outputs": [],
   "source": [
    "# negative index  <---------\n",
    "# 456  -> index from -6 up to -3\n",
    "\n",
    "numbers[-6:-3:1]"
   ]
  },
  {
   "cell_type": "code",
   "execution_count": null,
   "metadata": {},
   "outputs": [],
   "source": [
    "numbers[-4:-7:-1]"
   ]
  },
  {
   "cell_type": "markdown",
   "metadata": {},
   "source": [
    "## Strings are Immutable"
   ]
  },
  {
   "cell_type": "markdown",
   "metadata": {},
   "source": [
    "In Python, Strings are Immutable:\n",
    "\n",
    "You can not change any part of a string."
   ]
  },
  {
   "cell_type": "markdown",
   "metadata": {},
   "source": [
    "You can **reassign** but can not **mutate**."
   ]
  },
  {
   "cell_type": "code",
   "execution_count": null,
   "metadata": {},
   "outputs": [],
   "source": [
    "say_hello = 'Hello world'\n",
    "say_hello"
   ]
  },
  {
   "cell_type": "code",
   "execution_count": null,
   "metadata": {},
   "outputs": [],
   "source": [
    "say_hello[6]"
   ]
  },
  {
   "cell_type": "code",
   "execution_count": null,
   "metadata": {},
   "outputs": [],
   "source": [
    "# fix the value in index = 6\n",
    "\n",
    "say_hello[6] = 'W'"
   ]
  },
  {
   "cell_type": "markdown",
   "metadata": {},
   "source": [
    "TypeError: Strings are not mutable"
   ]
  },
  {
   "cell_type": "markdown",
   "metadata": {},
   "source": [
    "**Question:**\n",
    "\n",
    "How do we fix the error if we can not mutate?\n",
    "\n",
    "**Answer 1:**\n",
    "\n",
    "You can reassign.\n",
    "\n",
    "**Answer 2:**\n",
    "\n",
    "We will do slicing and concatinating."
   ]
  },
  {
   "cell_type": "code",
   "execution_count": null,
   "metadata": {},
   "outputs": [],
   "source": [
    "slice_1 = say_hello[:6]\n",
    "slice_1"
   ]
  },
  {
   "cell_type": "markdown",
   "metadata": {},
   "source": [
    "## String Methods"
   ]
  },
  {
   "cell_type": "markdown",
   "metadata": {},
   "source": [
    "**upper()**: Converts string into upper case."
   ]
  },
  {
   "cell_type": "code",
   "execution_count": null,
   "metadata": {},
   "outputs": [],
   "source": [
    "word = 'computer'\n",
    "word"
   ]
  },
  {
   "cell_type": "code",
   "execution_count": null,
   "metadata": {},
   "outputs": [],
   "source": [
    "word_upper_case = word.upper()\n",
    "word_upper_case"
   ]
  },
  {
   "cell_type": "markdown",
   "metadata": {},
   "source": [
    "**lower()**: Converts string into lower case."
   ]
  },
  {
   "cell_type": "code",
   "execution_count": null,
   "metadata": {},
   "outputs": [],
   "source": [
    "word_lower_case = word.lower()\n",
    "word_lower_case"
   ]
  },
  {
   "cell_type": "markdown",
   "metadata": {},
   "source": [
    "**strip()**: Removes the space chars at the beginning and end of the string."
   ]
  },
  {
   "cell_type": "code",
   "execution_count": null,
   "metadata": {},
   "outputs": [],
   "source": [
    "sentence = '     This is a sentence.        '\n",
    "sentence.strip()"
   ]
  },
  {
   "cell_type": "code",
   "execution_count": null,
   "metadata": {},
   "outputs": [],
   "source": [
    "sentence"
   ]
  },
  {
   "cell_type": "code",
   "execution_count": null,
   "metadata": {},
   "outputs": [],
   "source": [
    "new_sentence = sentence.strip()\n",
    "new_sentence"
   ]
  },
  {
   "cell_type": "code",
   "execution_count": null,
   "metadata": {},
   "outputs": [],
   "source": [
    "text = '#@gmail.com@#'\n",
    "text.strip('@#')"
   ]
  },
  {
   "cell_type": "markdown",
   "metadata": {},
   "source": [
    "**lstrip()**: Removes the space chars at the beginning of the string.\n",
    "\n",
    "**rstrip()**: Removes the space chars at the end of the string."
   ]
  },
  {
   "cell_type": "code",
   "execution_count": null,
   "metadata": {},
   "outputs": [],
   "source": [
    "text = '------ dashes before string'\n",
    "text.lstrip(' -')"
   ]
  },
  {
   "cell_type": "markdown",
   "metadata": {},
   "source": [
    "**format():** decorates the string with variables."
   ]
  },
  {
   "cell_type": "code",
   "execution_count": null,
   "metadata": {},
   "outputs": [],
   "source": [
    "A = 'Python'\n",
    "B = 'Machine'\n",
    "C = 'Learning'\n",
    "\n",
    "arg = '{0} - {1} {2}'.format(A, B, C)\n",
    "arg"
   ]
  },
  {
   "cell_type": "code",
   "execution_count": null,
   "metadata": {},
   "outputs": [],
   "source": [
    "arg = '{0} - {1} {2}'\n",
    "print(arg.format(A, B, C))"
   ]
  },
  {
   "cell_type": "markdown",
   "metadata": {},
   "source": [
    "**find():** Looks for char or string inside a string.\n",
    "\n",
    "* if it finds -> the first index\n",
    "* it it doesn't find -> -1"
   ]
  },
  {
   "cell_type": "code",
   "execution_count": null,
   "metadata": {},
   "outputs": [],
   "source": [
    "word = 'window'\n",
    "word"
   ]
  },
  {
   "cell_type": "code",
   "execution_count": null,
   "metadata": {},
   "outputs": [],
   "source": [
    "word.find('w')"
   ]
  },
  {
   "cell_type": "code",
   "execution_count": null,
   "metadata": {},
   "outputs": [],
   "source": [
    "# specify starting index\n",
    "\n",
    "word.find('w', 1)"
   ]
  },
  {
   "cell_type": "code",
   "execution_count": null,
   "metadata": {},
   "outputs": [],
   "source": [
    "# start - end -> find('x', start, end)\n",
    "\n",
    "movie_name = 'Batman Dark Knight'\n",
    "movie_name"
   ]
  },
  {
   "cell_type": "code",
   "execution_count": null,
   "metadata": {},
   "outputs": [],
   "source": [
    "movie_name.find('a', 2, 5)"
   ]
  },
  {
   "cell_type": "markdown",
   "metadata": {},
   "source": [
    "**capitalize():** It converts the first letter -> upper"
   ]
  },
  {
   "cell_type": "code",
   "execution_count": null,
   "metadata": {},
   "outputs": [],
   "source": [
    "movie = 'the godfather'"
   ]
  },
  {
   "cell_type": "code",
   "execution_count": null,
   "metadata": {},
   "outputs": [],
   "source": [
    "movie.capitalize()"
   ]
  },
  {
   "cell_type": "markdown",
   "metadata": {},
   "source": [
    "**title():** It converts all the first letters of words -> upper"
   ]
  },
  {
   "cell_type": "code",
   "execution_count": null,
   "metadata": {},
   "outputs": [],
   "source": [
    "movie = 'the godfather part two'\n",
    "movie.title()"
   ]
  },
  {
   "cell_type": "markdown",
   "metadata": {},
   "source": [
    "**isdigit():** checks if integer."
   ]
  },
  {
   "cell_type": "code",
   "execution_count": null,
   "metadata": {},
   "outputs": [],
   "source": [
    "txt = 'abc'\n",
    "txt.isdigit()"
   ]
  },
  {
   "cell_type": "code",
   "execution_count": null,
   "metadata": {},
   "outputs": [],
   "source": [
    "txt = '45'\n",
    "txt.isdigit()"
   ]
  },
  {
   "cell_type": "markdown",
   "metadata": {},
   "source": [
    "**startswith():** check if the string starts with a char or a string.\n",
    "\n",
    "(endswith())"
   ]
  },
  {
   "cell_type": "code",
   "execution_count": null,
   "metadata": {},
   "outputs": [],
   "source": [
    "planet = 'Mars'\n",
    "planet.startswith('T')"
   ]
  },
  {
   "cell_type": "code",
   "execution_count": null,
   "metadata": {},
   "outputs": [],
   "source": [
    "planet.startswith('M')"
   ]
  },
  {
   "cell_type": "markdown",
   "metadata": {},
   "source": [
    "**replace():** replaces the string with another"
   ]
  },
  {
   "cell_type": "code",
   "execution_count": null,
   "metadata": {},
   "outputs": [],
   "source": [
    "language = 'In 2008 Java is the most popular language.'\n",
    "language"
   ]
  },
  {
   "cell_type": "code",
   "execution_count": null,
   "metadata": {},
   "outputs": [],
   "source": [
    "new_language = language.replace('2008', '2021').replace('Java', 'Python')\n",
    "new_language"
   ]
  },
  {
   "cell_type": "markdown",
   "metadata": {},
   "source": [
    "## `in` Operator"
   ]
  },
  {
   "cell_type": "markdown",
   "metadata": {},
   "source": [
    "To check if a string contains a char or another string -> `in`\n",
    "\n",
    "* It it contains -> True"
   ]
  },
  {
   "cell_type": "code",
   "execution_count": null,
   "metadata": {},
   "outputs": [],
   "source": [
    "program = 'Python Django App'\n",
    "program"
   ]
  },
  {
   "cell_type": "markdown",
   "metadata": {},
   "source": [
    "**Example:**\n",
    "\n",
    "Ask for an input from the user.\n",
    "\n",
    "Check if the input includes char 'a' nor not.\n",
    "\n",
    "If it's true print as 'This input has a in it'"
   ]
  },
  {
   "cell_type": "code",
   "execution_count": null,
   "metadata": {},
   "outputs": [],
   "source": [
    "def is_a_in_it():\n",
    "    \n",
    "    # ask for input\n",
    "    text = input('Please enter a text: ')\n",
    "    \n",
    "    if 'a' in text:\n",
    "        print('This input has a in: {0}'.format(text))\n",
    "    else:\n",
    "        print('This input has NO a in: {0}'.format(text))\n",
    "    "
   ]
  },
  {
   "cell_type": "code",
   "execution_count": null,
   "metadata": {},
   "outputs": [],
   "source": [
    "# one line function\n",
    "\n",
    "def is_a_in_it():\n",
    "    \n",
    "    return 'a' in input('Please enter a text: ')"
   ]
  },
  {
   "cell_type": "markdown",
   "metadata": {},
   "source": [
    "## String Comparison"
   ]
  },
  {
   "cell_type": "markdown",
   "metadata": {},
   "source": [
    "We need to check two strings:\n",
    "* if they are equal\n",
    "* which one greater (alphabetically it comes later)"
   ]
  },
  {
   "cell_type": "code",
   "execution_count": null,
   "metadata": {},
   "outputs": [],
   "source": [
    "fruit = 'apple'\n",
    "\n",
    "if fruit == 'apple':\n",
    "    print('yes it is apple')\n",
    "else:\n",
    "    print('no it is not apple')"
   ]
  },
  {
   "cell_type": "code",
   "execution_count": null,
   "metadata": {},
   "outputs": [],
   "source": [
    "# ASCI code -> ord()\n",
    "\n",
    "ord('a')\n",
    "\n",
    "ord('A') < ord('a')"
   ]
  },
  {
   "cell_type": "markdown",
   "metadata": {},
   "source": [
    "In Python 'A' is less than 'a'."
   ]
  }
 ],
 "metadata": {
  "language_info": {
   "name": "python"
  },
  "orig_nbformat": 4
 },
 "nbformat": 4,
 "nbformat_minor": 2
}
