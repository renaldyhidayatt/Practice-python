{
 "cells": [
  {
   "cell_type": "markdown",
   "metadata": {},
   "source": [
    "## Loops"
   ]
  },
  {
   "cell_type": "markdown",
   "metadata": {},
   "source": [
    "**Loop:** An iteration over a sequence."
   ]
  },
  {
   "cell_type": "markdown",
   "metadata": {},
   "source": [
    "In Python, loops are build via **while** and **for** keywords."
   ]
  },
  {
   "cell_type": "markdown",
   "metadata": {},
   "source": [
    "### While Loop"
   ]
  },
  {
   "cell_type": "code",
   "execution_count": null,
   "metadata": {},
   "outputs": [],
   "source": [
    "n = 10\n",
    "\n",
    "print(\"----- before While loop -----\")\n",
    "print(\"n:\", n)\n",
    "\n",
    "# while <condition>:\n",
    "#     .............\n",
    "#     .............\n",
    "#     .............\n",
    "\n",
    "while n > 0:\n",
    "    print(n)\n",
    "    n = n - 1\n",
    "\n",
    "print(\"----- after While loop -----\")\n",
    "print(\"n:\", n)\n"
   ]
  },
  {
   "cell_type": "markdown",
   "metadata": {},
   "source": [
    "**Operation of While Loop**\n",
    "\n",
    "While loop:\n",
    "* Checks the rule condition being True, before execution\n",
    "* If the condition is True, it exeutes once (one iteration)\n",
    "* Checks the condition again, if it's True it executes again\n",
    "* This cycle goes on, it checks for the condition before starting each iteration\n",
    "* If the condition becomes False, then the loop stops"
   ]
  },
  {
   "cell_type": "markdown",
   "metadata": {},
   "source": [
    "**Condition Variable:**\n",
    "* It is important to set the condition variable\n",
    "* In the above example: **n = n - 1**\n",
    "* Since n has decreased by 1 at each iteration, eventually it became 0 and the loop stopped"
   ]
  },
  {
   "cell_type": "markdown",
   "metadata": {},
   "source": [
    "If you do not set the condition variable properly -> Infinite Loop"
   ]
  },
  {
   "cell_type": "markdown",
   "metadata": {},
   "source": [
    "**Example:**\n",
    "\n",
    "Let's find the squares of odd numbers from 1 to 20."
   ]
  },
  {
   "cell_type": "code",
   "execution_count": null,
   "metadata": {},
   "outputs": [],
   "source": [
    "x = 1\n",
    "\n",
    "while x <= 20:\n",
    "    \n",
    "    # odd?\n",
    "    if x % 2 == 1:\n",
    "        print(\"square of {0} is {1}\".format(x, x**2))\n",
    "        \n",
    "    # set condition variable\n",
    "    x += 1"
   ]
  },
  {
   "cell_type": "markdown",
   "metadata": {},
   "source": [
    "**Example:**\n",
    "\n",
    "Let's find the sum of even numbers from 1 to 10."
   ]
  },
  {
   "cell_type": "code",
   "execution_count": null,
   "metadata": {},
   "outputs": [],
   "source": [
    "\n",
    "k = 1\n",
    "summation = 0\n",
    "\n",
    "while k < 11:\n",
    "    \n",
    "    # even?\n",
    "    if k % 2 == 0:\n",
    "        summation += k\n",
    "        \n",
    "    # set condition variable\n",
    "    k += 1\n",
    "\n",
    "\n",
    "print(summation)"
   ]
  },
  {
   "cell_type": "markdown",
   "metadata": {},
   "source": [
    "**Example:**\n",
    "\n",
    "Find the factors of a given number."
   ]
  },
  {
   "cell_type": "code",
   "execution_count": null,
   "metadata": {},
   "outputs": [],
   "source": [
    "# ask for a number\n",
    "number = int(input(\"Please enter a number: \"))\n",
    "\n",
    "i = 2\n",
    "\n",
    "while i < number:\n",
    "    \n",
    "    # is number divisible by i? -> %\n",
    "    if number % i == 0:\n",
    "        print(i)\n",
    "        \n",
    "    # set condition variable\n",
    "    i += 1\n"
   ]
  },
  {
   "cell_type": "markdown",
   "metadata": {},
   "source": [
    "**Example:**\n",
    "\n",
    "Find if a given number is a prime number?"
   ]
  },
  {
   "cell_type": "code",
   "execution_count": null,
   "metadata": {},
   "outputs": [],
   "source": [
    "# ask for a number\n",
    "number = int(input(\"Please enter a number: \"))\n",
    "\n",
    "# assume the number is prime\n",
    "is_prime = True\n",
    "\n",
    "i = 2\n",
    "\n",
    "while i < number:\n",
    "    \n",
    "    # is number divisible by i? -> %\n",
    "    if number % i == 0:\n",
    "        is_prime = False\n",
    "        \n",
    "    # set condition varible\n",
    "    i = i + 1\n",
    "    \n",
    "\n",
    "if is_prime == True:\n",
    "    print(\"{0} is PRIME\".format(number))\n",
    "else:\n",
    "    print(\"{0} is NOT PRIME\".format(number))"
   ]
  },
  {
   "cell_type": "markdown",
   "metadata": {},
   "source": [
    "**For Loop Properties:**\n",
    "\n",
    "* Loops over a sequence, list, string, range...\n",
    "* range(start, end, step)\n",
    "    * start -> inc\n",
    "    * end -> exc\n",
    "    * step -> 1"
   ]
  },
  {
   "cell_type": "code",
   "execution_count": null,
   "metadata": {},
   "outputs": [],
   "source": [
    "for i in range(1, 10, 2):\n",
    "    print(i)\n",
    "    "
   ]
  },
  {
   "cell_type": "markdown",
   "metadata": {},
   "source": [
    "**Example:**\n",
    "\n",
    "Find all factors of a given number."
   ]
  },
  {
   "cell_type": "code",
   "execution_count": null,
   "metadata": {},
   "outputs": [],
   "source": [
    "# ask for a number\n",
    "number = int(input(\"Please enter a number: \"))\n",
    "\n",
    "# factors -> start at 2 -> number\n",
    "\n",
    "for x in range(2, number):\n",
    "    \n",
    "    # is number divisible by x\n",
    "    if number % x == 0:\n",
    "        print(x)\n",
    "\n"
   ]
  },
  {
   "cell_type": "markdown",
   "metadata": {},
   "source": [
    "**Example:**\n",
    "\n",
    "Check if a given number is prime."
   ]
  },
  {
   "cell_type": "code",
   "execution_count": null,
   "metadata": {},
   "outputs": [],
   "source": [
    "# ask for a number\n",
    "number = int(input(\"Please enter a number: \"))\n",
    "\n",
    "# assume prime\n",
    "is_prime = True\n",
    "\n",
    "for p in range(2, number):\n",
    "    \n",
    "    # divisibility\n",
    "    if number % p == 0:\n",
    "        is_prime = False\n",
    "\n",
    "if is_prime:\n",
    "    print(\"{} is PRIME\".format(number))\n",
    "else:\n",
    "    print(\"{} is NOT PRIME\".format(number))\n"
   ]
  },
  {
   "cell_type": "code",
   "execution_count": null,
   "metadata": {},
   "outputs": [],
   "source": [
    "# range(start, end, step)\n",
    "# step -> - (minus) -> backwards\n",
    "\n",
    "for i in range(20, 1, -1):\n",
    "    if i % 2 == 1:\n",
    "        print(i)\n"
   ]
  },
  {
   "cell_type": "markdown",
   "metadata": {},
   "source": [
    "**Example:**\n",
    "\n",
    "Print odd numbers from 20 to 1 (inc), backwards."
   ]
  },
  {
   "cell_type": "code",
   "execution_count": null,
   "metadata": {},
   "outputs": [],
   "source": [
    "# range(start, end, step)\n",
    "# step -> - (minus) -> backwards\n",
    "\n",
    "for i in range(20, 0, -1):\n",
    "    if i % 2 == 1:\n",
    "        print(i)\n",
    "        "
   ]
  },
  {
   "cell_type": "markdown",
   "metadata": {},
   "source": [
    "## Loop Over Strings with For"
   ]
  },
  {
   "cell_type": "code",
   "execution_count": null,
   "metadata": {},
   "outputs": [],
   "source": [
    "\n",
    "text = 'Python'\n",
    "\n",
    "for character in text:\n",
    "    print(character)\n",
    "    "
   ]
  },
  {
   "cell_type": "markdown",
   "metadata": {},
   "source": [
    "**Example:**\n",
    "\n",
    "Concatenate the given text characters with \"-\".\n",
    "\n",
    "Python\n",
    "P-y-t-h-o-n"
   ]
  },
  {
   "cell_type": "code",
   "execution_count": null,
   "metadata": {},
   "outputs": [],
   "source": [
    "# ask for an input\n",
    "user_input = input(\"Please enter a text: \")\n",
    "\n",
    "# variable for new input\n",
    "new_input = \"\"\n",
    "\n",
    "# loop\n",
    "for letter in user_input:\n",
    "    # add - after character and concatenate into new_input\n",
    "    new_input += letter + \"-\"\n",
    "\n",
    "\n",
    "print(new_input)"
   ]
  },
  {
   "cell_type": "markdown",
   "metadata": {},
   "source": [
    "## len()"
   ]
  },
  {
   "cell_type": "markdown",
   "metadata": {},
   "source": [
    "In Python, for sequence types (str, list, ...), to get length of the object we use **len()** function."
   ]
  },
  {
   "cell_type": "code",
   "execution_count": null,
   "metadata": {},
   "outputs": [],
   "source": [
    "len(\"Python\")"
   ]
  },
  {
   "cell_type": "code",
   "execution_count": null,
   "metadata": {},
   "outputs": [],
   "source": [
    "list_of_numbers_and_letters = [1, 2, 3, 'A', 'B']\n",
    "list_of_numbers_and_letters"
   ]
  },
  {
   "cell_type": "code",
   "execution_count": null,
   "metadata": {},
   "outputs": [],
   "source": [
    "len(list_of_numbers_and_letters)"
   ]
  },
  {
   "cell_type": "code",
   "execution_count": null,
   "metadata": {},
   "outputs": [],
   "source": [
    "# ask for an input\n",
    "user_input = input(\"Please enter a text to learn its length: \")\n",
    "\n",
    "# get the length of the text\n",
    "length = len(user_input)\n",
    "\n",
    "print(length)\n"
   ]
  },
  {
   "cell_type": "markdown",
   "metadata": {},
   "source": [
    "## enumerate()"
   ]
  },
  {
   "cell_type": "markdown",
   "metadata": {},
   "source": [
    "In Python, when looping over sequences we might need the index of current iteration.\n",
    "\n",
    "**enumerate()** to get index."
   ]
  },
  {
   "cell_type": "markdown",
   "metadata": {},
   "source": [
    "**Example:**\n",
    "\n",
    "Remove the unnecassary \"-\" from the end of text in the above example."
   ]
  },
  {
   "cell_type": "code",
   "execution_count": null,
   "metadata": {},
   "outputs": [],
   "source": [
    "# ask for an input\n",
    "user_input = input(\"Please enter a text: \")\n",
    "\n",
    "# variable for new input\n",
    "new_input = \"\"\n",
    "\n",
    "# loop with enumerate\n",
    "for index, letter in enumerate(user_input):\n",
    "    \n",
    "    # concatenate the letter\n",
    "    new_input += letter\n",
    "    \n",
    "    # if this is the last index\n",
    "    if index < len(user_input) - 1:\n",
    "        new_input += \"-\"\n",
    "\n",
    "\n",
    "print(new_input)"
   ]
  },
  {
   "cell_type": "markdown",
   "metadata": {},
   "source": [
    "## index Example"
   ]
  },
  {
   "cell_type": "markdown",
   "metadata": {},
   "source": [
    "Start from 10, print up to 100 (inc) with step size of 5."
   ]
  },
  {
   "cell_type": "markdown",
   "metadata": {},
   "source": [
    "10, 15, 20, ..., 100"
   ]
  },
  {
   "cell_type": "markdown",
   "metadata": {},
   "source": [
    "Find \n",
    "\n",
    "the number in index of 5 = the number in 6th order.\n",
    "\n",
    "`Indices start from 0.`"
   ]
  },
  {
   "cell_type": "code",
   "execution_count": null,
   "metadata": {},
   "outputs": [],
   "source": [
    "\n",
    "# first let's see the numbers\n",
    "\n",
    "for number in range(10, 101, 5):\n",
    "    print(number)\n"
   ]
  },
  {
   "cell_type": "code",
   "execution_count": null,
   "metadata": {},
   "outputs": [],
   "source": [
    "# index 5 -> element in 6th order\n",
    "\n",
    "number_range = range(10, 101, 5)\n",
    "\n",
    "for index, number in enumerate(number_range):\n",
    "    \n",
    "    if index == 5:\n",
    "        print(number)\n",
    "    "
   ]
  },
  {
   "cell_type": "code",
   "execution_count": null,
   "metadata": {},
   "outputs": [],
   "source": [
    "\n",
    "# do it in one line\n",
    "\n",
    "for i, num in enumerate(range(10, 101, 5)):\n",
    "    if i == 5:\n",
    "        print(num)\n"
   ]
  },
  {
   "cell_type": "markdown",
   "metadata": {},
   "source": [
    "## Nested Loops"
   ]
  },
  {
   "cell_type": "markdown",
   "metadata": {},
   "source": [
    "**Example:**\n",
    "\n",
    "We will draw a square of stars on screen.\n",
    "\n",
    "3 stars on a rows and 3 stars on a column."
   ]
  },
  {
   "cell_type": "code",
   "execution_count": null,
   "metadata": {},
   "outputs": [],
   "source": [
    "\n",
    "# while\n",
    "\n",
    "i = 0\n",
    "\n",
    "# rows\n",
    "while i < 3:\n",
    "    \n",
    "    stars = \"\"\n",
    "    \n",
    "    # columns\n",
    "    j = 0\n",
    "    \n",
    "    while j < 3:\n",
    "        stars += \"* \"\n",
    "        j += 1\n",
    "        \n",
    "    # print the row stars\n",
    "    print(stars)\n",
    "    \n",
    "    i += 1\n",
    "        \n"
   ]
  },
  {
   "cell_type": "code",
   "execution_count": null,
   "metadata": {},
   "outputs": [],
   "source": [
    "for i in range(3):\n",
    "    stars = \"\"\n",
    "\n",
    "    for j in range(3):\n",
    "        stars += \"* \"\n",
    "\n",
    "\n",
    "    print(stars)"
   ]
  },
  {
   "cell_type": "markdown",
   "metadata": {},
   "source": [
    "## Exit Loop: `break`"
   ]
  },
  {
   "cell_type": "markdown",
   "metadata": {},
   "source": [
    "**Example:**\n",
    "\n",
    "Let's print the letters of a string.\n",
    "\n",
    "If we encounter a space character we will exit the loop."
   ]
  },
  {
   "cell_type": "code",
   "execution_count": null,
   "metadata": {},
   "outputs": [],
   "source": [
    "# ask for an input\n",
    "\n",
    "text = input(\"Please enter a text: \")\n",
    "\n",
    "print(\"------  before the loop ------\")\n",
    "\n",
    "for character in text:\n",
    "    \n",
    "    # check is space\n",
    "    if character == ' ':\n",
    "        break\n",
    "    \n",
    "    # if not space -> print it\n",
    "    print(character)\n",
    "    \n",
    "\n",
    "print(\"------  after the loop ------\")"
   ]
  },
  {
   "cell_type": "markdown",
   "metadata": {},
   "source": [
    "**Example:**\n",
    "\n",
    "Start from 30 up to 100 and print the numbers.\n",
    "\n",
    "If the number is a multiple of 11 we terminate execution."
   ]
  },
  {
   "cell_type": "code",
   "execution_count": null,
   "metadata": {},
   "outputs": [],
   "source": [
    "# multiple of 11\n",
    "\n",
    "print(\"------  before the loop ------\")\n",
    "\n",
    "for i in range(30, 101):\n",
    "    \n",
    "    # check for multiple of 11\n",
    "    if i % 11 == 0:\n",
    "        print(i)\n",
    "        break\n",
    "    else:\n",
    "        # it is not a multiple of 11\n",
    "        print(i)\n",
    "\n",
    "print(\"------  after the loop ------\")"
   ]
  },
  {
   "cell_type": "markdown",
   "metadata": {},
   "source": [
    "## Skip to the Next Iteration: `continue`"
   ]
  },
  {
   "cell_type": "markdown",
   "metadata": {},
   "source": [
    "Sometimes we need only to skip the current iteretion and pass with the next one.\n",
    "\n",
    "For these cases -> **continue**"
   ]
  },
  {
   "cell_type": "markdown",
   "metadata": {},
   "source": [
    "`continue` will not finalize all the loop (like break) it will only **finalize the current iteration**."
   ]
  },
  {
   "cell_type": "markdown",
   "metadata": {},
   "source": [
    "**Example:**\n",
    "\n",
    "We want to print even numbers from 1 to 10.\n",
    "\n",
    "`continue`"
   ]
  },
  {
   "cell_type": "code",
   "execution_count": null,
   "metadata": {},
   "outputs": [],
   "source": [
    "for i in range(1, 11):\n",
    "    \n",
    "    # if odd\n",
    "    if i % 2 == 1:\n",
    "        continue\n",
    "        \n",
    "    # if it comes here, which means it is even\n",
    "    print(i)\n",
    "    "
   ]
  },
  {
   "cell_type": "markdown",
   "metadata": {},
   "source": [
    "**Example:**\n",
    "\n",
    "Print the letters in a string.\n",
    "\n",
    "If we encounter the space caharacter we will skip that character.\n",
    "\n",
    "We will print all the chars but space."
   ]
  },
  {
   "cell_type": "code",
   "execution_count": null,
   "metadata": {},
   "outputs": [],
   "source": [
    "text = input(\"Please enter a text: \")\n",
    "\n",
    "for char in text:\n",
    "    if chr == ' ':\n",
    "        continue\n",
    "    print(char)"
   ]
  },
  {
   "cell_type": "markdown",
   "metadata": {},
   "source": [
    "## `For-Else` Structure"
   ]
  },
  {
   "cell_type": "markdown",
   "metadata": {},
   "source": [
    "Sometimes you need to know if your loop has completed successfully.\n",
    "\n",
    "**Successful Loops:** Loops with no `break` statements executed in them."
   ]
  },
  {
   "cell_type": "markdown",
   "metadata": {},
   "source": [
    "For these case we use `for-else` structures."
   ]
  },
  {
   "cell_type": "markdown",
   "metadata": {},
   "source": [
    "**Example:**\n",
    "\n",
    "Print numbers from 2 to 10.\n",
    "\n",
    "If the number is 7, exit the loop (break).\n",
    "\n",
    "If the loop executes successfully we will print: \"Loop executed successfully\""
   ]
  },
  {
   "cell_type": "code",
   "execution_count": null,
   "metadata": {},
   "outputs": [],
   "source": [
    "print(\"-------- Before For Loop ---------\")\n",
    "\n",
    "for i in range(2, 10):\n",
    "    \n",
    "    print(i)\n",
    "    \n",
    "    if i % 7 == 0:\n",
    "        break\n",
    "        \n",
    "else:\n",
    "    print(\"Loop executed successfully\")\n",
    "    \n",
    "print(\"-------- After For Loop ---------\")"
   ]
  },
  {
   "cell_type": "code",
   "execution_count": null,
   "metadata": {},
   "outputs": [],
   "source": [
    "print(\"-------- Before For Loop ---------\")\n",
    "\n",
    "for i in range(2, 10):\n",
    "    \n",
    "    print(i)\n",
    "    \n",
    "    if i % 17 == 0:\n",
    "        break\n",
    "        \n",
    "else:\n",
    "    print(\"Loop executed successfully\")\n",
    "    \n",
    "print(\"-------- After For Loop ---------\")"
   ]
  },
  {
   "cell_type": "markdown",
   "metadata": {},
   "source": [
    "## Questions"
   ]
  },
  {
   "cell_type": "markdown",
   "metadata": {},
   "source": [
    "**Q 1:**\n",
    "\n",
    "Define a function that draw a square of stars on the screen.\n",
    "\n",
    "The function name will be **sqaure_of_stars_with_while**.\n",
    "\n",
    "The parameter will be number of stars in one side of square.\n",
    "\n",
    "Hints:\n",
    "* ask for number of stars from the user\n",
    "* use while loop\n",
    "\n",
    "<pre>\n",
    "Expected output for 5 stars:\n",
    "\n",
    "* * * * * \n",
    "* * * * * \n",
    "* * * * * \n",
    "* * * * * \n",
    "* * * * * \n",
    "</pre>"
   ]
  },
  {
   "cell_type": "code",
   "execution_count": null,
   "metadata": {},
   "outputs": [],
   "source": [
    "def square_of_stars_with_while(n):\n",
    "    i = 0\n",
    "    while i < n:\n",
    "        stars = \"\"\n",
    "\n",
    "        j = 0\n",
    "        while j < n:\n",
    "            stars += \"* \"\n",
    "            j += 1\n",
    "        \n",
    "        print(stars)\n",
    "\n",
    "        i += 1"
   ]
  },
  {
   "cell_type": "code",
   "execution_count": null,
   "metadata": {},
   "outputs": [],
   "source": [
    "n = int(input(\"Enter the number of stars: \"))\n",
    "square_of_stars_with_while(n)"
   ]
  },
  {
   "cell_type": "code",
   "execution_count": null,
   "metadata": {},
   "outputs": [],
   "source": [
    "n = int(input(\"Enter the number of stars: \"))\n",
    "square_of_stars_with_while(n)"
   ]
  },
  {
   "cell_type": "markdown",
   "metadata": {},
   "source": [
    "**Q 2:**\n",
    "\n",
    "Define a function that draw a square of stars on the screen.\n",
    "\n",
    "The function name will be **sqaure_of_stars_with_for**.\n",
    "\n",
    "The parameter will be number of stars in one side of square.\n",
    "\n",
    "Hints:\n",
    "* ask for number of stars from the user\n",
    "* use for loop\n",
    "\n",
    "<pre>\n",
    "Expected output for 5 stars:\n",
    "\n",
    "* * * * * \n",
    "* * * * * \n",
    "* * * * * \n",
    "* * * * * \n",
    "* * * * * \n",
    "</pre>"
   ]
  },
  {
   "cell_type": "code",
   "execution_count": null,
   "metadata": {},
   "outputs": [],
   "source": [
    "def square_of_stars_with_for(n):\n",
    "    for i in range(n):\n",
    "        stars = \"\"\n",
    "\n",
    "        for j in range(n):\n",
    "            stars += \"* \"\n",
    "\n",
    "        print(stars)"
   ]
  },
  {
   "cell_type": "code",
   "execution_count": null,
   "metadata": {},
   "outputs": [],
   "source": [
    "n = int(input(\"Enter the number of stars: \"))\n",
    "square_of_stars_with_for(n)"
   ]
  },
  {
   "cell_type": "markdown",
   "metadata": {},
   "source": [
    "**Q 3:**\n",
    "\n",
    "Define a function that draw a right triangle (lower triangle) of stars on the screen.\n",
    "\n",
    "The function name will be **lower_triangle_with_while**.\n",
    "\n",
    "The parameter will be number of stars in one side of triangle.\n",
    "\n",
    "Hints:\n",
    "* ask for number of stars from the user\n",
    "* use while loop\n",
    "\n",
    "<pre>\n",
    "Expected output for 5 stars:\n",
    "(lower triangle)\n",
    "\n",
    "*\n",
    "* *\n",
    "* * *\n",
    "* * * * \n",
    "* * * * *\n",
    "</pre>"
   ]
  },
  {
   "cell_type": "code",
   "execution_count": null,
   "metadata": {},
   "outputs": [],
   "source": [
    "def lower_tringle_with_while(n):\n",
    "    i = 0\n",
    "    while i < n:\n",
    "        stars = \"\"\n",
    "\n",
    "        j = 0\n",
    "        while j <= i:\n",
    "            stars += \"* \"\n",
    "            j += 1\n",
    "\n",
    "        print(stars)\n",
    "\n",
    "        i += 1"
   ]
  },
  {
   "cell_type": "code",
   "execution_count": null,
   "metadata": {},
   "outputs": [],
   "source": [
    "lower_tringle_with_while(5)"
   ]
  },
  {
   "cell_type": "markdown",
   "metadata": {},
   "source": [
    "**Q 4:**\n",
    "\n",
    "Define a function that draw a right triangle (lower triangle) of stars on the screen.\n",
    "\n",
    "The function name will be **lower_triangle_with_for**.\n",
    "\n",
    "The parameter will be number of stars in one side of triangle.\n",
    "\n",
    "Hints:\n",
    "* ask for number of stars from the user\n",
    "* use for loop\n",
    "\n",
    "<pre>\n",
    "Expected output for 5 stars:\n",
    "(lower triangle)\n",
    "\n",
    "*\n",
    "* *\n",
    "* * *\n",
    "* * * * \n",
    "* * * * *\n",
    "</pre>"
   ]
  },
  {
   "cell_type": "code",
   "execution_count": null,
   "metadata": {},
   "outputs": [],
   "source": [
    "def lower_triangle_with_for(n):\n",
    "    for i in range(n):\n",
    "        stars = \"\"\n",
    "\n",
    "        for j in range(i+1):\n",
    "            stars += \"* \"\n",
    "        \n",
    "        print(stars)"
   ]
  },
  {
   "cell_type": "code",
   "execution_count": null,
   "metadata": {},
   "outputs": [],
   "source": [
    "lower_triangle_with_for(5)"
   ]
  },
  {
   "cell_type": "markdown",
   "metadata": {},
   "source": [
    "**Q 5:**\n",
    "\n",
    "Define a function that draw a right triangle (upper triangle) of stars on the screen.\n",
    "\n",
    "The function name will be **upper_triangle_with_for**.\n",
    "\n",
    "The parameter will be number of stars in one side of triangle.\n",
    "\n",
    "Hints:\n",
    "* ask for number of stars from the user\n",
    "* use for loop\n",
    "\n",
    "<pre>\n",
    "Expected output for 5 stars:\n",
    "(upper triangle)\n",
    "\n",
    "* * * * * \n",
    "* * * * \n",
    "* * * \n",
    "* * \n",
    "* \n",
    "</pre>"
   ]
  },
  {
   "cell_type": "code",
   "execution_count": null,
   "metadata": {},
   "outputs": [],
   "source": [
    "def upper_triangle_with_for(n):\n",
    "    for i in range(n, 0 , -1):\n",
    "        stars = \"\"\n",
    "\n",
    "        for j in range(i):\n",
    "            stars += \"* \"\n",
    "\n",
    "        print(stars)"
   ]
  },
  {
   "cell_type": "code",
   "execution_count": null,
   "metadata": {},
   "outputs": [],
   "source": [
    "for i in range(5, 0, -1):\n",
    "    print(i)"
   ]
  },
  {
   "cell_type": "code",
   "execution_count": null,
   "metadata": {},
   "outputs": [],
   "source": [
    "upper_triangle_with_for(5)"
   ]
  },
  {
   "cell_type": "markdown",
   "metadata": {},
   "source": [
    "**Q 6:**\n",
    "\n",
    "Define a function that draw an isosceles triangle of stars on the screen.\n",
    "\n",
    "The function name will be **isosceles_triangle_with_for**.\n",
    "\n",
    "The parameter will be number of stars in half of the long side of triangle.\n",
    "\n",
    "Hints:\n",
    "* ask for number of stars from the user\n",
    "* call previous functions for drawing\n",
    "\n",
    "<pre>\n",
    "Expected output for 5 stars:\n",
    "(upper triangle)\n",
    "\n",
    "* \n",
    "* * \n",
    "* * * \n",
    "* * * * \n",
    "* * * * * \n",
    "* * * * \n",
    "* * * \n",
    "* * \n",
    "* \n",
    "</pre>"
   ]
  },
  {
   "cell_type": "code",
   "execution_count": null,
   "metadata": {},
   "outputs": [],
   "source": [
    "def isosceles_triangle_with_for(n):\n",
    "    lower_triangle_with_for(n)\n",
    "    upper_triangle_with_for(n)"
   ]
  },
  {
   "cell_type": "code",
   "execution_count": null,
   "metadata": {},
   "outputs": [],
   "source": [
    "isosceles_triangle_with_for(5)"
   ]
  },
  {
   "cell_type": "markdown",
   "metadata": {},
   "source": [
    "There is an error in the middle. Let's fix it."
   ]
  },
  {
   "cell_type": "code",
   "execution_count": null,
   "metadata": {},
   "outputs": [],
   "source": [
    "def isosceles_triangle_with_for(n):\n",
    "    \n",
    "    # lower triangle\n",
    "    lower_triangle_with_for(n - 1)\n",
    "    \n",
    "    # upper triangle\n",
    "    upper_triangle_with_for(n)"
   ]
  },
  {
   "cell_type": "code",
   "execution_count": null,
   "metadata": {},
   "outputs": [],
   "source": [
    "isosceles_triangle_with_for(5)"
   ]
  },
  {
   "cell_type": "markdown",
   "metadata": {},
   "source": [
    "**Q 7:**\n",
    "\n",
    "Define a `bool` function which checks if the given number (parameter) is a prime number.\n",
    "\n",
    "The function name will be **is_prime** and it will return True if the number is prime, False otherwise."
   ]
  },
  {
   "cell_type": "code",
   "execution_count": null,
   "metadata": {},
   "outputs": [],
   "source": [
    "def is_prime(n):\n",
    "    prime = True\n",
    "\n",
    "    for i in range(2, n):\n",
    "        if n % i == 0:\n",
    "            prime = False\n",
    "\n",
    "    return prime"
   ]
  },
  {
   "cell_type": "code",
   "execution_count": null,
   "metadata": {},
   "outputs": [],
   "source": [
    "is_prime(7)"
   ]
  },
  {
   "cell_type": "code",
   "execution_count": null,
   "metadata": {},
   "outputs": [],
   "source": [
    "is_prime(18)"
   ]
  },
  {
   "cell_type": "markdown",
   "metadata": {},
   "source": [
    "**Q 8:**\n",
    "\n",
    "Define a function named **prime_factors**.\n",
    "\n",
    "The function will take an integer parameter and will find all the `prime factors` of that number."
   ]
  },
  {
   "cell_type": "code",
   "execution_count": null,
   "metadata": {},
   "outputs": [],
   "source": [
    "# S 8:\n",
    "\n",
    "def prime_factors(n):\n",
    "    \n",
    "    for i in range(2, n):\n",
    "        \n",
    "        # if n is divisible by i -> i is a factor\n",
    "        if n % i == 0:\n",
    "            \n",
    "            # check if i is prime\n",
    "            if is_prime(i):\n",
    "                print(i)\n"
   ]
  },
  {
   "cell_type": "code",
   "execution_count": null,
   "metadata": {},
   "outputs": [],
   "source": [
    "prime_factors(24)"
   ]
  },
  {
   "cell_type": "markdown",
   "metadata": {},
   "source": [
    "**Q 9:**\n",
    "\n",
    "Define a function named **trees_and_fives**.\n",
    "\n",
    "It will loop over the integers from 1 to 50, both included.\n",
    "\n",
    "It will print the numbers but:\n",
    "* If the number is a multiple of 3 it will print \"Trees\" instead of the number\n",
    "* If the number is a multiple of 5 it will print \"Fives\" instead of the number\n",
    "* If the number is a multiple of both 3 and 5 it will print \"Trees&Fives\" instead of the number"
   ]
  },
  {
   "cell_type": "code",
   "execution_count": null,
   "metadata": {},
   "outputs": [],
   "source": [
    "def trees_and_fives():\n",
    "    \n",
    "    tree = 'Trees'\n",
    "    five = 'Fives'\n",
    "    \n",
    "    for i in range(1, 51):\n",
    "        \n",
    "        # both 3 and 5\n",
    "        if i % 3 == 0 and i % 5 == 0:\n",
    "            print(tree+'&'+five)\n",
    "        elif i % 5 == 0:\n",
    "            print(five)\n",
    "        elif i % 3 == 0:\n",
    "            print(tree)\n",
    "        else:\n",
    "            print(i)\n",
    "            "
   ]
  },
  {
   "cell_type": "code",
   "execution_count": null,
   "metadata": {},
   "outputs": [],
   "source": [
    "trees_and_fives()"
   ]
  },
  {
   "cell_type": "markdown",
   "metadata": {},
   "source": [
    "**Q 10:**\n",
    "\n",
    "Define a function named **concat_sentence**.\n",
    "\n",
    "The function will take a string as parameter (sentence).\n",
    "\n",
    "It will first split this sentence into its words.\n",
    "\n",
    "Then it will split each word into its characters.\n",
    "\n",
    "And it will add \"-\" between each character.\n",
    "\n",
    "Moreover it will add \"__\" (double underscore) between the words.\n",
    "\n",
    "And it will return the final sentence.\n",
    "\n",
    "Hints:\n",
    "* to split into words -> split()\n",
    "\n",
    "<pre>\n",
    "sentence = \"This is a long story Rango\"\n",
    "final_sentence = concat_sentence(sentence)\n",
    "print(final_sentence)\n",
    "\n",
    "Expected Output:\n",
    "T-h-i-s__i-s__a__l-o-n-g__s-t-o-r-y__R-a-n-g-o\n",
    "</pre>"
   ]
  },
  {
   "cell_type": "code",
   "execution_count": null,
   "metadata": {},
   "outputs": [],
   "source": [
    "def concat_sentence(sentence):\n",
    "    words = sentence.split()\n",
    "\n",
    "    concatted_sentence = \"\"\n",
    "\n",
    "    for word_index, word in enumerate(words):\n",
    "        concatted_word = \"\"\n",
    "    \n",
    "        # loop #2 -> chars\n",
    "        for char_index, char in enumerate(word):\n",
    "            concatted_word += char\n",
    "            \n",
    "            # add the '-' -> check last\n",
    "            if char_index < len(word) - 1:\n",
    "                concatted_word += '-'\n",
    "\n",
    "        # print(concatted_word)\n",
    "        \n",
    "        concatted_sentence += concatted_word\n",
    "\n",
    "        if word_index < len(words) - 1:\n",
    "            concatted_sentence += \"__\"\n",
    "\n",
    "    return concatted_sentence"
   ]
  },
  {
   "cell_type": "code",
   "execution_count": null,
   "metadata": {},
   "outputs": [],
   "source": [
    "sentence = \"The sentence to concat\"\n",
    "concat_sentence(sentence)"
   ]
  },
  {
   "cell_type": "code",
   "execution_count": null,
   "metadata": {},
   "outputs": [],
   "source": [
    "sentence = \"This is a long story Rango\"\n",
    "final_sentence = concat_sentence(sentence)\n",
    "print(final_sentence)"
   ]
  },
  {
   "cell_type": "code",
   "execution_count": null,
   "metadata": {},
   "outputs": [],
   "source": [
    "sentence = \"This is a long story Rango\"\n",
    "sentence.split()"
   ]
  }
 ],
 "metadata": {
  "language_info": {
   "name": "python"
  },
  "orig_nbformat": 4
 },
 "nbformat": 4,
 "nbformat_minor": 2
}
