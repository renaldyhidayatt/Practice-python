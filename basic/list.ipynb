{
 "cells": [
  {
   "cell_type": "markdown",
   "metadata": {},
   "source": [
    "## List"
   ]
  },
  {
   "cell_type": "markdown",
   "metadata": {},
   "source": [
    "## List is a Squence"
   ]
  },
  {
   "cell_type": "markdown",
   "metadata": {},
   "source": [
    "Previously, we learned that Strings are Sequences.\n",
    "\n",
    "Lists are also Sequence Types."
   ]
  },
  {
   "cell_type": "markdown",
   "metadata": {},
   "source": [
    "For Sequences, you can access elements via `index`."
   ]
  },
  {
   "cell_type": "markdown",
   "metadata": {},
   "source": [
    "List are definded: `[]`"
   ]
  },
  {
   "cell_type": "code",
   "execution_count": 353,
   "metadata": {},
   "outputs": [
    {
     "data": {
      "text/plain": [
       "[10, 20, 30, 40]"
      ]
     },
     "execution_count": 353,
     "metadata": {},
     "output_type": "execute_result"
    }
   ],
   "source": [
    "my_list = [10, 20, 30, 40]\n",
    "my_list"
   ]
  },
  {
   "cell_type": "code",
   "execution_count": 354,
   "metadata": {},
   "outputs": [
    {
     "name": "stdout",
     "output_type": "stream",
     "text": [
      "['a', 'b', 'c', 'd', 'e']\n"
     ]
    }
   ],
   "source": [
    "letters = ['a', 'b', 'c', 'd', 'e']\n",
    "print(letters)"
   ]
  },
  {
   "cell_type": "code",
   "execution_count": 355,
   "metadata": {},
   "outputs": [
    {
     "data": {
      "text/plain": [
       "list"
      ]
     },
     "execution_count": 355,
     "metadata": {},
     "output_type": "execute_result"
    }
   ],
   "source": [
    "type(letters)"
   ]
  },
  {
   "cell_type": "code",
   "execution_count": 356,
   "metadata": {},
   "outputs": [
    {
     "data": {
      "text/plain": [
       "['city', 'name', 4, True, [1, 2, 3], 'A', ['a', 'b']]"
      ]
     },
     "execution_count": 356,
     "metadata": {},
     "output_type": "execute_result"
    }
   ],
   "source": [
    "nested_list = ['city', 'name', 4, True, [1, 2, 3], 'A', ['a', 'b']]\n",
    "nested_list"
   ]
  },
  {
   "cell_type": "code",
   "execution_count": 357,
   "metadata": {},
   "outputs": [
    {
     "data": {
      "text/plain": [
       "'city'"
      ]
     },
     "execution_count": 357,
     "metadata": {},
     "output_type": "execute_result"
    }
   ],
   "source": [
    "nested_list[0]"
   ]
  },
  {
   "cell_type": "markdown",
   "metadata": {},
   "source": [
    "## Lists are Mutable"
   ]
  },
  {
   "cell_type": "markdown",
   "metadata": {},
   "source": [
    "Strings are Immutable.\n",
    "\n",
    "Lists are Mutable."
   ]
  },
  {
   "cell_type": "code",
   "execution_count": 358,
   "metadata": {},
   "outputs": [
    {
     "data": {
      "text/plain": [
       "['audi', 'Ford', 'Mazda']"
      ]
     },
     "execution_count": 358,
     "metadata": {},
     "output_type": "execute_result"
    }
   ],
   "source": [
    "cars = ['audi', 'Ford', 'Mazda']\n",
    "cars"
   ]
  },
  {
   "cell_type": "code",
   "execution_count": 359,
   "metadata": {},
   "outputs": [
    {
     "data": {
      "text/plain": [
       "['Audi', 'Ford', 'Mazda']"
      ]
     },
     "execution_count": 359,
     "metadata": {},
     "output_type": "execute_result"
    }
   ],
   "source": [
    "# mutate the list\n",
    "\n",
    "cars[0] = 'Audi'\n",
    "cars"
   ]
  },
  {
   "cell_type": "raw",
   "metadata": {},
   "source": [
    "\n",
    "['Audi', 'Ford', 'Mazda']  |  ['Audi', 'Ford', 'Mazda'] \n",
    "  -3       -2       -1            0      1        2"
   ]
  },
  {
   "cell_type": "code",
   "execution_count": 360,
   "metadata": {},
   "outputs": [
    {
     "data": {
      "text/plain": [
       "'Audi'"
      ]
     },
     "execution_count": 360,
     "metadata": {},
     "output_type": "execute_result"
    }
   ],
   "source": [
    "cars[-3]"
   ]
  },
  {
   "cell_type": "markdown",
   "metadata": {},
   "source": [
    "## Loop Over a List"
   ]
  },
  {
   "cell_type": "code",
   "execution_count": 361,
   "metadata": {},
   "outputs": [
    {
     "data": {
      "text/plain": [
       "['Audi', 'Ford', 'Mazda']"
      ]
     },
     "execution_count": 361,
     "metadata": {},
     "output_type": "execute_result"
    }
   ],
   "source": [
    "cars = ['Audi', 'Ford', 'Mazda']\n",
    "cars"
   ]
  },
  {
   "cell_type": "code",
   "execution_count": 362,
   "metadata": {},
   "outputs": [
    {
     "name": "stdout",
     "output_type": "stream",
     "text": [
      "['Audi', 'Ford', 'Mazda']\n",
      "['Audi', 'Ford', 'Mazda']\n",
      "['Audi', 'Ford', 'Mazda']\n"
     ]
    }
   ],
   "source": [
    "for car in cars:\n",
    "    print(cars)"
   ]
  },
  {
   "cell_type": "code",
   "execution_count": 363,
   "metadata": {},
   "outputs": [
    {
     "name": "stdout",
     "output_type": "stream",
     "text": [
      "0 - Audi\n",
      "1 - Ford\n",
      "2 - Mazda\n"
     ]
    }
   ],
   "source": [
    "# we need the index -> enumerate()\n",
    "\n",
    "for index, car in enumerate(cars):\n",
    "    print(\"{0} - {1}\".format(index, car))\n"
   ]
  },
  {
   "cell_type": "markdown",
   "metadata": {},
   "source": [
    "We want to change the elemants during the loop."
   ]
  },
  {
   "cell_type": "code",
   "execution_count": 364,
   "metadata": {},
   "outputs": [
    {
     "data": {
      "text/plain": [
       "[1, 2, 3, 4, 5]"
      ]
     },
     "execution_count": 364,
     "metadata": {},
     "output_type": "execute_result"
    }
   ],
   "source": [
    "nums = [1, 2, 3, 4, 5]\n",
    "nums"
   ]
  },
  {
   "cell_type": "code",
   "execution_count": 365,
   "metadata": {},
   "outputs": [
    {
     "name": "stdout",
     "output_type": "stream",
     "text": [
      "10\n",
      "20\n",
      "30\n",
      "40\n",
      "50\n"
     ]
    }
   ],
   "source": [
    "# loop over the list -> multiply elements by 10\n",
    "\n",
    "for num in nums:\n",
    "    num *= 10\n",
    "    print(num)\n",
    "    "
   ]
  },
  {
   "cell_type": "code",
   "execution_count": 366,
   "metadata": {},
   "outputs": [],
   "source": [
    "for index, num in enumerate(nums):\n",
    "    \n",
    "    # calculate the new num\n",
    "    new_num = num * 10\n",
    "    \n",
    "    # update the list via index\n",
    "    nums[index] = new_num"
   ]
  },
  {
   "cell_type": "code",
   "execution_count": 367,
   "metadata": {},
   "outputs": [],
   "source": [
    "# cars list\n",
    "# we will update each car as ' Car' -> Audi Car, Ford Car, Mazda Car\n",
    "\n",
    "for index, car in enumerate(cars):\n",
    "    \n",
    "    cars[index] = car + ' Car'"
   ]
  },
  {
   "cell_type": "markdown",
   "metadata": {},
   "source": [
    "## List Operations"
   ]
  },
  {
   "cell_type": "markdown",
   "metadata": {},
   "source": [
    "In Lists +, * (addition and multiplication) operations are allowed.\n",
    "\n",
    "But with its own logic."
   ]
  },
  {
   "cell_type": "markdown",
   "metadata": {},
   "source": [
    "**`+` Operator**\n",
    "\n",
    "It concatenates lists."
   ]
  },
  {
   "cell_type": "code",
   "execution_count": 368,
   "metadata": {},
   "outputs": [
    {
     "data": {
      "text/plain": [
       "[10, 20, 30, 4, 8, 12]"
      ]
     },
     "execution_count": 368,
     "metadata": {},
     "output_type": "execute_result"
    }
   ],
   "source": [
    "a = [10, 20, 30]\n",
    "\n",
    "b = [4, 8, 12]\n",
    "\n",
    "c = a + b\n",
    "c"
   ]
  },
  {
   "cell_type": "code",
   "execution_count": 369,
   "metadata": {},
   "outputs": [
    {
     "data": {
      "text/plain": [
       "[10, 20, 30, 4, 8, 12, 'A', 'B', 'C']"
      ]
     },
     "execution_count": 369,
     "metadata": {},
     "output_type": "execute_result"
    }
   ],
   "source": [
    "\n",
    "a = [10, 20, 30]\n",
    "\n",
    "b = [4, 8, 12]\n",
    "\n",
    "c = ['A', 'B', 'C']\n",
    "\n",
    "d = a + b + c\n",
    "d"
   ]
  },
  {
   "cell_type": "code",
   "execution_count": 370,
   "metadata": {},
   "outputs": [
    {
     "data": {
      "text/plain": [
       "['Monday', 'Tuesday', 'Wednesday', 'Thusday', 'Friday', 'Saturday', 'Sunday']"
      ]
     },
     "execution_count": 370,
     "metadata": {},
     "output_type": "execute_result"
    }
   ],
   "source": [
    "weekdays = ['Monday', 'Tuesday', 'Wednesday', 'Thusday', 'Friday']\n",
    "weekend = ['Saturday', 'Sunday']\n",
    "\n",
    "week = weekdays + weekend\n",
    "\n",
    "week"
   ]
  },
  {
   "cell_type": "code",
   "execution_count": 371,
   "metadata": {},
   "outputs": [
    {
     "data": {
      "text/plain": [
       "['Monday',\n",
       " 'Tuesday',\n",
       " 'Wednesday',\n",
       " 'Thusday',\n",
       " 'Friday',\n",
       " 'Saturday',\n",
       " 'Sunday',\n",
       " 'Monday',\n",
       " 'Tuesday',\n",
       " 'Wednesday',\n",
       " 'Thusday',\n",
       " 'Friday',\n",
       " 'Saturday',\n",
       " 'Sunday',\n",
       " 'Monday',\n",
       " 'Tuesday',\n",
       " 'Wednesday',\n",
       " 'Thusday',\n",
       " 'Friday',\n",
       " 'Saturday',\n",
       " 'Sunday',\n",
       " 'Monday',\n",
       " 'Tuesday',\n",
       " 'Wednesday',\n",
       " 'Thusday',\n",
       " 'Friday',\n",
       " 'Saturday',\n",
       " 'Sunday']"
      ]
     },
     "execution_count": 371,
     "metadata": {},
     "output_type": "execute_result"
    }
   ],
   "source": [
    "4 * week"
   ]
  },
  {
   "cell_type": "markdown",
   "metadata": {},
   "source": [
    "## List Slicing"
   ]
  },
  {
   "cell_type": "code",
   "execution_count": 372,
   "metadata": {},
   "outputs": [
    {
     "data": {
      "text/plain": [
       "['a', 'b', 'c', 'd', 'e', 'f']"
      ]
     },
     "execution_count": 372,
     "metadata": {},
     "output_type": "execute_result"
    }
   ],
   "source": [
    "\n",
    "my_list = ['a', 'b', 'c', 'd', 'e', 'f']\n",
    "my_list\n"
   ]
  },
  {
   "cell_type": "code",
   "execution_count": 373,
   "metadata": {},
   "outputs": [
    {
     "data": {
      "text/plain": [
       "['b', 'c', 'd']"
      ]
     },
     "execution_count": 373,
     "metadata": {},
     "output_type": "execute_result"
    }
   ],
   "source": [
    "# we want elements from index 1 to 4 (exc)\n",
    "\n",
    "my_list[1:4]"
   ]
  },
  {
   "cell_type": "code",
   "execution_count": 374,
   "metadata": {},
   "outputs": [
    {
     "data": {
      "text/plain": [
       "['a', 'b', 'c', 'd']"
      ]
     },
     "execution_count": 374,
     "metadata": {},
     "output_type": "execute_result"
    }
   ],
   "source": [
    "# ommit 0 for start\n",
    "\n",
    "my_list[:4]"
   ]
  },
  {
   "cell_type": "code",
   "execution_count": 375,
   "metadata": {},
   "outputs": [
    {
     "data": {
      "text/plain": [
       "['f', 'e', 'd', 'c', 'b', 'a']"
      ]
     },
     "execution_count": 375,
     "metadata": {},
     "output_type": "execute_result"
    }
   ],
   "source": [
    "# copy the reverse of the list\n",
    "\n",
    "my_list_copy_reverse = my_list[::-1]\n",
    "my_list_copy_reverse"
   ]
  },
  {
   "cell_type": "markdown",
   "metadata": {},
   "source": [
    "## List Copying and Ids"
   ]
  },
  {
   "cell_type": "markdown",
   "metadata": {},
   "source": [
    "Copying -> Create a NEW List"
   ]
  },
  {
   "cell_type": "code",
   "execution_count": 376,
   "metadata": {},
   "outputs": [
    {
     "data": {
      "text/plain": [
       "['a', 'b', 'c', 'd', 'e', 'f']"
      ]
     },
     "execution_count": 376,
     "metadata": {},
     "output_type": "execute_result"
    }
   ],
   "source": [
    "my_list = ['a', 'b', 'c', 'd', 'e', 'f']\n",
    "my_list"
   ]
  },
  {
   "cell_type": "code",
   "execution_count": 377,
   "metadata": {},
   "outputs": [
    {
     "data": {
      "text/plain": [
       "['a', 'b', 'c', 'd', 'e', 'f']"
      ]
     },
     "execution_count": 377,
     "metadata": {},
     "output_type": "execute_result"
    }
   ],
   "source": [
    "my_list_copy = my_list[:]\n",
    "my_list_copy"
   ]
  },
  {
   "cell_type": "code",
   "execution_count": 378,
   "metadata": {},
   "outputs": [
    {
     "data": {
      "text/plain": [
       "['a', 'b', 'c', 'd', 'e', 'f']"
      ]
     },
     "execution_count": 378,
     "metadata": {},
     "output_type": "execute_result"
    }
   ],
   "source": [
    "my_list_copy_2 = my_list[:]\n",
    "my_list_copy_2"
   ]
  },
  {
   "cell_type": "code",
   "execution_count": 379,
   "metadata": {},
   "outputs": [
    {
     "name": "stdout",
     "output_type": "stream",
     "text": [
      "My List: ['a', 'b', 'c', 'd', 'e', 'f']\n",
      "My List Copy ['a', 'b', 'c', 'd', 'e', 'f']\n",
      "My List Copy 2 ['a', 'b', 'c', 'd', 'e', 'f']\n"
     ]
    }
   ],
   "source": [
    "print('My List:', my_list)\n",
    "print('My List Copy', my_list_copy)\n",
    "print('My List Copy 2', my_list_copy_2)"
   ]
  },
  {
   "cell_type": "markdown",
   "metadata": {},
   "source": [
    "**`id` method**"
   ]
  },
  {
   "cell_type": "code",
   "execution_count": 380,
   "metadata": {},
   "outputs": [
    {
     "data": {
      "text/plain": [
       "140341234138240"
      ]
     },
     "execution_count": 380,
     "metadata": {},
     "output_type": "execute_result"
    }
   ],
   "source": [
    "id(my_list)"
   ]
  },
  {
   "cell_type": "markdown",
   "metadata": {},
   "source": [
    "## List Methods"
   ]
  },
  {
   "cell_type": "markdown",
   "metadata": {},
   "source": [
    "Built-in List Methods:\n",
    "\n",
    "* append() : adds an element at the end of the list\n",
    "* insert() : adds an element at specified index\n",
    "* extend() : concats list to another\n",
    "* sort()   : sorts the list (in-place)\n",
    "* sorted() : sorts the list and returns a new list (doesn't mutate the original)"
   ]
  },
  {
   "cell_type": "code",
   "execution_count": 381,
   "metadata": {},
   "outputs": [
    {
     "data": {
      "text/plain": [
       "['a', 'b', 'c', 'd', 'e']"
      ]
     },
     "execution_count": 381,
     "metadata": {},
     "output_type": "execute_result"
    }
   ],
   "source": [
    "letters = ['a', 'b', 'c', 'd', 'e']\n",
    "letters"
   ]
  },
  {
   "cell_type": "markdown",
   "metadata": {},
   "source": [
    "**append()**"
   ]
  },
  {
   "cell_type": "code",
   "execution_count": 382,
   "metadata": {},
   "outputs": [
    {
     "data": {
      "text/plain": [
       "['a', 'b', 'c', 'd', 'e', 'f']"
      ]
     },
     "execution_count": 382,
     "metadata": {},
     "output_type": "execute_result"
    }
   ],
   "source": [
    "letters.append('f')\n",
    "letters"
   ]
  },
  {
   "cell_type": "code",
   "execution_count": 383,
   "metadata": {},
   "outputs": [
    {
     "data": {
      "text/plain": [
       "['a', 'e', 'i', 'o', 'u']"
      ]
     },
     "execution_count": 383,
     "metadata": {},
     "output_type": "execute_result"
    }
   ],
   "source": [
    "vowels = ['a', 'e', 'i', 'o', 'u']\n",
    "vowels"
   ]
  },
  {
   "cell_type": "markdown",
   "metadata": {},
   "source": [
    "**insert():**"
   ]
  },
  {
   "cell_type": "code",
   "execution_count": 384,
   "metadata": {},
   "outputs": [
    {
     "data": {
      "text/plain": [
       "['a', 'e', 'E', 'i', 'o', 'u']"
      ]
     },
     "execution_count": 384,
     "metadata": {},
     "output_type": "execute_result"
    }
   ],
   "source": [
    "# insert 'E' after 'e'\n",
    "\n",
    "vowels.insert(2, 'E')\n",
    "vowels"
   ]
  },
  {
   "cell_type": "markdown",
   "metadata": {},
   "source": [
    "**extend():**"
   ]
  },
  {
   "cell_type": "code",
   "execution_count": 385,
   "metadata": {},
   "outputs": [],
   "source": [
    "letters = ['a', 'b', 'c', 'd', 'e']\n",
    "\n",
    "t = [1, 2, 3, 4, 5, 6, 7, 8, 9]"
   ]
  },
  {
   "cell_type": "markdown",
   "metadata": {},
   "source": [
    "**sort():**"
   ]
  },
  {
   "cell_type": "code",
   "execution_count": 386,
   "metadata": {},
   "outputs": [
    {
     "data": {
      "text/plain": [
       "[1, 2, 3, 4, 5, 6, 7, 8, 9]"
      ]
     },
     "execution_count": 386,
     "metadata": {},
     "output_type": "execute_result"
    }
   ],
   "source": [
    "# sorts the list in-place\n",
    "\n",
    "t.sort()\n",
    "t"
   ]
  },
  {
   "cell_type": "markdown",
   "metadata": {},
   "source": [
    "**reverse:**\n",
    "\n",
    "* `reverse=False` -> sorts ascending (default)\n",
    "* `reverse=True` -> sorts descending"
   ]
  },
  {
   "cell_type": "code",
   "execution_count": 387,
   "metadata": {},
   "outputs": [
    {
     "data": {
      "text/plain": [
       "['c', 'b', 'a', 'd']"
      ]
     },
     "execution_count": 387,
     "metadata": {},
     "output_type": "execute_result"
    }
   ],
   "source": [
    "# reverse parameter\n",
    "\n",
    "a = ['c', 'b', 'a', 'd']\n",
    "a"
   ]
  },
  {
   "cell_type": "code",
   "execution_count": 388,
   "metadata": {},
   "outputs": [
    {
     "data": {
      "text/plain": [
       "['a', 'b', 'c', 'd']"
      ]
     },
     "execution_count": 388,
     "metadata": {},
     "output_type": "execute_result"
    }
   ],
   "source": [
    "# a.sort()\n",
    "a.sort(reverse=False)\n",
    "a"
   ]
  },
  {
   "cell_type": "markdown",
   "metadata": {},
   "source": [
    "**sorted():**"
   ]
  },
  {
   "cell_type": "code",
   "execution_count": 389,
   "metadata": {},
   "outputs": [
    {
     "data": {
      "text/plain": [
       "['c', 'b', 'a', 'd']"
      ]
     },
     "execution_count": 389,
     "metadata": {},
     "output_type": "execute_result"
    }
   ],
   "source": [
    "a = ['c', 'b', 'a', 'd']\n",
    "a"
   ]
  },
  {
   "cell_type": "code",
   "execution_count": 390,
   "metadata": {},
   "outputs": [
    {
     "data": {
      "text/plain": [
       "['a', 'b', 'c', 'd']"
      ]
     },
     "execution_count": 390,
     "metadata": {},
     "output_type": "execute_result"
    }
   ],
   "source": [
    "# sorted(<list>)\n",
    "\n",
    "b = sorted(a)\n",
    "b"
   ]
  },
  {
   "cell_type": "code",
   "execution_count": 391,
   "metadata": {},
   "outputs": [],
   "source": [
    "# sort in reverse order\n",
    "\n",
    "d = sorted(a, reverse=True)"
   ]
  },
  {
   "cell_type": "markdown",
   "metadata": {},
   "source": [
    "## Deleting Elements from a List"
   ]
  },
  {
   "cell_type": "markdown",
   "metadata": {},
   "source": [
    "We have various ways to delete elements from a list:"
   ]
  },
  {
   "cell_type": "markdown",
   "metadata": {},
   "source": [
    "* 1 - If we know the index to delete -> **pop(index)**\n",
    "\n",
    "**pop(index)** removes the element from the list and returns that element."
   ]
  },
  {
   "cell_type": "code",
   "execution_count": 392,
   "metadata": {},
   "outputs": [
    {
     "data": {
      "text/plain": [
       "['x', 'y', 'z', 't']"
      ]
     },
     "execution_count": 392,
     "metadata": {},
     "output_type": "execute_result"
    }
   ],
   "source": [
    "a_list = ['x', 'y', 'z', 't']\n",
    "a_list"
   ]
  },
  {
   "cell_type": "code",
   "execution_count": 393,
   "metadata": {},
   "outputs": [],
   "source": [
    "# delete element -> index 2\n",
    "\n",
    "deleted_element = a_list.pop(2)"
   ]
  },
  {
   "cell_type": "markdown",
   "metadata": {},
   "source": [
    "**pop()**: With no index -> pop() deletes the last element."
   ]
  },
  {
   "cell_type": "code",
   "execution_count": 394,
   "metadata": {},
   "outputs": [],
   "source": [
    "del_el = a_list.pop()"
   ]
  },
  {
   "cell_type": "code",
   "execution_count": 395,
   "metadata": {},
   "outputs": [
    {
     "data": {
      "text/plain": [
       "'t'"
      ]
     },
     "execution_count": 395,
     "metadata": {},
     "output_type": "execute_result"
    }
   ],
   "source": [
    "del_el"
   ]
  },
  {
   "cell_type": "markdown",
   "metadata": {},
   "source": [
    "* 2 - We do not need the deleted element-> **del**\n",
    "\n",
    "**del** removes the element from the list and returns None."
   ]
  },
  {
   "cell_type": "code",
   "execution_count": 396,
   "metadata": {},
   "outputs": [
    {
     "data": {
      "text/plain": [
       "['k', 'l', 'm', 'n', 'o']"
      ]
     },
     "execution_count": 396,
     "metadata": {},
     "output_type": "execute_result"
    }
   ],
   "source": [
    "my_list = ['k', 'l', 'm', 'n', 'o']\n",
    "my_list"
   ]
  },
  {
   "cell_type": "code",
   "execution_count": 397,
   "metadata": {},
   "outputs": [],
   "source": [
    "# delete element at index 3\n",
    "\n",
    "del my_list[3]"
   ]
  },
  {
   "cell_type": "markdown",
   "metadata": {},
   "source": [
    "* 3 - We know the element itself to delete -> **remove(element)**\n",
    "\n",
    "**remove(element)** removes the element from the list."
   ]
  },
  {
   "cell_type": "code",
   "execution_count": 398,
   "metadata": {},
   "outputs": [
    {
     "data": {
      "text/plain": [
       "['k', 'l', 'm', 'n', 'o', 'p', 'r']"
      ]
     },
     "execution_count": 398,
     "metadata": {},
     "output_type": "execute_result"
    }
   ],
   "source": [
    "my_list = ['k', 'l', 'm', 'n', 'o', 'p', 'r']\n",
    "my_list"
   ]
  },
  {
   "cell_type": "code",
   "execution_count": 399,
   "metadata": {},
   "outputs": [],
   "source": [
    "my_list.remove('m')"
   ]
  },
  {
   "cell_type": "markdown",
   "metadata": {},
   "source": [
    "## List & String"
   ]
  },
  {
   "cell_type": "markdown",
   "metadata": {},
   "source": [
    "String is a sequence of characters.\n",
    "\n",
    "List is a sequence of values."
   ]
  },
  {
   "cell_type": "markdown",
   "metadata": {},
   "source": [
    "To convert a String into a List -> `list()`"
   ]
  },
  {
   "cell_type": "code",
   "execution_count": 400,
   "metadata": {},
   "outputs": [
    {
     "data": {
      "text/plain": [
       "'Monday'"
      ]
     },
     "execution_count": 400,
     "metadata": {},
     "output_type": "execute_result"
    }
   ],
   "source": [
    "day = 'Monday'\n",
    "day"
   ]
  },
  {
   "cell_type": "code",
   "execution_count": 401,
   "metadata": {},
   "outputs": [
    {
     "data": {
      "text/plain": [
       "str"
      ]
     },
     "execution_count": 401,
     "metadata": {},
     "output_type": "execute_result"
    }
   ],
   "source": [
    "type(day)"
   ]
  },
  {
   "cell_type": "code",
   "execution_count": 402,
   "metadata": {},
   "outputs": [
    {
     "data": {
      "text/plain": [
       "['M', 'o', 'n', 'd', 'a', 'y']"
      ]
     },
     "execution_count": 402,
     "metadata": {},
     "output_type": "execute_result"
    }
   ],
   "source": [
    "day_letters = list(day)\n",
    "day_letters"
   ]
  },
  {
   "cell_type": "code",
   "execution_count": 403,
   "metadata": {},
   "outputs": [
    {
     "data": {
      "text/plain": [
       "'today is another day'"
      ]
     },
     "execution_count": 403,
     "metadata": {},
     "output_type": "execute_result"
    }
   ],
   "source": [
    "text = 'today is another day'\n",
    "text"
   ]
  },
  {
   "cell_type": "markdown",
   "metadata": {},
   "source": [
    "**split():**"
   ]
  },
  {
   "cell_type": "code",
   "execution_count": 404,
   "metadata": {},
   "outputs": [
    {
     "data": {
      "text/plain": [
       "['today', 'is', 'another', 'day']"
      ]
     },
     "execution_count": 404,
     "metadata": {},
     "output_type": "execute_result"
    }
   ],
   "source": [
    "# get the words -> split()\n",
    "\n",
    "words = text.split()\n",
    "words"
   ]
  },
  {
   "cell_type": "code",
   "execution_count": 405,
   "metadata": {},
   "outputs": [
    {
     "data": {
      "text/plain": [
       "'spam-spam-ham-spam-ham'"
      ]
     },
     "execution_count": 405,
     "metadata": {},
     "output_type": "execute_result"
    }
   ],
   "source": [
    "# split from another char -> -\n",
    "\n",
    "mailbox = 'spam-spam-ham-spam-ham'\n",
    "mailbox"
   ]
  },
  {
   "cell_type": "code",
   "execution_count": 406,
   "metadata": {},
   "outputs": [
    {
     "data": {
      "text/plain": [
       "['spam', 'spam', 'ham', 'spam', 'ham']"
      ]
     },
     "execution_count": 406,
     "metadata": {},
     "output_type": "execute_result"
    }
   ],
   "source": [
    "mails = mailbox.split('-')\n",
    "mails"
   ]
  },
  {
   "cell_type": "markdown",
   "metadata": {},
   "source": [
    "**join():**\n",
    "\n",
    "Opposite of split."
   ]
  },
  {
   "cell_type": "code",
   "execution_count": 407,
   "metadata": {},
   "outputs": [
    {
     "data": {
      "text/plain": [
       "['monday', 'is', 'the', 'first', 'day']"
      ]
     },
     "execution_count": 407,
     "metadata": {},
     "output_type": "execute_result"
    }
   ],
   "source": [
    "words = ['monday', 'is', 'the', 'first', 'day']\n",
    "words"
   ]
  },
  {
   "cell_type": "code",
   "execution_count": 408,
   "metadata": {},
   "outputs": [
    {
     "data": {
      "text/plain": [
       "'monday-is-the-first-day'"
      ]
     },
     "execution_count": 408,
     "metadata": {},
     "output_type": "execute_result"
    }
   ],
   "source": [
    "# join() is a string method\n",
    "\n",
    "sentence = '-'.join(words)\n",
    "sentence"
   ]
  },
  {
   "cell_type": "markdown",
   "metadata": {},
   "source": [
    "`join() is opposite of split()`"
   ]
  },
  {
   "cell_type": "markdown",
   "metadata": {},
   "source": [
    "## Creating a List with Range Function"
   ]
  },
  {
   "cell_type": "code",
   "execution_count": 409,
   "metadata": {},
   "outputs": [
    {
     "name": "stdout",
     "output_type": "stream",
     "text": [
      "1\n",
      "3\n",
      "5\n",
      "7\n",
      "9\n"
     ]
    }
   ],
   "source": [
    "for i in range(1, 10, 2):\n",
    "    print(i)"
   ]
  },
  {
   "cell_type": "code",
   "execution_count": 410,
   "metadata": {},
   "outputs": [],
   "source": [
    "my_range = range(2, 33, 3)"
   ]
  },
  {
   "cell_type": "code",
   "execution_count": 411,
   "metadata": {},
   "outputs": [
    {
     "data": {
      "text/plain": [
       "[2, 5, 8, 11, 14, 17, 20, 23, 26, 29, 32]"
      ]
     },
     "execution_count": 411,
     "metadata": {},
     "output_type": "execute_result"
    }
   ],
   "source": [
    "range_list = list(my_range)\n",
    "\n",
    "range_list"
   ]
  },
  {
   "cell_type": "markdown",
   "metadata": {},
   "source": [
    "## Objects and Values"
   ]
  },
  {
   "cell_type": "code",
   "execution_count": 412,
   "metadata": {},
   "outputs": [],
   "source": [
    "# Strings\n",
    "\n",
    "a = 'apple'\n",
    "\n",
    "b = 'apple'"
   ]
  },
  {
   "cell_type": "code",
   "execution_count": 413,
   "metadata": {},
   "outputs": [
    {
     "data": {
      "text/plain": [
       "140341232624560"
      ]
     },
     "execution_count": 413,
     "metadata": {},
     "output_type": "execute_result"
    }
   ],
   "source": [
    "id(a)"
   ]
  },
  {
   "cell_type": "markdown",
   "metadata": {},
   "source": [
    "In Python these two varibles:\n",
    "\n",
    "a and b\n",
    "* have the same values\n",
    "* they are **Immutable** (str)\n",
    "\n",
    "Since their values are the same, and they are Immutable,\n",
    "\n",
    "Pyhton did not created two seprate varibles, instead it assign both to the same address.\n",
    "\n",
    "To save memory."
   ]
  },
  {
   "cell_type": "code",
   "execution_count": 414,
   "metadata": {},
   "outputs": [
    {
     "data": {
      "text/plain": [
       "'orange'"
      ]
     },
     "execution_count": 414,
     "metadata": {},
     "output_type": "execute_result"
    }
   ],
   "source": [
    "b = 'orange'\n",
    "b"
   ]
  },
  {
   "cell_type": "code",
   "execution_count": 415,
   "metadata": {},
   "outputs": [
    {
     "data": {
      "text/plain": [
       "140341232624560"
      ]
     },
     "execution_count": 415,
     "metadata": {},
     "output_type": "execute_result"
    }
   ],
   "source": [
    "id(a)"
   ]
  },
  {
   "cell_type": "markdown",
   "metadata": {},
   "source": [
    "From now on, a and b are NOT the same variable.\n",
    "\n",
    "Since we changed the value of b, Python has created a new address (id) for b."
   ]
  },
  {
   "cell_type": "code",
   "execution_count": 416,
   "metadata": {},
   "outputs": [
    {
     "data": {
      "text/plain": [
       "False"
      ]
     },
     "execution_count": 416,
     "metadata": {},
     "output_type": "execute_result"
    }
   ],
   "source": [
    "id(a) == id(b)"
   ]
  },
  {
   "cell_type": "code",
   "execution_count": 417,
   "metadata": {},
   "outputs": [],
   "source": [
    "# Lists\n",
    "\n",
    "x = [1, 2, 3]\n",
    "\n",
    "y = [1, 2, 3]"
   ]
  },
  {
   "cell_type": "markdown",
   "metadata": {},
   "source": [
    "\n",
    "**x == y** check -> equality\n",
    "\n",
    "    * it checks values of two variables \n",
    "\n",
    "\n",
    "**id(x) == id(y)** check -> identical\n",
    "\n",
    "    * it checks two objects (address - id)"
   ]
  },
  {
   "cell_type": "markdown",
   "metadata": {},
   "source": [
    "## is Statement"
   ]
  },
  {
   "cell_type": "markdown",
   "metadata": {},
   "source": [
    "<pre>\n",
    "x == y           -> Value Comparison (Equality)\n",
    "\n",
    "id(x) == id(y)   -> Object Comparison (Identical)\n",
    "</pre>"
   ]
  },
  {
   "cell_type": "code",
   "execution_count": 418,
   "metadata": {},
   "outputs": [],
   "source": [
    "a = [1, 2, 3, 4, 5]\n",
    "\n",
    "b = [1, 2, 3, 4, 5]"
   ]
  },
  {
   "cell_type": "code",
   "execution_count": 419,
   "metadata": {},
   "outputs": [
    {
     "data": {
      "text/plain": [
       "True"
      ]
     },
     "execution_count": 419,
     "metadata": {},
     "output_type": "execute_result"
    }
   ],
   "source": [
    "# values of a and b\n",
    "\n",
    "a == b"
   ]
  },
  {
   "cell_type": "code",
   "execution_count": 420,
   "metadata": {},
   "outputs": [
    {
     "data": {
      "text/plain": [
       "False"
      ]
     },
     "execution_count": 420,
     "metadata": {},
     "output_type": "execute_result"
    }
   ],
   "source": [
    "id(a) == id(b)"
   ]
  },
  {
   "cell_type": "markdown",
   "metadata": {},
   "source": [
    "## Aliasing"
   ]
  },
  {
   "cell_type": "markdown",
   "metadata": {},
   "source": [
    "Aliasing means different names referring the same object.\n",
    "\n",
    "x  ----------------> Object A\n",
    "\n",
    "y  ----------------> Object A\n",
    "\n",
    "Since x and y refers to the same object (A) they are aliases."
   ]
  },
  {
   "cell_type": "markdown",
   "metadata": {},
   "source": [
    "**In Python Types are:**\n",
    "\n",
    "* Primitive Types: int, float, string, bool\n",
    "\n",
    "* Non-Primitive Types: list, dict, tuple, ..."
   ]
  },
  {
   "cell_type": "markdown",
   "metadata": {},
   "source": [
    "**Primitive Types:**"
   ]
  },
  {
   "cell_type": "code",
   "execution_count": 421,
   "metadata": {},
   "outputs": [],
   "source": [
    "x = 24\n",
    "\n",
    "y = x"
   ]
  },
  {
   "cell_type": "code",
   "execution_count": 422,
   "metadata": {},
   "outputs": [
    {
     "data": {
      "text/plain": [
       "True"
      ]
     },
     "execution_count": 422,
     "metadata": {},
     "output_type": "execute_result"
    }
   ],
   "source": [
    "x == y"
   ]
  },
  {
   "cell_type": "markdown",
   "metadata": {},
   "source": [
    "**Non-Primitive Types:**"
   ]
  },
  {
   "cell_type": "code",
   "execution_count": 423,
   "metadata": {},
   "outputs": [],
   "source": [
    "a = [1, 2, 3, 4, 5, 6]\n",
    "\n",
    "b = a"
   ]
  },
  {
   "cell_type": "code",
   "execution_count": 424,
   "metadata": {},
   "outputs": [
    {
     "data": {
      "text/plain": [
       "True"
      ]
     },
     "execution_count": 424,
     "metadata": {},
     "output_type": "execute_result"
    }
   ],
   "source": [
    "# equality check\n",
    "\n",
    "a == b"
   ]
  },
  {
   "cell_type": "code",
   "execution_count": 425,
   "metadata": {},
   "outputs": [
    {
     "data": {
      "text/plain": [
       "True"
      ]
     },
     "execution_count": 425,
     "metadata": {},
     "output_type": "execute_result"
    }
   ],
   "source": [
    "# identical check\n",
    "\n",
    "a is b"
   ]
  },
  {
   "cell_type": "code",
   "execution_count": 426,
   "metadata": {},
   "outputs": [
    {
     "name": "stdout",
     "output_type": "stream",
     "text": [
      "a: [1, 2, 3, 4, 5, 6]\n",
      "b: [1, 2, 3, 4, 5, 6]\n"
     ]
    }
   ],
   "source": [
    "print('a:', a)\n",
    "print('b:', b)"
   ]
  },
  {
   "cell_type": "markdown",
   "metadata": {},
   "source": [
    "Non-Primitive Type -> Reassignment"
   ]
  },
  {
   "cell_type": "code",
   "execution_count": 427,
   "metadata": {},
   "outputs": [],
   "source": [
    "b = [10, 20, 30, 40, 50, 60]"
   ]
  },
  {
   "cell_type": "code",
   "execution_count": 428,
   "metadata": {},
   "outputs": [
    {
     "name": "stdout",
     "output_type": "stream",
     "text": [
      "a: [1, 2, 3, 4, 5, 6]\n",
      "b: [10, 20, 30, 40, 50, 60]\n"
     ]
    }
   ],
   "source": [
    "print('a:', a)\n",
    "print('b:', b)"
   ]
  },
  {
   "cell_type": "markdown",
   "metadata": {},
   "source": [
    "What if we **mutate** b?"
   ]
  },
  {
   "cell_type": "code",
   "execution_count": 429,
   "metadata": {},
   "outputs": [],
   "source": [
    "a = [1, 2, 3, 4, 5, 6]\n",
    "\n",
    "b = a"
   ]
  },
  {
   "cell_type": "code",
   "execution_count": 430,
   "metadata": {},
   "outputs": [
    {
     "data": {
      "text/plain": [
       "True"
      ]
     },
     "execution_count": 430,
     "metadata": {},
     "output_type": "execute_result"
    }
   ],
   "source": [
    "a == b"
   ]
  },
  {
   "cell_type": "code",
   "execution_count": 431,
   "metadata": {},
   "outputs": [
    {
     "data": {
      "text/plain": [
       "True"
      ]
     },
     "execution_count": 431,
     "metadata": {},
     "output_type": "execute_result"
    }
   ],
   "source": [
    "a is b"
   ]
  },
  {
   "cell_type": "code",
   "execution_count": 432,
   "metadata": {},
   "outputs": [],
   "source": [
    "# mutate b\n",
    "\n",
    "b[0] = 'A'\n",
    "b[1] = 'B'"
   ]
  },
  {
   "cell_type": "code",
   "execution_count": 433,
   "metadata": {},
   "outputs": [
    {
     "name": "stdout",
     "output_type": "stream",
     "text": [
      "a: ['A', 'B', 3, 4, 5, 6]\n",
      "b: ['A', 'B', 3, 4, 5, 6]\n"
     ]
    }
   ],
   "source": [
    "print('a:', a)\n",
    "print('b:', b)"
   ]
  },
  {
   "cell_type": "markdown",
   "metadata": {},
   "source": [
    "For **Mutabale** types **mutation** does not break aliasing.\n",
    "\n",
    "a and b are still the same  object, because we mutated b."
   ]
  },
  {
   "cell_type": "markdown",
   "metadata": {},
   "source": [
    "## List as Function Argument"
   ]
  },
  {
   "cell_type": "markdown",
   "metadata": {},
   "source": [
    "### Mutate the List inside the function"
   ]
  },
  {
   "cell_type": "code",
   "execution_count": 434,
   "metadata": {},
   "outputs": [
    {
     "name": "stdout",
     "output_type": "stream",
     "text": [
      "before passing to function: ['a', 'b', 'c']\n",
      "before passing to function: ['a', 'A', 'b', 'B', 'c', 'C']\n"
     ]
    }
   ],
   "source": [
    "# Example\n",
    "\n",
    "letters = ['a', 'b', 'c']\n",
    "\n",
    "print(\"before passing to function:\", letters)\n",
    "\n",
    "\n",
    "def add_upper_cases(list_of_letters):\n",
    "    # mutation\n",
    "    list_of_letters.insert(1, 'A')\n",
    "    list_of_letters.insert(3, 'B')\n",
    "    list_of_letters.insert(5, 'C')\n",
    "    \n",
    "\n",
    "# call the function with the list\n",
    "add_upper_cases(letters)\n",
    "\n",
    "\n",
    "print(\"before passing to function:\", letters)"
   ]
  },
  {
   "cell_type": "code",
   "execution_count": 435,
   "metadata": {},
   "outputs": [
    {
     "data": {
      "text/plain": [
       "['a', 'A', 'b', 'B', 'c', 'C']"
      ]
     },
     "execution_count": 435,
     "metadata": {},
     "output_type": "execute_result"
    }
   ],
   "source": [
    "letters"
   ]
  },
  {
   "cell_type": "markdown",
   "metadata": {},
   "source": [
    "When you pass a Non-Primitive Type (List) as a function parameter:\n",
    "\n",
    "* the pass by reference (they pass as the same objcet)\n",
    "* if you mutate the parameter inside the function -> original list will be mutated"
   ]
  },
  {
   "cell_type": "markdown",
   "metadata": {},
   "source": [
    "### Reassing the List inside the function"
   ]
  },
  {
   "cell_type": "code",
   "execution_count": 436,
   "metadata": {},
   "outputs": [
    {
     "name": "stdout",
     "output_type": "stream",
     "text": [
      "before passing to function: ['a', 'b', 'c']\n",
      "before passing to function: ['a', 'b', 'c']\n"
     ]
    }
   ],
   "source": [
    "# Example\n",
    "\n",
    "letters = ['a', 'b', 'c']\n",
    "\n",
    "print(\"before passing to function:\", letters)\n",
    "\n",
    "\n",
    "def add_upper_cases(list_of_letters):\n",
    "    # reassignment\n",
    "    list_of_letters = ['X', 'Y', 'Z']\n",
    "    \n",
    "\n",
    "# call the function with the list\n",
    "add_upper_cases(letters)\n",
    "\n",
    "\n",
    "print(\"before passing to function:\", letters)"
   ]
  },
  {
   "cell_type": "markdown",
   "metadata": {},
   "source": [
    "When you pass a Non-Primitive Type (List) as a function parameter:\n",
    "\n",
    "* the pass by reference (they pass as the same objcet)\n",
    "* if you reassign the parameter inside the function -> \n",
    "    * Python will create a new list object inside the function\n",
    "    * original list will not be changed"
   ]
  },
  {
   "cell_type": "markdown",
   "metadata": {},
   "source": [
    "## Matrix Operations"
   ]
  },
  {
   "cell_type": "markdown",
   "metadata": {},
   "source": [
    "In Python, a list can include other lists (`nested lists`)."
   ]
  },
  {
   "cell_type": "markdown",
   "metadata": {},
   "source": [
    "A Matrix in Math is just a nested list in Python."
   ]
  },
  {
   "cell_type": "markdown",
   "metadata": {},
   "source": [
    "$$ A = \\begin{bmatrix} 1 & 2 & 3 \\\\ 4 & 5 & 6 \\\\ 7 & 8 & 9 \\end{bmatrix} $$\n",
    "                       \n",
    "$$ B = \\begin{bmatrix} 10 & 20 & 30 \\\\ \n",
    "                       40 & 50 & 60 \\\\\n",
    "                       70 & 80 & 90 \\end{bmatrix} $$"
   ]
  },
  {
   "cell_type": "code",
   "execution_count": 437,
   "metadata": {},
   "outputs": [],
   "source": [
    "A = [[1, 2, 3],\n",
    "     [4, 5, 6],\n",
    "     [7, 8, 9]]"
   ]
  },
  {
   "cell_type": "code",
   "execution_count": 438,
   "metadata": {},
   "outputs": [],
   "source": [
    "B = [[10, 20, 30],\n",
    "     [40, 50, 60],\n",
    "     [70, 80, 90]]"
   ]
  },
  {
   "cell_type": "code",
   "execution_count": 439,
   "metadata": {},
   "outputs": [
    {
     "data": {
      "text/plain": [
       "[1, 2, 3]"
      ]
     },
     "execution_count": 439,
     "metadata": {},
     "output_type": "execute_result"
    }
   ],
   "source": [
    "A[0]"
   ]
  },
  {
   "cell_type": "code",
   "execution_count": 440,
   "metadata": {},
   "outputs": [
    {
     "data": {
      "text/plain": [
       "[4, 5, 6]"
      ]
     },
     "execution_count": 440,
     "metadata": {},
     "output_type": "execute_result"
    }
   ],
   "source": [
    "A[1]"
   ]
  },
  {
   "cell_type": "code",
   "execution_count": 441,
   "metadata": {},
   "outputs": [
    {
     "data": {
      "text/plain": [
       "[10, 20, 30]"
      ]
     },
     "execution_count": 441,
     "metadata": {},
     "output_type": "execute_result"
    }
   ],
   "source": [
    "B[0]"
   ]
  },
  {
   "cell_type": "markdown",
   "metadata": {},
   "source": [
    "**Matrix Addition:**\n",
    "\n",
    "C = A + B"
   ]
  },
  {
   "cell_type": "code",
   "execution_count": 442,
   "metadata": {},
   "outputs": [],
   "source": [
    "C = A + B"
   ]
  },
  {
   "cell_type": "code",
   "execution_count": 443,
   "metadata": {},
   "outputs": [
    {
     "data": {
      "text/plain": [
       "[[1, 2, 3], [4, 5, 6], [7, 8, 9], [10, 20, 30], [40, 50, 60], [70, 80, 90]]"
      ]
     },
     "execution_count": 443,
     "metadata": {},
     "output_type": "execute_result"
    }
   ],
   "source": [
    "C"
   ]
  },
  {
   "cell_type": "markdown",
   "metadata": {},
   "source": [
    "In Python, list addition is **not element wise** it is just a concationation of lists."
   ]
  },
  {
   "cell_type": "markdown",
   "metadata": {},
   "source": [
    "**Element Wise Addition:**\n",
    "\n",
    "* numpy, pandas"
   ]
  },
  {
   "cell_type": "code",
   "execution_count": 444,
   "metadata": {},
   "outputs": [],
   "source": [
    "# initialize the result matrix as zeros\n",
    "\n",
    "C = [[0, 0, 0],\n",
    "     [0, 0, 0],\n",
    "     [0, 0, 0]]"
   ]
  },
  {
   "cell_type": "code",
   "execution_count": 445,
   "metadata": {},
   "outputs": [
    {
     "data": {
      "text/plain": [
       "3"
      ]
     },
     "execution_count": 445,
     "metadata": {},
     "output_type": "execute_result"
    }
   ],
   "source": [
    "len(A)"
   ]
  },
  {
   "cell_type": "code",
   "execution_count": 446,
   "metadata": {},
   "outputs": [
    {
     "data": {
      "text/plain": [
       "3"
      ]
     },
     "execution_count": 446,
     "metadata": {},
     "output_type": "execute_result"
    }
   ],
   "source": [
    "len(B)"
   ]
  },
  {
   "cell_type": "code",
   "execution_count": 447,
   "metadata": {},
   "outputs": [
    {
     "data": {
      "text/plain": [
       "0"
      ]
     },
     "execution_count": 447,
     "metadata": {},
     "output_type": "execute_result"
    }
   ],
   "source": [
    "C[0][1]"
   ]
  },
  {
   "cell_type": "code",
   "execution_count": 448,
   "metadata": {},
   "outputs": [
    {
     "name": "stdout",
     "output_type": "stream",
     "text": [
      "1\n",
      "10\n",
      "2\n",
      "20\n",
      "3\n",
      "30\n",
      "4\n",
      "40\n",
      "5\n",
      "50\n",
      "6\n",
      "60\n",
      "7\n",
      "70\n",
      "8\n",
      "80\n",
      "9\n",
      "90\n"
     ]
    }
   ],
   "source": [
    "# loops -> nested loop\n",
    "\n",
    "# iterate over rows of A\n",
    "for i in range(len(A)):\n",
    "    \n",
    "    # iterate over columns of B\n",
    "    for j in range(len(B)):\n",
    "        print(A[i][j])\n",
    "        print(B[i][j])\n",
    "        \n",
    "        C[i][j] = A[i][j] + B[i][j]\n"
   ]
  },
  {
   "cell_type": "code",
   "execution_count": 449,
   "metadata": {},
   "outputs": [
    {
     "data": {
      "text/plain": [
       "[[11, 22, 33], [44, 55, 66], [77, 88, 99]]"
      ]
     },
     "execution_count": 449,
     "metadata": {},
     "output_type": "execute_result"
    }
   ],
   "source": [
    "C"
   ]
  },
  {
   "cell_type": "markdown",
   "metadata": {},
   "source": [
    "## Question"
   ]
  },
  {
   "cell_type": "markdown",
   "metadata": {},
   "source": [
    "**Q 1:**\n",
    "\n",
    "Define a function named **sum_of_list**.\n",
    "\n",
    "The parameter will be a list.\n",
    "\n",
    "The function will add all the elements in the list and return the summation result.\n",
    "\n",
    "<pre>\n",
    "Expected Output:\n",
    "nums = [1, 2, 3, 4, 5] \n",
    "sum_of_list(nums) -> 15\n",
    "</pre>"
   ]
  },
  {
   "cell_type": "code",
   "execution_count": 450,
   "metadata": {},
   "outputs": [],
   "source": [
    "# S 1:\n",
    "\n",
    "def sum_of_list(a_list):\n",
    "    \n",
    "    # variable to keep sum\n",
    "    summation = 0\n",
    "    \n",
    "    for i in a_list:\n",
    "        # control for being integer\n",
    "        if str(i).isdigit():\n",
    "            summation += i\n",
    "        \n",
    "    return summation\n",
    "    "
   ]
  },
  {
   "cell_type": "code",
   "execution_count": 451,
   "metadata": {},
   "outputs": [
    {
     "name": "stdout",
     "output_type": "stream",
     "text": [
      "15\n"
     ]
    }
   ],
   "source": [
    "nums = [1, 2, 3, 4, 5, 'a'] \n",
    "\n",
    "summation = sum_of_list(nums)\n",
    "\n",
    "print(summation)"
   ]
  },
  {
   "cell_type": "code",
   "execution_count": 452,
   "metadata": {},
   "outputs": [
    {
     "name": "stdout",
     "output_type": "stream",
     "text": [
      "600\n"
     ]
    }
   ],
   "source": [
    "nums = [10, 20, 30, 40, 500] \n",
    "\n",
    "summation = sum_of_list(nums)\n",
    "\n",
    "print(summation)"
   ]
  },
  {
   "cell_type": "markdown",
   "metadata": {},
   "source": [
    "**Q 2:**\n",
    "\n",
    "Define a function named **two_levels_sum**.\n",
    "\n",
    "The parameter will be a list of two levels (nested list).\n",
    "\n",
    "The function will add all the elements including the nested lists and return the summation result.\n",
    "\n",
    "**Hints:**\n",
    "* isdigit()\n",
    "* type()\n",
    "\n",
    "<pre>\n",
    "Expected Output:\n",
    "a_list = [[5, 8], [1, 4, 7], [10], 3]\n",
    "summation = two_levels_sum(a_list)  -> 38\n",
    "</pre>"
   ]
  },
  {
   "cell_type": "code",
   "execution_count": 453,
   "metadata": {},
   "outputs": [],
   "source": [
    "def two_levels_sum(p_list):\n",
    "    summation = 0\n",
    "    for item in p_list:\n",
    "        if type(item) == list:\n",
    "            for innter_item in item:\n",
    "                if str(innter_item).isdigit():\n",
    "                    summation += innter_item\n",
    "        elif str(item).isdigit():\n",
    "            summation += item\n",
    "\n",
    "    return summation"
   ]
  },
  {
   "cell_type": "code",
   "execution_count": 454,
   "metadata": {},
   "outputs": [
    {
     "ename": "TypeError",
     "evalue": "list indices must be integers or slices, not tuple",
     "output_type": "error",
     "traceback": [
      "\u001b[0;31m---------------------------------------------------------------------------\u001b[0m",
      "\u001b[0;31mTypeError\u001b[0m                                 Traceback (most recent call last)",
      "Cell \u001b[0;32mIn [454], line 1\u001b[0m\n\u001b[0;32m----> 1\u001b[0m \u001b[43ma_list\u001b[49m\u001b[43m \u001b[49m\u001b[43m[\u001b[49m\u001b[43m[\u001b[49m\u001b[38;5;241;43m5\u001b[39;49m\u001b[43m,\u001b[49m\u001b[38;5;241;43m8\u001b[39;49m\u001b[43m]\u001b[49m\u001b[43m,\u001b[49m\u001b[43m \u001b[49m\u001b[43m[\u001b[49m\u001b[38;5;241;43m1\u001b[39;49m\u001b[43m,\u001b[49m\u001b[38;5;241;43m4\u001b[39;49m\u001b[43m,\u001b[49m\u001b[38;5;241;43m7\u001b[39;49m\u001b[43m]\u001b[49m\u001b[43m,\u001b[49m\u001b[43m \u001b[49m\u001b[43m[\u001b[49m\u001b[38;5;241;43m10\u001b[39;49m\u001b[43m]\u001b[49m\u001b[43m,\u001b[49m\u001b[43m \u001b[49m\u001b[38;5;241;43m3\u001b[39;49m\u001b[43m]\u001b[49m\n\u001b[1;32m      2\u001b[0m summation \u001b[38;5;241m=\u001b[39m two_levels_sum(a_list)\n\u001b[1;32m      4\u001b[0m \u001b[38;5;28mprint\u001b[39m(summation)\n",
      "\u001b[0;31mTypeError\u001b[0m: list indices must be integers or slices, not tuple"
     ]
    }
   ],
   "source": [
    "a_list [[5,8], [1,4,7], [10], 3]\n",
    "summation = two_levels_sum(a_list)\n",
    "\n",
    "print(summation)"
   ]
  },
  {
   "cell_type": "code",
   "execution_count": null,
   "metadata": {},
   "outputs": [],
   "source": [
    "a_list = [[5, 8], [1, 4, 7], [10], 3, 'a']\n",
    "\n",
    "summation = two_levels_sum(a_list)\n",
    "\n",
    "print(summation)"
   ]
  },
  {
   "cell_type": "code",
   "execution_count": null,
   "metadata": {},
   "outputs": [],
   "source": [
    "def nested_sum(p_list):\n",
    "    summation = 0\n",
    "\n",
    "    for item in p_list:\n",
    "        if type(item) == int:\n",
    "            summation += item\n",
    "        elif type(item) == list:\n",
    "            summation += nested_sum(item)\n",
    "    return summation"
   ]
  },
  {
   "cell_type": "code",
   "execution_count": null,
   "metadata": {},
   "outputs": [],
   "source": [
    "a_list = [[5, 8], [1, 4, 7, [8, 2]], [10, [-1, 2]], 3]\n",
    "\n",
    "summation = nested_sum(a_list)\n",
    "print(summation)\n",
    "\n"
   ]
  },
  {
   "cell_type": "code",
   "execution_count": null,
   "metadata": {},
   "outputs": [],
   "source": [
    "a_list = [[-5, [9, 1, [6, 2]], 8], [1, 4, 7, [8, 2]], [10, [-1, 2]], 3]\n",
    "\n",
    "summation = nested_sum(a_list)\n",
    "\n",
    "print(summation)"
   ]
  },
  {
   "cell_type": "markdown",
   "metadata": {},
   "source": [
    "**Q 4:**\n",
    "\n",
    "Define a function named **squares**.\n",
    "\n",
    "It will calculate the square of each item in the list and append it to a new list.\n",
    "\n",
    "It will return the new list of squares.\n",
    "\n",
    "<pre>\n",
    "numbers = [1,2,3,4,5]\n",
    "squares(numbers)  ->   [1, 4, 9, 16, 25]\n",
    "\n",
    "</pre>"
   ]
  },
  {
   "cell_type": "code",
   "execution_count": null,
   "metadata": {},
   "outputs": [],
   "source": [
    "def squares(p_list):\n",
    "    new_list = list()\n",
    "\n",
    "    for i, element in enumerate(p_list):\n",
    "        new_list.append(element ** 2)\n",
    "\n",
    "    return new_list"
   ]
  },
  {
   "cell_type": "code",
   "execution_count": null,
   "metadata": {},
   "outputs": [],
   "source": [
    "numbers = [1,2,3,4,5]\n",
    "\n",
    "result = squares(numbers)\n",
    "\n",
    "print(result)"
   ]
  },
  {
   "cell_type": "markdown",
   "metadata": {},
   "source": [
    "**Q 5:**\n",
    "\n",
    "Define a function named **sum_of_squares**.\n",
    "\n",
    "It will calculate the squares of items first and will add them to create items of a new list.\n",
    "\n",
    "Each item in the new list will be the sum of items from the old list starting from index 0 up to the item's index.\n",
    "\n",
    "For example in the new list the item in index 4 is going to be the sum of squares of items at indices 0-1-2-3-4 of parameter list.\n",
    "\n",
    "And it will retun the new list.\n",
    "\n",
    "**Hints:**\n",
    "* use sum_of_list funtion you defined in Q1\n",
    "\n",
    "<pre>\n",
    "a_list = [1,2,3,4,5]\n",
    "result = sum_of_squares(a_list)\n",
    "print(result)\n",
    "\n",
    "Expected Output:\n",
    "[1, 5, 15, 37, 83]\n",
    "</pre>"
   ]
  },
  {
   "cell_type": "code",
   "execution_count": null,
   "metadata": {},
   "outputs": [],
   "source": [
    "def sum_of_squares(p_list):\n",
    "    new_list = []\n",
    "\n",
    "    for element in p_list:\n",
    "        new_list_total = sum_of_list(new_list)\n",
    "        new_total = new_list_total + element ** 2\n",
    "\n",
    "        new_list.append(new_total)\n",
    "    return new_list"
   ]
  },
  {
   "cell_type": "code",
   "execution_count": null,
   "metadata": {},
   "outputs": [],
   "source": [
    "a_list = [1,2,3]\n",
    "\n",
    "result = sum_of_squares(a_list)\n",
    "\n",
    "print(result)"
   ]
  },
  {
   "cell_type": "markdown",
   "metadata": {},
   "source": [
    "**Q 6:**\n",
    "\n",
    "Define a function that return the difference between items at odd indices (1,3,5...) and items at even indices (0,2,4...).\n",
    "\n",
    "The function name will be **odd_even_difference**.\n",
    "\n",
    "**Hints:**\n",
    "* index starts from zero\n",
    "* use lists and indices only\n",
    "* do not use loop\n",
    "* use sum_of_list funtion you defined in Q1\n",
    "\n",
    "<pre>\n",
    "a_list = [1,2,3,4,5,6]\n",
    "diff = odd_even_difference(a_list)\n",
    "print(diff)\n",
    "\n",
    "Expected Output:\n",
    "3\n",
    "</pre>"
   ]
  },
  {
   "cell_type": "code",
   "execution_count": null,
   "metadata": {},
   "outputs": [],
   "source": [
    "def odd_even_difference(p_list):\n",
    "    odds = p_list[1::2]\n",
    "    \n",
    "    # odd summation\n",
    "    odds_sum = sum_of_list(odds)\n",
    "    \n",
    "    # even elements\n",
    "    evens = p_list[::2]\n",
    "    \n",
    "    # event summation\n",
    "    evens_sum = sum_of_list(evens)\n",
    "\n",
    "    # get difference\n",
    "    diff = odds_sum - evens_sum\n",
    "    \n",
    "    return diff"
   ]
  },
  {
   "cell_type": "code",
   "execution_count": null,
   "metadata": {},
   "outputs": [],
   "source": [
    "a_list = [1,2,3,4,5,6]\n",
    "\n",
    "diff = odd_even_difference(a_list)\n",
    "\n",
    "print(diff)"
   ]
  },
  {
   "cell_type": "code",
   "execution_count": null,
   "metadata": {},
   "outputs": [],
   "source": [
    "a_list = [10,10,30,30,500,500]\n",
    "\n",
    "diff = odd_even_difference(a_list)\n",
    "\n",
    "print(diff)"
   ]
  },
  {
   "cell_type": "markdown",
   "metadata": {},
   "source": [
    "**Q 7:**\n",
    "\n",
    "Define a function that crop the list parameter.\n",
    "\n",
    "The function will be **crop_the_list**.\n",
    "\n",
    "Cropping means remove the first and the last elements from the list.\n",
    "\n",
    "The function will **mutate the originial list parameter** namely it will modify the list in-place.\n",
    "\n",
    "It will not return any value.\n",
    "\n",
    "Test the function and prove it mutates the list which you pass as argument.\n",
    "\n",
    "<pre>    \n",
    "nums = [1,2,3,4,5,6,7]\n",
    "print('the list before passing as parameter:', nums)\n",
    "crop_the_list(nums)\n",
    "print('the list before passing as parameter:', nums)\n",
    "\n",
    "Expected Output:\n",
    "the list before passing as parameter: [1, 2, 3, 4, 5, 6, 7]\n",
    "the list before passing as parameter: [2, 3, 4, 5, 6]\n",
    "</pre>"
   ]
  },
  {
   "cell_type": "code",
   "execution_count": null,
   "metadata": {},
   "outputs": [],
   "source": [
    "# S 7:\n",
    "\n",
    "def crop_the_list(p_list):\n",
    "    \n",
    "    # remove the first element\n",
    "    p_list.pop(0)\n",
    "    \n",
    "    # remove the final element\n",
    "    p_list.pop()\n"
   ]
  },
  {
   "cell_type": "code",
   "execution_count": null,
   "metadata": {},
   "outputs": [],
   "source": [
    "nums = [1,2,3,4,5,6,7]\n",
    "\n",
    "print('the list before passing as parameter:', nums)\n",
    "\n",
    "crop_the_list(nums)\n",
    "\n",
    "print('the list before passing as parameter:', nums)"
   ]
  },
  {
   "cell_type": "markdown",
   "metadata": {},
   "source": [
    "**Q 8:**\n",
    "\n",
    "Define a function named **sort_the_list**.\n",
    "\n",
    "It will take a list and sort type (is_reverse) as parameters.\n",
    "\n",
    "**is_reverse** will be boolean and it will decide if the sort will be ascending or descending. It's default value will be False.\n",
    "* if is_reverse is True -> sort will be descending\n",
    "* if is_reverse is False -> sort will be ascending\n",
    "\n",
    "The function will return the new sorted list.\n",
    "\n",
    "**Hints:**\n",
    "* sorted()\n",
    "* no loops\n",
    "* do not mutate the original list\n",
    "\n",
    "<pre>\n",
    "a = [12, 4, 2, 1, 6, 3, 45]\n",
    "print('a:', a)\n",
    "sorted_a = sort_the_list(a, False)\n",
    "print('sorted - ascending', sorted_a)\n",
    "sorted_a = sort_the_list(a, True)\n",
    "print('sorted - descending', sorted_a)\n",
    "print('a after sort_the_list function call:', a)\n",
    "\n",
    "Expected Output:\n",
    "a: [12, 4, 2, 1, 6, 3, 45]\n",
    "sorted - ascending [1, 2, 3, 4, 6, 12, 45]\n",
    "sorted - descending [45, 12, 6, 4, 3, 2, 1]\n",
    "a after sort_the_list function call: [12, 4, 2, 1, 6, 3, 45]\n",
    "</pre>"
   ]
  },
  {
   "cell_type": "code",
   "execution_count": null,
   "metadata": {},
   "outputs": [],
   "source": [
    "def sort_the_list(p_list, is_reverse=False):\n",
    "    sorted_list = []\n",
    "\n",
    "    if is_reverse:\n",
    "        sorted_list = sorted(p_list, reverse=is_reverse)\n",
    "    else:\n",
    "        sorted_list = sorted(p_list)\n",
    "\n",
    "    return sorted_list"
   ]
  },
  {
   "cell_type": "code",
   "execution_count": null,
   "metadata": {},
   "outputs": [],
   "source": [
    "a = [12, 4, 2, 1, 6, 3, 45]\n",
    "print('a:', a)\n",
    "\n",
    "sorted_a = sort_the_list(a, False)\n",
    "print('sorted - ascending', sorted_a)\n",
    "\n",
    "sorted_a = sort_the_list(a, True)\n",
    "print('sorted - descending', sorted_a)\n",
    "\n",
    "print('a after sort_the_list function call:', a)"
   ]
  },
  {
   "cell_type": "code",
   "execution_count": null,
   "metadata": {},
   "outputs": [],
   "source": [
    "# S 8:\n",
    "\n",
    "# Second Way\n",
    "\n",
    "def sort_the_list(p_list, is_reverse = False):\n",
    "    \n",
    "    return sorted(p_list, reverse=is_reverse)\n"
   ]
  },
  {
   "cell_type": "code",
   "execution_count": null,
   "metadata": {},
   "outputs": [],
   "source": [
    "a = [12, 4, 2, 1, 6, 3, 45]\n",
    "print('a:', a)\n",
    "\n",
    "sorted_a = sort_the_list(a, False)\n",
    "print('sorted - ascending', sorted_a)\n",
    "\n",
    "sorted_a = sort_the_list(a, True)\n",
    "print('sorted - descending', sorted_a)\n",
    "\n",
    "print('a after sort_the_list function call:', a)"
   ]
  },
  {
   "cell_type": "markdown",
   "metadata": {},
   "source": [
    "**Q 9:**\n",
    "\n",
    "The Consecutive Numbers in Math are actually Lists in Python.\n",
    "\n",
    "**Gauss' Method for Summing Consecutive Numbers** is a method that gives you the summation of numbers.\n",
    "\n",
    "And that's how Gauss' Method works:\n",
    "* First it sorts the list in ascending order\n",
    "* Then sorts the list in descending order\n",
    "* Adds the items in both lists at the same index\n",
    "* Divides the overall summation by 2 (because each element is written 2 times)\n",
    "\n",
    "Example: Sum of all integers from 1 to 10.\n",
    "\n",
    "<pre>\n",
    "1   2   3   4   5   6   7   8   9   10\n",
    "10  9   8   7   6   5   4   3   2   1\n",
    "+   +   +   +   +   +   +   +   +   +\n",
    "11  11  11  11  11  11  11  11  11  11    (pairwise sum)\n",
    "\n",
    "Summation = 11 * 10\n",
    "Result = Summation / 2\n",
    "</pre>\n",
    "\n",
    "In this question you are going to sum all the number starting from 2 up to 100 with step size 3.\n",
    "\n",
    "You should use Gauss' Method in Python to calculate the overral sum.\n",
    "\n",
    "The function name will be **gauss** and the parameters and default values will be:\n",
    "* start -> 1\n",
    "* end -> 100\n",
    "* step_size -> 2\n",
    "\n",
    "**Hints:**\n",
    "* use range() to create the list\n",
    "\n",
    "<pre>\n",
    "conseq_sum = gauss(2, 100, 3)\n",
    "conseq_sum\n",
    "\n",
    "Expected Output:\n",
    "1650.0\n",
    "</pre>"
   ]
  },
  {
   "cell_type": "code",
   "execution_count": null,
   "metadata": {},
   "outputs": [],
   "source": [
    "def gauss(start=1, end=100, step=2):\n",
    "    a_list = list(range(start,end, step))\n",
    "\n",
    "    r_list = a_list[::-1]\n",
    "\n",
    "    summation = 0\n",
    "\n",
    "    for i in range(len(a_list)):\n",
    "        pair_sum = a_list[i] + r_list[i]\n",
    "        summation += pair_sum\n",
    "\n",
    "    result = summation / 2\n",
    "\n",
    "    return result"
   ]
  },
  {
   "cell_type": "code",
   "execution_count": null,
   "metadata": {},
   "outputs": [],
   "source": [
    "conseq_sum = gauss(1, 10, 1)\n",
    "conseq_sum"
   ]
  },
  {
   "cell_type": "code",
   "execution_count": null,
   "metadata": {},
   "outputs": [],
   "source": [
    "# S 9:\n",
    "\n",
    "# Second Way\n",
    "# True Gaussian Way\n",
    "\n",
    "def true_gaussian(start=1, end=100, step=2):\n",
    "    \n",
    "    # create a list with range()\n",
    "    a_list = list(range(start, end, step))\n",
    "    \n",
    "    summation = 0\n",
    "    \n",
    "    for i in range(len(a_list)):\n",
    "        \n",
    "        pair_sum = a_list[i] + a_list[-i-1]\n",
    "        \n",
    "        summation += pair_sum\n",
    "        \n",
    "    \n",
    "    return summation / 2\n",
    "        "
   ]
  },
  {
   "cell_type": "code",
   "execution_count": null,
   "metadata": {},
   "outputs": [],
   "source": [
    "conseq_sum = true_gaussian(1, 10, 1)\n",
    "conseq_sum"
   ]
  },
  {
   "cell_type": "markdown",
   "metadata": {},
   "source": [
    "**Q 10:**\n",
    "\n",
    "Define a function to check if a given list is sorted in descending order or not.\n",
    "\n",
    "The function name will be **is_it_sorted_descending**.\n",
    "\n",
    "It will return True if the list items are in descending order, False otherwise.\n",
    "\n",
    "**Hints:**\n",
    "* solve this questions with 4 different ways :)\n",
    "\n",
    "<pre>\n",
    "a_list = [2, 3, 4, 7]\n",
    "is_it_sorted_descending(a_list)\n",
    "Expected Output: False\n",
    "\n",
    "a_list = [7, 7, 4, 3, 2, 1, 1]\n",
    "is_it_sorted_descending(a_list)\n",
    "Expected Output: True\n",
    "\n",
    "a_list = ['a', 'b', 'c', 'd']\n",
    "is_it_sorted_descending(a_list)\n",
    "Expected Output: False\n",
    "\n",
    "a_list = ['d', 'c', 'b', 'a']\n",
    "is_it_sorted_descending(a_list)\n",
    "Expected Output: True\n",
    "</pre>"
   ]
  },
  {
   "cell_type": "code",
   "execution_count": 456,
   "metadata": {},
   "outputs": [],
   "source": [
    "# S 10:\n",
    "\n",
    "# Way 1:\n",
    "# Nested Loops\n",
    "# Least Pythonic\n",
    "\n",
    "def is_it_sorted_descending(p_list):\n",
    "    \n",
    "    for i, item_1 in enumerate(p_list):\n",
    "        \n",
    "        for j, item_2 in enumerate(p_list):\n",
    "            \n",
    "            if j > i:\n",
    "                if item_2 > item_1:\n",
    "                    return False\n",
    "                \n",
    "    return True            \n",
    "    "
   ]
  },
  {
   "cell_type": "code",
   "execution_count": 457,
   "metadata": {},
   "outputs": [
    {
     "data": {
      "text/plain": [
       "False"
      ]
     },
     "execution_count": 457,
     "metadata": {},
     "output_type": "execute_result"
    }
   ],
   "source": [
    "a_list = [2, 7, 3, 4]\n",
    "is_it_sorted_descending(a_list)"
   ]
  }
 ],
 "metadata": {
  "kernelspec": {
   "display_name": "Python 3.10.6 64-bit",
   "language": "python",
   "name": "python3"
  },
  "language_info": {
   "codemirror_mode": {
    "name": "ipython",
    "version": 3
   },
   "file_extension": ".py",
   "mimetype": "text/x-python",
   "name": "python",
   "nbconvert_exporter": "python",
   "pygments_lexer": "ipython3",
   "version": "3.10.6"
  },
  "orig_nbformat": 4,
  "vscode": {
   "interpreter": {
    "hash": "e7370f93d1d0cde622a1f8e1c04877d8463912d04d973331ad4851f04de6915a"
   }
  }
 },
 "nbformat": 4,
 "nbformat_minor": 2
}
