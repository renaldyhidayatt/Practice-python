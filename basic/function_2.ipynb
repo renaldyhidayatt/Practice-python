{
 "cells": [
  {
   "cell_type": "markdown",
   "metadata": {},
   "source": [
    "# Function II"
   ]
  },
  {
   "cell_type": "markdown",
   "metadata": {},
   "source": [
    "## Return Value\n",
    "\n",
    "Most of the time functions return a value after execution.\n",
    "\n",
    "The caller of that function receives this returned value and uses it.\n",
    "\n",
    "There are functions which do not return any value -> **void functions**\n",
    "\n",
    "#### Imporant:\n",
    "\n",
    "In a function, the code lines belo **return** is not **executed**\n",
    "\n",
    "Return is the final line in a function."
   ]
  },
  {
   "cell_type": "code",
   "execution_count": 39,
   "metadata": {},
   "outputs": [
    {
     "name": "stdout",
     "output_type": "stream",
     "text": [
      "2.718281828459045\n"
     ]
    }
   ],
   "source": [
    "import math\n",
    "\n",
    "e = math.exp(1.0)\n",
    "\n",
    "print(e)"
   ]
  },
  {
   "cell_type": "markdown",
   "metadata": {},
   "source": [
    "**Example:**\n",
    "\n",
    "Define a function to calculate the area of the circle and returns it.\n",
    "\n",
    "Then call this function, get the area and print it."
   ]
  },
  {
   "cell_type": "code",
   "execution_count": 40,
   "metadata": {},
   "outputs": [],
   "source": [
    "def area_of_circle(radius):\n",
    "    \n",
    "    a = math.pi * radius**2\n",
    "    \n",
    "    return a\n"
   ]
  },
  {
   "cell_type": "code",
   "execution_count": 41,
   "metadata": {},
   "outputs": [
    {
     "name": "stdout",
     "output_type": "stream",
     "text": [
      "50.26548245743669\n"
     ]
    }
   ],
   "source": [
    "area = area_of_circle(4)\n",
    "\n",
    "print(area)"
   ]
  },
  {
   "cell_type": "markdown",
   "metadata": {},
   "source": [
    "**Temporary Variable:**\n",
    "\n",
    "In the function abouve, the variable `a` is called temp variable.\n",
    "\n",
    "It's purpose is to keep the area and pass it to return statement."
   ]
  },
  {
   "cell_type": "markdown",
   "metadata": {},
   "source": [
    "We don't have use this temp variable."
   ]
  },
  {
   "cell_type": "code",
   "execution_count": 42,
   "metadata": {},
   "outputs": [],
   "source": [
    "# function without temp variable\n",
    "\n",
    "def area_of_circle_without_temp(radius):\n",
    "    \n",
    "    return math.pi * radius**2\n",
    "    "
   ]
  },
  {
   "cell_type": "code",
   "execution_count": 43,
   "metadata": {},
   "outputs": [
    {
     "name": "stdout",
     "output_type": "stream",
     "text": [
      "50.26548245743669\n"
     ]
    }
   ],
   "source": [
    "area = area_of_circle_without_temp(4)\n",
    "\n",
    "print(area)"
   ]
  },
  {
   "cell_type": "code",
   "execution_count": 44,
   "metadata": {},
   "outputs": [
    {
     "name": "stdout",
     "output_type": "stream",
     "text": [
      "50.26548245743669\n"
     ]
    }
   ],
   "source": [
    "# More Functional Approach\n",
    "\n",
    "print(area_of_circle_without_temp(4))"
   ]
  },
  {
   "cell_type": "code",
   "execution_count": 45,
   "metadata": {},
   "outputs": [],
   "source": [
    "## Incremental Development"
   ]
  },
  {
   "cell_type": "markdown",
   "metadata": {},
   "source": [
    "We can not consider and code everything at once, while developing programs.\n",
    "\n",
    "That's why we have to concentrate on **Inceremental Development**."
   ]
  },
  {
   "cell_type": "markdown",
   "metadata": {},
   "source": [
    "**Example:**\n",
    "\n",
    "Let's say we are trying to calculate the distance between to points."
   ]
  },
  {
   "cell_type": "markdown",
   "metadata": {},
   "source": [
    "In Math it is very easy to calculate via Pythagoras' Theorem:\n",
    "\n",
    "$$ distance = \\sqrt{(x_2-x_1)^2 + (y_2-y_1)^2} $$"
   ]
  },
  {
   "cell_type": "markdown",
   "metadata": {},
   "source": [
    "But this single line of equation is not that easy to do in Python."
   ]
  },
  {
   "cell_type": "markdown",
   "metadata": {},
   "source": [
    "We have to plan evey bir step to do this calculation.\n",
    "\n",
    "Let's see it in a function:"
   ]
  },
  {
   "cell_type": "code",
   "execution_count": 46,
   "metadata": {},
   "outputs": [],
   "source": [
    "\n",
    "def distance(x1, y1, x2, y2):\n",
    "    \n",
    "    # first diff of x's\n",
    "    dx = x2 - x1\n",
    "    \n",
    "    # diff of y's\n",
    "    dy = y2 - y1\n",
    "    \n",
    "    # <------- DEBUG -------> #\n",
    "    \n",
    "    print(\"dx:\", dx)\n",
    "    print(\"dy:\", dy)\n",
    "    "
   ]
  },
  {
   "cell_type": "code",
   "execution_count": 47,
   "metadata": {},
   "outputs": [
    {
     "name": "stdout",
     "output_type": "stream",
     "text": [
      "dx: 3\n",
      "dy: 4\n"
     ]
    }
   ],
   "source": [
    "distance(1, 6, 4, 10)"
   ]
  },
  {
   "cell_type": "code",
   "execution_count": 48,
   "metadata": {},
   "outputs": [],
   "source": [
    "def distance(x1, y1, x2, y2):\n",
    "    \n",
    "    # first diff of x's\n",
    "    dx = x2 - x1\n",
    "    \n",
    "    # diff of y's\n",
    "    dy = y2 - y1\n",
    "    \n",
    "    # <------- DEBUG -------> #\n",
    "    # print(\"dx:\", dx)\n",
    "    # print(\"dy:\", dy)\n",
    "    \n",
    "    # calculate sum of squares\n",
    "    sum_of_squares = dx**2 + dy**2\n",
    "    \n",
    "    # <------- DEBUG -------> #\n",
    "    print(\"sum_of_squares:\", sum_of_squares)"
   ]
  },
  {
   "cell_type": "code",
   "execution_count": 49,
   "metadata": {},
   "outputs": [
    {
     "name": "stdout",
     "output_type": "stream",
     "text": [
      "sum_of_squares: 25\n"
     ]
    }
   ],
   "source": [
    "distance(1, 6, 4, 10)"
   ]
  },
  {
   "cell_type": "markdown",
   "metadata": {},
   "source": [
    "**TDD (Test Driven Development)**\n",
    "\n",
    "We test every function and every step."
   ]
  },
  {
   "cell_type": "code",
   "execution_count": 50,
   "metadata": {},
   "outputs": [],
   "source": [
    "import math\n",
    "\n",
    "def distance(x1, y1, x2, y2):\n",
    "    \n",
    "    # first diff of x's\n",
    "    dx = x2 - x1\n",
    "    \n",
    "    # diff of y's\n",
    "    dy = y2 - y1\n",
    "    \n",
    "    # <------- DEBUG -------> #\n",
    "    # print(\"dx:\", dx)\n",
    "    # print(\"dy:\", dy)\n",
    "    \n",
    "    # calculate sum of squares\n",
    "    sum_of_squares = dx**2 + dy**2\n",
    "    \n",
    "    # <------- DEBUG -------> #\n",
    "    # print(\"sum_of_squares:\", sum_of_squares)\n",
    "    \n",
    "    return math.sqrt(sum_of_squares)\n",
    "    "
   ]
  },
  {
   "cell_type": "code",
   "execution_count": 51,
   "metadata": {},
   "outputs": [
    {
     "data": {
      "text/plain": [
       "17.0"
      ]
     },
     "execution_count": 51,
     "metadata": {},
     "output_type": "execute_result"
    }
   ],
   "source": [
    "distance(1,6,4,10)\n",
    "\n",
    "distance(2,6,10,21)"
   ]
  },
  {
   "cell_type": "markdown",
   "metadata": {},
   "source": [
    "### More Compositions"
   ]
  },
  {
   "cell_type": "markdown",
   "metadata": {},
   "source": [
    "**Functional Programming**\n",
    "\n",
    "In its core, FP is dividing tasks into pieces and define seperate functions for these tasks.\n",
    "\n",
    "Each function is responsible from its own task."
   ]
  },
  {
   "cell_type": "markdown",
   "metadata": {},
   "source": [
    "**Example:**\n",
    "\n",
    "Let's say we have two points.\n",
    "\n",
    "And let's assume the line segment combining these two pieces as the radius.\n",
    "\n",
    "And let's try to calculate the area of the circle having this radius.\n",
    "\n",
    "Instead of doing all the steps in one giant function,\n",
    "\n",
    "We will create seperate functions for each task and call them when needed."
   ]
  },
  {
   "cell_type": "code",
   "execution_count": 52,
   "metadata": {},
   "outputs": [],
   "source": [
    "def area_of_circle_combining_two_points(x1, y1, x2, y2):\n",
    "    \"\"\"\n",
    "    Calculates the area of circle with radius from point one to point two.\n",
    "    Parameters: int x1, y1 first point, int x2, y2 second point\n",
    "    Returns: The area of circle\n",
    "    \"\"\"\n",
    "    \n",
    "    # calculate the radius from points\n",
    "    # distance between point 1 and point 2\n",
    "    r = distance(x1, y1, x2, y2)\n",
    "    \n",
    "    # calcuate area\n",
    "    area = area_of_circle(r)\n",
    "    \n",
    "    # return the result\n",
    "    return area"
   ]
  },
  {
   "cell_type": "code",
   "execution_count": 53,
   "metadata": {},
   "outputs": [
    {
     "data": {
      "text/plain": [
       "78.53981633974483"
      ]
     },
     "execution_count": 53,
     "metadata": {},
     "output_type": "execute_result"
    }
   ],
   "source": [
    "area_of_circle_combining_two_points(1,6,4,10)"
   ]
  },
  {
   "cell_type": "markdown",
   "metadata": {},
   "source": [
    "**Bool Functions**\n",
    "\n",
    "Functions which return either True or False."
   ]
  },
  {
   "cell_type": "code",
   "execution_count": 54,
   "metadata": {},
   "outputs": [],
   "source": [
    "# even fn\n",
    "def is_even(x):\n",
    "    return x % 2 == 0\n",
    "\n",
    "# odd fn\n",
    "def is_odd(x):\n",
    "    return x % 2 == 1\n"
   ]
  },
  {
   "cell_type": "code",
   "execution_count": 55,
   "metadata": {},
   "outputs": [
    {
     "data": {
      "text/plain": [
       "False"
      ]
     },
     "execution_count": 55,
     "metadata": {},
     "output_type": "execute_result"
    }
   ],
   "source": [
    "is_even(11)"
   ]
  },
  {
   "cell_type": "code",
   "execution_count": 56,
   "metadata": {},
   "outputs": [
    {
     "data": {
      "text/plain": [
       "True"
      ]
     },
     "execution_count": 56,
     "metadata": {},
     "output_type": "execute_result"
    }
   ],
   "source": [
    "is_odd(11)"
   ]
  },
  {
   "cell_type": "markdown",
   "metadata": {},
   "source": [
    "## Functions are First-Class Citizens"
   ]
  },
  {
   "cell_type": "markdown",
   "metadata": {},
   "source": [
    "In Python, Functions are First-Class Citizens:\n",
    "\n",
    "* assign function to variables\n",
    "* pass functions as parameters\n",
    "* reassing functions"
   ]
  },
  {
   "cell_type": "code",
   "execution_count": 57,
   "metadata": {},
   "outputs": [],
   "source": [
    "def cube(num):\n",
    "    out = num ** 3\n",
    "\n",
    "    return out"
   ]
  },
  {
   "cell_type": "code",
   "execution_count": 58,
   "metadata": {},
   "outputs": [
    {
     "data": {
      "text/plain": [
       "125"
      ]
     },
     "execution_count": 58,
     "metadata": {},
     "output_type": "execute_result"
    }
   ],
   "source": [
    "cube(5)"
   ]
  },
  {
   "cell_type": "code",
   "execution_count": 59,
   "metadata": {},
   "outputs": [],
   "source": [
    "q = cube"
   ]
  },
  {
   "cell_type": "code",
   "execution_count": 60,
   "metadata": {},
   "outputs": [
    {
     "data": {
      "text/plain": [
       "125"
      ]
     },
     "execution_count": 60,
     "metadata": {},
     "output_type": "execute_result"
    }
   ],
   "source": [
    "q(5)"
   ]
  },
  {
   "cell_type": "markdown",
   "metadata": {},
   "source": [
    "When we call q -> Python executes cube function."
   ]
  },
  {
   "cell_type": "markdown",
   "metadata": {},
   "source": [
    "**Alising:** Add a new name to the function.\n",
    "\n",
    "* cube\n",
    "* q"
   ]
  },
  {
   "cell_type": "code",
   "execution_count": 61,
   "metadata": {},
   "outputs": [],
   "source": [
    "def say_hello(text):\n",
    "    print(text);"
   ]
  },
  {
   "cell_type": "code",
   "execution_count": 62,
   "metadata": {},
   "outputs": [
    {
     "name": "stdout",
     "output_type": "stream",
     "text": [
      "Hi There Python\n"
     ]
    }
   ],
   "source": [
    "say_hello(\"Hi There Python\")"
   ]
  },
  {
   "cell_type": "markdown",
   "metadata": {},
   "source": [
    "## Unknown Parameters: *args"
   ]
  },
  {
   "cell_type": "markdown",
   "metadata": {},
   "source": [
    "In some cases, you may not know the actual number of parameters.\n",
    "\n",
    "`*args`"
   ]
  },
  {
   "cell_type": "code",
   "execution_count": 63,
   "metadata": {},
   "outputs": [],
   "source": [
    "def summation(*args):\n",
    "    print('args:', args)"
   ]
  },
  {
   "cell_type": "code",
   "execution_count": 64,
   "metadata": {},
   "outputs": [
    {
     "name": "stdout",
     "output_type": "stream",
     "text": [
      "args: (5, 7)\n"
     ]
    }
   ],
   "source": [
    "summation(5, 7)"
   ]
  },
  {
   "cell_type": "code",
   "execution_count": 65,
   "metadata": {},
   "outputs": [],
   "source": [
    "\n",
    "def print_parameters(*args):\n",
    "    \n",
    "    for arg in args:\n",
    "        print(arg)"
   ]
  },
  {
   "cell_type": "code",
   "execution_count": 66,
   "metadata": {},
   "outputs": [
    {
     "name": "stdout",
     "output_type": "stream",
     "text": [
      "A\n",
      "B\n",
      "45\n",
      "True\n",
      "Python\n"
     ]
    }
   ],
   "source": [
    "print_parameters('A', 'B', 45, True, 'Python')"
   ]
  },
  {
   "cell_type": "markdown",
   "metadata": {},
   "source": [
    "## lambda Function"
   ]
  },
  {
   "cell_type": "markdown",
   "metadata": {},
   "source": [
    "Sometimes, we need to define a function without a name.\n",
    "\n",
    "We use `lambda` for this purpose.\n",
    "\n",
    "Lambda functions are known as **one line functions**."
   ]
  },
  {
   "cell_type": "code",
   "execution_count": 67,
   "metadata": {},
   "outputs": [],
   "source": [
    "split_text = lambda x: x.split()"
   ]
  },
  {
   "cell_type": "code",
   "execution_count": 68,
   "metadata": {},
   "outputs": [
    {
     "data": {
      "text/plain": [
       "['dota']"
      ]
     },
     "execution_count": 68,
     "metadata": {},
     "output_type": "execute_result"
    }
   ],
   "source": [
    "split_text(\"dota\")"
   ]
  },
  {
   "cell_type": "code",
   "execution_count": 69,
   "metadata": {},
   "outputs": [],
   "source": [
    "multiply = lambda x,y: x * y"
   ]
  },
  {
   "cell_type": "code",
   "execution_count": 70,
   "metadata": {},
   "outputs": [
    {
     "data": {
      "text/plain": [
       "60"
      ]
     },
     "execution_count": 70,
     "metadata": {},
     "output_type": "execute_result"
    }
   ],
   "source": [
    "multiply(10, 6)"
   ]
  },
  {
   "cell_type": "markdown",
   "metadata": {},
   "source": [
    "## Functions Returning Functions"
   ]
  },
  {
   "cell_type": "code",
   "execution_count": 71,
   "metadata": {},
   "outputs": [],
   "source": [
    "\n",
    "def multiply_by(n):\n",
    "    \"\"\"\n",
    "    Generic multiplication function.\n",
    "    Parameter: int n\n",
    "    Returns: lambda a: a * n\n",
    "    \"\"\"\n",
    "    \n",
    "    return lambda a: a * n"
   ]
  },
  {
   "cell_type": "code",
   "execution_count": 72,
   "metadata": {},
   "outputs": [
    {
     "data": {
      "text/plain": [
       "'1010'"
      ]
     },
     "execution_count": 72,
     "metadata": {},
     "output_type": "execute_result"
    }
   ],
   "source": [
    "my_test_lambda = multiply_by(2)\n",
    "\n",
    "my_test_lambda(\"10\")"
   ]
  },
  {
   "cell_type": "markdown",
   "metadata": {},
   "source": [
    "## Nested Functions"
   ]
  },
  {
   "cell_type": "markdown",
   "metadata": {},
   "source": [
    "**Example:**\n",
    "\n",
    "We will use nested functions, to check whether a given number is a multiply of both 5 and 8."
   ]
  },
  {
   "cell_type": "code",
   "execution_count": 73,
   "metadata": {},
   "outputs": [],
   "source": [
    "\n",
    "def is_it_common_multiplier(n):\n",
    "    \"\"\"\n",
    "    Checks whether the given number is a common multiplier of 5 and 8.\n",
    "    Parameter: int n\n",
    "    Returns: True if its multiplier of 5 and 8, False otherwise\n",
    "    \"\"\"\n",
    "    \n",
    "    # nested function 1 -> 5 \n",
    "    def multiply_of_five(n):\n",
    "        if n % 5 == 0:\n",
    "            return True\n",
    "        else:\n",
    "            return False\n",
    "    \n",
    "    # nested function 2 -> 8\n",
    "    def multiply_of_eight(n):\n",
    "        if n % 8 == 0:\n",
    "            return True\n",
    "        else:\n",
    "            return False\n",
    "    \n",
    "    # Check both conditions\n",
    "    if multiply_of_five(n) and multiply_of_eight(n):\n",
    "        return True\n",
    "    else:\n",
    "        return False\n"
   ]
  },
  {
   "cell_type": "code",
   "execution_count": 74,
   "metadata": {},
   "outputs": [
    {
     "data": {
      "text/plain": [
       "False"
      ]
     },
     "execution_count": 74,
     "metadata": {},
     "output_type": "execute_result"
    }
   ],
   "source": [
    "is_it_common_multiplier(24)"
   ]
  },
  {
   "cell_type": "markdown",
   "metadata": {},
   "source": [
    "## Mutable vs. Immutable"
   ]
  },
  {
   "cell_type": "markdown",
   "metadata": {},
   "source": [
    "In Python, everything is an object."
   ]
  },
  {
   "cell_type": "markdown",
   "metadata": {},
   "source": [
    "And every object has a type."
   ]
  },
  {
   "cell_type": "markdown",
   "metadata": {},
   "source": [
    "**Immutable:** \n",
    "\n",
    "Some types stay as they have assigned. \n",
    "\n",
    "They can not be mutated.\n",
    "\n",
    "They are rigid bodies, you can not change any of its parts."
   ]
  },
  {
   "cell_type": "markdown",
   "metadata": {},
   "source": [
    "**Mutable:** \n",
    "\n",
    "Are the types you can change them, mutate them.\n",
    "\n",
    "You can change its parts."
   ]
  },
  {
   "cell_type": "markdown",
   "metadata": {},
   "source": [
    "Python Built-In Types and Mutability:\n",
    "<pre>\n",
    "int   : integer    -> Immutable\n",
    "float : float      -> Immutable \n",
    "bool  : Boolean    -> Immutable\n",
    "str   : String     -> Immutable\n",
    "list  : List       -> Mutable\n",
    "tuple : Tuple      -> Immutable\n",
    "dict  : Dictionary -> Mutable\n",
    "set   : Set        -> Mutable\n",
    "</pre>"
   ]
  },
  {
   "cell_type": "code",
   "execution_count": 75,
   "metadata": {},
   "outputs": [],
   "source": [
    "text = 'Tyhon'"
   ]
  },
  {
   "cell_type": "code",
   "execution_count": 76,
   "metadata": {},
   "outputs": [
    {
     "ename": "TypeError",
     "evalue": "'str' object does not support item assignment",
     "output_type": "error",
     "traceback": [
      "\u001b[0;31m---------------------------------------------------------------------------\u001b[0m",
      "\u001b[0;31mTypeError\u001b[0m                                 Traceback (most recent call last)",
      "Cell \u001b[0;32mIn [76], line 1\u001b[0m\n\u001b[0;32m----> 1\u001b[0m \u001b[43mtext\u001b[49m\u001b[43m[\u001b[49m\u001b[38;5;241;43m0\u001b[39;49m\u001b[43m]\u001b[49m \u001b[38;5;241m=\u001b[39m \u001b[38;5;124m'\u001b[39m\u001b[38;5;124mP\u001b[39m\u001b[38;5;124m'\u001b[39m\n",
      "\u001b[0;31mTypeError\u001b[0m: 'str' object does not support item assignment"
     ]
    }
   ],
   "source": [
    "text[0] = 'P'"
   ]
  },
  {
   "cell_type": "code",
   "execution_count": null,
   "metadata": {},
   "outputs": [],
   "source": [
    "text"
   ]
  },
  {
   "cell_type": "code",
   "execution_count": null,
   "metadata": {},
   "outputs": [],
   "source": [
    "my_list = ['a', 'b', 'C', 'd', 'e']\n",
    "\n",
    "my_list"
   ]
  },
  {
   "cell_type": "code",
   "execution_count": null,
   "metadata": {},
   "outputs": [],
   "source": [
    "my_list[2] = 'c'"
   ]
  },
  {
   "cell_type": "markdown",
   "metadata": {},
   "source": [
    "## Pass by Value, Pass by Reference"
   ]
  },
  {
   "cell_type": "markdown",
   "metadata": {},
   "source": [
    "Since we learned about, Mutable & Immutable Types,\n",
    "\n",
    "now let's see what will happen, if we pass these types to functions as arguments."
   ]
  },
  {
   "cell_type": "markdown",
   "metadata": {},
   "source": [
    "**Rule of Thumb:**\n",
    "\n",
    "**Immutable -> Pass by Value:**\n",
    "* If you pass an Immutable Object (int, str, ...) as a parameter to a function; \n",
    "* only **its duplicate** will pass to function. \n",
    "* Not itself, just a copy of it.\n",
    "\n",
    "**Mutable -> Pass by Reference:**\n",
    "* If you pass a Mutable Object (list, dict, set) as a parameter to a function; \n",
    "* **its Reference** will pass to function.\n",
    "* The object itself will be accessible inside the function."
   ]
  },
  {
   "cell_type": "code",
   "execution_count": null,
   "metadata": {},
   "outputs": [],
   "source": [
    "language = 'Python'\n",
    "\n",
    "print(\"------ Before passing to function ----- : \", language)\n",
    "\n",
    "\n",
    "# function is changing the parameter\n",
    "def change_language(name):\n",
    "    name = 'Java'\n",
    "    \n",
    "\n",
    "# call function and pass language\n",
    "change_language(language)\n",
    "\n",
    "    \n",
    "print(\"------ After passing to function ----- : \", language)"
   ]
  },
  {
   "cell_type": "markdown",
   "metadata": {},
   "source": [
    "Here, just a copy of `language` variable has passed to function.\n",
    "\n",
    "The original value of language variable stays unchanged.\n",
    "\n",
    "It's str -> Immutable\n",
    "\n",
    "Passed by Value"
   ]
  },
  {
   "cell_type": "code",
   "execution_count": null,
   "metadata": {},
   "outputs": [],
   "source": [
    "number = 45\n",
    "\n",
    "print(\"------ Before passing to function ----- : \", number)\n",
    "\n",
    "\n",
    "# function is changing the parameter\n",
    "def change_number(number):\n",
    "    number = 1000\n",
    "    \n",
    "\n",
    "# call function and pass number\n",
    "change_number(number)\n",
    "\n",
    "    \n",
    "print(\"------ After passing to function ----- : \", number)"
   ]
  },
  {
   "cell_type": "code",
   "execution_count": null,
   "metadata": {},
   "outputs": [],
   "source": [
    "numbers = [1, 2, 3, 4, 5]\n",
    "\n",
    "print(\"------ Before passing to function ----- : \", numbers)\n",
    "\n",
    "\n",
    "# function is changing the parameter\n",
    "def change_numbers(nums):\n",
    "    nums[0] = 'A'\n",
    "    nums[1] = 'B'\n",
    "    \n",
    "\n",
    "# call function and pass numbers\n",
    "change_numbers(numbers)\n",
    "\n",
    "    \n",
    "print(\"------ After passing to function ----- : \", numbers)"
   ]
  },
  {
   "cell_type": "markdown",
   "metadata": {},
   "source": [
    "## Questions"
   ]
  },
  {
   "cell_type": "markdown",
   "metadata": {},
   "source": [
    "**Q 1:**\n",
    "\n",
    "Many times, we need input from the user.\n",
    "\n",
    "Define a generic function to ask for user input.\n",
    "\n",
    "Function name will be **get_input**.\n",
    "\n",
    "Function will take the input text as parameter and use it while asking for input from the user."
   ]
  },
  {
   "cell_type": "code",
   "execution_count": null,
   "metadata": {},
   "outputs": [],
   "source": [
    "def get_input(text):\n",
    "    \"\"\"\n",
    "    Generic function to get input.\n",
    "    Parameter: str text\n",
    "    Returns: the user input, str\n",
    "    \"\"\"\n",
    "    \n",
    "    # ask for input\n",
    "    user_input = input(text)\n",
    "    \n",
    "    return user_input"
   ]
  },
  {
   "cell_type": "code",
   "execution_count": null,
   "metadata": {},
   "outputs": [],
   "source": [
    "number = get_input(\"Please enter a number: \")\n",
    "print(number)"
   ]
  },
  {
   "cell_type": "markdown",
   "metadata": {},
   "source": [
    "**Q 2:**\n",
    "\n",
    "We already know that, get_input function in Question 1 returns str.\n",
    "\n",
    "Now we will define a new function named **is_integer**.\n",
    "\n",
    "It will get a string parameter and will check if its value is integer or not.\n",
    "\n",
    "It will return True if the parameter is integer."
   ]
  },
  {
   "cell_type": "code",
   "execution_count": null,
   "metadata": {},
   "outputs": [],
   "source": [
    "\n",
    "\n",
    "def is_integer(text: str):\n",
    "    text = text.strip()\n",
    "\n",
    "    text = text.strip('+-')\n",
    "\n",
    "    if text.isdigit():\n",
    "        return True\n",
    "    else:\n",
    "        return False"
   ]
  },
  {
   "cell_type": "code",
   "execution_count": null,
   "metadata": {},
   "outputs": [],
   "source": [
    "input_text = \"Please enter a number: \"\n",
    "user_input = get_input(input_text)\n",
    "\n",
    "# check if the input is integer\n",
    "is_input_integer = is_integer(user_input)\n",
    "\n",
    "# Let's the result\n",
    "is_input_integer"
   ]
  },
  {
   "cell_type": "markdown",
   "metadata": {},
   "source": [
    "**Q 3:**\n",
    "\n",
    "Get an integer from the user, using functions in Q1 and Q2.\n",
    "\n",
    "Which will guarantee that it is an integer.\n",
    "\n",
    "If the input is not integer, ask recursively.\n",
    "\n",
    "Function name will be **get_integer**.\n",
    "\n",
    "Hints:\n",
    "* Use Recursion"
   ]
  },
  {
   "cell_type": "code",
   "execution_count": null,
   "metadata": {},
   "outputs": [],
   "source": [
    "\n",
    "def get_integer(input_text):\n",
    "    \"\"\"\n",
    "    Gets integer from user (eventually).\n",
    "    Parameters: str input_text\n",
    "    Returns: int user_input\n",
    "    \"\"\"\n",
    "    \n",
    "    # ask for input\n",
    "    user_input = get_input(input_text)\n",
    "    \n",
    "    # check if int  -> exit condition\n",
    "    if is_integer(user_input):\n",
    "        return int(user_input)\n",
    "    else:\n",
    "        # ask again\n",
    "        return get_integer(input_text)\n"
   ]
  },
  {
   "cell_type": "code",
   "execution_count": null,
   "metadata": {},
   "outputs": [],
   "source": [
    "num = get_integer(\"please enter an integer: \")\n",
    "print(num)"
   ]
  },
  {
   "cell_type": "code",
   "execution_count": null,
   "metadata": {},
   "outputs": [],
   "source": [
    "get_integer(\"please enter an integer: \")"
   ]
  },
  {
   "cell_type": "markdown",
   "metadata": {},
   "source": [
    "**Q 4:**\n",
    "\n",
    "Define a function named **day_of_week**.\n",
    "\n",
    "The function will ask the user to enter an integer between 1-7.\n",
    "\n",
    "And it will decide the day name according to that number.\n",
    "\n",
    "Hints:\n",
    "* use functions in Q3\n",
    "* check for number being in range 1-7"
   ]
  },
  {
   "cell_type": "code",
   "execution_count": null,
   "metadata": {},
   "outputs": [],
   "source": [
    "# S 4:\n",
    "\n",
    "def day_of_week():\n",
    "    \n",
    "    # get an integer first\n",
    "    day_num = get_integer(\"Please enter a day number 1-7: \")\n",
    "    \n",
    "    # check if 1-7\n",
    "    if not 1 <= day_num <= 7:\n",
    "        return \"Invalid day number. Not in 1-7.\"\n",
    "    \n",
    "    # If we passed -> 1-7\n",
    "    \n",
    "    if day_num == 1:\n",
    "        return 'Monday'\n",
    "    elif day_num == 2:\n",
    "        return 'Teusday'\n",
    "    elif day_num == 3:\n",
    "        return 'Wednesday'\n",
    "    elif day_num == 4:\n",
    "        return 'Thursday'\n",
    "    elif day_num == 5:\n",
    "        return 'Friday'\n",
    "    elif day_num == 6:\n",
    "        return 'Saturday'\n",
    "    else:\n",
    "        return 'Sunday'\n",
    "    \n"
   ]
  },
  {
   "cell_type": "code",
   "execution_count": null,
   "metadata": {},
   "outputs": [],
   "source": [
    "day_of_week()"
   ]
  },
  {
   "cell_type": "code",
   "execution_count": null,
   "metadata": {},
   "outputs": [],
   "source": [
    "def n(c):\n",
    "    power = m(c, c)\n",
    "    print(c, power)\n",
    "    return power\n",
    "\n",
    "def m(x, y):\n",
    "    x = x + 2\n",
    "    return x**y\n",
    "\n",
    "def p(x, y, z):\n",
    "    summation = x + y + z\n",
    "    sqr = n(summation)**2\n",
    "    return sqr\n",
    "\n",
    "a = 1\n",
    "b = a + 1\n",
    "print(p(a, b+1, a+b))"
   ]
  },
  {
   "cell_type": "markdown",
   "metadata": {},
   "source": [
    "**Stack Trace:**"
   ]
  },
  {
   "cell_type": "markdown",
   "metadata": {},
   "source": [
    "* Variable a is created and assigned as 1\n",
    "* Variable b is created and assigned as a + 1 (which is 2)"
   ]
  },
  {
   "cell_type": "markdown",
   "metadata": {},
   "source": [
    "* print() function calls function **p** -> p(1, 3, 3)"
   ]
  },
  {
   "cell_type": "markdown",
   "metadata": {},
   "source": [
    "* **p** calls **n** with summation of parameters"
   ]
  },
  {
   "cell_type": "markdown",
   "metadata": {},
   "source": [
    "* **n** calls **m** with parameter c"
   ]
  },
  {
   "cell_type": "markdown",
   "metadata": {},
   "source": [
    "* **m** adds 2 to the parameter x and returns x**y"
   ]
  },
  {
   "cell_type": "markdown",
   "metadata": {},
   "source": [
    "* **n** receives the return value from **m** as power and prints it"
   ]
  },
  {
   "cell_type": "markdown",
   "metadata": {},
   "source": []
  },
  {
   "cell_type": "markdown",
   "metadata": {},
   "source": [
    "* **n** returns the power variable back to **p**"
   ]
  },
  {
   "cell_type": "markdown",
   "metadata": {},
   "source": [
    "* **p** receives the return value of **n** and squares it as sqr, then return this sqr"
   ]
  },
  {
   "cell_type": "markdown",
   "metadata": {},
   "source": [
    "* print() function prints the return value from p"
   ]
  },
  {
   "cell_type": "markdown",
   "metadata": {},
   "source": [
    "**Q 6:**\n",
    "\n",
    "Define a function named **arithmetic_mean**.\n",
    "\n",
    "The function will get parameters that are not known. (unknown parameters)\n",
    "\n",
    "Namely, the number of parameters is not known in advance.\n",
    "\n",
    "The function will print the arithmetic mean of these parameters.\n",
    "\n",
    "**Hints:**\n",
    "* *args\n",
    "* Arithmetic Mean = Summation / Number of Elements\n",
    "* sum()\n",
    "* len()"
   ]
  },
  {
   "cell_type": "code",
   "execution_count": null,
   "metadata": {},
   "outputs": [],
   "source": [
    "# S 6:\n",
    "\n",
    "def arithmetic_mean(*args):\n",
    "    \n",
    "    # calculate the summation\n",
    "    summation = sum(args)\n",
    "    \n",
    "    # number of elements\n",
    "    number_of_elements = len(args)  # len -> length\n",
    "    \n",
    "    return summation / number_of_elements\n",
    "    "
   ]
  },
  {
   "cell_type": "code",
   "execution_count": null,
   "metadata": {},
   "outputs": [],
   "source": [
    "mean = arithmetic_mean(2, 5, 11)\n",
    "print(mean)"
   ]
  },
  {
   "cell_type": "markdown",
   "metadata": {},
   "source": [
    "**Q 7:**\n",
    "\n",
    "Define a function named **area_of_circle**.\n",
    "\n",
    "It will take the radius as parameter and calcuates the area of the circle.\n",
    "\n",
    "The function body should be one line of code.\n",
    "\n",
    "**Hints:**\n",
    "\n",
    "$ Area Of Circle = \\pi * r^2$"
   ]
  },
  {
   "cell_type": "code",
   "execution_count": null,
   "metadata": {},
   "outputs": [],
   "source": [
    "# S 7:\n",
    "\n",
    "import math\n",
    "\n",
    "def area_of_circle(r):\n",
    "    \"\"\"Returns the area of circle\"\"\"\n",
    "    return math.pi * r**2\n"
   ]
  },
  {
   "cell_type": "code",
   "execution_count": null,
   "metadata": {},
   "outputs": [],
   "source": [
    "area_of_circle(10)"
   ]
  },
  {
   "cell_type": "markdown",
   "metadata": {},
   "source": [
    "**Q 8:**\n",
    "\n",
    "Define a function named **perimeter_of_circle**.\n",
    "\n",
    "It will take the radius as parameter and calcuates the perimeter of the circle.\n",
    "\n",
    "The function body should be one line of code.\n",
    "\n",
    "**Hints:**\n",
    "\n",
    "$ Perimeter Of Circle = 2 * \\pi * r$"
   ]
  },
  {
   "cell_type": "code",
   "execution_count": null,
   "metadata": {},
   "outputs": [],
   "source": [
    "# S 8:\n",
    "\n",
    "import math\n",
    "\n",
    "def perimeter_of_circle(r):\n",
    "    \"\"\"Returns the perimeter of circle\"\"\"\n",
    "    return 2 * math.pi * r"
   ]
  },
  {
   "cell_type": "code",
   "execution_count": null,
   "metadata": {},
   "outputs": [],
   "source": [
    "perimeter_of_circle(10)"
   ]
  },
  {
   "cell_type": "markdown",
   "metadata": {},
   "source": [
    "**Q 9:**\n",
    "\n",
    "Define a function named **area_of_rectangle**.\n",
    "\n",
    "The parameters will be length (l) and width (w).\n",
    "\n",
    "The function body should be one line of code.\n",
    "\n",
    "**Hints:**\n",
    "\n",
    "$ Area Of Rectangle = l * w$"
   ]
  },
  {
   "cell_type": "code",
   "execution_count": null,
   "metadata": {},
   "outputs": [],
   "source": [
    "# S 9:\n",
    "\n",
    "def area_of_rectangle(l, w):\n",
    "    return l * w\n"
   ]
  },
  {
   "cell_type": "code",
   "execution_count": null,
   "metadata": {},
   "outputs": [],
   "source": [
    "area_of_rectangle(5, 12)"
   ]
  },
  {
   "cell_type": "markdown",
   "metadata": {},
   "source": [
    "**Q 10:**\n",
    "\n",
    "Define a function to calculate the surface area of a right cylinder.\n",
    "\n",
    "The name will be **area_of_cylinder** and it will take two parameters.\n",
    "\n",
    "The first parameter r will be the radius of top and base circles.\n",
    "\n",
    "The seconda parameter h will be the hight of cylinder.\n",
    "\n",
    "**Hints:**\n",
    "* cylinder is a combination of two circles and a rectangle\n",
    "* use functions from previous questions to calculate the areas"
   ]
  },
  {
   "cell_type": "code",
   "execution_count": null,
   "metadata": {},
   "outputs": [],
   "source": [
    "\n",
    "def area_of_cylinder(r, h):\n",
    "    \"\"\"\n",
    "    Calculates the total surface area of cylinder.\n",
    "    Parameters:\n",
    "        * r: int radius\n",
    "        * h: int height\n",
    "    Returns: int total surface area\n",
    "    \"\"\"\n",
    "    \n",
    "    # first calculate the area of circles (2)\n",
    "    circle = area_of_circle(r)\n",
    "    \n",
    "    # lateral surface (rectange)\n",
    "    # Perimiter of circle and height\n",
    "    # laterarl area = perimiter * height\n",
    "    \n",
    "    # perimeter\n",
    "    perimeter = perimeter_of_circle(r)\n",
    "    \n",
    "    # rectangle\n",
    "    rectangle = area_of_rectangle(perimeter, h)\n",
    "    \n",
    "    # total area\n",
    "    total_area = 2 * circle + rectangle\n",
    "\n",
    "    return total_area"
   ]
  },
  {
   "cell_type": "code",
   "execution_count": null,
   "metadata": {},
   "outputs": [],
   "source": [
    "area_of_cylinder(10, 2)"
   ]
  }
 ],
 "metadata": {
  "kernelspec": {
   "display_name": "Python 3.10.6 64-bit",
   "language": "python",
   "name": "python3"
  },
  "language_info": {
   "codemirror_mode": {
    "name": "ipython",
    "version": 3
   },
   "file_extension": ".py",
   "mimetype": "text/x-python",
   "name": "python",
   "nbconvert_exporter": "python",
   "pygments_lexer": "ipython3",
   "version": "3.10.6"
  },
  "orig_nbformat": 4,
  "vscode": {
   "interpreter": {
    "hash": "e7370f93d1d0cde622a1f8e1c04877d8463912d04d973331ad4851f04de6915a"
   }
  }
 },
 "nbformat": 4,
 "nbformat_minor": 2
}
