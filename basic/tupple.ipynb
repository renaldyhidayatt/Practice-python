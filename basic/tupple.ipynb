{
 "cells": [
  {
   "cell_type": "markdown",
   "metadata": {},
   "source": [
    "# Tuple"
   ]
  },
  {
   "cell_type": "markdown",
   "metadata": {},
   "source": [
    "## Tuple Creation"
   ]
  },
  {
   "cell_type": "markdown",
   "metadata": {},
   "source": [
    "Tuple is a Sequence Type like String and List."
   ]
  },
  {
   "cell_type": "markdown",
   "metadata": {},
   "source": [
    "They can take any type as elements."
   ]
  },
  {
   "cell_type": "markdown",
   "metadata": {},
   "source": [
    "Tuple's are indexed by integers (implicitly)."
   ]
  },
  {
   "cell_type": "markdown",
   "metadata": {},
   "source": [
    "They look like List.\n",
    "\n",
    "Main Difference:\n",
    "* List -> Mutable\n",
    "* Tuple -> Immutable"
   ]
  },
  {
   "cell_type": "markdown",
   "metadata": {},
   "source": [
    "**Tuple** is a sequence seperated by comma."
   ]
  },
  {
   "cell_type": "markdown",
   "metadata": {},
   "source": [
    "**Creating a Tuple by assigning elements seperated with comma**"
   ]
  },
  {
   "cell_type": "code",
   "execution_count": 158,
   "metadata": {},
   "outputs": [
    {
     "data": {
      "text/plain": [
       "('x', 'y', 'z', 'q', 'p')"
      ]
     },
     "execution_count": 158,
     "metadata": {},
     "output_type": "execute_result"
    }
   ],
   "source": [
    "t = 'x', 'y', 'z', 'q', 'p'\n",
    "t"
   ]
  },
  {
   "cell_type": "code",
   "execution_count": 159,
   "metadata": {},
   "outputs": [
    {
     "data": {
      "text/plain": [
       "tuple"
      ]
     },
     "execution_count": 159,
     "metadata": {},
     "output_type": "execute_result"
    }
   ],
   "source": [
    "type(t)"
   ]
  },
  {
   "cell_type": "code",
   "execution_count": 160,
   "metadata": {},
   "outputs": [
    {
     "data": {
      "text/plain": [
       "(1, 2, 4, 6, 8, 20)"
      ]
     },
     "execution_count": 160,
     "metadata": {},
     "output_type": "execute_result"
    }
   ],
   "source": [
    "t2 = (1, 2, 4, 6, 8, 20)\n",
    "t2"
   ]
  },
  {
   "cell_type": "code",
   "execution_count": 161,
   "metadata": {},
   "outputs": [
    {
     "data": {
      "text/plain": [
       "tuple"
      ]
     },
     "execution_count": 161,
     "metadata": {},
     "output_type": "execute_result"
    }
   ],
   "source": [
    "type(t2)"
   ]
  },
  {
   "cell_type": "code",
   "execution_count": 162,
   "metadata": {},
   "outputs": [
    {
     "data": {
      "text/plain": [
       "True"
      ]
     },
     "execution_count": 162,
     "metadata": {},
     "output_type": "execute_result"
    }
   ],
   "source": [
    "isinstance(t2, tuple)"
   ]
  },
  {
   "cell_type": "code",
   "execution_count": 163,
   "metadata": {},
   "outputs": [
    {
     "data": {
      "text/plain": [
       "'x'"
      ]
     },
     "execution_count": 163,
     "metadata": {},
     "output_type": "execute_result"
    }
   ],
   "source": [
    "one_tuple = ('x')\n",
    "one_tuple"
   ]
  },
  {
   "cell_type": "markdown",
   "metadata": {},
   "source": [
    "**Answer:**\n",
    "    \n",
    "You add a comma after the element."
   ]
  },
  {
   "cell_type": "code",
   "execution_count": 164,
   "metadata": {},
   "outputs": [
    {
     "data": {
      "text/plain": [
       "('x',)"
      ]
     },
     "execution_count": 164,
     "metadata": {},
     "output_type": "execute_result"
    }
   ],
   "source": [
    "one_tuple = ('x',)\n",
    "one_tuple"
   ]
  },
  {
   "cell_type": "markdown",
   "metadata": {},
   "source": [
    "**Create Tuple with -> `tuple()`**"
   ]
  },
  {
   "cell_type": "code",
   "execution_count": 165,
   "metadata": {},
   "outputs": [
    {
     "data": {
      "text/plain": [
       "()"
      ]
     },
     "execution_count": 165,
     "metadata": {},
     "output_type": "execute_result"
    }
   ],
   "source": [
    "t = tuple()\n",
    "t"
   ]
  },
  {
   "cell_type": "code",
   "execution_count": 166,
   "metadata": {},
   "outputs": [
    {
     "data": {
      "text/plain": [
       "True"
      ]
     },
     "execution_count": 166,
     "metadata": {},
     "output_type": "execute_result"
    }
   ],
   "source": [
    "isinstance(t, tuple)"
   ]
  },
  {
   "cell_type": "markdown",
   "metadata": {},
   "source": [
    "**tuple()** -> enter a **string**, it will convert into a Tuple"
   ]
  },
  {
   "cell_type": "code",
   "execution_count": 167,
   "metadata": {},
   "outputs": [
    {
     "data": {
      "text/plain": [
       "('P', 'y', 't', 'h', 'o', 'n')"
      ]
     },
     "execution_count": 167,
     "metadata": {},
     "output_type": "execute_result"
    }
   ],
   "source": [
    "lang = tuple('Python')\n",
    "lang"
   ]
  },
  {
   "cell_type": "markdown",
   "metadata": {},
   "source": [
    "**tuple()** -> enter a **list**, it will convert into a Tuple"
   ]
  },
  {
   "cell_type": "code",
   "execution_count": 168,
   "metadata": {},
   "outputs": [
    {
     "data": {
      "text/plain": [
       "('A', 'B', 'C', 'D')"
      ]
     },
     "execution_count": 168,
     "metadata": {},
     "output_type": "execute_result"
    }
   ],
   "source": [
    "my_list = ['A', 'B', 'C', 'D']\n",
    "\n",
    "list_tuple = tuple(my_list)\n",
    "\n",
    "list_tuple"
   ]
  },
  {
   "cell_type": "code",
   "execution_count": 169,
   "metadata": {},
   "outputs": [
    {
     "data": {
      "text/plain": [
       "tuple"
      ]
     },
     "execution_count": 169,
     "metadata": {},
     "output_type": "execute_result"
    }
   ],
   "source": [
    "type(list_tuple)"
   ]
  },
  {
   "cell_type": "markdown",
   "metadata": {},
   "source": [
    "If there is indexing in a type -> `slicing`"
   ]
  },
  {
   "cell_type": "code",
   "execution_count": 170,
   "metadata": {},
   "outputs": [],
   "source": [
    "text = 'Moon is the orbit of Earth.'"
   ]
  },
  {
   "cell_type": "code",
   "execution_count": 171,
   "metadata": {},
   "outputs": [
    {
     "name": "stdout",
     "output_type": "stream",
     "text": [
      "('M', 'o', 'o', 'n', ' ', 'i', 's', ' ', 't', 'h', 'e', ' ', 'o', 'r', 'b', 'i', 't', ' ', 'o', 'f', ' ', 'E', 'a', 'r', 't', 'h', '.')\n"
     ]
    }
   ],
   "source": [
    "tup = tuple(text)\n",
    "\n",
    "print(tup)"
   ]
  },
  {
   "cell_type": "markdown",
   "metadata": {},
   "source": [
    "`slicing[start, end, step]`"
   ]
  },
  {
   "cell_type": "code",
   "execution_count": null,
   "metadata": {},
   "outputs": [],
   "source": []
  },
  {
   "cell_type": "code",
   "execution_count": 172,
   "metadata": {},
   "outputs": [
    {
     "data": {
      "text/plain": [
       "('M', 'o', 'o', 'n')"
      ]
     },
     "execution_count": 172,
     "metadata": {},
     "output_type": "execute_result"
    }
   ],
   "source": [
    "# slicing\n",
    "# the word -> Moon\n",
    "\n",
    "tup[0:4]"
   ]
  },
  {
   "cell_type": "code",
   "execution_count": 173,
   "metadata": {},
   "outputs": [
    {
     "data": {
      "text/plain": [
       "('E', 'a', 'r', 't', 'h')"
      ]
     },
     "execution_count": 173,
     "metadata": {},
     "output_type": "execute_result"
    }
   ],
   "source": [
    "# negative index -> start -1, right to left\n",
    "# Earth.\n",
    "# [-6 -5 -4 -3 -2] -1\n",
    "\n",
    "tup[-6:-1]"
   ]
  },
  {
   "cell_type": "code",
   "execution_count": 174,
   "metadata": {},
   "outputs": [
    {
     "name": "stdout",
     "output_type": "stream",
     "text": [
      "('M', 'o', 'o', 'n', ' ', 'i', 's', ' ', 't', 'h', 'e', ' ', 'o', 'r', 'b', 'i', 't', ' ', 'o', 'f', ' ', 'E', 'a', 'r', 't', 'h', '.')\n"
     ]
    }
   ],
   "source": [
    "# copy the whole tuple\n",
    "\n",
    "new_tup = tup[::]\n",
    "\n",
    "print(new_tup)"
   ]
  },
  {
   "cell_type": "markdown",
   "metadata": {},
   "source": [
    "**Tuples are Immutable**"
   ]
  },
  {
   "cell_type": "code",
   "execution_count": 175,
   "metadata": {},
   "outputs": [
    {
     "data": {
      "text/plain": [
       "(0, 1, 2, 34, 5)"
      ]
     },
     "execution_count": 175,
     "metadata": {},
     "output_type": "execute_result"
    }
   ],
   "source": [
    "t = tuple([0,1,2,34,5])\n",
    "\n",
    "t"
   ]
  },
  {
   "cell_type": "code",
   "execution_count": 176,
   "metadata": {},
   "outputs": [
    {
     "data": {
      "text/plain": [
       "True"
      ]
     },
     "execution_count": 176,
     "metadata": {},
     "output_type": "execute_result"
    }
   ],
   "source": [
    "(1, 2, 3) < (5, 4, 3)"
   ]
  },
  {
   "cell_type": "markdown",
   "metadata": {},
   "source": [
    "**Important:**\n",
    "\n",
    "In Tuple Assingment, number of variables must be the same for both sides."
   ]
  },
  {
   "cell_type": "markdown",
   "metadata": {},
   "source": [
    "**Example:**\n",
    "\n",
    "Split the user name and domain name from an email via Tuple Assingment."
   ]
  },
  {
   "cell_type": "code",
   "execution_count": 177,
   "metadata": {},
   "outputs": [
    {
     "data": {
      "text/plain": [
       "['johndoe', 'example.com']"
      ]
     },
     "execution_count": 177,
     "metadata": {},
     "output_type": "execute_result"
    }
   ],
   "source": [
    "'johndoe@example.com'.split('@')"
   ]
  },
  {
   "cell_type": "code",
   "execution_count": 178,
   "metadata": {},
   "outputs": [
    {
     "name": "stdout",
     "output_type": "stream",
     "text": [
      "johndoe\n"
     ]
    },
    {
     "data": {
      "text/plain": [
       "'example.com'"
      ]
     },
     "execution_count": 178,
     "metadata": {},
     "output_type": "execute_result"
    }
   ],
   "source": [
    "\n",
    "user_name, domain = 'johndoe@example.com'.split('@')\n",
    "\n",
    "print(user_name)\n",
    "domain"
   ]
  },
  {
   "cell_type": "code",
   "execution_count": 179,
   "metadata": {},
   "outputs": [
    {
     "data": {
      "text/plain": [
       "['A', 'B', 'C', 'D']"
      ]
     },
     "execution_count": 179,
     "metadata": {},
     "output_type": "execute_result"
    }
   ],
   "source": [
    "my_list = ['A', 'B', 'C', 'D']\n",
    "\n",
    "my_list"
   ]
  },
  {
   "cell_type": "code",
   "execution_count": 180,
   "metadata": {},
   "outputs": [],
   "source": [
    "# unpack list elements into seperate variables\n",
    "\n",
    "a, b, c, d = my_list"
   ]
  },
  {
   "cell_type": "code",
   "execution_count": 181,
   "metadata": {},
   "outputs": [
    {
     "name": "stdout",
     "output_type": "stream",
     "text": [
      "a: A\n",
      "b: B\n",
      "c: C\n",
      "d: D\n"
     ]
    }
   ],
   "source": [
    "print('a:', a)\n",
    "print('b:', b)\n",
    "print('c:', c)\n",
    "print('d:', d)"
   ]
  },
  {
   "cell_type": "markdown",
   "metadata": {},
   "source": [
    "## Tuples and Functions"
   ]
  },
  {
   "cell_type": "markdown",
   "metadata": {},
   "source": [
    "You may notice that, functions can return only one value."
   ]
  },
  {
   "cell_type": "markdown",
   "metadata": {},
   "source": [
    "**Question:** What we will do if we want the function to return multiple values."
   ]
  },
  {
   "cell_type": "markdown",
   "metadata": {},
   "source": [
    "**Answer:** `Tuple`"
   ]
  },
  {
   "cell_type": "markdown",
   "metadata": {},
   "source": [
    "**As an example:**\n",
    "\n",
    "`divmod()` function takes two parameters: \n",
    "* dividend\n",
    "* divisor\n",
    "\n",
    "And returns a tuple of two results:\n",
    "* quotient\n",
    "* remainder"
   ]
  },
  {
   "cell_type": "code",
   "execution_count": 182,
   "metadata": {},
   "outputs": [
    {
     "data": {
      "text/plain": [
       "(5, 3)"
      ]
     },
     "execution_count": 182,
     "metadata": {},
     "output_type": "execute_result"
    }
   ],
   "source": [
    "# divide 23 by 4\n",
    "\n",
    "result = divmod(23, 4)\n",
    "\n",
    "result"
   ]
  },
  {
   "cell_type": "code",
   "execution_count": 183,
   "metadata": {},
   "outputs": [
    {
     "name": "stdout",
     "output_type": "stream",
     "text": [
      "quotient: 5\n",
      "remainder: 3\n"
     ]
    }
   ],
   "source": [
    "# create seperate variables -> quotient, remainder\n",
    "\n",
    "quotient = result[0]\n",
    "print('quotient:', quotient)\n",
    "\n",
    "remainder = result[1]\n",
    "print('remainder:', remainder)"
   ]
  },
  {
   "cell_type": "code",
   "execution_count": 184,
   "metadata": {},
   "outputs": [
    {
     "name": "stdout",
     "output_type": "stream",
     "text": [
      "quotient: 5\n",
      "remainder: 3\n"
     ]
    }
   ],
   "source": [
    "# tuple assignment\n",
    "# unpacking\n",
    "\n",
    "quotient, remainder = divmod(23, 4)\n",
    "\n",
    "print('quotient:', quotient)\n",
    "print('remainder:', remainder)"
   ]
  },
  {
   "cell_type": "markdown",
   "metadata": {},
   "source": [
    "**Example:**\n",
    "\n",
    "Define a function with unknown parameters (*args).\n",
    "\n",
    "The fn will return the summation and multiplication result of these parameters."
   ]
  },
  {
   "cell_type": "code",
   "execution_count": 185,
   "metadata": {},
   "outputs": [],
   "source": [
    "\n",
    "def sum_and_multiply(*args):\n",
    "    \n",
    "    print(args)\n",
    "    print(type(args))\n"
   ]
  },
  {
   "cell_type": "code",
   "execution_count": 186,
   "metadata": {},
   "outputs": [
    {
     "name": "stdout",
     "output_type": "stream",
     "text": [
      "(2, 5, 4, 3)\n",
      "<class 'tuple'>\n"
     ]
    }
   ],
   "source": [
    "sum_and_multiply(2, 5, 4, 3)"
   ]
  },
  {
   "cell_type": "code",
   "execution_count": 187,
   "metadata": {},
   "outputs": [],
   "source": [
    "# let's define\n",
    "\n",
    "\n",
    "def sum_and_multiply(*args):\n",
    "    \n",
    "    # summation\n",
    "    summation = sum(args)\n",
    "    \n",
    "    # multiplication -> for loop\n",
    "    multiplication = 1\n",
    "    for arg in args:\n",
    "        multiplication *= arg    \n",
    "        \n",
    "    # return both results\n",
    "    return (summation, multiplication)\n",
    "    "
   ]
  },
  {
   "cell_type": "code",
   "execution_count": 188,
   "metadata": {},
   "outputs": [
    {
     "data": {
      "text/plain": [
       "(14, 120)"
      ]
     },
     "execution_count": 188,
     "metadata": {},
     "output_type": "execute_result"
    }
   ],
   "source": [
    "sum_and_multiply(2, 5, 4, 3)"
   ]
  },
  {
   "cell_type": "markdown",
   "metadata": {},
   "source": [
    "**Example:**\n",
    "\n",
    "Define a function taking a list as parameter.\n",
    "\n",
    "It will return:\n",
    "* min\n",
    "* max\n",
    "* mean (average)\n",
    "\n",
    "Use statistics for mean."
   ]
  },
  {
   "cell_type": "code",
   "execution_count": 189,
   "metadata": {},
   "outputs": [],
   "source": [
    "# import the modules\n",
    "import statistics\n",
    "\n",
    "def simple_stats(a_list):\n",
    "    \n",
    "    # minimum\n",
    "    minimum = min(a_list)\n",
    "    \n",
    "    # maximum\n",
    "    maximum = max(a_list)\n",
    "    \n",
    "    # mean\n",
    "    mean = statistics.mean(a_list)\n",
    "    \n",
    "    # return -> tuple(min, max, average)\n",
    "    return (minimum, maximum, mean)\n",
    "    "
   ]
  },
  {
   "cell_type": "code",
   "execution_count": 190,
   "metadata": {},
   "outputs": [
    {
     "name": "stdout",
     "output_type": "stream",
     "text": [
      "minimum: 1\n",
      "maximum: 5\n",
      "average: 3\n"
     ]
    }
   ],
   "source": [
    "my_list = [1, 2, 3, 4, 5]\n",
    "\n",
    "minimum, maximum, average = simple_stats(my_list)\n",
    "\n",
    "print('minimum:', minimum)\n",
    "print('maximum:', maximum)\n",
    "print('average:', average)"
   ]
  },
  {
   "cell_type": "markdown",
   "metadata": {},
   "source": [
    "## zip() Function"
   ]
  },
  {
   "cell_type": "markdown",
   "metadata": {},
   "source": [
    "In Python most of the time we need to use Lists and Tuples together."
   ]
  },
  {
   "cell_type": "markdown",
   "metadata": {},
   "source": [
    "We will learn `zip()` function to see how we manage this."
   ]
  },
  {
   "cell_type": "markdown",
   "metadata": {},
   "source": [
    "`zip()` function takes two or more Sequence Type parameters."
   ]
  },
  {
   "cell_type": "markdown",
   "metadata": {},
   "source": [
    "**Sequence Type:** A type, you can access its elements via indices (int and implicit).\n",
    "* List\n",
    "* Tuple\n",
    "* String\n",
    "* Range"
   ]
  },
  {
   "cell_type": "markdown",
   "metadata": {},
   "source": [
    "`zip()` \n",
    "* takes the corresponding elements (with the same indices) from the parameters\n",
    "* returns them as Zip Object (containing Tuples)"
   ]
  },
  {
   "cell_type": "code",
   "execution_count": 191,
   "metadata": {},
   "outputs": [
    {
     "name": "stdout",
     "output_type": "stream",
     "text": [
      "<zip object at 0x7f957036a800>\n"
     ]
    }
   ],
   "source": [
    "text = 'xyzt'\n",
    "a_list = [1, 2, 3, 4]\n",
    "\n",
    "\n",
    "# zip the text and the list\n",
    "zip_obj = zip(text, a_list) \n",
    "\n",
    "print(zip_obj)"
   ]
  },
  {
   "cell_type": "markdown",
   "metadata": {},
   "source": [
    "`zip object` is an **iterator**.\n",
    "\n",
    "**Iterator:** is an object which you can loop over it."
   ]
  },
  {
   "cell_type": "code",
   "execution_count": 192,
   "metadata": {},
   "outputs": [
    {
     "name": "stdout",
     "output_type": "stream",
     "text": [
      "('x', 1)\n",
      "('y', 2)\n",
      "('z', 3)\n",
      "('t', 4)\n"
     ]
    }
   ],
   "source": [
    "# loop over zip_obj\n",
    "\n",
    "for z in zip_obj:\n",
    "    print(z)\n"
   ]
  },
  {
   "cell_type": "markdown",
   "metadata": {},
   "source": [
    "As you see, each element in the zip object is a Tuple.\n",
    "* First element is from the String\n",
    "* Second element is from the List"
   ]
  },
  {
   "cell_type": "code",
   "execution_count": 193,
   "metadata": {},
   "outputs": [],
   "source": [
    "# zip_obj[0]"
   ]
  },
  {
   "cell_type": "markdown",
   "metadata": {},
   "source": [
    "You may ask: \n",
    "\n",
    "How is this possible? We alredy loop over it and it returned a list of Tuples."
   ]
  },
  {
   "cell_type": "markdown",
   "metadata": {},
   "source": [
    "Yes you are right.\n",
    "\n",
    "But you can loop over an iterator only once.\n",
    "\n",
    "Python will stop iterating when you reach to the end of iterator.\n",
    "\n",
    "That's necessary to prevent infinite looping."
   ]
  },
  {
   "cell_type": "markdown",
   "metadata": {},
   "source": [
    "If you need to loop over the iterator more than once, you can assign it to a list."
   ]
  },
  {
   "cell_type": "code",
   "execution_count": 194,
   "metadata": {},
   "outputs": [
    {
     "name": "stdout",
     "output_type": "stream",
     "text": [
      "<zip object at 0x7f957037ad00>\n"
     ]
    }
   ],
   "source": [
    "d1 = ['A', 'B', 'C', 'D', 'E']\n",
    "d2 = [10, 20, 30, 40, 50]\n",
    "\n",
    "new_zip = zip(d1, d2)\n",
    "\n",
    "print(new_zip)"
   ]
  },
  {
   "cell_type": "code",
   "execution_count": 195,
   "metadata": {},
   "outputs": [
    {
     "data": {
      "text/plain": [
       "[('A', 10), ('B', 20), ('C', 30), ('D', 40), ('E', 50)]"
      ]
     },
     "execution_count": 195,
     "metadata": {},
     "output_type": "execute_result"
    }
   ],
   "source": [
    "zip_list = list(new_zip)\n",
    "\n",
    "zip_list"
   ]
  },
  {
   "cell_type": "code",
   "execution_count": 196,
   "metadata": {},
   "outputs": [
    {
     "name": "stdout",
     "output_type": "stream",
     "text": [
      "('A', 10)\n",
      "('B', 20)\n",
      "('C', 30)\n",
      "('D', 40)\n",
      "('E', 50)\n"
     ]
    }
   ],
   "source": [
    "for z in zip_list:\n",
    "    print(z)    "
   ]
  },
  {
   "cell_type": "markdown",
   "metadata": {},
   "source": [
    "**Question:**\n",
    "\n",
    "What happens if the parameters are in different length?"
   ]
  },
  {
   "cell_type": "code",
   "execution_count": 197,
   "metadata": {},
   "outputs": [
    {
     "name": "stdout",
     "output_type": "stream",
     "text": [
      "<zip object at 0x7f9570369740>\n"
     ]
    }
   ],
   "source": [
    "d1 = ['A', 'B', 'C', 'D', 'E']\n",
    "d2 = [10, 20, 30]\n",
    "\n",
    "new_zip = zip(d1, d2)\n",
    "\n",
    "print(new_zip)"
   ]
  },
  {
   "cell_type": "code",
   "execution_count": 198,
   "metadata": {},
   "outputs": [
    {
     "data": {
      "text/plain": [
       "[('A', 10), ('B', 20), ('C', 30)]"
      ]
     },
     "execution_count": 198,
     "metadata": {},
     "output_type": "execute_result"
    }
   ],
   "source": [
    "# assing the zip object to a list\n",
    "\n",
    "zip_list = list(new_zip)\n",
    "\n",
    "zip_list"
   ]
  },
  {
   "cell_type": "code",
   "execution_count": 199,
   "metadata": {},
   "outputs": [
    {
     "data": {
      "text/plain": [
       "3"
      ]
     },
     "execution_count": 199,
     "metadata": {},
     "output_type": "execute_result"
    }
   ],
   "source": [
    "len(zip_list)"
   ]
  },
  {
   "cell_type": "markdown",
   "metadata": {},
   "source": [
    "**Example:**\n",
    "\n",
    "Check the corresponding elements (at the same index) of two lists.\n",
    "\n",
    "And print them if they are equal. (common elements)"
   ]
  },
  {
   "cell_type": "code",
   "execution_count": 200,
   "metadata": {},
   "outputs": [
    {
     "name": "stdout",
     "output_type": "stream",
     "text": [
      "B\n",
      "d\n",
      "F\n"
     ]
    }
   ],
   "source": [
    "l1 = ['a', 'B', 'C', 'd', 'e', 'F']\n",
    "l2 = ['A', 'B', 'c', 'd', 'E', 'F']\n",
    "\n",
    "for e1, e2 in zip(l1, l2):\n",
    "    \n",
    "    if e1 == e2:\n",
    "        print(e1)\n"
   ]
  },
  {
   "cell_type": "markdown",
   "metadata": {},
   "source": [
    "## Tuple & Dictionary"
   ]
  },
  {
   "cell_type": "markdown",
   "metadata": {},
   "source": [
    "We learned that to get the elements of a Dictionary -> `items()`"
   ]
  },
  {
   "cell_type": "markdown",
   "metadata": {},
   "source": [
    "And this **items()** returns a list of **Tuples**."
   ]
  },
  {
   "cell_type": "code",
   "execution_count": 201,
   "metadata": {},
   "outputs": [
    {
     "data": {
      "text/plain": [
       "{'A': 65, 'B': 66, 'C': 67, 'a': 97, 'b': 98, 'c': 99}"
      ]
     },
     "execution_count": 201,
     "metadata": {},
     "output_type": "execute_result"
    }
   ],
   "source": [
    "# ASCII codes of first 3 letters\n",
    "\n",
    "asciis = {\n",
    "    'A': ord('A'),\n",
    "    'B': ord('B'),\n",
    "    'C': ord('C'),\n",
    "    'a': ord('a'),\n",
    "    'b': ord('b'),\n",
    "    'c': ord('c')\n",
    "}\n",
    "\n",
    "asciis"
   ]
  },
  {
   "cell_type": "code",
   "execution_count": 202,
   "metadata": {},
   "outputs": [
    {
     "data": {
      "text/plain": [
       "dict_items([('A', 65), ('B', 66), ('C', 67), ('a', 97), ('b', 98), ('c', 99)])"
      ]
     },
     "execution_count": 202,
     "metadata": {},
     "output_type": "execute_result"
    }
   ],
   "source": [
    "# items()\n",
    "\n",
    "asciis.items()"
   ]
  },
  {
   "cell_type": "code",
   "execution_count": 203,
   "metadata": {},
   "outputs": [
    {
     "name": "stdout",
     "output_type": "stream",
     "text": [
      "A 65\n",
      "B 66\n",
      "C 67\n",
      "a 97\n",
      "b 98\n",
      "c 99\n"
     ]
    }
   ],
   "source": [
    "# loop over items\n",
    "\n",
    "for key, value in asciis.items():\n",
    "    print(key, value)\n"
   ]
  },
  {
   "cell_type": "markdown",
   "metadata": {},
   "source": [
    "**Remainder:**\n",
    "\n",
    "Dictionaries are not ordered types.\n",
    "\n",
    "We can not expect its items to be ordered.\n",
    "\n",
    "Because Dictionary does not use implict integer indexing."
   ]
  },
  {
   "cell_type": "markdown",
   "metadata": {},
   "source": [
    "**Convert Tuple List into a Dictionary:**"
   ]
  },
  {
   "cell_type": "markdown",
   "metadata": {},
   "source": [
    "We saw that **items()** returns the elements of a Dictionary as a list of Tuples.\n",
    "\n",
    "Now let's do the opposite.\n",
    "\n",
    "This time we will a list of Tuples and convert it into a Dictionary."
   ]
  },
  {
   "cell_type": "code",
   "execution_count": 204,
   "metadata": {},
   "outputs": [
    {
     "data": {
      "text/plain": [
       "[('January', 31), ('February', 28), ('March', 31), ('April', 30)]"
      ]
     },
     "execution_count": 204,
     "metadata": {},
     "output_type": "execute_result"
    }
   ],
   "source": [
    "months_days = [\n",
    "    ('January', 31),\n",
    "    ('February', 28),\n",
    "    ('March', 31),\n",
    "    ('April', 30)\n",
    "]\n",
    "\n",
    "months_days"
   ]
  },
  {
   "cell_type": "code",
   "execution_count": 205,
   "metadata": {},
   "outputs": [
    {
     "data": {
      "text/plain": [
       "{'January': 31, 'February': 28, 'March': 31, 'April': 30}"
      ]
     },
     "execution_count": 205,
     "metadata": {},
     "output_type": "execute_result"
    }
   ],
   "source": [
    "months = dict(months_days)\n",
    "\n",
    "months"
   ]
  },
  {
   "cell_type": "markdown",
   "metadata": {},
   "source": [
    "**Example:**\n",
    "\n",
    "Use `zip()` and `range()` functions to create a Dictionary of days in a week.\n",
    "* 1: Monday\n",
    "* 2: Tuesday\n",
    "* 3: Wednesday\n",
    "* 4: Thursday\n",
    "* 5: Friday\n",
    "* 6: Saturday\n",
    "* 7: Sunday"
   ]
  },
  {
   "cell_type": "code",
   "execution_count": 206,
   "metadata": {},
   "outputs": [
    {
     "name": "stdout",
     "output_type": "stream",
     "text": [
      "<zip object at 0x7f957037b4c0>\n"
     ]
    }
   ],
   "source": [
    "# Solution:\n",
    "\n",
    "day_names = ['Monday', 'Tuesday', 'Wednesday', 'Thursday', 'Friday', 'Saturday', 'Sunday']\n",
    "numbers = range(1, 8)\n",
    "\n",
    "days = zip(numbers, day_names)\n",
    "\n",
    "print(days)"
   ]
  },
  {
   "cell_type": "code",
   "execution_count": 207,
   "metadata": {},
   "outputs": [
    {
     "name": "stdout",
     "output_type": "stream",
     "text": [
      "{1: 'Monday', 2: 'Tuesday', 3: 'Wednesday', 4: 'Thursday', 5: 'Friday', 6: 'Saturday', 7: 'Sunday'}\n"
     ]
    }
   ],
   "source": [
    "# convert the zip object (iterartor of list of tuples)\n",
    "\n",
    "days_dict = dict(days)\n",
    "\n",
    "print(days_dict)"
   ]
  },
  {
   "cell_type": "markdown",
   "metadata": {},
   "source": [
    "**Tuple as Dictionary Key:**"
   ]
  },
  {
   "cell_type": "markdown",
   "metadata": {},
   "source": [
    "We have learned that the `key` of a Dictionary must be `Immutable` type."
   ]
  },
  {
   "cell_type": "markdown",
   "metadata": {},
   "source": [
    "Since Tuples are Immutable, we can assign them as Dictionary keys."
   ]
  },
  {
   "cell_type": "markdown",
   "metadata": {},
   "source": [
    "**Example:**\n",
    "\n",
    "We want to store the students names and grades in a dictionary.\n",
    "\n",
    "`(FirstName, LastName)` will be the key and `Grade` will be the value.\n",
    "\n",
    "<pre>\n",
    "student_grades = {\n",
    "    ('Musa', 'Arda'): 'AA',\n",
    "    ('Bruce', 'Wayne'): 'DC',\n",
    "    ('Klark', 'Kent'): 'FF',\n",
    "    ('Peter', 'Parket'): 'FD'\n",
    "}\n",
    "</pre>"
   ]
  },
  {
   "cell_type": "code",
   "execution_count": 208,
   "metadata": {},
   "outputs": [
    {
     "data": {
      "text/plain": [
       "{('Musa', 'Arda'): 'AA',\n",
       " ('Bruce', 'Wayne'): 'DC',\n",
       " ('Klark', 'Kent'): 'FF',\n",
       " ('Peter', 'Parker'): 'FD'}"
      ]
     },
     "execution_count": 208,
     "metadata": {},
     "output_type": "execute_result"
    }
   ],
   "source": [
    "# Solution\n",
    "\n",
    "# create lists\n",
    "names = ['Musa', 'Bruce', 'Klark', 'Peter']\n",
    "lastnames = ['Arda', 'Wayne', 'Kent', 'Parker']\n",
    "grades = ['AA', 'DC', 'FF', 'FD']\n",
    "\n",
    "# empty dict\n",
    "student_grades = {}\n",
    "\n",
    "# loop over 3 list simultaniously -> zip()\n",
    "for name, lastname, grade in zip(names, lastnames, grades):\n",
    "    \n",
    "        student_grades[(name, lastname)] = grade\n",
    "\n",
    "student_grades"
   ]
  },
  {
   "cell_type": "markdown",
   "metadata": {},
   "source": [
    "## `lambda` Function as Key"
   ]
  },
  {
   "cell_type": "markdown",
   "metadata": {},
   "source": [
    "Some built-in Python functions expect a declaration to execute.\n",
    "\n",
    "We have to declare them how to process."
   ]
  },
  {
   "cell_type": "markdown",
   "metadata": {},
   "source": [
    "This declaration is a function actully.\n",
    "\n",
    "We have to pass a function as parameter."
   ]
  },
  {
   "cell_type": "markdown",
   "metadata": {},
   "source": [
    "We saw `lambda` function before.\n",
    "\n",
    "Now we will use the lambda function as function parameters."
   ]
  },
  {
   "cell_type": "markdown",
   "metadata": {},
   "source": [
    "For example:\n",
    "\n",
    "For sorting Python has two functions: `sort()` and `sorted()`\n",
    "\n",
    "* sort()\n",
    "    * list.sort(reverse=True|False, **key=myFunc**)\n",
    "    \n",
    "* sorted()\n",
    "    * sorted(list, **key=myFunc**, reverse=True|False)"
   ]
  },
  {
   "cell_type": "markdown",
   "metadata": {},
   "source": [
    "As you see, the **myFunc** that we pass to **key** parameter is our function."
   ]
  },
  {
   "cell_type": "markdown",
   "metadata": {},
   "source": [
    "First we will, create a normal function and pass it to **key** parameter.\n",
    "\n",
    "Then we will do the same thing with lambda function."
   ]
  },
  {
   "cell_type": "code",
   "execution_count": 209,
   "metadata": {},
   "outputs": [],
   "source": [
    "cars = ('Mercedes', 'Audi', 'BMW', 'Porsche', 'VW')"
   ]
  },
  {
   "cell_type": "markdown",
   "metadata": {},
   "source": [
    "**Example:**\n",
    "\n",
    "Sort the cars tuple by length of elements in ascending order. (number of chars in elements)"
   ]
  },
  {
   "cell_type": "markdown",
   "metadata": {},
   "source": [
    "**Define a Named Function**"
   ]
  },
  {
   "cell_type": "code",
   "execution_count": 210,
   "metadata": {},
   "outputs": [],
   "source": [
    "\n",
    "def myFunc(e):\n",
    "    return len(e)\n"
   ]
  },
  {
   "cell_type": "code",
   "execution_count": 211,
   "metadata": {},
   "outputs": [
    {
     "data": {
      "text/plain": [
       "4"
      ]
     },
     "execution_count": 211,
     "metadata": {},
     "output_type": "execute_result"
    }
   ],
   "source": [
    "myFunc('Audi')"
   ]
  },
  {
   "cell_type": "code",
   "execution_count": 212,
   "metadata": {},
   "outputs": [
    {
     "data": {
      "text/plain": [
       "['VW', 'BMW', 'Audi', 'Porsche', 'Mercedes']"
      ]
     },
     "execution_count": 212,
     "metadata": {},
     "output_type": "execute_result"
    }
   ],
   "source": [
    "# sorted()\n",
    "\n",
    "# sorted() returns a list of sorted elements\n",
    "\n",
    "sorted(cars, key = myFunc)"
   ]
  },
  {
   "cell_type": "code",
   "execution_count": 213,
   "metadata": {},
   "outputs": [
    {
     "name": "stdout",
     "output_type": "stream",
     "text": [
      "['Mercedes', 'Audi', 'BMW', 'Porsche', 'VW']\n",
      "---- after sort() ----\n",
      "['VW', 'BMW', 'Audi', 'Porsche', 'Mercedes']\n"
     ]
    }
   ],
   "source": [
    "# sort()\n",
    "\n",
    "# sort() is a list function -> operates on lists\n",
    "\n",
    "cars_list = list(cars)\n",
    "print(cars_list)\n",
    "\n",
    "# sort() -> sorts in place -> mutates the list\n",
    "cars_list.sort(key=myFunc)\n",
    "\n",
    "print(\"---- after sort() ----\")\n",
    "print(cars_list)"
   ]
  },
  {
   "cell_type": "markdown",
   "metadata": {},
   "source": [
    "**lambda Function**"
   ]
  },
  {
   "cell_type": "markdown",
   "metadata": {},
   "source": [
    "**lambda:** one line, anomymous function."
   ]
  },
  {
   "cell_type": "code",
   "execution_count": 214,
   "metadata": {},
   "outputs": [
    {
     "data": {
      "text/plain": [
       "('Mercedes', 'Audi', 'BMW', 'Porsche', 'VW')"
      ]
     },
     "execution_count": 214,
     "metadata": {},
     "output_type": "execute_result"
    }
   ],
   "source": [
    "# sorted()\n",
    "\n",
    "cars"
   ]
  },
  {
   "cell_type": "code",
   "execution_count": 215,
   "metadata": {},
   "outputs": [
    {
     "data": {
      "text/plain": [
       "['VW', 'BMW', 'Audi', 'Porsche', 'Mercedes']"
      ]
     },
     "execution_count": 215,
     "metadata": {},
     "output_type": "execute_result"
    }
   ],
   "source": [
    "sorted(cars, key = lambda e: len(e))"
   ]
  },
  {
   "cell_type": "code",
   "execution_count": 216,
   "metadata": {},
   "outputs": [
    {
     "name": "stdout",
     "output_type": "stream",
     "text": [
      "['VW', 'BMW', 'Audi', 'Porsche', 'Mercedes']\n"
     ]
    }
   ],
   "source": [
    "# sort()\n",
    "\n",
    "cars_list = list(cars)\n",
    "\n",
    "cars_list.sort(key=lambda e: len(e))\n",
    "\n",
    "print(cars_list)"
   ]
  },
  {
   "cell_type": "markdown",
   "metadata": {},
   "source": [
    "**Question:**\n",
    "\n",
    "So far, we didn't pass any **key** parameter into sorted() or sort().\n",
    "\n",
    "How do they do the sorting?"
   ]
  },
  {
   "cell_type": "markdown",
   "metadata": {},
   "source": [
    "**Answer:**\n",
    "\n",
    "They use standard sorting:\n",
    "* numbers -> numeric sort\n",
    "* str -> alphabetical sort"
   ]
  },
  {
   "cell_type": "code",
   "execution_count": null,
   "metadata": {},
   "outputs": [],
   "source": [
    "# Example:\n",
    "\n",
    "numbers = (2, 1, 3, 7, 6, 5, 4)\n",
    "\n",
    "numbers"
   ]
  },
  {
   "cell_type": "code",
   "execution_count": null,
   "metadata": {},
   "outputs": [],
   "source": [
    "# default -> sorts numeric\n",
    "\n",
    "sorted(numbers)"
   ]
  },
  {
   "cell_type": "code",
   "execution_count": null,
   "metadata": {},
   "outputs": [],
   "source": [
    "# lambda\n",
    "\n",
    "# sorted(numbers)  ==== sorted(numbers, key=lambda e: e)\n",
    "\n",
    "sorted(numbers, key=lambda e: e)"
   ]
  }
 ],
 "metadata": {
  "kernelspec": {
   "display_name": "Python 3.10.6 64-bit",
   "language": "python",
   "name": "python3"
  },
  "language_info": {
   "codemirror_mode": {
    "name": "ipython",
    "version": 3
   },
   "file_extension": ".py",
   "mimetype": "text/x-python",
   "name": "python",
   "nbconvert_exporter": "python",
   "pygments_lexer": "ipython3",
   "version": "3.10.6"
  },
  "orig_nbformat": 4,
  "vscode": {
   "interpreter": {
    "hash": "e7370f93d1d0cde622a1f8e1c04877d8463912d04d973331ad4851f04de6915a"
   }
  }
 },
 "nbformat": 4,
 "nbformat_minor": 2
}
