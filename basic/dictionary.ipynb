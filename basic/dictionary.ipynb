{
 "cells": [
  {
   "cell_type": "markdown",
   "metadata": {},
   "source": [
    "# Dictionary"
   ]
  },
  {
   "cell_type": "markdown",
   "metadata": {},
   "source": [
    "## What is a Dictionary?"
   ]
  },
  {
   "cell_type": "markdown",
   "metadata": {},
   "source": [
    "Let's say we want to store employee data; name, age, department"
   ]
  },
  {
   "cell_type": "code",
   "execution_count": null,
   "metadata": {},
   "outputs": [],
   "source": [
    "employee = {\n",
    "    'name': 'Klark Kent',\n",
    "    \"age\": 37,\n",
    "    \"department\": 'News Service'\n",
    "}"
   ]
  },
  {
   "cell_type": "markdown",
   "metadata": {},
   "source": [
    "We can think of Dictionaries as a general form Lists."
   ]
  },
  {
   "cell_type": "markdown",
   "metadata": {},
   "source": [
    "In List, indices are integer (int) and they are defined implicitly by Python."
   ]
  },
  {
   "cell_type": "markdown",
   "metadata": {},
   "source": [
    "You don't define indices for lists."
   ]
  },
  {
   "cell_type": "markdown",
   "metadata": {},
   "source": [
    "But for Dictionary, we define indices manually, and they do not have to be integers. They may be any suitable type."
   ]
  },
  {
   "cell_type": "markdown",
   "metadata": {},
   "source": [
    "Element Structure:\n",
    "\n",
    "{ key : value }"
   ]
  },
  {
   "cell_type": "markdown",
   "metadata": {},
   "source": [
    "So in a dictionary, each **key** is mapped to a **value**.\n",
    "\n",
    "Key-Value pairs."
   ]
  },
  {
   "cell_type": "markdown",
   "metadata": {},
   "source": [
    "| Key | Value |\n",
    "| --- | --- |\n",
    "| name | Klark Kent |\n",
    "| age | 37 |\n",
    "| department | News Service |"
   ]
  },
  {
   "cell_type": "markdown",
   "metadata": {},
   "source": [
    "**Keys** must be unique.\n",
    "\n",
    "You can not have duplicate keys."
   ]
  },
  {
   "cell_type": "code",
   "execution_count": null,
   "metadata": {},
   "outputs": [],
   "source": [
    "numbers = {\n",
    "    1: \"one\",\n",
    "    2: \"two\",\n",
    "    3: 'three',\n",
    "    4: 'four'\n",
    "}"
   ]
  },
  {
   "cell_type": "markdown",
   "metadata": {},
   "source": [
    "## Creating a Dictionary"
   ]
  },
  {
   "cell_type": "markdown",
   "metadata": {},
   "source": [
    "List -> create list [] -> list()\n",
    "\n",
    "**Dictionary** -> create dict **{}** -> **dict()**"
   ]
  },
  {
   "cell_type": "code",
   "execution_count": null,
   "metadata": {},
   "outputs": [],
   "source": [
    "# empty dict\n",
    "\n",
    "cars_empty = {}"
   ]
  },
  {
   "cell_type": "code",
   "execution_count": null,
   "metadata": {},
   "outputs": [],
   "source": [
    "type(cars_empty)"
   ]
  },
  {
   "cell_type": "code",
   "execution_count": null,
   "metadata": {},
   "outputs": [],
   "source": [
    "# dict with elements\n",
    "\n",
    "cars = {\n",
    "    'Audi': 'Germany',\n",
    "    'Mazda': 'Japan',\n",
    "    'Fiat': 'Italy'\n",
    "}"
   ]
  },
  {
   "cell_type": "code",
   "execution_count": null,
   "metadata": {},
   "outputs": [],
   "source": [
    "print(cars)"
   ]
  },
  {
   "cell_type": "code",
   "execution_count": null,
   "metadata": {},
   "outputs": [],
   "source": [
    "# empty dict\n",
    "\n",
    "cars_empty_2 = dict()"
   ]
  },
  {
   "cell_type": "code",
   "execution_count": null,
   "metadata": {},
   "outputs": [],
   "source": [
    "# dict with elements\n",
    "\n",
    "cars_2 = dict({\n",
    "    'Audi': 'Germany',\n",
    "    'Mazda': 'Japan',\n",
    "    'Fiat': 'Italy'\n",
    "})"
   ]
  },
  {
   "cell_type": "code",
   "execution_count": null,
   "metadata": {},
   "outputs": [],
   "source": [
    "cars_2"
   ]
  },
  {
   "cell_type": "code",
   "execution_count": null,
   "metadata": {},
   "outputs": [],
   "source": [
    "type(cars_2)"
   ]
  },
  {
   "cell_type": "markdown",
   "metadata": {},
   "source": [
    "**Note:**\n",
    "\n",
    "* In Lists -> we access elements via [] -> my_list[index]\n",
    "* In dict we do not use index -> **my_dic[key]**"
   ]
  },
  {
   "cell_type": "markdown",
   "metadata": {},
   "source": [
    "## Adding Elements to a Dictionary"
   ]
  },
  {
   "cell_type": "markdown",
   "metadata": {},
   "source": [
    "In Lists -> append(), insert()"
   ]
  },
  {
   "cell_type": "markdown",
   "metadata": {},
   "source": [
    "In List we don't have these methods:\n",
    "\n",
    "* my_dic[key] = value\n",
    "* update()"
   ]
  },
  {
   "cell_type": "markdown",
   "metadata": {},
   "source": [
    "Remember:\n",
    "\n",
    "* Dictionary -> `{ key: value }`"
   ]
  },
  {
   "cell_type": "code",
   "execution_count": null,
   "metadata": {},
   "outputs": [],
   "source": [
    "numbers = {\n",
    "    1: \"one\",\n",
    "    2: \"two\",\n",
    "    3: 'three',\n",
    "    4: 'four'\n",
    "}"
   ]
  },
  {
   "cell_type": "code",
   "execution_count": null,
   "metadata": {},
   "outputs": [],
   "source": [
    "type(numbers)"
   ]
  },
  {
   "cell_type": "code",
   "execution_count": null,
   "metadata": {},
   "outputs": [],
   "source": [
    "# add with key\n",
    "\n",
    "numbers[5] = 'five'"
   ]
  },
  {
   "cell_type": "code",
   "execution_count": null,
   "metadata": {},
   "outputs": [],
   "source": [
    "numbers.append({7: 'seven'})"
   ]
  },
  {
   "cell_type": "markdown",
   "metadata": {},
   "source": [
    "**update()**"
   ]
  },
  {
   "cell_type": "code",
   "execution_count": null,
   "metadata": {},
   "outputs": [],
   "source": [
    "car = {\n",
    "    \"brand\": 'Ford',\n",
    "    'model': \"Mustang\",\n",
    "    'year': 1964\n",
    "}\n",
    "\n",
    "car"
   ]
  },
  {
   "cell_type": "code",
   "execution_count": null,
   "metadata": {},
   "outputs": [],
   "source": [
    "# add color into car dict\n",
    "\n",
    "element_to_add = {'color': 'red'}\n",
    "\n",
    "car.update(element_to_add)\n",
    "\n",
    "car"
   ]
  },
  {
   "cell_type": "code",
   "execution_count": null,
   "metadata": {},
   "outputs": [],
   "source": [
    "# add more than one key-value pair\n",
    "\n",
    "elements_to_add = {\n",
    "    'price': 100000,\n",
    "    'motor': 1.6,\n",
    "    'age': 72\n",
    "}\n",
    "\n",
    "car.update(elements_to_add)"
   ]
  },
  {
   "cell_type": "code",
   "execution_count": null,
   "metadata": {},
   "outputs": [],
   "source": [
    "car"
   ]
  },
  {
   "cell_type": "markdown",
   "metadata": {},
   "source": [
    "## Deleting Elements from a Dictionary"
   ]
  },
  {
   "cell_type": "markdown",
   "metadata": {},
   "source": [
    "In Lists to delete -> `pop()`, `del`\n",
    "\n",
    "We use both for Dictionary also."
   ]
  },
  {
   "cell_type": "markdown",
   "metadata": {},
   "source": [
    "**pop()**\n",
    "\n",
    "It returns the deleted element."
   ]
  },
  {
   "cell_type": "code",
   "execution_count": null,
   "metadata": {},
   "outputs": [],
   "source": [
    "\n",
    "number_names = {}\n",
    "\n",
    "number_names['one'] = 1\n",
    "number_names['two'] = 2\n",
    "number_names['three'] = 3\n",
    "number_names['four'] = 4\n",
    "number_names['five'] = 5\n",
    "number_names['six'] = 6\n",
    "number_names['seven'] = 7\n",
    "number_names['eight'] = 8\n",
    "\n",
    "number_names"
   ]
  },
  {
   "cell_type": "code",
   "execution_count": null,
   "metadata": {},
   "outputs": [],
   "source": [
    "deleted_element = number_names.pop('eight')"
   ]
  },
  {
   "cell_type": "code",
   "execution_count": null,
   "metadata": {},
   "outputs": [],
   "source": [
    "number_names"
   ]
  },
  {
   "cell_type": "code",
   "execution_count": null,
   "metadata": {},
   "outputs": [],
   "source": [
    "number_names.pop('seven')"
   ]
  },
  {
   "cell_type": "code",
   "execution_count": null,
   "metadata": {},
   "outputs": [],
   "source": [
    "deleted_element = number_names.pop('four')"
   ]
  },
  {
   "cell_type": "code",
   "execution_count": null,
   "metadata": {},
   "outputs": [],
   "source": [
    "deleted_element"
   ]
  },
  {
   "cell_type": "code",
   "execution_count": null,
   "metadata": {},
   "outputs": [],
   "source": [
    "number_names"
   ]
  },
  {
   "cell_type": "markdown",
   "metadata": {},
   "source": [
    "**del**:\n",
    "\n",
    "Doesn't return the element."
   ]
  },
  {
   "cell_type": "code",
   "execution_count": null,
   "metadata": {},
   "outputs": [],
   "source": [
    "number_names = dict()\n",
    "\n",
    "number_names['one'] = 1\n",
    "number_names['two'] = 2\n",
    "number_names['three'] = 3\n",
    "number_names['four'] = 4\n",
    "number_names['five'] = 5\n",
    "number_names['six'] = 6\n",
    "number_names['seven'] = 7\n",
    "number_names['eight'] = 8\n",
    "\n",
    "number_names"
   ]
  },
  {
   "cell_type": "code",
   "execution_count": null,
   "metadata": {},
   "outputs": [],
   "source": [
    "del number_names['one']"
   ]
  },
  {
   "cell_type": "code",
   "execution_count": null,
   "metadata": {},
   "outputs": [],
   "source": [
    "number_names"
   ]
  },
  {
   "cell_type": "markdown",
   "metadata": {},
   "source": [
    "## Read Elements from a Dictionary"
   ]
  },
  {
   "cell_type": "markdown",
   "metadata": {},
   "source": [
    "dict[key] => value"
   ]
  },
  {
   "cell_type": "code",
   "execution_count": null,
   "metadata": {},
   "outputs": [],
   "source": [
    "number_names = dict()\n",
    "\n",
    "number_names['one'] = 1\n",
    "number_names['two'] = 2\n",
    "number_names['three'] = 3\n",
    "number_names['four'] = 4\n",
    "number_names['five'] = 5\n",
    "number_names['six'] = 6\n",
    "number_names['seven'] = 7\n",
    "number_names['eight'] = 8\n",
    "\n",
    "number_names"
   ]
  },
  {
   "cell_type": "code",
   "execution_count": null,
   "metadata": {},
   "outputs": [],
   "source": [
    "number_names['seven']"
   ]
  },
  {
   "cell_type": "markdown",
   "metadata": {},
   "source": [
    "**dict.items()**\n",
    "\n",
    "Returns the items as `key-value` pairs."
   ]
  },
  {
   "cell_type": "code",
   "execution_count": null,
   "metadata": {},
   "outputs": [],
   "source": [
    "number_names.items()"
   ]
  },
  {
   "cell_type": "markdown",
   "metadata": {},
   "source": [
    "**dict.keys()**\n",
    "\n",
    "Returns only the keys."
   ]
  },
  {
   "cell_type": "code",
   "execution_count": null,
   "metadata": {},
   "outputs": [],
   "source": [
    "number_names.values()"
   ]
  },
  {
   "cell_type": "code",
   "execution_count": null,
   "metadata": {},
   "outputs": [],
   "source": [
    "# with for loop, print the items\n",
    "\n",
    "for key, value in number_names.items():\n",
    "    print(key, ':', value)\n",
    "    "
   ]
  },
  {
   "cell_type": "code",
   "execution_count": null,
   "metadata": {},
   "outputs": [],
   "source": [
    "for k, v in number_names.items():\n",
    "    print(k, ':', v)\n"
   ]
  },
  {
   "cell_type": "code",
   "execution_count": null,
   "metadata": {},
   "outputs": [],
   "source": [
    "# only the keys\n",
    "\n",
    "for k in number_names.keys():\n",
    "    print(k)\n"
   ]
  },
  {
   "cell_type": "code",
   "execution_count": null,
   "metadata": {},
   "outputs": [],
   "source": [
    "# only the values\n",
    "\n",
    "for p in number_names.values():\n",
    "    print(p)\n",
    "    "
   ]
  },
  {
   "cell_type": "code",
   "execution_count": null,
   "metadata": {},
   "outputs": [],
   "source": [
    "car = {\n",
    "    'brand': 'Ford',\n",
    "     'model': 'Mustang',\n",
    "     'year': 1964,\n",
    "     'color': 'red',\n",
    "     'age': 72,\n",
    "     'price': 100000,\n",
    "     'motor': 1.6\n",
    "}"
   ]
  },
  {
   "cell_type": "code",
   "execution_count": null,
   "metadata": {},
   "outputs": [],
   "source": [
    "car"
   ]
  },
  {
   "cell_type": "code",
   "execution_count": null,
   "metadata": {},
   "outputs": [],
   "source": [
    "car['brand']"
   ]
  },
  {
   "cell_type": "markdown",
   "metadata": {},
   "source": [
    "**get()**\n",
    "\n",
    "It returns the element if exists, None if not."
   ]
  },
  {
   "cell_type": "code",
   "execution_count": null,
   "metadata": {},
   "outputs": [],
   "source": [
    "car.get('brand')"
   ]
  },
  {
   "cell_type": "markdown",
   "metadata": {},
   "source": [
    "**len()**\n",
    "\n",
    "It gives you the length of Dictionary -> number of key-value pair."
   ]
  },
  {
   "cell_type": "code",
   "execution_count": null,
   "metadata": {},
   "outputs": [],
   "source": [
    "len(car)"
   ]
  },
  {
   "cell_type": "markdown",
   "metadata": {},
   "source": [
    "**in**\n",
    "\n",
    "To check if the key is in Dictionary Keys."
   ]
  },
  {
   "cell_type": "code",
   "execution_count": null,
   "metadata": {},
   "outputs": [],
   "source": [
    "'height' in car.keys()"
   ]
  },
  {
   "cell_type": "markdown",
   "metadata": {},
   "source": [
    "## Loop Over Dictionary"
   ]
  },
  {
   "cell_type": "code",
   "execution_count": null,
   "metadata": {},
   "outputs": [],
   "source": [
    "cars = {\n",
    "    'Audi': 'Germany',\n",
    "    'Mazda': 'Japan',\n",
    "    'Fiat': 'Italy',\n",
    "    'Ford': 'US'\n",
    "}\n",
    "\n",
    "cars"
   ]
  },
  {
   "cell_type": "markdown",
   "metadata": {},
   "source": [
    "**items(), keys(), values()**"
   ]
  },
  {
   "cell_type": "code",
   "execution_count": null,
   "metadata": {},
   "outputs": [],
   "source": [
    "\n",
    "for car in cars.items():\n",
    "    print(car)\n"
   ]
  },
  {
   "cell_type": "code",
   "execution_count": null,
   "metadata": {},
   "outputs": [],
   "source": [
    "# deconstructing\n",
    "\n",
    "for brand, country in cars.items():\n",
    "    print(brand, '-', country)\n",
    "    "
   ]
  },
  {
   "cell_type": "code",
   "execution_count": null,
   "metadata": {},
   "outputs": [],
   "source": [
    "for country in cars.values():\n",
    "    print(country)"
   ]
  },
  {
   "cell_type": "markdown",
   "metadata": {},
   "source": [
    "**Example:**\n",
    "\n",
    "Define a function named **count_letters**.\n",
    "\n",
    "It will count each letter in a text and print.\n",
    "\n",
    "Ex: {'a': 3, 's': 3, 'e': 1 }"
   ]
  },
  {
   "cell_type": "code",
   "execution_count": null,
   "metadata": {},
   "outputs": [],
   "source": [
    "# Solution #1\n",
    "\n",
    "def count_letters(text):\n",
    "    \n",
    "    # a dict for numbers and counts\n",
    "    letters = {}\n",
    "    \n",
    "    for l in text:\n",
    "        \n",
    "        # check if l is alphanumeric\n",
    "        if l.isalpha():\n",
    "            # check if this letter is already in dict\n",
    "            if l in letters.keys():\n",
    "                letters[l] += 1\n",
    "\n",
    "            # first time\n",
    "            else:\n",
    "                letters[l] = 1\n",
    "    \n",
    "    return letters\n",
    "    "
   ]
  },
  {
   "cell_type": "code",
   "execution_count": null,
   "metadata": {},
   "outputs": [],
   "source": [
    "text = 'example text'\n",
    "letters = count_letters(text)\n",
    "letters"
   ]
  },
  {
   "cell_type": "code",
   "execution_count": null,
   "metadata": {},
   "outputs": [],
   "source": [
    "# Solution #1\n",
    "# More Pythonic\n",
    "\n",
    "def count_letters_2(text):\n",
    "    \n",
    "    # a dict for numbers and counts\n",
    "    letters = dict()\n",
    "    \n",
    "    for char in text:\n",
    "        \n",
    "        if char.isalpha():\n",
    "            letters[char] = letters.get(char, 0) + 1\n",
    "            \n",
    "    return letters\n",
    "    "
   ]
  },
  {
   "cell_type": "code",
   "execution_count": null,
   "metadata": {},
   "outputs": [],
   "source": [
    "letters"
   ]
  },
  {
   "cell_type": "code",
   "execution_count": null,
   "metadata": {},
   "outputs": [],
   "source": [
    "letters.get('e')"
   ]
  },
  {
   "cell_type": "code",
   "execution_count": null,
   "metadata": {},
   "outputs": [],
   "source": [
    "text = 'example text!'\n",
    "letters = count_letters_2(text)\n",
    "letters"
   ]
  },
  {
   "cell_type": "markdown",
   "metadata": {},
   "source": [
    "## Reverse Lookup"
   ]
  },
  {
   "cell_type": "markdown",
   "metadata": {},
   "source": [
    "In dictionaries we mainly look for a key and try to find the value corresponding to that key.\n",
    "\n",
    "That is the main idea of dictionary search in Python.\n",
    "\n",
    "And its very fast because it use **hashtable** structure."
   ]
  },
  {
   "cell_type": "markdown",
   "metadata": {},
   "source": [
    "Now, let's say we want to do the opposite.\n",
    "\n",
    "Let's assume, we have a value this time and what to find the key corresponding this value.\n",
    "\n",
    "Consequences:\n",
    "* There might be more than one key mapping to the same value\n",
    "* It will cause to memory cost"
   ]
  },
  {
   "cell_type": "code",
   "execution_count": null,
   "metadata": {},
   "outputs": [],
   "source": [
    "\n",
    "def reverse_lookup(dictionary, value):\n",
    "    \n",
    "    # loop over the dictionary\n",
    "    for key in dictionary:\n",
    "        \n",
    "        # check if the value with this key == value\n",
    "        if dictionary[key] == value:\n",
    "            # we found the key\n",
    "            return key\n"
   ]
  },
  {
   "cell_type": "code",
   "execution_count": null,
   "metadata": {},
   "outputs": [],
   "source": [
    "dictionary = {\n",
    "    'a': 2,\n",
    "    'b': 1,\n",
    "    'c': 4,\n",
    "    'd': 3,\n",
    "    'e': 2\n",
    "}\n",
    "\n",
    "dictionary"
   ]
  },
  {
   "cell_type": "code",
   "execution_count": null,
   "metadata": {},
   "outputs": [],
   "source": [
    "value = 2\n",
    "\n",
    "reverse_lookup(dictionary, value)"
   ]
  },
  {
   "cell_type": "markdown",
   "metadata": {},
   "source": [
    "Let's raise an error."
   ]
  },
  {
   "cell_type": "code",
   "execution_count": null,
   "metadata": {},
   "outputs": [],
   "source": [
    "def reverse_lookup_2(dictionary, value):\n",
    "    \n",
    "    # loop over the dictionary\n",
    "    for key in dictionary:\n",
    "        \n",
    "        # check if the value with this key == value\n",
    "        if dictionary[key] == value:\n",
    "            # we found the key\n",
    "            return key\n",
    "    else:\n",
    "        # raise error\n",
    "        raise KeyError('We could not find with this value:', value)\n",
    "    "
   ]
  },
  {
   "cell_type": "code",
   "execution_count": null,
   "metadata": {},
   "outputs": [],
   "source": [
    "value = 333\n",
    "\n",
    "reverse_lookup_2(dictionary, value)"
   ]
  },
  {
   "cell_type": "markdown",
   "metadata": {},
   "source": [
    "## Dictionary & List"
   ]
  },
  {
   "cell_type": "markdown",
   "metadata": {},
   "source": [
    "Lists can be used as values in Dictionaries."
   ]
  },
  {
   "cell_type": "markdown",
   "metadata": {},
   "source": [
    "Ex: for each letter in a text we can keep the number as key and value as list of letter:"
   ]
  },
  {
   "cell_type": "raw",
   "metadata": {},
   "source": [
    "{\n",
    " 1: ['k', 'd'],\n",
    " 2: ['e', 'g', 'l'],\n",
    " 3: ['a'],\n",
    " 4: ['i', 's']\n",
    "}"
   ]
  },
  {
   "cell_type": "code",
   "execution_count": null,
   "metadata": {},
   "outputs": [],
   "source": [
    "\n",
    "def lists_of_letters(text):\n",
    "    \n",
    "    # get the dictionary of occurences\n",
    "    dictionary = count_letters_2(text)\n",
    "    \n",
    "    letters = {}\n",
    "    \n",
    "    for key in dictionary:\n",
    "        \n",
    "        # get value\n",
    "        value = dictionary[key]\n",
    "        \n",
    "        # if this value is not in keys -> add it and assing a list of key\n",
    "        if value not in letters:\n",
    "            letters[value] = [key]\n",
    "        else:\n",
    "            # this value is in letters keys\n",
    "            letters[value].append(key)\n",
    "            \n",
    "    return letters\n"
   ]
  },
  {
   "cell_type": "code",
   "execution_count": null,
   "metadata": {},
   "outputs": [],
   "source": [
    "text = 'example text!'\n",
    "letters_numbers = lists_of_letters(text)\n",
    "letters_numbers"
   ]
  },
  {
   "cell_type": "markdown",
   "metadata": {},
   "source": [
    "**Very Important:**\n",
    "\n",
    "* Lists can be used as values of Dictionaries.\n",
    "* But **can not be used as keys** of Dictionaries."
   ]
  },
  {
   "cell_type": "code",
   "execution_count": null,
   "metadata": {},
   "outputs": [],
   "source": [
    "# list\n",
    "a = [1, 2]\n",
    "\n",
    "# dict\n",
    "s = dict()\n",
    "\n",
    "# pass list as key\n",
    "s[a] = 'my list'"
   ]
  },
  {
   "cell_type": "markdown",
   "metadata": {},
   "source": [
    "**Rule of Thumb:**\n",
    "\n",
    "* Dictionary Keys must be **hashable** types."
   ]
  },
  {
   "cell_type": "markdown",
   "metadata": {},
   "source": [
    "**hash** is a function which takes any value but returns an integer for that value."
   ]
  },
  {
   "cell_type": "raw",
   "metadata": {},
   "source": [
    "Immutable\n",
    "'some text'  ---->  hash(some_text)  ----->  14478565  (NOT CHANGE HASH)\n",
    "\n",
    "Mutable\n",
    "[1, 2, 'a', 'c', 'd'] -----> hash(some_list)  ----->  877820823657  (CHANGE HASH)"
   ]
  },
  {
   "cell_type": "markdown",
   "metadata": {},
   "source": [
    "Dictionary uses this **hash value** of keys to access them.\n",
    "\n",
    "It uses this hash value like an index."
   ]
  },
  {
   "cell_type": "markdown",
   "metadata": {},
   "source": [
    "**Mutable vs. Immutable**:\n",
    "\n",
    "* Hash values for Mutable types may change (because they can be mutated)\n",
    "* Hash values for Immutable types can not change (they can not be mutated)"
   ]
  },
  {
   "cell_type": "markdown",
   "metadata": {},
   "source": [
    "That's why:\n",
    "* **Mutable** Types can **not** be keys for Dictionary\n",
    "* Immutable Types can be keys for Dictionary"
   ]
  },
  {
   "cell_type": "markdown",
   "metadata": {},
   "source": [
    "Python Mutable vs. Immutable Types and If They can be Keys for Dictionary:\n",
    "\n",
    "| Type | Desc. | Immutable? | Can be Key for Dictionary? | \n",
    "| --- | --- | --- | --- |\n",
    "| int | Integer | $\\checkmark$ | $\\checkmark$ |\n",
    "| float | Float | $\\checkmark$ | $\\checkmark$ |\n",
    "| bool | Boolean | $\\checkmark$ | $\\checkmark$ |\n",
    "| str | String | $\\checkmark$ | $\\checkmark$ |\n",
    "| list | List |  |  |\n",
    "| tuple | Tuple | $\\checkmark$ | $\\checkmark$ |\n",
    "| dict | Dictionary |  |  |\n",
    "| set | Set |  |  |\n",
    "| frozenset | Frozen Set | $\\checkmark$ | $\\checkmark$ |"
   ]
  },
  {
   "cell_type": "markdown",
   "metadata": {},
   "source": [
    "* Immutable Types can be Keys for Dictionary.\n",
    "* Mutable Types can not.\n",
    "    * List\n",
    "    * Dictionary\n",
    "    * Set"
   ]
  },
  {
   "cell_type": "code",
   "execution_count": null,
   "metadata": {},
   "outputs": [],
   "source": [
    "s = dict()\n",
    "\n",
    "s[True] = 'Correct'\n",
    "s[False] = 'Incorrect'\n",
    "\n",
    "\n",
    "s[5] = 'five'\n",
    "s[4.8] = 'four-dot-eight'\n",
    "\n",
    "s['final'] = 124545454"
   ]
  },
  {
   "cell_type": "code",
   "execution_count": null,
   "metadata": {},
   "outputs": [],
   "source": [
    "s"
   ]
  },
  {
   "cell_type": "markdown",
   "metadata": {},
   "source": [
    "## Question"
   ]
  },
  {
   "cell_type": "markdown",
   "metadata": {},
   "source": [
    "**Q 1:**\n",
    "\n",
    "Define a function named **words_dict**.\n",
    "\n",
    "It will read `en_words.txt` file and will create a dictionary from these words.\n",
    "\n",
    "It will only take the words that have more than or equal to 19 letters.\n",
    "\n",
    "The Key of the dictionary will be the word itself and the Value will be number of letters in the word.\n",
    "\n",
    "The function will return this dictionary.\n",
    "\n",
    "**Hints:**\n",
    "* open()\n",
    "\n",
    "<pre>\n",
    "Expected Output:\n",
    "\n",
    "{\n",
    " 'anticonservationist': 19, \n",
    " 'comprehensivenesses': 19, \n",
    " 'counterdemonstration': 20,\n",
    " 'counterdemonstrations': 21,\n",
    " ...\n",
    "}\n",
    "</pre>"
   ]
  },
  {
   "cell_type": "code",
   "execution_count": null,
   "metadata": {},
   "outputs": [],
   "source": [
    "# S 1:\n",
    "\n",
    "# Let's define a CONSTANT\n",
    "# and we will use it as a global variable\n",
    "\n",
    "MIN_CHAR_LENGTH = 19\n",
    "\n",
    "\n",
    "def words_dict():\n",
    "    \n",
    "    # an empty dict\n",
    "    dictionary = dict()\n",
    "    \n",
    "    # read the words\n",
    "    file = open('en_words.txt')\n",
    "    \n",
    "    # iterate over file -> line by line\n",
    "    for i, line in enumerate(file):\n",
    "        \n",
    "        # line -> \\n, ' '\n",
    "        line_list = line.split()\n",
    "        \n",
    "        word = line_list[0]\n",
    "          \n",
    "        # if i < 20:\n",
    "          # print(word)\n",
    "                \n",
    "        # check for lenth\n",
    "        if len(word) >= MIN_CHAR_LENGTH:\n",
    "            # print(word)\n",
    "            \n",
    "            # check if it has not been added already\n",
    "            if not word in dictionary:\n",
    "                # add the word into dict\n",
    "                dictionary[word] = len(word)\n",
    "    \n",
    "    return dictionary\n",
    "    "
   ]
  },
  {
   "cell_type": "code",
   "execution_count": null,
   "metadata": {},
   "outputs": [],
   "source": [
    "words_dictionary = words_dict()\n",
    "words_dictionary"
   ]
  },
  {
   "cell_type": "markdown",
   "metadata": {},
   "source": [
    "**Q 2:**\n",
    "\n",
    "Define a function named **words_length_dict**.\n",
    "\n",
    "It will read `en_words.txt` file and will create a dictionary from these words.\n",
    "\n",
    "It will only take the words that have more than or equal to 19 letters.\n",
    "\n",
    "The Key will be the length (number of characters in word) and the Value will be a List of words which have that length.\n",
    "\n",
    "The function will return this dictionary.\n",
    "\n",
    "**Hints:**\n",
    "* open()\n",
    "\n",
    "<pre>\n",
    "Expected Output:\n",
    "\n",
    "{19: ['anticonservationist', 'comprehensivenesses', 'counterdemonstrator', ...], \n",
    " 20: ['counterdemonstration', 'counterdemonstrators', 'hypersensitivenesses', ...],\n",
    " 21: ['counterdemonstrations', 'hyperaggressivenesses', 'microminiaturizations']}\n",
    "</pre>"
   ]
  },
  {
   "cell_type": "code",
   "execution_count": null,
   "metadata": {},
   "outputs": [],
   "source": [
    "# S 2:\n",
    "\n",
    "# global constant\n",
    "MIN_CHAR_LENGTH = 19\n",
    "\n",
    "\n",
    "def words_length_dict():\n",
    "    \n",
    "    # an empty dict\n",
    "    dictionary = dict()\n",
    "    \n",
    "    # read the words\n",
    "    file = open('en_words.txt')\n",
    "    \n",
    "    # iterate over file -> line by line\n",
    "    for i, line in enumerate(file):\n",
    "        \n",
    "        # line -> \\n, ' '\n",
    "        line_list = line.split()\n",
    "        \n",
    "        word = line_list[0]\n",
    "          \n",
    "        # get the length\n",
    "        length = len(word)\n",
    "                \n",
    "        # check for lenth\n",
    "        if len(word) >= MIN_CHAR_LENGTH:\n",
    "            \n",
    "            # first time -> [word]\n",
    "            if not length in dictionary:\n",
    "                dictionary[length] = [word]\n",
    "            else:\n",
    "                dictionary[length].append(word)\n",
    "     \n",
    "    return dictionary\n",
    "        "
   ]
  },
  {
   "cell_type": "code",
   "execution_count": null,
   "metadata": {},
   "outputs": [],
   "source": [
    "length_words = words_length_dict()\n",
    "length_words"
   ]
  },
  {
   "cell_type": "markdown",
   "metadata": {},
   "source": [
    "**Q 3:**\n",
    "\n",
    "Define 4 functions named **car_1, car_2, car_3, car_4**.\n",
    "\n",
    "These functions will create dictionaries as below (name of the dictionary will be car):\n",
    "\n",
    "<pre>\n",
    "{'brand': 'Ford',\n",
    " 'model': 'Mustang',\n",
    " 'year': 1964,\n",
    " 'color': 'Red',\n",
    " 'price': 30000,\n",
    " 'km': 89000,\n",
    " 'motor': 1.6}\n",
    "</pre>\n",
    "\n",
    "Functions will create the dictionary by different ways and return the dictionary.\n",
    "\n",
    "**Hints:**\n",
    "* { }\n",
    "* dict()\n",
    "* update()"
   ]
  },
  {
   "cell_type": "code",
   "execution_count": null,
   "metadata": {},
   "outputs": [],
   "source": [
    "# S 3:\n",
    "\n",
    "# Way 1\n",
    "\n",
    "def car_1():\n",
    "    car = {}    \n",
    "    car['brand'] = 'Ford'\n",
    "    car['model'] = 'Mustang'\n",
    "    car['year'] = 1964\n",
    "    car['color'] = 'Red'\n",
    "    car['price'] = 30000\n",
    "    car['km'] = 89000\n",
    "    car['motor'] = 1.6\n",
    "    \n",
    "    return car\n"
   ]
  },
  {
   "cell_type": "code",
   "execution_count": null,
   "metadata": {},
   "outputs": [],
   "source": [
    "car_1()"
   ]
  },
  {
   "cell_type": "code",
   "execution_count": null,
   "metadata": {},
   "outputs": [],
   "source": [
    "# Way 2\n",
    "\n",
    "def car_2():\n",
    "    car = dict()    \n",
    "    car['brand'] = 'Ford'\n",
    "    car['model'] = 'Mustang'\n",
    "    car['year'] = 1964\n",
    "    car['color'] = 'Red'\n",
    "    car['price'] = 30000\n",
    "    car['km'] = 89000\n",
    "    car['motor'] = 1.6\n",
    "    \n",
    "    return car\n"
   ]
  },
  {
   "cell_type": "code",
   "execution_count": null,
   "metadata": {},
   "outputs": [],
   "source": [
    "car_2()"
   ]
  },
  {
   "cell_type": "code",
   "execution_count": null,
   "metadata": {},
   "outputs": [],
   "source": [
    "# Way 3\n",
    "\n",
    "def car_3():\n",
    "    car = dict()   \n",
    "    car.update(\n",
    "        {\n",
    "         'brand': 'Ford',\n",
    "         'model': 'Mustang',\n",
    "         'year': 1964,\n",
    "         'color': 'Red',\n",
    "         'price': 30000,\n",
    "         'km': 89000,\n",
    "         'motor': 1.6\n",
    "        }\n",
    "    )\n",
    "        \n",
    "    return car\n"
   ]
  },
  {
   "cell_type": "code",
   "execution_count": null,
   "metadata": {},
   "outputs": [],
   "source": [
    "car_3()"
   ]
  },
  {
   "cell_type": "code",
   "execution_count": null,
   "metadata": {},
   "outputs": [],
   "source": [
    "# Way 4\n",
    "\n",
    "def car_4():\n",
    "    car = dict(\n",
    "        {\n",
    "         'brand': 'Ford',\n",
    "         'model': 'Mustang',\n",
    "         'year': 1964,\n",
    "         'color': 'Red',\n",
    "         'price': 30000,\n",
    "         'km': 89000,\n",
    "         'motor': 1.6\n",
    "        }\n",
    "    )\n",
    "        \n",
    "    return car\n"
   ]
  },
  {
   "cell_type": "code",
   "execution_count": null,
   "metadata": {},
   "outputs": [],
   "source": [
    "car_4()"
   ]
  },
  {
   "cell_type": "markdown",
   "metadata": {},
   "source": [
    "**Q 4:**\n",
    "\n",
    "Define a function named **create_a_new_car**.\n",
    "\n",
    "It will call one of the functions defined in Q3 and will get the car dictionary.\n",
    "\n",
    "Then it will copy the items of this car dictionary into another dictionary via a loop.\n",
    "\n",
    "It will first copy all the elements in car dictionary, then create new keys via appendin \"_2\" at the end of existing key, and create a new element.\n",
    "\n",
    "Values will be the same.\n",
    "\n",
    "It will return the new dictionary.\n",
    "\n",
    "**Hint:**\n",
    "* copy()\n",
    "* update()\n",
    "* items()\n",
    "\n",
    "<pre>\n",
    "Expected Output:\n",
    "\n",
    "{\n",
    " 'brand': 'Ford',\n",
    " 'model': 'Mustang',\n",
    " 'year': 1964,\n",
    " 'color': 'Red',\n",
    " 'price': 30000,\n",
    " 'km': 89000,\n",
    " 'motor': 1.6\n",
    " 'brand_2': 'Ford',\n",
    " 'model_2': 'Mustang',\n",
    " 'year_2': 1964,\n",
    " 'color_2': 'Red',\n",
    " 'price_2': 30000,\n",
    " 'km_2': 89000,\n",
    " 'motor_2': 1.6\n",
    " }\n",
    "</pre>"
   ]
  },
  {
   "cell_type": "code",
   "execution_count": null,
   "metadata": {},
   "outputs": [],
   "source": [
    "# S 4:\n",
    "\n",
    "def create_a_new_car():\n",
    "    \n",
    "    # first get the car dictionary\n",
    "    car = car_4()\n",
    "    \n",
    "    # add this car dict into a new dict\n",
    "    new_car = car.copy()\n",
    "    \n",
    "    # loop over items\n",
    "    for item in car.items():\n",
    "        \n",
    "        # print(item)\n",
    "        \n",
    "        key = item[0]\n",
    "        value = item[1]\n",
    "        \n",
    "        key += '_2'\n",
    "        \n",
    "        new_car[key] = value\n",
    "        \n",
    "    return new_car\n"
   ]
  },
  {
   "cell_type": "code",
   "execution_count": null,
   "metadata": {},
   "outputs": [],
   "source": [
    "create_a_new_car()"
   ]
  },
  {
   "cell_type": "markdown",
   "metadata": {},
   "source": [
    "**Q 5:**\n",
    "\n",
    "Define a function named **concat_dicts**.\n",
    "\n",
    "It will concatenate the dictionaries below and return the resulting dict.\n",
    "\n",
    "The function will take these dictionaries as parameters.\n",
    "\n",
    "**Hints**\n",
    "* use only one for loop\n",
    "* search for looping on multiple dictionaries\n",
    "    * for x in (d1, d2, .... ):\n",
    "* update()\n",
    "\n",
    "<pre>\n",
    "Dictionaries to concat:\n",
    "\n",
    "d1={4:120, 7:60}\n",
    "d2={'A': 300, 'B':400}\n",
    "d3={True: 'Correct', False: 'Incorrect'}\n",
    "\n",
    "Expected Output:\n",
    "{4: 120, 7: 60, 'A': 300, 'B': 400, True: 'Correct', False: 'Incorrect'}\n",
    "</pre>"
   ]
  },
  {
   "cell_type": "code",
   "execution_count": null,
   "metadata": {},
   "outputs": [],
   "source": [
    "# S 5:\n",
    "\n",
    "def concat_dicts(d1, d2, d3):\n",
    "    \n",
    "    dictionary = {}\n",
    "    \n",
    "    # Multiple Dictionaries -> (d1, d2, ...)\n",
    "    \n",
    "    for e in (d1, d2, d3):\n",
    "        dictionary.update(e)\n",
    "        \n",
    "    return dictionary\n",
    "    "
   ]
  },
  {
   "cell_type": "code",
   "execution_count": null,
   "metadata": {},
   "outputs": [],
   "source": [
    "d1={4:120, 7:60}\n",
    "d2={'A': 'AAA', 'B':'BBB'}\n",
    "d3={True: 'Correct', False: 'Incorrect'}\n",
    "\n",
    "d = concat_dicts(d1, d2, d3)\n",
    "\n",
    "d"
   ]
  },
  {
   "cell_type": "markdown",
   "metadata": {},
   "source": [
    "**Q 6:**\n",
    "\n",
    "Define a function named **sum_of_same_keys**.\n",
    "\n",
    "It will take two dictionaries (d1, d2) as parameters.\n",
    "\n",
    "And it will sum the values of items having the same key in both dicts.\n",
    "\n",
    "It will not take distinct keys. So it will return a new dictionary with only common keys.\n",
    "\n",
    "**Hints:**\n",
    "* Check if both parameters are dictionary (dict)\n",
    "    * if not raise an error -> 'Both parameters must be dictionary type!'\n",
    "    * to check -> use isinstance() instead of type().\n",
    "    * isinstance(<variable>, <type>)\n",
    "* Check if both dictionaries have the same length\n",
    "    * if not raise an error -> 'Dictionaries must be the same length!'\n",
    "\n",
    "<pre>\n",
    "Parameters:\n",
    "d1 = {'a': 10, 'b': 30, 'c':50}\n",
    "d2 = {'a': 40, 'b': 60, 'd':90}\n",
    "\n",
    "Expected Output:\n",
    "{'a': 50, 'b': 90}\n",
    "</pre>"
   ]
  },
  {
   "cell_type": "code",
   "execution_count": null,
   "metadata": {},
   "outputs": [],
   "source": [
    "# S 6:\n",
    "\n",
    "def sum_of_same_keys(d1, d2):\n",
    "    \n",
    "    # check 1 -> dict types\n",
    "    if not isinstance(d1, dict) or not isinstance(d2, dict):\n",
    "        raise Exception('Both parameters must be dictionary type!')\n",
    "        \n",
    "    # check 2 -> length\n",
    "    if len(d1) != len(d2):\n",
    "        raise Exception('Dictionaries must be the same length!')\n",
    "        \n",
    "    # passed\n",
    "    dictionary = {}\n",
    "    \n",
    "    for key in d1:\n",
    "        \n",
    "        if key in d2:\n",
    "            \n",
    "            dictionary[key] = d1[key] + d2[key]\n",
    "\n",
    "    return dictionary\n",
    "    "
   ]
  },
  {
   "cell_type": "code",
   "execution_count": null,
   "metadata": {},
   "outputs": [],
   "source": [
    "d1 = {'a': 10, 'b': 30, 'c':50, 'd': 100}\n",
    "d2 = {'a': 40, 'b': 60, 'd':90, 'e': 50}\n",
    "sum_of_same_keys(d1, d2)"
   ]
  },
  {
   "cell_type": "markdown",
   "metadata": {},
   "source": [
    "**Q 7:**\n",
    "\n",
    "Let'e improve the function in Q6.\n",
    "\n",
    "It will work the same for the same keys.\n",
    "\n",
    "But this time we will also include the different keys.\n",
    "\n",
    "Function name will be **sum_of_same_keys_value_of_distinct_ones**.\n",
    "\n",
    "**Hints:**\n",
    "* Check if both parameters are dictionary (dict)\n",
    "    * if not raise an error -> 'Both parameters must be dictionary type!'\n",
    "    * to check -> use isinstance() instead of type().\n",
    "    * isinstance(<variable>, <type>)\n",
    "* Check if both dictionaries have the same length\n",
    "    * if not raise an error -> 'Dictionaries must be the same length!'\n",
    "\n",
    "<pre>\n",
    "Parameters:\n",
    "d1 = {'a': 10, 'b': 30, 'c':50}\n",
    "d2 = {'a': 40, 'b': 60, 'd':90}\n",
    "\n",
    "Expected Output:\n",
    "{'a': 50, 'b': 90, 'c': 50, 'd': 90}\n",
    "</pre>"
   ]
  },
  {
   "cell_type": "code",
   "execution_count": null,
   "metadata": {},
   "outputs": [],
   "source": [
    "# S 7:\n",
    "\n",
    "def sum_of_same_keys_value_of_distinct_ones(d1, d2):\n",
    "    \n",
    "    # check 1 -> dict types\n",
    "    if not isinstance(d1, dict) or not isinstance(d2, dict):\n",
    "        raise Exception('Both parameters must be dictionary type!')\n",
    "        \n",
    "    # check 2 -> length\n",
    "    if len(d1) != len(d2):\n",
    "        raise Exception('Dictionaries must be the same length!')\n",
    "        \n",
    "    # passed\n",
    "    dictionary = {}\n",
    "    \n",
    "    # loop over d1\n",
    "    for key in d1:\n",
    "        if key in d2:\n",
    "            dictionary[key] = d1[key] + d2[key]\n",
    "        else:\n",
    "            dictionary[key] = d1[key]\n",
    "            \n",
    "    # loop over d2\n",
    "    for key in d2:\n",
    "        if not key in d1:\n",
    "            dictionary[key] = d2[key]\n",
    "        \n",
    "    return dictionary\n"
   ]
  },
  {
   "cell_type": "code",
   "execution_count": null,
   "metadata": {},
   "outputs": [],
   "source": [
    "d1 = {'a': 10, 'b': 30, 'c':50}\n",
    "d2 = {'a': 40, 'b': 60, 'd':90}\n",
    "sum_of_same_keys_value_of_distinct_ones(d1, d2)"
   ]
  },
  {
   "cell_type": "markdown",
   "metadata": {},
   "source": [
    "**Q 8:**\n",
    "\n",
    "Define a function named **delete_odds**.\n",
    "\n",
    "It will take a dictionary as parameter.\n",
    "\n",
    "It will delete the items with odd indices from the dictionary and return a new dictionary with remaining items.\n",
    "\n",
    "**Hints:**\n",
    "* Do not change original dictionary (parameter)\n",
    "* `items()` for the loop\n",
    "* `enumerate()` for the index\n",
    "    \n",
    "<pre>\n",
    "Parameter Dictionary:\n",
    "dictionary = {'a': 'A', 'b': 'B', 'c': 'C', 'd': 'D', 'e': 'E', 'f': 'F'}\n",
    "\n",
    "Exptected Output:\n",
    " {'a': 'A', 'c': 'C', 'e': 'E'}\n",
    "</pre>"
   ]
  },
  {
   "cell_type": "code",
   "execution_count": null,
   "metadata": {},
   "outputs": [],
   "source": [
    "# S 8:\n",
    "\n",
    "# Way 1\n",
    "def delete_odds(dictionary):\n",
    "    \n",
    "    d = {}\n",
    "    \n",
    "    for index, item in enumerate(dictionary.items()):\n",
    "        \n",
    "        key = item[0]\n",
    "        value = item[1]\n",
    "        \n",
    "        if index % 2 == 0:\n",
    "            d[key] = value\n",
    "        \n",
    "    return d\n"
   ]
  },
  {
   "cell_type": "code",
   "execution_count": null,
   "metadata": {},
   "outputs": [],
   "source": [
    "dictionary = {'a': 'A', 'b': 'B', 'c': 'C', 'd': 'D', 'e': 'E', 'f': 'F'}\n",
    "\n",
    "evens = delete_odds(dictionary)\n",
    "\n",
    "evens"
   ]
  },
  {
   "cell_type": "markdown",
   "metadata": {},
   "source": [
    "**Q 9:**\n",
    "\n",
    "Define a function named **convert_lists_into_dict**.\n",
    "\n",
    "It will take two lists as parameters.\n",
    "\n",
    "The function will use the first list elements as Keys and second list elements as Values and it will create a dictionary.\n",
    "\n",
    "Then it will return this dictionary.\n",
    "\n",
    "**Hints:**\n",
    "* enumerate()\n",
    "\n",
    "<pre>\n",
    "Parameters:\n",
    "l_1 = ['name', 'lastname', 'age', 'gender']\n",
    "l_2 = ['John', 'Doe', 100, 'Male']\n",
    "\n",
    "Expected Output:\n",
    "{'name': 'John', 'lastname': 'Doe', 'age': 100, 'gender': 'Male'}\n",
    "</pre>"
   ]
  },
  {
   "cell_type": "code",
   "execution_count": null,
   "metadata": {},
   "outputs": [],
   "source": [
    "# S 9:\n",
    "\n",
    "def convert_lists_into_dict(list1, list2):\n",
    "    \n",
    "    dictionary = dict()\n",
    "    \n",
    "    for index, key in enumerate(list1):\n",
    "        \n",
    "        dictionary[key] = list2[index]\n",
    "        \n",
    "    return dictionary\n",
    "    "
   ]
  },
  {
   "cell_type": "code",
   "execution_count": null,
   "metadata": {},
   "outputs": [],
   "source": [
    "l_1 = ['name', 'lastname', 'age', 'gender']\n",
    "l_2 = ['John', 'Doe', 100, 'Male']\n",
    "\n",
    "employee = convert_lists_into_dict(l_1, l_2)\n",
    "\n",
    "print(employee)"
   ]
  },
  {
   "cell_type": "markdown",
   "metadata": {},
   "source": [
    "**Q 10:**\n",
    "\n",
    "Let's consider a function with keys being both numbers and letters.\n",
    "\n",
    "Example: {'a': 'A', 'b': 'B', 2: 200, 'd': 'D', 5: 300, 'f': 'F', 1: 50}\n",
    "\n",
    "Define a function named **alphabetical**.\n",
    "\n",
    "It will delete the elements with keys being number.\n",
    "\n",
    "And it will return the final dictionary which has only alphabetical keys.\n",
    "\n",
    "**Hints:**\n",
    "* Mutate the original dictionary that is the parameter\n",
    "* use two loops\n",
    "* `keys()` for loops\n",
    "* `pop()` for delete\n",
    "* to check if alphabetical -> `isalpha()`\n",
    "* keep in mind `isalpha()` is a string (str) function\n",
    "\n",
    "<pre>\n",
    "Parameter Dictionary:\n",
    "dictionary = {'a': 'A', 'b': 'B', 2: 200, 'd': 'D', 5: 300, 'f': 'F', 1: 50}\n",
    "\n",
    "Expected Output:\n",
    "dictionary before calling alphabetical: {'a': 'A', 'b': 'B', 2: 200, 'd': 'D', 5: 300, 'f': 'F', 1: 50}\n",
    "dictionary after calling alphabetical: {'a': 'A', 'b': 'B', 'd': 'D', 'f': 'F'}\n",
    "</pre>"
   ]
  },
  {
   "cell_type": "code",
   "execution_count": null,
   "metadata": {},
   "outputs": [],
   "source": [
    "# S 10:\n",
    "\n",
    "def alphabetical(dictionary):\n",
    "    \n",
    "    # list to keep keys to delete\n",
    "    keys_to_delete = []\n",
    "    \n",
    "    # get the keys to delete\n",
    "    for key in dictionary.keys():        \n",
    "        if not str(key).isalpha():\n",
    "            keys_to_delete.append(key)\n",
    "            \n",
    "    # loop over keys to delete -> delete that key from the dict\n",
    "    for key in keys_to_delete:\n",
    "        if key in dictionary.keys():\n",
    "            dictionary.pop(key)\n"
   ]
  }
 ],
 "metadata": {
  "kernelspec": {
   "display_name": "Python 3.10.6 64-bit",
   "language": "python",
   "name": "python3"
  },
  "language_info": {
   "name": "python",
   "version": "3.10.6"
  },
  "orig_nbformat": 4,
  "vscode": {
   "interpreter": {
    "hash": "e7370f93d1d0cde622a1f8e1c04877d8463912d04d973331ad4851f04de6915a"
   }
  }
 },
 "nbformat": 4,
 "nbformat_minor": 2
}
