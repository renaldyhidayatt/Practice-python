{
 "cells": [
  {
   "cell_type": "markdown",
   "metadata": {},
   "source": [
    "# Dictionary"
   ]
  },
  {
   "cell_type": "markdown",
   "metadata": {},
   "source": [
    "## What is a Dictionary?"
   ]
  },
  {
   "cell_type": "markdown",
   "metadata": {},
   "source": [
    "Let's say we want to store employee data; name, age, department"
   ]
  },
  {
   "cell_type": "code",
   "execution_count": null,
   "metadata": {},
   "outputs": [],
   "source": [
    "employee = {\n",
    "    'name': 'Klark Kent',\n",
    "    \"age\": 37,\n",
    "    \"department\": 'News Service'\n",
    "}"
   ]
  },
  {
   "cell_type": "markdown",
   "metadata": {},
   "source": [
    "We can think of Dictionaries as a general form Lists."
   ]
  },
  {
   "cell_type": "markdown",
   "metadata": {},
   "source": [
    "In List, indices are integer (int) and they are defined implicitly by Python."
   ]
  },
  {
   "cell_type": "markdown",
   "metadata": {},
   "source": [
    "You don't define indices for lists."
   ]
  },
  {
   "cell_type": "markdown",
   "metadata": {},
   "source": [
    "But for Dictionary, we define indices manually, and they do not have to be integers. They may be any suitable type."
   ]
  },
  {
   "cell_type": "markdown",
   "metadata": {},
   "source": [
    "Element Structure:\n",
    "\n",
    "{ key : value }"
   ]
  },
  {
   "cell_type": "markdown",
   "metadata": {},
   "source": [
    "So in a dictionary, each **key** is mapped to a **value**.\n",
    "\n",
    "Key-Value pairs."
   ]
  },
  {
   "cell_type": "markdown",
   "metadata": {},
   "source": [
    "| Key | Value |\n",
    "| --- | --- |\n",
    "| name | Klark Kent |\n",
    "| age | 37 |\n",
    "| department | News Service |"
   ]
  },
  {
   "cell_type": "markdown",
   "metadata": {},
   "source": [
    "**Keys** must be unique.\n",
    "\n",
    "You can not have duplicate keys."
   ]
  },
  {
   "cell_type": "code",
   "execution_count": null,
   "metadata": {},
   "outputs": [],
   "source": [
    "numbers = {\n",
    "    1: \"one\",\n",
    "    2: \"two\",\n",
    "    3: 'three',\n",
    "    4: 'four'\n",
    "}"
   ]
  },
  {
   "cell_type": "markdown",
   "metadata": {},
   "source": [
    "## Creating a Dictionary"
   ]
  },
  {
   "cell_type": "markdown",
   "metadata": {},
   "source": [
    "List -> create list [] -> list()\n",
    "\n",
    "**Dictionary** -> create dict **{}** -> **dict()**"
   ]
  },
  {
   "cell_type": "code",
   "execution_count": null,
   "metadata": {},
   "outputs": [],
   "source": [
    "# empty dict\n",
    "\n",
    "cars_empty = {}"
   ]
  },
  {
   "cell_type": "code",
   "execution_count": null,
   "metadata": {},
   "outputs": [],
   "source": [
    "type(cars_empty)"
   ]
  },
  {
   "cell_type": "code",
   "execution_count": null,
   "metadata": {},
   "outputs": [],
   "source": [
    "# dict with elements\n",
    "\n",
    "cars = {\n",
    "    'Audi': 'Germany',\n",
    "    'Mazda': 'Japan',\n",
    "    'Fiat': 'Italy'\n",
    "}"
   ]
  },
  {
   "cell_type": "code",
   "execution_count": null,
   "metadata": {},
   "outputs": [],
   "source": [
    "print(cars)"
   ]
  },
  {
   "cell_type": "code",
   "execution_count": null,
   "metadata": {},
   "outputs": [],
   "source": [
    "# empty dict\n",
    "\n",
    "cars_empty_2 = dict()"
   ]
  },
  {
   "cell_type": "code",
   "execution_count": null,
   "metadata": {},
   "outputs": [],
   "source": [
    "# dict with elements\n",
    "\n",
    "cars_2 = dict({\n",
    "    'Audi': 'Germany',\n",
    "    'Mazda': 'Japan',\n",
    "    'Fiat': 'Italy'\n",
    "})"
   ]
  },
  {
   "cell_type": "code",
   "execution_count": null,
   "metadata": {},
   "outputs": [],
   "source": [
    "cars_2"
   ]
  },
  {
   "cell_type": "code",
   "execution_count": null,
   "metadata": {},
   "outputs": [],
   "source": [
    "type(cars_2)"
   ]
  },
  {
   "cell_type": "markdown",
   "metadata": {},
   "source": [
    "**Note:**\n",
    "\n",
    "* In Lists -> we access elements via [] -> my_list[index]\n",
    "* In dict we do not use index -> **my_dic[key]**"
   ]
  },
  {
   "cell_type": "markdown",
   "metadata": {},
   "source": [
    "## Adding Elements to a Dictionary"
   ]
  },
  {
   "cell_type": "markdown",
   "metadata": {},
   "source": [
    "In Lists -> append(), insert()"
   ]
  },
  {
   "cell_type": "markdown",
   "metadata": {},
   "source": [
    "In List we don't have these methods:\n",
    "\n",
    "* my_dic[key] = value\n",
    "* update()"
   ]
  },
  {
   "cell_type": "markdown",
   "metadata": {},
   "source": [
    "Remember:\n",
    "\n",
    "* Dictionary -> `{ key: value }`"
   ]
  },
  {
   "cell_type": "code",
   "execution_count": null,
   "metadata": {},
   "outputs": [],
   "source": [
    "numbers = {\n",
    "    1: \"one\",\n",
    "    2: \"two\",\n",
    "    3: 'three',\n",
    "    4: 'four'\n",
    "}"
   ]
  },
  {
   "cell_type": "code",
   "execution_count": null,
   "metadata": {},
   "outputs": [],
   "source": [
    "type(numbers)"
   ]
  },
  {
   "cell_type": "code",
   "execution_count": null,
   "metadata": {},
   "outputs": [],
   "source": [
    "# add with key\n",
    "\n",
    "numbers[5] = 'five'"
   ]
  },
  {
   "cell_type": "code",
   "execution_count": null,
   "metadata": {},
   "outputs": [],
   "source": [
    "numbers.append({7: 'seven'})"
   ]
  },
  {
   "cell_type": "markdown",
   "metadata": {},
   "source": [
    "**update()**"
   ]
  },
  {
   "cell_type": "code",
   "execution_count": null,
   "metadata": {},
   "outputs": [],
   "source": [
    "car = {\n",
    "    \"brand\": 'Ford',\n",
    "    'model': \"Mustang\",\n",
    "    'year': 1964\n",
    "}\n",
    "\n",
    "car"
   ]
  },
  {
   "cell_type": "code",
   "execution_count": null,
   "metadata": {},
   "outputs": [],
   "source": [
    "# add color into car dict\n",
    "\n",
    "element_to_add = {'color': 'red'}\n",
    "\n",
    "car.update(element_to_add)\n",
    "\n",
    "car"
   ]
  },
  {
   "cell_type": "code",
   "execution_count": null,
   "metadata": {},
   "outputs": [],
   "source": [
    "# add more than one key-value pair\n",
    "\n",
    "elements_to_add = {\n",
    "    'price': 100000,\n",
    "    'motor': 1.6,\n",
    "    'age': 72\n",
    "}\n",
    "\n",
    "car.update(elements_to_add)"
   ]
  },
  {
   "cell_type": "code",
   "execution_count": null,
   "metadata": {},
   "outputs": [],
   "source": [
    "car"
   ]
  },
  {
   "cell_type": "markdown",
   "metadata": {},
   "source": [
    "## Deleting Elements from a Dictionary"
   ]
  },
  {
   "cell_type": "markdown",
   "metadata": {},
   "source": [
    "In Lists to delete -> `pop()`, `del`\n",
    "\n",
    "We use both for Dictionary also."
   ]
  },
  {
   "cell_type": "markdown",
   "metadata": {},
   "source": [
    "**pop()**\n",
    "\n",
    "It returns the deleted element."
   ]
  },
  {
   "cell_type": "code",
   "execution_count": null,
   "metadata": {},
   "outputs": [],
   "source": [
    "\n",
    "number_names = {}\n",
    "\n",
    "number_names['one'] = 1\n",
    "number_names['two'] = 2\n",
    "number_names['three'] = 3\n",
    "number_names['four'] = 4\n",
    "number_names['five'] = 5\n",
    "number_names['six'] = 6\n",
    "number_names['seven'] = 7\n",
    "number_names['eight'] = 8\n",
    "\n",
    "number_names"
   ]
  },
  {
   "cell_type": "code",
   "execution_count": null,
   "metadata": {},
   "outputs": [],
   "source": [
    "deleted_element = number_names.pop('eight')"
   ]
  },
  {
   "cell_type": "code",
   "execution_count": null,
   "metadata": {},
   "outputs": [],
   "source": [
    "number_names"
   ]
  },
  {
   "cell_type": "code",
   "execution_count": null,
   "metadata": {},
   "outputs": [],
   "source": [
    "number_names.pop('seven')"
   ]
  },
  {
   "cell_type": "code",
   "execution_count": null,
   "metadata": {},
   "outputs": [],
   "source": [
    "deleted_element = number_names.pop('four')"
   ]
  },
  {
   "cell_type": "code",
   "execution_count": null,
   "metadata": {},
   "outputs": [],
   "source": [
    "deleted_element"
   ]
  },
  {
   "cell_type": "code",
   "execution_count": null,
   "metadata": {},
   "outputs": [],
   "source": [
    "number_names"
   ]
  },
  {
   "cell_type": "markdown",
   "metadata": {},
   "source": [
    "**del**:\n",
    "\n",
    "Doesn't return the element."
   ]
  },
  {
   "cell_type": "code",
   "execution_count": null,
   "metadata": {},
   "outputs": [],
   "source": [
    "number_names = dict()\n",
    "\n",
    "number_names['one'] = 1\n",
    "number_names['two'] = 2\n",
    "number_names['three'] = 3\n",
    "number_names['four'] = 4\n",
    "number_names['five'] = 5\n",
    "number_names['six'] = 6\n",
    "number_names['seven'] = 7\n",
    "number_names['eight'] = 8\n",
    "\n",
    "number_names"
   ]
  },
  {
   "cell_type": "code",
   "execution_count": null,
   "metadata": {},
   "outputs": [],
   "source": [
    "del number_names['one']"
   ]
  },
  {
   "cell_type": "code",
   "execution_count": null,
   "metadata": {},
   "outputs": [],
   "source": [
    "number_names"
   ]
  },
  {
   "cell_type": "markdown",
   "metadata": {},
   "source": [
    "## Read Elements from a Dictionary"
   ]
  },
  {
   "cell_type": "markdown",
   "metadata": {},
   "source": [
    "dict[key] => value"
   ]
  },
  {
   "cell_type": "code",
   "execution_count": null,
   "metadata": {},
   "outputs": [],
   "source": [
    "number_names = dict()\n",
    "\n",
    "number_names['one'] = 1\n",
    "number_names['two'] = 2\n",
    "number_names['three'] = 3\n",
    "number_names['four'] = 4\n",
    "number_names['five'] = 5\n",
    "number_names['six'] = 6\n",
    "number_names['seven'] = 7\n",
    "number_names['eight'] = 8\n",
    "\n",
    "number_names"
   ]
  },
  {
   "cell_type": "code",
   "execution_count": null,
   "metadata": {},
   "outputs": [],
   "source": [
    "number_names['seven']"
   ]
  },
  {
   "cell_type": "markdown",
   "metadata": {},
   "source": [
    "**dict.items()**\n",
    "\n",
    "Returns the items as `key-value` pairs."
   ]
  },
  {
   "cell_type": "code",
   "execution_count": null,
   "metadata": {},
   "outputs": [],
   "source": [
    "number_names.items()"
   ]
  },
  {
   "cell_type": "markdown",
   "metadata": {},
   "source": [
    "**dict.keys()**\n",
    "\n",
    "Returns only the keys."
   ]
  },
  {
   "cell_type": "code",
   "execution_count": null,
   "metadata": {},
   "outputs": [],
   "source": [
    "number_names.values()"
   ]
  },
  {
   "cell_type": "code",
   "execution_count": null,
   "metadata": {},
   "outputs": [],
   "source": [
    "# with for loop, print the items\n",
    "\n",
    "for key, value in number_names.items():\n",
    "    print(key, ':', value)\n",
    "    "
   ]
  },
  {
   "cell_type": "code",
   "execution_count": null,
   "metadata": {},
   "outputs": [],
   "source": [
    "for k, v in number_names.items():\n",
    "    print(k, ':', v)\n"
   ]
  },
  {
   "cell_type": "code",
   "execution_count": null,
   "metadata": {},
   "outputs": [],
   "source": [
    "# only the keys\n",
    "\n",
    "for k in number_names.keys():\n",
    "    print(k)\n"
   ]
  },
  {
   "cell_type": "code",
   "execution_count": null,
   "metadata": {},
   "outputs": [],
   "source": [
    "# only the values\n",
    "\n",
    "for p in number_names.values():\n",
    "    print(p)\n",
    "    "
   ]
  },
  {
   "cell_type": "code",
   "execution_count": null,
   "metadata": {},
   "outputs": [],
   "source": [
    "car = {\n",
    "    'brand': 'Ford',\n",
    "     'model': 'Mustang',\n",
    "     'year': 1964,\n",
    "     'color': 'red',\n",
    "     'age': 72,\n",
    "     'price': 100000,\n",
    "     'motor': 1.6\n",
    "}"
   ]
  },
  {
   "cell_type": "code",
   "execution_count": null,
   "metadata": {},
   "outputs": [],
   "source": [
    "car"
   ]
  },
  {
   "cell_type": "code",
   "execution_count": null,
   "metadata": {},
   "outputs": [],
   "source": [
    "car['brand']"
   ]
  },
  {
   "cell_type": "markdown",
   "metadata": {},
   "source": [
    "**get()**\n",
    "\n",
    "It returns the element if exists, None if not."
   ]
  },
  {
   "cell_type": "code",
   "execution_count": null,
   "metadata": {},
   "outputs": [],
   "source": [
    "car.get('brand')"
   ]
  },
  {
   "cell_type": "markdown",
   "metadata": {},
   "source": [
    "**len()**\n",
    "\n",
    "It gives you the length of Dictionary -> number of key-value pair."
   ]
  },
  {
   "cell_type": "code",
   "execution_count": null,
   "metadata": {},
   "outputs": [],
   "source": [
    "len(car)"
   ]
  },
  {
   "cell_type": "markdown",
   "metadata": {},
   "source": [
    "**in**\n",
    "\n",
    "To check if the key is in Dictionary Keys."
   ]
  },
  {
   "cell_type": "code",
   "execution_count": null,
   "metadata": {},
   "outputs": [],
   "source": [
    "'height' in car.keys()"
   ]
  },
  {
   "cell_type": "markdown",
   "metadata": {},
   "source": [
    "## Loop Over Dictionary"
   ]
  },
  {
   "cell_type": "code",
   "execution_count": null,
   "metadata": {},
   "outputs": [],
   "source": [
    "cars = {\n",
    "    'Audi': 'Germany',\n",
    "    'Mazda': 'Japan',\n",
    "    'Fiat': 'Italy',\n",
    "    'Ford': 'US'\n",
    "}\n",
    "\n",
    "cars"
   ]
  },
  {
   "cell_type": "markdown",
   "metadata": {},
   "source": [
    "**items(), keys(), values()**"
   ]
  },
  {
   "cell_type": "code",
   "execution_count": null,
   "metadata": {},
   "outputs": [],
   "source": [
    "\n",
    "for car in cars.items():\n",
    "    print(car)\n"
   ]
  },
  {
   "cell_type": "code",
   "execution_count": null,
   "metadata": {},
   "outputs": [],
   "source": [
    "# deconstructing\n",
    "\n",
    "for brand, country in cars.items():\n",
    "    print(brand, '-', country)\n",
    "    "
   ]
  },
  {
   "cell_type": "code",
   "execution_count": null,
   "metadata": {},
   "outputs": [],
   "source": [
    "for country in cars.values():\n",
    "    print(country)"
   ]
  },
  {
   "cell_type": "markdown",
   "metadata": {},
   "source": [
    "**Example:**\n",
    "\n",
    "Define a function named **count_letters**.\n",
    "\n",
    "It will count each letter in a text and print.\n",
    "\n",
    "Ex: {'a': 3, 's': 3, 'e': 1 }"
   ]
  },
  {
   "cell_type": "code",
   "execution_count": null,
   "metadata": {},
   "outputs": [],
   "source": [
    "# Solution #1\n",
    "\n",
    "def count_letters(text):\n",
    "    \n",
    "    # a dict for numbers and counts\n",
    "    letters = {}\n",
    "    \n",
    "    for l in text:\n",
    "        \n",
    "        # check if l is alphanumeric\n",
    "        if l.isalpha():\n",
    "            # check if this letter is already in dict\n",
    "            if l in letters.keys():\n",
    "                letters[l] += 1\n",
    "\n",
    "            # first time\n",
    "            else:\n",
    "                letters[l] = 1\n",
    "    \n",
    "    return letters\n",
    "    "
   ]
  },
  {
   "cell_type": "code",
   "execution_count": null,
   "metadata": {},
   "outputs": [],
   "source": [
    "text = 'example text'\n",
    "letters = count_letters(text)\n",
    "letters"
   ]
  },
  {
   "cell_type": "code",
   "execution_count": null,
   "metadata": {},
   "outputs": [],
   "source": [
    "# Solution #1\n",
    "# More Pythonic\n",
    "\n",
    "def count_letters_2(text):\n",
    "    \n",
    "    # a dict for numbers and counts\n",
    "    letters = dict()\n",
    "    \n",
    "    for char in text:\n",
    "        \n",
    "        if char.isalpha():\n",
    "            letters[char] = letters.get(char, 0) + 1\n",
    "            \n",
    "    return letters\n",
    "    "
   ]
  },
  {
   "cell_type": "code",
   "execution_count": null,
   "metadata": {},
   "outputs": [],
   "source": [
    "letters"
   ]
  },
  {
   "cell_type": "code",
   "execution_count": null,
   "metadata": {},
   "outputs": [],
   "source": [
    "letters.get('e')"
   ]
  },
  {
   "cell_type": "code",
   "execution_count": null,
   "metadata": {},
   "outputs": [],
   "source": [
    "text = 'example text!'\n",
    "letters = count_letters_2(text)\n",
    "letters"
   ]
  },
  {
   "cell_type": "markdown",
   "metadata": {},
   "source": [
    "## Reverse Lookup"
   ]
  },
  {
   "cell_type": "markdown",
   "metadata": {},
   "source": [
    "In dictionaries we mainly look for a key and try to find the value corresponding to that key.\n",
    "\n",
    "That is the main idea of dictionary search in Python.\n",
    "\n",
    "And its very fast because it use **hashtable** structure."
   ]
  },
  {
   "cell_type": "markdown",
   "metadata": {},
   "source": [
    "Now, let's say we want to do the opposite.\n",
    "\n",
    "Let's assume, we have a value this time and what to find the key corresponding this value.\n",
    "\n",
    "Consequences:\n",
    "* There might be more than one key mapping to the same value\n",
    "* It will cause to memory cost"
   ]
  },
  {
   "cell_type": "code",
   "execution_count": null,
   "metadata": {},
   "outputs": [],
   "source": [
    "\n",
    "def reverse_lookup(dictionary, value):\n",
    "    \n",
    "    # loop over the dictionary\n",
    "    for key in dictionary:\n",
    "        \n",
    "        # check if the value with this key == value\n",
    "        if dictionary[key] == value:\n",
    "            # we found the key\n",
    "            return key\n"
   ]
  },
  {
   "cell_type": "code",
   "execution_count": null,
   "metadata": {},
   "outputs": [],
   "source": [
    "dictionary = {\n",
    "    'a': 2,\n",
    "    'b': 1,\n",
    "    'c': 4,\n",
    "    'd': 3,\n",
    "    'e': 2\n",
    "}\n",
    "\n",
    "dictionary"
   ]
  },
  {
   "cell_type": "code",
   "execution_count": null,
   "metadata": {},
   "outputs": [],
   "source": [
    "value = 2\n",
    "\n",
    "reverse_lookup(dictionary, value)"
   ]
  },
  {
   "cell_type": "markdown",
   "metadata": {},
   "source": [
    "Let's raise an error."
   ]
  },
  {
   "cell_type": "code",
   "execution_count": null,
   "metadata": {},
   "outputs": [],
   "source": [
    "def reverse_lookup_2(dictionary, value):\n",
    "    \n",
    "    # loop over the dictionary\n",
    "    for key in dictionary:\n",
    "        \n",
    "        # check if the value with this key == value\n",
    "        if dictionary[key] == value:\n",
    "            # we found the key\n",
    "            return key\n",
    "    else:\n",
    "        # raise error\n",
    "        raise KeyError('We could not find with this value:', value)\n",
    "    "
   ]
  },
  {
   "cell_type": "code",
   "execution_count": null,
   "metadata": {},
   "outputs": [],
   "source": [
    "value = 333\n",
    "\n",
    "reverse_lookup_2(dictionary, value)"
   ]
  },
  {
   "cell_type": "markdown",
   "metadata": {},
   "source": [
    "## Dictionary & List"
   ]
  },
  {
   "cell_type": "markdown",
   "metadata": {},
   "source": [
    "Lists can be used as values in Dictionaries."
   ]
  },
  {
   "cell_type": "markdown",
   "metadata": {},
   "source": [
    "Ex: for each letter in a text we can keep the number as key and value as list of letter:"
   ]
  },
  {
   "cell_type": "raw",
   "metadata": {},
   "source": [
    "{\n",
    " 1: ['k', 'd'],\n",
    " 2: ['e', 'g', 'l'],\n",
    " 3: ['a'],\n",
    " 4: ['i', 's']\n",
    "}"
   ]
  },
  {
   "cell_type": "code",
   "execution_count": null,
   "metadata": {},
   "outputs": [],
   "source": [
    "\n",
    "def lists_of_letters(text):\n",
    "    \n",
    "    # get the dictionary of occurences\n",
    "    dictionary = count_letters_2(text)\n",
    "    \n",
    "    letters = {}\n",
    "    \n",
    "    for key in dictionary:\n",
    "        \n",
    "        # get value\n",
    "        value = dictionary[key]\n",
    "        \n",
    "        # if this value is not in keys -> add it and assing a list of key\n",
    "        if value not in letters:\n",
    "            letters[value] = [key]\n",
    "        else:\n",
    "            # this value is in letters keys\n",
    "            letters[value].append(key)\n",
    "            \n",
    "    return letters\n"
   ]
  },
  {
   "cell_type": "code",
   "execution_count": null,
   "metadata": {},
   "outputs": [],
   "source": [
    "text = 'example text!'\n",
    "letters_numbers = lists_of_letters(text)\n",
    "letters_numbers"
   ]
  },
  {
   "cell_type": "markdown",
   "metadata": {},
   "source": [
    "**Very Important:**\n",
    "\n",
    "* Lists can be used as values of Dictionaries.\n",
    "* But **can not be used as keys** of Dictionaries."
   ]
  },
  {
   "cell_type": "code",
   "execution_count": null,
   "metadata": {},
   "outputs": [],
   "source": [
    "# list\n",
    "a = [1, 2]\n",
    "\n",
    "# dict\n",
    "s = dict()\n",
    "\n",
    "# pass list as key\n",
    "s[a] = 'my list'"
   ]
  },
  {
   "cell_type": "markdown",
   "metadata": {},
   "source": [
    "**Rule of Thumb:**\n",
    "\n",
    "* Dictionary Keys must be **hashable** types."
   ]
  },
  {
   "cell_type": "markdown",
   "metadata": {},
   "source": [
    "**hash** is a function which takes any value but returns an integer for that value."
   ]
  },
  {
   "cell_type": "raw",
   "metadata": {},
   "source": [
    "Immutable\n",
    "'some text'  ---->  hash(some_text)  ----->  14478565  (NOT CHANGE HASH)\n",
    "\n",
    "Mutable\n",
    "[1, 2, 'a', 'c', 'd'] -----> hash(some_list)  ----->  877820823657  (CHANGE HASH)"
   ]
  },
  {
   "cell_type": "markdown",
   "metadata": {},
   "source": [
    "Dictionary uses this **hash value** of keys to access them.\n",
    "\n",
    "It uses this hash value like an index."
   ]
  },
  {
   "cell_type": "markdown",
   "metadata": {},
   "source": [
    "**Mutable vs. Immutable**:\n",
    "\n",
    "* Hash values for Mutable types may change (because they can be mutated)\n",
    "* Hash values for Immutable types can not change (they can not be mutated)"
   ]
  },
  {
   "cell_type": "markdown",
   "metadata": {},
   "source": [
    "That's why:\n",
    "* **Mutable** Types can **not** be keys for Dictionary\n",
    "* Immutable Types can be keys for Dictionary"
   ]
  },
  {
   "cell_type": "markdown",
   "metadata": {},
   "source": [
    "Python Mutable vs. Immutable Types and If They can be Keys for Dictionary:\n",
    "\n",
    "| Type | Desc. | Immutable? | Can be Key for Dictionary? | \n",
    "| --- | --- | --- | --- |\n",
    "| int | Integer | $\\checkmark$ | $\\checkmark$ |\n",
    "| float | Float | $\\checkmark$ | $\\checkmark$ |\n",
    "| bool | Boolean | $\\checkmark$ | $\\checkmark$ |\n",
    "| str | String | $\\checkmark$ | $\\checkmark$ |\n",
    "| list | List |  |  |\n",
    "| tuple | Tuple | $\\checkmark$ | $\\checkmark$ |\n",
    "| dict | Dictionary |  |  |\n",
    "| set | Set |  |  |\n",
    "| frozenset | Frozen Set | $\\checkmark$ | $\\checkmark$ |"
   ]
  },
  {
   "cell_type": "markdown",
   "metadata": {},
   "source": [
    "* Immutable Types can be Keys for Dictionary.\n",
    "* Mutable Types can not.\n",
    "    * List\n",
    "    * Dictionary\n",
    "    * Set"
   ]
  },
  {
   "cell_type": "code",
   "execution_count": null,
   "metadata": {},
   "outputs": [],
   "source": [
    "s = dict()\n",
    "\n",
    "s[True] = 'Correct'\n",
    "s[False] = 'Incorrect'\n",
    "\n",
    "\n",
    "s[5] = 'five'\n",
    "s[4.8] = 'four-dot-eight'\n",
    "\n",
    "s['final'] = 124545454"
   ]
  },
  {
   "cell_type": "code",
   "execution_count": null,
   "metadata": {},
   "outputs": [],
   "source": [
    "s"
   ]
  }
 ],
 "metadata": {
  "kernelspec": {
   "display_name": "Python 3.10.6 64-bit",
   "language": "python",
   "name": "python3"
  },
  "language_info": {
   "name": "python",
   "version": "3.10.6"
  },
  "orig_nbformat": 4,
  "vscode": {
   "interpreter": {
    "hash": "e7370f93d1d0cde622a1f8e1c04877d8463912d04d973331ad4851f04de6915a"
   }
  }
 },
 "nbformat": 4,
 "nbformat_minor": 2
}
