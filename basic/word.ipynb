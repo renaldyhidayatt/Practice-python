{
 "cells": [
  {
   "cell_type": "markdown",
   "metadata": {},
   "source": [
    "**Preparation:**\n",
    "\n",
    "To read the words:\n",
    "\n",
    "* open() function\n",
    "    * open(file, mode)\n",
    "    * mode:\n",
    "        * r: read (default)\n",
    "        * a: append\n",
    "        * w: write\n",
    "        * x: create"
   ]
  },
  {
   "cell_type": "code",
   "execution_count": 51,
   "metadata": {},
   "outputs": [],
   "source": [
    "file = open(\"word.txt\")"
   ]
  },
  {
   "cell_type": "code",
   "execution_count": 52,
   "metadata": {},
   "outputs": [
    {
     "data": {
      "text/plain": [
       "'Apakah Lorem Ipsum itu?\\n'"
      ]
     },
     "execution_count": 52,
     "metadata": {},
     "output_type": "execute_result"
    }
   ],
   "source": [
    "file.readline()"
   ]
  },
  {
   "cell_type": "code",
   "execution_count": 53,
   "metadata": {},
   "outputs": [
    {
     "data": {
      "text/plain": [
       "'Lorem Ipsum adalah contoh teks atau dummy dalam industri percetakan dan penataan huruf atau typesetting. Lorem Ipsum telah menjadi standar contoh teks sejak tahun 1500an, saat seorang tukang cetak yang tidak dikenal mengambil sebuah kumpulan teks dan mengacaknya untuk menjadi sebuah buku contoh huruf. Ia tidak hanya bertahan selama 5 abad, tapi juga telah beralih ke penataan huruf elektronik, tanpa ada perubahan apapun. Ia mulai dipopulerkan pada tahun 1960 dengan diluncurkannya lembaran-lembaran Letraset yang menggunakan kalimat-kalimat dari Lorem Ipsum, dan seiring munculnya perangkat lunak Desktop Publishing seperti Aldus PageMaker juga memiliki versi Lorem Ipsum.\\n'"
      ]
     },
     "execution_count": 53,
     "metadata": {},
     "output_type": "execute_result"
    }
   ],
   "source": [
    "file.readline()"
   ]
  },
  {
   "cell_type": "code",
   "execution_count": 54,
   "metadata": {},
   "outputs": [
    {
     "name": "stdout",
     "output_type": "stream",
     "text": [
      "Apakah Lorem Ipsum itu?\n",
      "\n",
      "Lorem Ipsum adalah contoh teks atau dummy dalam industri percetakan dan penataan huruf atau typesetting. Lorem Ipsum telah menjadi standar contoh teks sejak tahun 1500an, saat seorang tukang cetak yang tidak dikenal mengambil sebuah kumpulan teks dan mengacaknya untuk menjadi sebuah buku contoh huruf. Ia tidak hanya bertahan selama 5 abad, tapi juga telah beralih ke penataan huruf elektronik, tanpa ada perubahan apapun. Ia mulai dipopulerkan pada tahun 1960 dengan diluncurkannya lembaran-lembaran Letraset yang menggunakan kalimat-kalimat dari Lorem Ipsum, dan seiring munculnya perangkat lunak Desktop Publishing seperti Aldus PageMaker juga memiliki versi Lorem Ipsum.\n",
      "\n",
      "\n",
      "\n",
      "Dari mana asalnya?\n",
      "\n",
      "Tidak seperti anggapan banyak orang, Lorem Ipsum bukanlah teks-teks yang diacak. Ia berakar dari sebuah naskah sastra latin klasik dari era 45 sebelum masehi, hingga bisa dipastikan usianya telah mencapai lebih dari 2000 tahun. Richard McClintock, seorang professor Bahasa Latin dari Hampden-Sidney College di Virginia, mencoba mencari makna salah satu kata latin yang dianggap paling tidak jelas, yakni consectetur, yang diambil dari salah satu bagian Lorem Ipsum. Setelah ia mencari maknanya di di literatur klasik, ia mendapatkan sebuah sumber yang tidak bisa diragukan. Lorem Ipsum berasal dari bagian 1.10.32 dan 1.10.33 dari naskah \"de Finibus Bonorum et Malorum\" (Sisi Ekstrim dari Kebaikan dan Kejahatan) karya Cicero, yang ditulis pada tahun 45 sebelum masehi. BUku ini adalah risalah dari teori etika yang sangat terkenal pada masa Renaissance. Baris pertama dari Lorem Ipsum, \"Lorem ipsum dolor sit amet..\", berasal dari sebuah baris di bagian 1.10.32.\n"
     ]
    }
   ],
   "source": [
    "file = open(\"word.txt\")\n",
    "\n",
    "for index, line in enumerate(file):\n",
    "    if index <= 20:\n",
    "        print(line)"
   ]
  },
  {
   "cell_type": "code",
   "execution_count": 55,
   "metadata": {},
   "outputs": [
    {
     "name": "stdout",
     "output_type": "stream",
     "text": [
      "['Apakah', 'Lorem', 'Ipsum', 'itu?']\n",
      "['Lorem', 'Ipsum', 'adalah', 'contoh', 'teks', 'atau', 'dummy', 'dalam', 'industri', 'percetakan', 'dan', 'penataan', 'huruf', 'atau', 'typesetting.', 'Lorem', 'Ipsum', 'telah', 'menjadi', 'standar', 'contoh', 'teks', 'sejak', 'tahun', '1500an,', 'saat', 'seorang', 'tukang', 'cetak', 'yang', 'tidak', 'dikenal', 'mengambil', 'sebuah', 'kumpulan', 'teks', 'dan', 'mengacaknya', 'untuk', 'menjadi', 'sebuah', 'buku', 'contoh', 'huruf.', 'Ia', 'tidak', 'hanya', 'bertahan', 'selama', '5', 'abad,', 'tapi', 'juga', 'telah', 'beralih', 'ke', 'penataan', 'huruf', 'elektronik,', 'tanpa', 'ada', 'perubahan', 'apapun.', 'Ia', 'mulai', 'dipopulerkan', 'pada', 'tahun', '1960', 'dengan', 'diluncurkannya', 'lembaran-lembaran', 'Letraset', 'yang', 'menggunakan', 'kalimat-kalimat', 'dari', 'Lorem', 'Ipsum,', 'dan', 'seiring', 'munculnya', 'perangkat', 'lunak', 'Desktop', 'Publishing', 'seperti', 'Aldus', 'PageMaker', 'juga', 'memiliki', 'versi', 'Lorem', 'Ipsum.']\n",
      "[]\n",
      "['Dari', 'mana', 'asalnya?']\n",
      "['Tidak', 'seperti', 'anggapan', 'banyak', 'orang,', 'Lorem', 'Ipsum', 'bukanlah', 'teks-teks', 'yang', 'diacak.', 'Ia', 'berakar', 'dari', 'sebuah', 'naskah', 'sastra', 'latin', 'klasik', 'dari', 'era', '45', 'sebelum', 'masehi,', 'hingga', 'bisa', 'dipastikan', 'usianya', 'telah', 'mencapai', 'lebih', 'dari', '2000', 'tahun.', 'Richard', 'McClintock,', 'seorang', 'professor', 'Bahasa', 'Latin', 'dari', 'Hampden-Sidney', 'College', 'di', 'Virginia,', 'mencoba', 'mencari', 'makna', 'salah', 'satu', 'kata', 'latin', 'yang', 'dianggap', 'paling', 'tidak', 'jelas,', 'yakni', 'consectetur,', 'yang', 'diambil', 'dari', 'salah', 'satu', 'bagian', 'Lorem', 'Ipsum.', 'Setelah', 'ia', 'mencari', 'maknanya', 'di', 'di', 'literatur', 'klasik,', 'ia', 'mendapatkan', 'sebuah', 'sumber', 'yang', 'tidak', 'bisa', 'diragukan.', 'Lorem', 'Ipsum', 'berasal', 'dari', 'bagian', '1.10.32', 'dan', '1.10.33', 'dari', 'naskah', '\"de', 'Finibus', 'Bonorum', 'et', 'Malorum\"', '(Sisi', 'Ekstrim', 'dari', 'Kebaikan', 'dan', 'Kejahatan)', 'karya', 'Cicero,', 'yang', 'ditulis', 'pada', 'tahun', '45', 'sebelum', 'masehi.', 'BUku', 'ini', 'adalah', 'risalah', 'dari', 'teori', 'etika', 'yang', 'sangat', 'terkenal', 'pada', 'masa', 'Renaissance.', 'Baris', 'pertama', 'dari', 'Lorem', 'Ipsum,', '\"Lorem', 'ipsum', 'dolor', 'sit', 'amet..\",', 'berasal', 'dari', 'sebuah', 'baris', 'di', 'bagian', '1.10.32.']\n"
     ]
    }
   ],
   "source": [
    "# remove new line\n",
    "\n",
    "file = open('word.txt')\n",
    "\n",
    "for index, line in enumerate(file):\n",
    "    \n",
    "    if index <= 20:\n",
    "        \n",
    "        # split() -> splits the text from space chars (space, \\n new line, carriage return)\n",
    "        word_list = line.split()\n",
    "        print(word_list)\n"
   ]
  },
  {
   "cell_type": "code",
   "execution_count": 56,
   "metadata": {},
   "outputs": [],
   "source": [
    "# file = open('word.txt')\n",
    "\n",
    "# for line in file:\n",
    "    \n",
    "#     # split() -> \\n\n",
    "#     word_list = line.split()\n",
    "    \n",
    "#     # word is the first element in list\n",
    "#     word = word_list[0]\n",
    "    \n",
    "#     # check number of letters\n",
    "#     if len(word) > 10:\n",
    "#         print(word)"
   ]
  },
  {
   "cell_type": "code",
   "execution_count": 57,
   "metadata": {},
   "outputs": [],
   "source": [
    "\n",
    "def check_for_vowels():\n",
    "    \n",
    "    # read the file\n",
    "    file = open('word.txt')\n",
    "    \n",
    "    for line in file:\n",
    "        \n",
    "        # split() -> \\n\n",
    "        word_list = line.split()\n",
    "\n",
    "        # word is the first element in list\n",
    "        word = word_list[0]\n",
    "        \n",
    "        # check if included vowel\n",
    "        if not 'a' in word and \\\n",
    "           not 'e' in word and \\\n",
    "           not 'i' in word and \\\n",
    "           not 'o' in word and \\\n",
    "           not 'u' in word:\n",
    "            print(word)"
   ]
  },
  {
   "cell_type": "code",
   "execution_count": 58,
   "metadata": {},
   "outputs": [
    {
     "ename": "FileNotFoundError",
     "evalue": "[Errno 2] No such file or directory: 'words.txt'",
     "output_type": "error",
     "traceback": [
      "\u001b[0;31m---------------------------------------------------------------------------\u001b[0m",
      "\u001b[0;31mFileNotFoundError\u001b[0m                         Traceback (most recent call last)",
      "Cell \u001b[0;32mIn [58], line 1\u001b[0m\n\u001b[0;32m----> 1\u001b[0m \u001b[43mcheck_for_vowels\u001b[49m\u001b[43m(\u001b[49m\u001b[43m)\u001b[49m\n",
      "Cell \u001b[0;32mIn [57], line 4\u001b[0m, in \u001b[0;36mcheck_for_vowels\u001b[0;34m()\u001b[0m\n\u001b[1;32m      1\u001b[0m \u001b[38;5;28;01mdef\u001b[39;00m \u001b[38;5;21mcheck_for_vowels\u001b[39m():\n\u001b[1;32m      2\u001b[0m     \n\u001b[1;32m      3\u001b[0m     \u001b[38;5;66;03m# read the file\u001b[39;00m\n\u001b[0;32m----> 4\u001b[0m     file \u001b[38;5;241m=\u001b[39m \u001b[38;5;28;43mopen\u001b[39;49m\u001b[43m(\u001b[49m\u001b[38;5;124;43m'\u001b[39;49m\u001b[38;5;124;43mwords.txt\u001b[39;49m\u001b[38;5;124;43m'\u001b[39;49m\u001b[43m)\u001b[49m\n\u001b[1;32m      6\u001b[0m     \u001b[38;5;28;01mfor\u001b[39;00m line \u001b[38;5;129;01min\u001b[39;00m file:\n\u001b[1;32m      7\u001b[0m         \n\u001b[1;32m      8\u001b[0m         \u001b[38;5;66;03m# split() -> \\n\u001b[39;00m\n\u001b[1;32m      9\u001b[0m         word_list \u001b[38;5;241m=\u001b[39m line\u001b[38;5;241m.\u001b[39msplit()\n",
      "\u001b[0;31mFileNotFoundError\u001b[0m: [Errno 2] No such file or directory: 'words.txt'"
     ]
    }
   ],
   "source": [
    "check_for_vowels()"
   ]
  }
 ],
 "metadata": {
  "kernelspec": {
   "display_name": "Python 3.10.6 64-bit",
   "language": "python",
   "name": "python3"
  },
  "language_info": {
   "codemirror_mode": {
    "name": "ipython",
    "version": 3
   },
   "file_extension": ".py",
   "mimetype": "text/x-python",
   "name": "python",
   "nbconvert_exporter": "python",
   "pygments_lexer": "ipython3",
   "version": "3.10.6"
  },
  "orig_nbformat": 4,
  "vscode": {
   "interpreter": {
    "hash": "e7370f93d1d0cde622a1f8e1c04877d8463912d04d973331ad4851f04de6915a"
   }
  }
 },
 "nbformat": 4,
 "nbformat_minor": 2
}
