{
 "cells": [
  {
   "cell_type": "code",
   "execution_count": 3,
   "metadata": {},
   "outputs": [
    {
     "name": "stdout",
     "output_type": "stream",
     "text": [
      "['3', '8']\n"
     ]
    }
   ],
   "source": [
    "import re\n",
    " \n",
    " \n",
    "text = 'Python 3.8'\n",
    "print(re.findall(pattern=r'\\d', string=text))"
   ]
  },
  {
   "cell_type": "code",
   "execution_count": 4,
   "metadata": {},
   "outputs": [
    {
     "name": "stdout",
     "output_type": "stream",
     "text": [
      "['P', 'y', 't', 'h', 'o', 'n', ' ', '.']\n"
     ]
    }
   ],
   "source": [
    "import re\n",
    " \n",
    " \n",
    "text = 'Python 3.8'\n",
    "print(re.findall(pattern=r'\\D', string=text))"
   ]
  },
  {
   "cell_type": "code",
   "execution_count": 5,
   "metadata": {},
   "outputs": [
    {
     "name": "stdout",
     "output_type": "stream",
     "text": [
      "['1', '4', '2', '3']\n"
     ]
    }
   ],
   "source": [
    "import re\n",
    " \n",
    " \n",
    "code = '0010-000-423'\n",
    "print(re.findall(pattern=r\"[^0-]\", string=code))"
   ]
  },
  {
   "cell_type": "code",
   "execution_count": 6,
   "metadata": {},
   "outputs": [
    {
     "name": "stdout",
     "output_type": "stream",
     "text": [
      "['0010', '000', '423', '22']\n"
     ]
    }
   ],
   "source": [
    "import re\n",
    " \n",
    " \n",
    "code = '0010-000-423-22'\n",
    "print(re.findall(pattern=r\"[^-]+\", string=code))"
   ]
  },
  {
   "cell_type": "code",
   "execution_count": 7,
   "metadata": {},
   "outputs": [
    {
     "name": "stdout",
     "output_type": "stream",
     "text": [
      "['PL', '110']\n"
     ]
    }
   ],
   "source": [
    "import re\n",
    " \n",
    " \n",
    "code = 'PL code: XG-GH-110'\n",
    "print(re.findall(pattern=r\"PL|\\d+\", string=code))"
   ]
  },
  {
   "cell_type": "code",
   "execution_count": 8,
   "metadata": {},
   "outputs": [
    {
     "name": "stdout",
     "output_type": "stream",
     "text": [
      "['info@template.com', 'sales-info@template.it']\n"
     ]
    }
   ],
   "source": [
    "import re\n",
    " \n",
    " \n",
    "text = (\n",
    "    \"Please send an email to info@template.com or \"\n",
    "    \"sales-info@template.it\"\n",
    ")\n",
    "print(re.findall(r\"[\\w\\.-]+@[\\w\\.-]+\", text))"
   ]
  },
  {
   "cell_type": "code",
   "execution_count": 9,
   "metadata": {},
   "outputs": [
    {
     "name": "stdout",
     "output_type": "stream",
     "text": [
      "['Python', 'plays', 'a', 'key', 'role', 'in', 'our', 'production', 'pipeline', 'Without', 'it', 'a', 'project', 'the', 'size', 'of', 'Star', 'Wars', 'Episode', 'II', 'would', 'have', 'been', 'very', 'difficult', 'to', 'pull', 'off']\n"
     ]
    }
   ],
   "source": [
    "import re\n",
    " \n",
    " \n",
    "text = \"\"\"Python plays a key role in our production pipeline.\n",
    "Without it a project the size of Star Wars: Episode II would have been very difficult to pull off.\"\"\"\n",
    " \n",
    "print(re.findall(pattern=r\"\\w+\", string=text))"
   ]
  },
  {
   "cell_type": "code",
   "execution_count": 10,
   "metadata": {},
   "outputs": [
    {
     "name": "stdout",
     "output_type": "stream",
     "text": [
      "['Python', 'Without', 'Star', 'Wars', 'Episode', 'II']\n"
     ]
    }
   ],
   "source": [
    "import re\n",
    " \n",
    " \n",
    "text = \"\"\"Python plays a key role in our production pipeline.\n",
    "Without it a project the size of Star Wars: Episode II would have been very difficult to pull off.\"\"\"\n",
    " \n",
    "print(re.findall(pattern=r\"[A-Z]\\w+\", string=text))"
   ]
  },
  {
   "cell_type": "code",
   "execution_count": 11,
   "metadata": {},
   "outputs": [
    {
     "name": "stdout",
     "output_type": "stream",
     "text": [
      "123-456-789\n"
     ]
    }
   ],
   "source": [
    "import re\n",
    " \n",
    " \n",
    "message = 'For more information, please call: 123-456-789'\n",
    "print(re.findall(r\"\\d{3}-\\d{3}-\\d{3}\", message)[0])"
   ]
  },
  {
   "cell_type": "code",
   "execution_count": 12,
   "metadata": {},
   "outputs": [
    {
     "name": "stdout",
     "output_type": "stream",
     "text": [
      "Please send an email to info@template.com or call to: ***-***-***.\n"
     ]
    }
   ],
   "source": [
    "import re\n",
    " \n",
    " \n",
    "text = (\n",
    "    \"Please send an email to info@template.com or \"\n",
    "    \"call to: 123-456-789.\"\n",
    ")\n",
    "print(re.sub(r\"\\d{3}-\\d{3}-\\d{3}\", '***-***-***', text))"
   ]
  }
 ],
 "metadata": {
  "kernelspec": {
   "display_name": "Python 3",
   "language": "python",
   "name": "python3"
  },
  "language_info": {
   "codemirror_mode": {
    "name": "ipython",
    "version": 3
   },
   "file_extension": ".py",
   "mimetype": "text/x-python",
   "name": "python",
   "nbconvert_exporter": "python",
   "pygments_lexer": "ipython3",
   "version": "3.10.8"
  },
  "orig_nbformat": 4,
  "vscode": {
   "interpreter": {
    "hash": "e7370f93d1d0cde622a1f8e1c04877d8463912d04d973331ad4851f04de6915a"
   }
  }
 },
 "nbformat": 4,
 "nbformat_minor": 2
}
