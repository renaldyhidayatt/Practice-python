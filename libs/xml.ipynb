{
 "cells": [
  {
   "cell_type": "code",
   "execution_count": null,
   "metadata": {},
   "outputs": [],
   "source": [
    "import xml.etree.ElementTree as ET\n",
    " \n",
    " \n",
    "tree = ET.parse('books.xml')\n",
    "root = tree.getroot()\n",
    "print(ET.tostring(root, encoding='utf-8').decode('utf-8'))"
   ]
  },
  {
   "cell_type": "code",
   "execution_count": null,
   "metadata": {},
   "outputs": [],
   "source": [
    "import xml.etree.ElementTree as ET\n",
    " \n",
    " \n",
    "tree = ET.parse('books.xml')\n",
    "root = tree.getroot()\n",
    " \n",
    "for child in root:\n",
    "    print(f\"{child.attrib['id']} : {child[1].text}\")"
   ]
  },
  {
   "cell_type": "code",
   "execution_count": null,
   "metadata": {},
   "outputs": [],
   "source": [
    "import xml.etree.ElementTree as ET\n",
    " \n",
    " \n",
    "tree = ET.parse('books.xml')\n",
    "root = tree.getroot()\n",
    " \n",
    "result = sorted(set([item.tag for item in list(root.iter())]))\n",
    "print(result)"
   ]
  },
  {
   "cell_type": "code",
   "execution_count": null,
   "metadata": {},
   "outputs": [],
   "source": [
    "import xml.etree.ElementTree as ET\n",
    " \n",
    " \n",
    "root = ET.Element(\"stocks\")\n",
    "child = ET.SubElement(root, \"company\")\n",
    " \n",
    "ET.SubElement(child, \"ticker\").text = 'AAPL'\n",
    "ET.SubElement(child, \"full_name\").text = \"Apple Inc.\"\n",
    " \n",
    "tree = ET.ElementTree(root)\n",
    "tree.write(\"stocks.xml\")\n",
    " \n",
    "print(ET.tostring(root, encoding='utf-8', method='xml').decode('utf-8'))"
   ]
  }
 ],
 "metadata": {
  "language_info": {
   "name": "python"
  },
  "orig_nbformat": 4
 },
 "nbformat": 4,
 "nbformat_minor": 2
}
