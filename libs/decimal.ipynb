{
 "cells": [
  {
   "cell_type": "code",
   "execution_count": 2,
   "metadata": {},
   "outputs": [
    {
     "name": "stdout",
     "output_type": "stream",
     "text": [
      "0.3000000000000000166533453694\n"
     ]
    }
   ],
   "source": [
    "import decimal\n",
    "\n",
    "result = decimal.Decimal(0.1) + decimal.Decimal(0.2)\n",
    "\n",
    "print(result)"
   ]
  },
  {
   "cell_type": "code",
   "execution_count": 3,
   "metadata": {},
   "outputs": [
    {
     "name": "stdout",
     "output_type": "stream",
     "text": [
      "0.3000000000000000166533453693773481063545\n"
     ]
    }
   ],
   "source": [
    "decimal.getcontext().prec = 40\n",
    "\n",
    "result = decimal.Decimal(0.1) + decimal.Decimal(0.2)\n",
    "print(result)"
   ]
  },
  {
   "cell_type": "code",
   "execution_count": null,
   "metadata": {},
   "outputs": [],
   "source": [
    "with decimal.localcontext() as ctx:\n",
    "    ctx.prec = 40\n",
    "\n",
    "    result = decimal.Decimal(0.1) + decimal.Decimal(0.2)\n",
    "    print(result)"
   ]
  },
  {
   "cell_type": "code",
   "execution_count": null,
   "metadata": {},
   "outputs": [],
   "source": [
    "print(round(19.345, 2))\n",
    " \n",
    "number = decimal.Decimal(19.345)\n",
    "result = round(number, 2)\n",
    "print(result)\n",
    " \n",
    "result = decimal.Decimal(number).quantize(\n",
    "    decimal.Decimal('0.00'), \n",
    "    rounding=decimal.ROUND_UP\n",
    ")\n",
    "print(result)"
   ]
  }
 ],
 "metadata": {
  "kernelspec": {
   "display_name": "Python 3",
   "language": "python",
   "name": "python3"
  },
  "language_info": {
   "codemirror_mode": {
    "name": "ipython",
    "version": 3
   },
   "file_extension": ".py",
   "mimetype": "text/x-python",
   "name": "python",
   "nbconvert_exporter": "python",
   "pygments_lexer": "ipython3",
   "version": "3.11.3"
  },
  "orig_nbformat": 4
 },
 "nbformat": 4,
 "nbformat_minor": 2
}
