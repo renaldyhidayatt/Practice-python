{
 "cells": [
  {
   "cell_type": "code",
   "execution_count": 1,
   "metadata": {},
   "outputs": [
    {
     "name": "stdout",
     "output_type": "stream",
     "text": [
      "surjudpplqj lq sbwkrq\n"
     ]
    }
   ],
   "source": [
    "import string\n",
    " \n",
    " \n",
    "docs = 'programming in python'\n",
    "code_map = dict((enumerate(string.ascii_lowercase)))\n",
    "code_map_inv = {val: key for key, val in code_map.items()}\n",
    " \n",
    "result = ''\n",
    "for char in docs:\n",
    "    if char == ' ':\n",
    "        result += ' '\n",
    "        continue\n",
    "    idx = (code_map_inv[char] + 3) % 26\n",
    "    result += code_map[idx]\n",
    " \n",
    "print(result)"
   ]
  },
  {
   "cell_type": "code",
   "execution_count": 2,
   "metadata": {},
   "outputs": [
    {
     "name": "stdout",
     "output_type": "stream",
     "text": [
      "Hello John,\n",
      " \n",
      "Thank you for visiting our website.\n",
      "Team, XYZ\n",
      "-----------------------------------\n",
      "Hello Paul,\n",
      " \n",
      "Thank you for visiting our website.\n",
      "Team, XYZ\n",
      "-----------------------------------\n",
      "Hello Lisa,\n",
      " \n",
      "Thank you for visiting our website.\n",
      "Team, XYZ\n",
      "-----------------------------------\n",
      "Hello Michael,\n",
      " \n",
      "Thank you for visiting our website.\n",
      "Team, XYZ\n",
      "-----------------------------------\n"
     ]
    }
   ],
   "source": [
    "from string import Template\n",
    " \n",
    " \n",
    "names = ['John', 'Paul', 'Lisa', 'Michael']\n",
    " \n",
    "email = \"\"\"Hello $name,\n",
    " \n",
    "Thank you for visiting our website.\n",
    "Team, XYZ\"\"\"\n",
    " \n",
    "template = Template(email)\n",
    " \n",
    "for name in names:\n",
    "    print(template.substitute(name=name))\n",
    "    print('-' * 35)"
   ]
  }
 ],
 "metadata": {
  "kernelspec": {
   "display_name": "Python 3",
   "language": "python",
   "name": "python3"
  },
  "language_info": {
   "codemirror_mode": {
    "name": "ipython",
    "version": 3
   },
   "file_extension": ".py",
   "mimetype": "text/x-python",
   "name": "python",
   "nbconvert_exporter": "python",
   "pygments_lexer": "ipython3",
   "version": "3.10.8"
  },
  "orig_nbformat": 4,
  "vscode": {
   "interpreter": {
    "hash": "e7370f93d1d0cde622a1f8e1c04877d8463912d04d973331ad4851f04de6915a"
   }
  }
 },
 "nbformat": 4,
 "nbformat_minor": 2
}
