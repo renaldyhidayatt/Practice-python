{
 "cells": [
  {
   "cell_type": "code",
   "execution_count": 1,
   "metadata": {},
   "outputs": [
    {
     "name": "stdout",
     "output_type": "stream",
     "text": [
      "Counter({'yes': 4, 'no': 3, None: 1})\n"
     ]
    }
   ],
   "source": [
    "from collections import Counter\n",
    " \n",
    " \n",
    "target = ['yes', 'no', 'no', None, 'yes', 'yes', 'no', 'yes']\n",
    "cnt = Counter(target)\n",
    "print(cnt)"
   ]
  },
  {
   "cell_type": "code",
   "execution_count": null,
   "metadata": {},
   "outputs": [],
   "source": [
    "from collections import Counter\n",
    " \n",
    " \n",
    "poll_1 = {'yes': 140, 'no': 120, None: 12}\n",
    "poll_2 = {'yes': 113, 'no': 132, None: 9}\n",
    " \n",
    "cnt_1 = Counter(poll_1)\n",
    "cnt_2 = Counter(poll_2)\n",
    " \n",
    "cnt_total = cnt_1 + cnt_2\n",
    "print(cnt_total)"
   ]
  },
  {
   "cell_type": "code",
   "execution_count": null,
   "metadata": {},
   "outputs": [],
   "source": [
    "from collections import Counter\n",
    " \n",
    " \n",
    "poll_1 = {'yes': 140, 'no': 120, None: 12}\n",
    "poll_2 = {'yes': 113, 'no': 132, None: 9}\n",
    "poll_3 = {'yes': 16, 'no': 14}\n",
    " \n",
    "cnt_1 = Counter(poll_1)\n",
    "cnt_2 = Counter(poll_2)\n",
    "cnt_3 = Counter(poll_3)\n",
    " \n",
    "cnt_total = cnt_1 + cnt_2 + cnt_3\n",
    "print(cnt_total['yes'])"
   ]
  },
  {
   "cell_type": "code",
   "execution_count": null,
   "metadata": {},
   "outputs": [],
   "source": [
    "from collections import Counter\n",
    " \n",
    " \n",
    "text = 'python programming - introduction'\n",
    " \n",
    "cnt = Counter(text)\n",
    "print(cnt)"
   ]
  },
  {
   "cell_type": "code",
   "execution_count": null,
   "metadata": {},
   "outputs": [],
   "source": [
    "from collections import Counter\n",
    " \n",
    " \n",
    "text = 'python programming - introduction'\n",
    " \n",
    "cnt = Counter(text)\n",
    "print(cnt.most_common(3))"
   ]
  },
  {
   "cell_type": "code",
   "execution_count": null,
   "metadata": {},
   "outputs": [],
   "source": [
    "from collections import Counter\n",
    "import re\n",
    " \n",
    " \n",
    "text = \"\"\"\"Python is fast enough for our site and allows us to produce maintainable features in record times,\n",
    "with a minimum of developers,\" said Cuong Do, Software Architect, YouTube.com.\n",
    " \n",
    "\"Python plays a key role in our production pipeline. Without it a project the size of Star Wars:\n",
    "Episode II would have been very difficult to pull off. From crowd rendering to batch processing to compositing,\n",
    "Python binds all things together,\" said Tommy Burnette, Senior Technical Director, Industrial Light & Magic.\"\"\"\n",
    " \n",
    "tokens = re.findall(r\"\\w+\", text)\n",
    "tokens = [token.lower() for token in tokens]\n",
    "cnt = Counter(tokens)\n",
    "print(cnt.most_common(3))"
   ]
  },
  {
   "cell_type": "code",
   "execution_count": null,
   "metadata": {},
   "outputs": [],
   "source": [
    "from collections import Counter\n",
    " \n",
    " \n",
    "fnames = [\n",
    "    '001_image.png',\n",
    "    '002_image.png',\n",
    "    '003_image.jpg',\n",
    "    '004_image.png',\n",
    "    '005_image.png',\n",
    "    '006_image.png',\n",
    "    '007_image.jpg',\n",
    "    '008_image.png',\n",
    "    '009_image.jpg',\n",
    "    '010_image.jpg',\n",
    "    '011_image.jpg',\n",
    "    '012_image.png',\n",
    "    '013_image.jpg',\n",
    "    '014_image.jpg',\n",
    "    '015_image.jpg',\n",
    "    '016_image.png',\n",
    "    '017_image.jpg',\n",
    "    '018_image.jpg',\n",
    "    '019_image.png',\n",
    "    '020_image.png',\n",
    "    '021_image.jpg',\n",
    "    '022_image.jpg',\n",
    "    '023_image.png',\n",
    "    '024_image.png',\n",
    "    '025_image.jpg',\n",
    "    '026_image.png',\n",
    "    '027_image.png',\n",
    "    '028_image.jpg',\n",
    "    '029_image.png',\n",
    "    '030_image.png',\n",
    "]\n",
    " \n",
    "extensions = [fname.split('.')[1] for fname in fnames]\n",
    "cnt = Counter(extensions)\n",
    "print(cnt)"
   ]
  },
  {
   "cell_type": "code",
   "execution_count": null,
   "metadata": {},
   "outputs": [],
   "source": [
    "from collections import ChainMap\n",
    " \n",
    " \n",
    "stocks_1 = {'CDR': 400, 'PLW': 490}\n",
    "stocks_2 = {'PLW': 500, 'TEN': 550, 'BBT': 30}\n",
    " \n",
    "stocks = ChainMap(stocks_1, stocks_2)\n",
    "print(stocks)"
   ]
  },
  {
   "cell_type": "code",
   "execution_count": null,
   "metadata": {},
   "outputs": [],
   "source": [
    "from collections import ChainMap\n",
    " \n",
    " \n",
    "stocks_1 = {'CDR': 400, 'PLW': 490}\n",
    "stocks_2 = {'PLW': 500, 'TEN': 550, 'BBT': 30}\n",
    " \n",
    "stocks = ChainMap(stocks_1, stocks_2)\n",
    "print(stocks['PLW'])"
   ]
  },
  {
   "cell_type": "code",
   "execution_count": null,
   "metadata": {},
   "outputs": [],
   "source": [
    "from collections import ChainMap\n",
    " \n",
    " \n",
    "techs = {'Apple': 370, 'Samsung': 1100, 'Microsoft': 201}\n",
    "finance = {'Citigroup': 51, 'Allianz': 180}\n",
    "gaming = {'Sony': 76, 'Nintendo': 470, 'EA': 135}\n",
    " \n",
    "stocks = ChainMap(techs, finance, gaming)\n",
    "print(stocks['Samsung'])"
   ]
  },
  {
   "cell_type": "code",
   "execution_count": null,
   "metadata": {},
   "outputs": [],
   "source": [
    "from collections import ChainMap\n",
    " \n",
    " \n",
    "techs = {'Apple': 370, 'Samsung': 1100, 'Microsoft': 201}\n",
    "finance = {'Citigroup': 51, 'Allianz': 180}\n",
    "gaming = {'Sony': 76, 'Nintendo': 470, 'EA': 135}\n",
    " \n",
    "stocks = ChainMap(techs, finance, gaming)\n",
    "techs['Microsoft'] = 210\n",
    "print(stocks['Microsoft'])"
   ]
  },
  {
   "cell_type": "code",
   "execution_count": null,
   "metadata": {},
   "outputs": [],
   "source": [
    "from collections import ChainMap\n",
    " \n",
    " \n",
    "techs = {'Apple': 370, 'Samsung': 1100, 'Microsoft': 201}\n",
    "finance = {'Citigroup': 51, 'Allianz': 180}\n",
    "gaming = {'Sony': 76, 'Nintendo': 470, 'EA': 135}\n",
    " \n",
    "stocks = ChainMap(techs, finance, gaming)\n",
    "print(sorted(list(stocks.keys())))"
   ]
  },
  {
   "cell_type": "code",
   "execution_count": null,
   "metadata": {},
   "outputs": [],
   "source": [
    "from collections import ChainMap\n",
    " \n",
    " \n",
    "default_settings = {'mode': 'eco', 'power_level': 7}\n",
    "user_settings = {'mode': 'sport', 'power_level': 10}\n",
    " \n",
    "settings = ChainMap(user_settings, default_settings)\n",
    "print(settings['mode'])"
   ]
  },
  {
   "cell_type": "code",
   "execution_count": null,
   "metadata": {},
   "outputs": [],
   "source": [
    "from collections import ChainMap\n",
    " \n",
    " \n",
    "default_settings = {'mode': 'eco', 'power_level': 7}\n",
    "user_settings = {}\n",
    " \n",
    "settings = ChainMap(user_settings, default_settings)\n",
    "print(settings['mode'])"
   ]
  },
  {
   "cell_type": "code",
   "execution_count": null,
   "metadata": {},
   "outputs": [],
   "source": [
    "from collections import namedtuple\n",
    " \n",
    " \n",
    "Point = namedtuple(typename='Point', field_names=['x', 'y'])\n",
    " \n",
    "pt1 = Point(3, 4)\n",
    "pt2 = Point(-2, 6)\n",
    " \n",
    "print(pt1)\n",
    "print(pt2)"
   ]
  },
  {
   "cell_type": "code",
   "execution_count": null,
   "metadata": {},
   "outputs": [],
   "source": [
    "from collections import namedtuple\n",
    " \n",
    " \n",
    "Point = namedtuple(typename='Point', field_names=['x', 'y'])\n",
    " \n",
    "pt1 = Point(3, 4)\n",
    "pt2 = Point(-2, 6)\n",
    " \n",
    "avg_pt = Point((pt1.x + pt2.x) / 2.0, (pt1.y + pt2.y) / 2.0)\n",
    "print(avg_pt)"
   ]
  },
  {
   "cell_type": "code",
   "execution_count": null,
   "metadata": {},
   "outputs": [],
   "source": [
    "from collections import namedtuple\n",
    " \n",
    " \n",
    "Student = namedtuple(\n",
    "    typename='Student', field_names=['name', 'age', 'spec']\n",
    ")\n",
    " \n",
    "students = [\n",
    "    Student('Mike', 21, 'physics'),\n",
    "    Student('Kate', 20, 'mathematics'),\n",
    "    Student('Bob', 21, 'information technology'),\n",
    "]\n",
    " \n",
    "for student in students:\n",
    "    print(f'{student.name:5}: {student.age}: {student.spec}')"
   ]
  },
  {
   "cell_type": "code",
   "execution_count": null,
   "metadata": {},
   "outputs": [],
   "source": [
    "from collections import namedtuple\n",
    " \n",
    " \n",
    "Student = namedtuple(\n",
    "    typename='Student',\n",
    "    field_names=['name', 'age', 'specialization'],\n",
    ")\n",
    " \n",
    "students = [\n",
    "    Student('Mike', 21, 'physics'),\n",
    "    Student('Mark', 22, 'biology'),\n",
    "    Student('Kate', 20, 'mathematics'),\n",
    "    Student('Bob', 21, 'information technology'),\n",
    "]\n",
    " \n",
    "students.sort(key=lambda student: student.age)\n",
    "print(students)"
   ]
  },
  {
   "cell_type": "code",
   "execution_count": null,
   "metadata": {},
   "outputs": [],
   "source": [
    "from collections import namedtuple\n",
    " \n",
    " \n",
    "Student = namedtuple(\n",
    "    typename='Student',\n",
    "    field_names=['name', 'age', 'specialization'],\n",
    ")\n",
    " \n",
    "st1 = {\n",
    "    'name': 'Kate',\n",
    "    'age': 20,\n",
    "    'specialization': 'mathematics',\n",
    "}\n",
    "st2 = {\n",
    "    'name': 'Mike', \n",
    "    'age': 21, \n",
    "    'specialization': 'physics'\n",
    "}\n",
    "st3 = {\n",
    "    'name': 'Bob',\n",
    "    'age': 21,\n",
    "    'specialization': 'information technology',\n",
    "}\n",
    " \n",
    "students = [Student(**st1), Student(**st2), Student(**st3)]\n",
    " \n",
    "for student in students:\n",
    "    print(student)"
   ]
  },
  {
   "cell_type": "code",
   "execution_count": null,
   "metadata": {},
   "outputs": [],
   "source": [
    "from collections import namedtuple\n",
    " \n",
    " \n",
    "Student = namedtuple(\n",
    "    typename='Student', \n",
    "    field_names=['name', 'age', 'specialization']\n",
    ")\n",
    " \n",
    "students = []\n",
    "with open('students.txt', 'r') as file:\n",
    "    lines = [eval(line.strip()) for line in file.readlines()]\n",
    "    for line in lines:\n",
    "        students.append(Student(**line))\n",
    " \n",
    "print(students)"
   ]
  },
  {
   "cell_type": "code",
   "execution_count": null,
   "metadata": {},
   "outputs": [],
   "source": [
    "quotations = {}\n",
    "print(quotations.get('source', 'NYSE'))\n",
    "print(quotations)"
   ]
  },
  {
   "cell_type": "code",
   "execution_count": null,
   "metadata": {},
   "outputs": [],
   "source": [
    "quotations = {}\n",
    "quotations.setdefault('source', 'NYSE')\n",
    "print(quotations)\n",
    "quotations.setdefault('source', 'LSE')\n",
    "print(quotations)\n",
    "print(quotations['source'])"
   ]
  },
  {
   "cell_type": "code",
   "execution_count": null,
   "metadata": {},
   "outputs": [],
   "source": [
    "data = [\n",
    "    ('technology', 'Apple'),\n",
    "    ('gaming', 'Techland'),\n",
    "    ('finance', 'Berkshire Hathaway'),\n",
    "    ('gaming', 'EA'),\n",
    "    ('technology', 'Facebook'),\n",
    "    ('gaming', 'CD Projekt'),\n",
    "    ('finance', 'Allianz')\n",
    "]\n",
    " \n",
    "data_dict = {}\n",
    "for sector, company in data:\n",
    "    data_dict.setdefault(sector, []).append(company)\n",
    " \n",
    "print(data_dict)"
   ]
  },
  {
   "cell_type": "code",
   "execution_count": null,
   "metadata": {},
   "outputs": [],
   "source": [
    "from collections import defaultdict\n",
    " \n",
    " \n",
    "data = [\n",
    "    ('technology', 'Apple'),\n",
    "    ('gaming', 'Techland'),\n",
    "    ('finance', 'Berkshire Hathaway'),\n",
    "    ('gaming', 'EA'),\n",
    "    ('technology', 'Facebook'),\n",
    "    ('gaming', 'CD Projekt'),\n",
    "    ('finance', 'Allianz')\n",
    "]\n",
    " \n",
    "def_dict = defaultdict(list)\n",
    "for sector, company in data:\n",
    "    def_dict[sector].append(company)\n",
    " \n",
    "print(def_dict)"
   ]
  },
  {
   "cell_type": "code",
   "execution_count": null,
   "metadata": {},
   "outputs": [],
   "source": [
    "from collections import defaultdict\n",
    " \n",
    " \n",
    "data = [\n",
    "    ('technology', 'Facebook'),        \n",
    "    ('technology', 'Apple'),\n",
    "    ('gaming', 'Techland'),\n",
    "    ('finance', 'Berkshire Hathaway'),\n",
    "    ('gaming', 'EA'),\n",
    "    ('gaming', 'EA'),    \n",
    "    ('technology', 'Facebook'),\n",
    "    ('gaming', 'CD Projekt'),\n",
    "    ('finance', 'Allianz')\n",
    "]\n",
    " \n",
    "def_dict = defaultdict(set)\n",
    "for sector, company in data:\n",
    "    def_dict[sector].add(company)\n",
    " \n",
    "print(def_dict)"
   ]
  },
  {
   "cell_type": "code",
   "execution_count": null,
   "metadata": {},
   "outputs": [],
   "source": [
    "from collections import defaultdict\n",
    " \n",
    " \n",
    "transactions = [\n",
    "    ('001', 100),\n",
    "    ('003', 10),\n",
    "    ('002', 80),\n",
    "    ('001', 90),\n",
    "    ('002', 46),\n",
    "    ('001', 43),\n",
    "    ('003', 23),\n",
    "]\n",
    " \n",
    "def_dict = defaultdict(int)\n",
    "for user_id, amount in transactions:\n",
    "    def_dict[user_id] += amount\n",
    " \n",
    "print(def_dict) "
   ]
  },
  {
   "cell_type": "code",
   "execution_count": null,
   "metadata": {},
   "outputs": [],
   "source": [
    "from collections import deque\n",
    " \n",
    " \n",
    "daynames = deque(['Tue.', 'Wed.', 'Thu.', 'Fri.', 'Sat.'])\n",
    "daynames.appendleft('Mon.')\n",
    "daynames.append('Sun.')\n",
    "print(daynames)"
   ]
  },
  {
   "cell_type": "code",
   "execution_count": null,
   "metadata": {},
   "outputs": [],
   "source": [
    "from collections import deque\n",
    " \n",
    " \n",
    "daynames = deque([\n",
    "    'Mon.', \n",
    "    'Tue.', \n",
    "    'Wed.', \n",
    "    'Thu.', \n",
    "    'Fri.', \n",
    "    'Sat.', \n",
    "    'Sun.'\n",
    "])\n",
    "daynames.rotate(1)\n",
    "print(daynames)"
   ]
  },
  {
   "cell_type": "code",
   "execution_count": null,
   "metadata": {},
   "outputs": [],
   "source": [
    "from collections import deque\n",
    " \n",
    " \n",
    "daynames = deque([\n",
    "    'Mon.', \n",
    "    'Tue.', \n",
    "    'Wed.', \n",
    "    'Thu.', \n",
    "    'Fri.', \n",
    "    'Sat.', \n",
    "    'Sun.'\n",
    "])\n",
    "daynames.rotate(-3)\n",
    "print(daynames.pop())"
   ]
  },
  {
   "cell_type": "code",
   "execution_count": null,
   "metadata": {},
   "outputs": [],
   "source": [
    "from collections import deque\n",
    " \n",
    " \n",
    "daynames = deque([\n",
    "    'Mon.', \n",
    "    'Tue.', \n",
    "    'Wed.', \n",
    "    'Thu.', \n",
    "    'Fri.', \n",
    "    'Sat.', \n",
    "    'Sun.'\n",
    "])\n",
    "daynames.reverse()\n",
    "print(daynames.popleft())"
   ]
  },
  {
   "cell_type": "code",
   "execution_count": null,
   "metadata": {},
   "outputs": [],
   "source": [
    "from collections import deque\n",
    " \n",
    " \n",
    "wishlist = deque()\n",
    "wishlist.append('003')\n",
    "wishlist.append('001')\n",
    "wishlist.append('004')\n",
    "wishlist.append('002')\n",
    "wishlist.append('005')\n",
    "print(wishlist.popleft())"
   ]
  },
  {
   "cell_type": "code",
   "execution_count": null,
   "metadata": {},
   "outputs": [],
   "source": [
    "from collections import deque\n",
    " \n",
    " \n",
    "user_ids = ['003', '001', '004', None, '002', '005']\n",
    " \n",
    "wishlist = deque()\n",
    "for user_id in user_ids:\n",
    "    if user_id is not None:\n",
    "        wishlist.append(user_id)\n",
    "    else:\n",
    "        wishlist.clear()\n",
    " \n",
    "print(wishlist)"
   ]
  },
  {
   "cell_type": "code",
   "execution_count": null,
   "metadata": {},
   "outputs": [],
   "source": [
    "from collections import deque\n",
    " \n",
    " \n",
    "user_ids = ['003', '001', '004', '006', '002', '005']\n",
    " \n",
    "wishlist = deque(maxlen=3)\n",
    "for user_id in user_ids:\n",
    "    wishlist.append(user_id)\n",
    "    print(wishlist)"
   ]
  },
  {
   "cell_type": "code",
   "execution_count": null,
   "metadata": {},
   "outputs": [],
   "source": [
    "from collections import deque\n",
    " \n",
    " \n",
    "user_ids = ['003', '001', '004', '002', '005']\n",
    " \n",
    "wishlist = deque(user_ids)\n",
    "wishlist.extend(['007', '009', '010'])\n",
    "print(wishlist)"
   ]
  }
 ],
 "metadata": {
  "kernelspec": {
   "display_name": "Python 3",
   "language": "python",
   "name": "python3"
  },
  "language_info": {
   "codemirror_mode": {
    "name": "ipython",
    "version": 3
   },
   "file_extension": ".py",
   "mimetype": "text/x-python",
   "name": "python",
   "nbconvert_exporter": "python",
   "pygments_lexer": "ipython3",
   "version": "3.10.8"
  },
  "orig_nbformat": 4,
  "vscode": {
   "interpreter": {
    "hash": "e7370f93d1d0cde622a1f8e1c04877d8463912d04d973331ad4851f04de6915a"
   }
  }
 },
 "nbformat": 4,
 "nbformat_minor": 2
}
