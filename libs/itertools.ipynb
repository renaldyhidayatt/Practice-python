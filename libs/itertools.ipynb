{
 "cells": [
  {
   "cell_type": "code",
   "execution_count": 3,
   "metadata": {},
   "outputs": [
    {
     "name": "stdout",
     "output_type": "stream",
     "text": [
      "0\n",
      "1\n",
      "2\n",
      "3\n",
      "4\n",
      "5\n",
      "6\n",
      "7\n",
      "8\n",
      "9\n"
     ]
    }
   ],
   "source": [
    "import itertools\n",
    " \n",
    " \n",
    "counter = itertools.count()\n",
    "for i in counter:\n",
    "    if i > 9:\n",
    "        break\n",
    "    print(i)"
   ]
  },
  {
   "cell_type": "code",
   "execution_count": 4,
   "metadata": {},
   "outputs": [
    {
     "name": "stdout",
     "output_type": "stream",
     "text": [
      "1\n",
      "3\n",
      "5\n",
      "7\n",
      "9\n"
     ]
    }
   ],
   "source": [
    "counter = itertools.count(start=1, step=2)\n",
    "for i in counter:\n",
    "    if i > 9:\n",
    "        break\n",
    "    print(i)"
   ]
  },
  {
   "cell_type": "code",
   "execution_count": 5,
   "metadata": {},
   "outputs": [
    {
     "name": "stdout",
     "output_type": "stream",
     "text": [
      "-1\n",
      "0\n",
      "1\n",
      "-1\n",
      "0\n",
      "1\n",
      "-1\n",
      "0\n",
      "1\n",
      "-1\n",
      "0\n",
      "1\n",
      "-1\n",
      "0\n",
      "1\n"
     ]
    }
   ],
   "source": [
    "cycle = itertools.cycle([-1, 0, 1])\n",
    "results = [next(cycle) for _ in range(15)]\n",
    "for result in results:\n",
    "    print(result)"
   ]
  },
  {
   "cell_type": "code",
   "execution_count": 6,
   "metadata": {},
   "outputs": [
    {
     "name": "stdout",
     "output_type": "stream",
     "text": [
      "#\n",
      "#\n",
      "#\n",
      "#\n",
      "#\n",
      "#\n",
      "#\n",
      "#\n",
      "#\n",
      "#\n"
     ]
    }
   ],
   "source": [
    "repeat = itertools.repeat('#')\n",
    "results = [next(repeat) for _ in range(10)]\n",
    "for result in results:\n",
    "    print(result)\n",
    "    "
   ]
  },
  {
   "cell_type": "code",
   "execution_count": 7,
   "metadata": {},
   "outputs": [
    {
     "name": "stdout",
     "output_type": "stream",
     "text": [
      "('Apple', 'Microsoft')\n",
      "('Apple', 'Amazon')\n",
      "('Apple', 'Google')\n",
      "('Apple', 'Adidas')\n",
      "('Apple', 'Audi')\n",
      "('Apple', 'Siemens')\n",
      "('Microsoft', 'Amazon')\n",
      "('Microsoft', 'Google')\n",
      "('Microsoft', 'Adidas')\n",
      "('Microsoft', 'Audi')\n",
      "('Microsoft', 'Siemens')\n",
      "('Amazon', 'Google')\n",
      "('Amazon', 'Adidas')\n",
      "('Amazon', 'Audi')\n",
      "('Amazon', 'Siemens')\n",
      "('Google', 'Adidas')\n",
      "('Google', 'Audi')\n",
      "('Google', 'Siemens')\n",
      "('Adidas', 'Audi')\n",
      "('Adidas', 'Siemens')\n",
      "('Audi', 'Siemens')\n"
     ]
    }
   ],
   "source": [
    "stocks = [\n",
    "    \"Apple\",\n",
    "    \"Microsoft\",\n",
    "    \"Amazon\",\n",
    "    \"Google\",\n",
    "    \"Adidas\",\n",
    "    \"Audi\",\n",
    "    \"Siemens\",\n",
    "]\n",
    " \n",
    "results = itertools.combinations(stocks, 2)\n",
    "for result in results:\n",
    "    print(result)"
   ]
  },
  {
   "cell_type": "code",
   "execution_count": 8,
   "metadata": {},
   "outputs": [
    {
     "name": "stdout",
     "output_type": "stream",
     "text": [
      "('Apple', 'Apple')\n",
      "('Apple', 'Microsoft')\n",
      "('Apple', 'Amazon')\n",
      "('Apple', 'Google')\n",
      "('Apple', 'Adidas')\n",
      "('Apple', 'Audi')\n",
      "('Apple', 'Siemens')\n",
      "('Microsoft', 'Microsoft')\n",
      "('Microsoft', 'Amazon')\n",
      "('Microsoft', 'Google')\n",
      "('Microsoft', 'Adidas')\n",
      "('Microsoft', 'Audi')\n",
      "('Microsoft', 'Siemens')\n",
      "('Amazon', 'Amazon')\n",
      "('Amazon', 'Google')\n",
      "('Amazon', 'Adidas')\n",
      "('Amazon', 'Audi')\n",
      "('Amazon', 'Siemens')\n",
      "('Google', 'Google')\n",
      "('Google', 'Adidas')\n",
      "('Google', 'Audi')\n",
      "('Google', 'Siemens')\n",
      "('Adidas', 'Adidas')\n",
      "('Adidas', 'Audi')\n",
      "('Adidas', 'Siemens')\n",
      "('Audi', 'Audi')\n",
      "('Audi', 'Siemens')\n",
      "('Siemens', 'Siemens')\n"
     ]
    }
   ],
   "source": [
    "stocks = [\n",
    "    \"Apple\",\n",
    "    \"Microsoft\",\n",
    "    \"Amazon\",\n",
    "    \"Google\",\n",
    "    \"Adidas\",\n",
    "    \"Audi\",\n",
    "    \"Siemens\",\n",
    "]\n",
    " \n",
    "results = itertools.combinations_with_replacement(stocks, 2)\n",
    "for result in results:\n",
    "    print(result)\n",
    "    "
   ]
  },
  {
   "cell_type": "code",
   "execution_count": 9,
   "metadata": {},
   "outputs": [
    {
     "name": "stdout",
     "output_type": "stream",
     "text": [
      "('Bob', 'Mark', 'Guido')\n",
      "('Bob', 'Guido', 'Mark')\n",
      "('Mark', 'Bob', 'Guido')\n",
      "('Mark', 'Guido', 'Bob')\n",
      "('Guido', 'Bob', 'Mark')\n",
      "('Guido', 'Mark', 'Bob')\n",
      "['A1', 'A2', 'A3', 'A4', 'A5', 'A6', 'A7', 'A8', 'B1', 'B2', 'B3', 'B4', 'B5', 'B6', 'B7', 'B8', 'C1', 'C2', 'C3', 'C4', 'C5', 'C6', 'C7', 'C8', 'D1', 'D2', 'D3', 'D4', 'D5', 'D6', 'D7', 'D8', 'E1', 'E2', 'E3', 'E4', 'E5', 'E6', 'E7', 'E8', 'F1', 'F2', 'F3', 'F4', 'F5', 'F6', 'F7', 'F8', 'G1', 'G2', 'G3', 'G4', 'G5', 'G6', 'G7', 'G8', 'H1', 'H2', 'H3', 'H4', 'H5', 'H6', 'H7', 'H8']\n"
     ]
    }
   ],
   "source": [
    "names = ['Bob', 'Mark', 'Guido']\n",
    "results = itertools.permutations(names)\n",
    " \n",
    "for result in results:\n",
    "    print(result)\n",
    "    \n",
    " \n",
    "letters = list('ABCDEFGH')\n",
    "numbers = [str(i) for i in range(1, 9)]\n",
    "chessboard = itertools.product(letters, numbers)\n",
    "chessboard = [''.join(fields) for fields in chessboard]\n",
    "print(chessboard)"
   ]
  },
  {
   "cell_type": "code",
   "execution_count": 10,
   "metadata": {},
   "outputs": [
    {
     "name": "stdout",
     "output_type": "stream",
     "text": [
      "9426893\n",
      "25235593\n",
      "41284262\n",
      "60680878\n",
      "85009382\n",
      "99170462\n",
      "115327742\n",
      "132449109\n",
      "141779081\n",
      "156079866\n"
     ]
    }
   ],
   "source": [
    "tesla = {\n",
    "    'Close': {\n",
    "        0: 1499.11,\n",
    "        1: 1476.49,\n",
    "        2: 1539.6,\n",
    "        3: 1417.0,\n",
    "        4: 1513.07,\n",
    "        5: 1592.33,\n",
    "        6: 1568.36,\n",
    "        7: 1643.0,\n",
    "        8: 1500.84,\n",
    "        9: 1500.64,\n",
    "    },\n",
    "    'Date': {\n",
    "        0: '2020-07-29',\n",
    "        1: '2020-07-28',\n",
    "        2: '2020-07-27',\n",
    "        3: '2020-07-24',\n",
    "        4: '2020-07-23',\n",
    "        5: '2020-07-22',\n",
    "        6: '2020-07-21',\n",
    "        7: '2020-07-20',\n",
    "        8: '2020-07-17',\n",
    "        9: '2020-07-16',\n",
    "    },\n",
    "    'Volume': {\n",
    "        0: 9426893,\n",
    "        1: 15808700,\n",
    "        2: 16048669,\n",
    "        3: 19396616,\n",
    "        4: 24328504,\n",
    "        5: 14161080,\n",
    "        6: 16157280,\n",
    "        7: 17121367,\n",
    "        8: 9329972,\n",
    "        9: 14300785,\n",
    "    },\n",
    "}\n",
    " \n",
    "results = itertools.accumulate(tesla['Volume'].values())\n",
    "for result in results:\n",
    "    print(result)"
   ]
  },
  {
   "cell_type": "code",
   "execution_count": 11,
   "metadata": {},
   "outputs": [
    {
     "name": "stdout",
     "output_type": "stream",
     "text": [
      "1499.11\n",
      "1476.49\n",
      "1476.49\n",
      "1417.0\n",
      "1417.0\n",
      "1417.0\n",
      "1417.0\n",
      "1417.0\n",
      "1417.0\n",
      "1417.0\n"
     ]
    }
   ],
   "source": [
    "\n",
    "tesla = {\n",
    "    'Close': {\n",
    "        0: 1499.11,\n",
    "        1: 1476.49,\n",
    "        2: 1539.6,\n",
    "        3: 1417.0,\n",
    "        4: 1513.07,\n",
    "        5: 1592.33,\n",
    "        6: 1568.36,\n",
    "        7: 1643.0,\n",
    "        8: 1500.84,\n",
    "        9: 1500.64,\n",
    "    },\n",
    "    'Date': {\n",
    "        0: '2020-07-29',\n",
    "        1: '2020-07-28',\n",
    "        2: '2020-07-27',\n",
    "        3: '2020-07-24',\n",
    "        4: '2020-07-23',\n",
    "        5: '2020-07-22',\n",
    "        6: '2020-07-21',\n",
    "        7: '2020-07-20',\n",
    "        8: '2020-07-17',\n",
    "        9: '2020-07-16',\n",
    "    },\n",
    "    'Volume': {\n",
    "        0: 9426893,\n",
    "        1: 15808700,\n",
    "        2: 16048669,\n",
    "        3: 19396616,\n",
    "        4: 24328504,\n",
    "        5: 14161080,\n",
    "        6: 16157280,\n",
    "        7: 17121367,\n",
    "        8: 9329972,\n",
    "        9: 14300785,\n",
    "    },\n",
    "}\n",
    " \n",
    "results = itertools.accumulate(tesla['Close'].values(), min)\n",
    "for result in results:\n",
    "    print(result)"
   ]
  },
  {
   "cell_type": "code",
   "execution_count": 12,
   "metadata": {},
   "outputs": [
    {
     "name": "stdout",
     "output_type": "stream",
     "text": [
      "1499.11\n",
      "1487.8\n",
      "1513.6999999999998\n",
      "1465.35\n",
      "1489.21\n",
      "1540.77\n",
      "1554.565\n",
      "1598.7825\n",
      "1549.81125\n",
      "1525.225625\n"
     ]
    }
   ],
   "source": [
    "\n",
    "tesla = {\n",
    "    'Close': {\n",
    "        0: 1499.11,\n",
    "        1: 1476.49,\n",
    "        2: 1539.6,\n",
    "        3: 1417.0,\n",
    "        4: 1513.07,\n",
    "        5: 1592.33,\n",
    "        6: 1568.36,\n",
    "        7: 1643.0,\n",
    "        8: 1500.84,\n",
    "        9: 1500.64,\n",
    "    },\n",
    "    'Date': {\n",
    "        0: '2020-07-29',\n",
    "        1: '2020-07-28',\n",
    "        2: '2020-07-27',\n",
    "        3: '2020-07-24',\n",
    "        4: '2020-07-23',\n",
    "        5: '2020-07-22',\n",
    "        6: '2020-07-21',\n",
    "        7: '2020-07-20',\n",
    "        8: '2020-07-17',\n",
    "        9: '2020-07-16',\n",
    "    },\n",
    "    'Volume': {\n",
    "        0: 9426893,\n",
    "        1: 15808700,\n",
    "        2: 16048669,\n",
    "        3: 19396616,\n",
    "        4: 24328504,\n",
    "        5: 14161080,\n",
    "        6: 16157280,\n",
    "        7: 17121367,\n",
    "        8: 9329972,\n",
    "        9: 14300785,\n",
    "    },\n",
    "}\n",
    " \n",
    "results = itertools.accumulate(\n",
    "    tesla['Close'].values(), lambda x, y: (x + y) / 2\n",
    ")\n",
    "for result in results:\n",
    "    print(result)"
   ]
  },
  {
   "cell_type": "code",
   "execution_count": 13,
   "metadata": {},
   "outputs": [
    {
     "name": "stdout",
     "output_type": "stream",
     "text": [
      "Apple\n",
      "Microsoft\n",
      "Amazon\n",
      "Google\n",
      "Adidas\n",
      "Audi\n",
      "Siemens\n"
     ]
    }
   ],
   "source": [
    "stocks_us = ['Apple', 'Microsoft', 'Amazon', 'Google']\n",
    "stocks_de = ['Adidas', 'Audi', 'Siemens']\n",
    " \n",
    "results = itertools.chain(stocks_us, stocks_de)\n",
    "for result in results:\n",
    "    print(result)\n",
    "    \n",
    "    \n",
    "\n",
    "    \n",
    " "
   ]
  },
  {
   "cell_type": "code",
   "execution_count": 14,
   "metadata": {},
   "outputs": [
    {
     "name": "stdout",
     "output_type": "stream",
     "text": [
      "Apple\n",
      "Microsoft\n",
      "Amazon\n",
      "Google\n",
      "Adidas\n",
      "Audi\n",
      "Siemens\n"
     ]
    }
   ],
   "source": [
    "stocks_us = ['Apple', 'Microsoft', 'Amazon', 'Google']\n",
    "stocks_de = ['Adidas', 'Audi', 'Siemens']\n",
    "stocks = [stocks_us, stocks_de]\n",
    " \n",
    "results = itertools.chain.from_iterable(stocks)\n",
    "for result in results:\n",
    "    print(result)"
   ]
  },
  {
   "cell_type": "code",
   "execution_count": 15,
   "metadata": {},
   "outputs": [
    {
     "name": "stdout",
     "output_type": "stream",
     "text": [
      "2020-07-29\n",
      "2020-07-27\n",
      "2020-07-23\n",
      "2020-07-21\n",
      "2020-07-17\n"
     ]
    }
   ],
   "source": [
    "tesla = {\n",
    "    'Close': {\n",
    "        0: 1499.11,\n",
    "        1: 1476.49,\n",
    "        2: 1539.6,\n",
    "        3: 1417.0,\n",
    "        4: 1513.07,\n",
    "        5: 1592.33,\n",
    "        6: 1568.36,\n",
    "        7: 1643.0,\n",
    "        8: 1500.84,\n",
    "        9: 1500.64,\n",
    "    },\n",
    "    'Date': {\n",
    "        0: '2020-07-29',\n",
    "        1: '2020-07-28',\n",
    "        2: '2020-07-27',\n",
    "        3: '2020-07-24',\n",
    "        4: '2020-07-23',\n",
    "        5: '2020-07-22',\n",
    "        6: '2020-07-21',\n",
    "        7: '2020-07-20',\n",
    "        8: '2020-07-17',\n",
    "        9: '2020-07-16',\n",
    "    },\n",
    "    'Volume': {\n",
    "        0: 9426893,\n",
    "        1: 15808700,\n",
    "        2: 16048669,\n",
    "        3: 19396616,\n",
    "        4: 24328504,\n",
    "        5: 14161080,\n",
    "        6: 16157280,\n",
    "        7: 17121367,\n",
    "        8: 9329972,\n",
    "        9: 14300785,\n",
    "    },\n",
    "}\n",
    " \n",
    "results = itertools.islice(tesla['Date'].values(), 0, None, 2)\n",
    "for result in results:\n",
    "    print(result)"
   ]
  },
  {
   "cell_type": "code",
   "execution_count": 16,
   "metadata": {},
   "outputs": [
    {
     "name": "stdout",
     "output_type": "stream",
     "text": [
      "['a', 'b', 'c', 'd', 'e', 'f', 'g', 'h', 'i', 'j', 'k', 'l', 'm', 'n', 'o', 'p', 'q', 'r', 's', 't', 'u', 'v', 'w', 'x', 'y', 'z']\n"
     ]
    }
   ],
   "source": [
    "import string\n",
    "\n",
    "results = itertools.islice(string.ascii_lowercase, 0, None)\n",
    "print(list(results))"
   ]
  },
  {
   "cell_type": "code",
   "execution_count": 17,
   "metadata": {},
   "outputs": [
    {
     "name": "stdout",
     "output_type": "stream",
     "text": [
      "Apple\n",
      "Amazon\n",
      "Adidas\n",
      "Audi\n"
     ]
    }
   ],
   "source": [
    "stocks = [\n",
    "    \"Apple\",\n",
    "    \"Microsoft\",\n",
    "    \"Amazon\",\n",
    "    \"Google\",\n",
    "    \"Adidas\",\n",
    "    \"Audi\",\n",
    "    \"Siemens\",\n",
    "]\n",
    "stocks_flag = [name.startswith('A') for name in stocks]\n",
    " \n",
    "results = itertools.compress(stocks, stocks_flag)\n",
    "for result in results:\n",
    "    print(result)"
   ]
  },
  {
   "cell_type": "code",
   "execution_count": 18,
   "metadata": {},
   "outputs": [
    {
     "name": "stdout",
     "output_type": "stream",
     "text": [
      "1499.11\n",
      "1476.49\n",
      "1417.0\n"
     ]
    }
   ],
   "source": [
    "tesla = {\n",
    "    'Close': {\n",
    "        0: 1499.11,\n",
    "        1: 1476.49,\n",
    "        2: 1539.6,\n",
    "        3: 1417.0,\n",
    "        4: 1513.07,\n",
    "        5: 1592.33,\n",
    "        6: 1568.36,\n",
    "        7: 1643.0,\n",
    "        8: 1500.84,\n",
    "        9: 1500.64,\n",
    "    },\n",
    "    'Date': {\n",
    "        0: '2020-07-29',\n",
    "        1: '2020-07-28',\n",
    "        2: '2020-07-27',\n",
    "        3: '2020-07-24',\n",
    "        4: '2020-07-23',\n",
    "        5: '2020-07-22',\n",
    "        6: '2020-07-21',\n",
    "        7: '2020-07-20',\n",
    "        8: '2020-07-17',\n",
    "        9: '2020-07-16',\n",
    "    },\n",
    "    'Volume': {\n",
    "        0: 9426893,\n",
    "        1: 15808700,\n",
    "        2: 16048669,\n",
    "        3: 19396616,\n",
    "        4: 24328504,\n",
    "        5: 14161080,\n",
    "        6: 16157280,\n",
    "        7: 17121367,\n",
    "        8: 9329972,\n",
    "        9: 14300785,\n",
    "    },\n",
    "}\n",
    " \n",
    "results = itertools.filterfalse(\n",
    "    lambda price: price >= 1500, tesla['Close'].values()\n",
    ")\n",
    "for result in results:\n",
    "    print(result)"
   ]
  },
  {
   "cell_type": "code",
   "execution_count": 19,
   "metadata": {},
   "outputs": [
    {
     "name": "stdout",
     "output_type": "stream",
     "text": [
      "1499.11\n",
      "1476.49\n",
      "1539.6\n",
      "1417.0\n",
      "1513.07\n",
      "1592.33\n",
      "1568.36\n"
     ]
    }
   ],
   "source": [
    "\n",
    " \n",
    "tesla = {\n",
    "    'Close': {\n",
    "        0: 1499.11,\n",
    "        1: 1476.49,\n",
    "        2: 1539.6,\n",
    "        3: 1417.0,\n",
    "        4: 1513.07,\n",
    "        5: 1592.33,\n",
    "        6: 1568.36,\n",
    "        7: 1643.0,\n",
    "        8: 1500.84,\n",
    "        9: 1500.64,\n",
    "    },\n",
    "    'Date': {\n",
    "        0: '2020-07-29',\n",
    "        1: '2020-07-28',\n",
    "        2: '2020-07-27',\n",
    "        3: '2020-07-24',\n",
    "        4: '2020-07-23',\n",
    "        5: '2020-07-22',\n",
    "        6: '2020-07-21',\n",
    "        7: '2020-07-20',\n",
    "        8: '2020-07-17',\n",
    "        9: '2020-07-16',\n",
    "    },\n",
    "    'Volume': {\n",
    "        0: 9426893,\n",
    "        1: 15808700,\n",
    "        2: 16048669,\n",
    "        3: 19396616,\n",
    "        4: 24328504,\n",
    "        5: 14161080,\n",
    "        6: 16157280,\n",
    "        7: 17121367,\n",
    "        8: 9329972,\n",
    "        9: 14300785,\n",
    "    },\n",
    "}\n",
    " \n",
    "results = itertools.takewhile(\n",
    "    lambda price: price <= 1600, tesla['Close'].values()\n",
    ")\n",
    "for result in results:\n",
    "    print(result)"
   ]
  },
  {
   "cell_type": "code",
   "execution_count": 20,
   "metadata": {},
   "outputs": [
    {
     "name": "stdout",
     "output_type": "stream",
     "text": [
      "0.5\n",
      "9.9\n",
      "8.53\n",
      "4.6\n",
      "5.58\n",
      "7.07\n",
      "3.75\n",
      "9.51\n",
      "7.32\n"
     ]
    }
   ],
   "source": [
    "stream1 = [0.5, 9.9, 8.53, 4.6, 5.58, 7.07, None, 4.5, 3.61, 9.31]\n",
    "stream2 = [3.75, 9.51, 7.32, None, 1.56, 1.56, 0.58, 8.66, 6.01, 7.08]\n",
    " \n",
    "results = itertools.chain(\n",
    "    itertools.takewhile(bool, stream1), \n",
    "    itertools.takewhile(bool, stream2)\n",
    ")\n",
    "for result in results:\n",
    "    print(result)"
   ]
  },
  {
   "cell_type": "code",
   "execution_count": 21,
   "metadata": {},
   "outputs": [
    {
     "name": "stdout",
     "output_type": "stream",
     "text": [
      "1539.6\n",
      "1417.0\n",
      "1513.07\n",
      "1592.33\n",
      "1568.36\n",
      "1643.0\n",
      "1500.84\n",
      "1500.64\n"
     ]
    }
   ],
   "source": [
    "tesla = {\n",
    "    'Close': {\n",
    "        0: 1499.11,\n",
    "        1: 1476.49,\n",
    "        2: 1539.6,\n",
    "        3: 1417.0,\n",
    "        4: 1513.07,\n",
    "        5: 1592.33,\n",
    "        6: 1568.36,\n",
    "        7: 1643.0,\n",
    "        8: 1500.84,\n",
    "        9: 1500.64,\n",
    "    },\n",
    "    'Date': {\n",
    "        0: '2020-07-29',\n",
    "        1: '2020-07-28',\n",
    "        2: '2020-07-27',\n",
    "        3: '2020-07-24',\n",
    "        4: '2020-07-23',\n",
    "        5: '2020-07-22',\n",
    "        6: '2020-07-21',\n",
    "        7: '2020-07-20',\n",
    "        8: '2020-07-17',\n",
    "        9: '2020-07-16',\n",
    "    },\n",
    "    'Volume': {\n",
    "        0: 9426893,\n",
    "        1: 15808700,\n",
    "        2: 16048669,\n",
    "        3: 19396616,\n",
    "        4: 24328504,\n",
    "        5: 14161080,\n",
    "        6: 16157280,\n",
    "        7: 17121367,\n",
    "        8: 9329972,\n",
    "        9: 14300785,\n",
    "    },\n",
    "}\n",
    " \n",
    "results = itertools.dropwhile(\n",
    "    lambda price: price <= 1500, tesla['Close'].values()\n",
    ")\n",
    "for result in results:\n",
    "    print(result)"
   ]
  },
  {
   "cell_type": "code",
   "execution_count": 24,
   "metadata": {},
   "outputs": [
    {
     "name": "stdout",
     "output_type": "stream",
     "text": [
      "1.18425 20000\n",
      "1.17928 21000\n",
      "1.17211 20500\n",
      "1.17505 18000\n",
      "1.18425 20000\n",
      "1.17928 21000\n",
      "1.17211 20500\n",
      "1.17505 18000\n",
      "None 22000\n",
      "None 25000\n",
      "1.18425 20000\n",
      "1.17928 21000\n",
      "1.17211 20500\n",
      "1.17505 18000\n",
      "1.17 22000\n",
      "1.17 25000\n",
      "2\n",
      "3\n",
      "1\n"
     ]
    }
   ],
   "source": [
    "from itertools import zip_longest\n",
    "\n",
    "eurusd = [1.18425, 1.17928, 1.17211, 1.17505]\n",
    "revenues = [20000, 21000, 20500, 18000, 22000, 25000]\n",
    " \n",
    "for rate, revenue in zip(eurusd, revenues):\n",
    "    print(rate, revenue)\n",
    "    \n",
    "    \n",
    "\n",
    "eurusd = [1.18425, 1.17928, 1.17211, 1.17505]\n",
    "revenues = [20000, 21000, 20500, 18000, 22000, 25000]\n",
    " \n",
    "for rate, revenue in itertools.zip_longest(eurusd, revenues):\n",
    "    print(rate, revenue)\n",
    "    \n",
    "\n",
    "\n",
    "eurusd = [1.18425, 1.17928, 1.17211, 1.17505]\n",
    "revenues = [20000, 21000, 20500, 18000, 22000, 25000]\n",
    " \n",
    "for rate, revenue in zip_longest(eurusd, revenues, fillvalue=1.17):\n",
    "    print(rate, revenue)\n",
    "    \n",
    "\n",
    "values = [(44, 7), (57, 6), (10, 3)]\n",
    " \n",
    "for val in itertools.starmap(lambda x, y: x % y, values):\n",
    "    print(val)"
   ]
  },
  {
   "cell_type": "code",
   "execution_count": 25,
   "metadata": {},
   "outputs": [
    {
     "name": "stdout",
     "output_type": "stream",
     "text": [
      "0.159025\n",
      "0.093397\n",
      "0.095933\n",
      "0.073054\n",
      "0.062193\n",
      "0.112444\n",
      "0.097068\n",
      "0.095962\n",
      "0.160862\n",
      "0.104934\n"
     ]
    }
   ],
   "source": [
    "tesla = {\n",
    "    \"Close\": {\n",
    "        0: 1499.11,\n",
    "        1: 1476.49,\n",
    "        2: 1539.6,\n",
    "        3: 1417.0,\n",
    "        4: 1513.07,\n",
    "        5: 1592.33,\n",
    "        6: 1568.36,\n",
    "        7: 1643.0,\n",
    "        8: 1500.84,\n",
    "        9: 1500.64,\n",
    "    },\n",
    "    \"Date\": {\n",
    "        0: \"2020-07-29\",\n",
    "        1: \"2020-07-28\",\n",
    "        2: \"2020-07-27\",\n",
    "        3: \"2020-07-24\",\n",
    "        4: \"2020-07-23\",\n",
    "        5: \"2020-07-22\",\n",
    "        6: \"2020-07-21\",\n",
    "        7: \"2020-07-20\",\n",
    "        8: \"2020-07-17\",\n",
    "        9: \"2020-07-16\",\n",
    "    },\n",
    "    \"Volume\": {\n",
    "        0: 9426893,\n",
    "        1: 15808700,\n",
    "        2: 16048669,\n",
    "        3: 19396616,\n",
    "        4: 24328504,\n",
    "        5: 14161080,\n",
    "        6: 16157280,\n",
    "        7: 17121367,\n",
    "        8: 9329972,\n",
    "        9: 14300785,\n",
    "    },\n",
    "}\n",
    " \n",
    "for val in itertools.starmap(\n",
    "    lambda x, y: round(x / (y / 1000), 6),\n",
    "    zip(tesla[\"Close\"].values(), tesla[\"Volume\"].values()),\n",
    "):\n",
    "    print(val)"
   ]
  },
  {
   "cell_type": "code",
   "execution_count": null,
   "metadata": {},
   "outputs": [],
   "source": [
    "data = [1, 5, 3, 4, 6, 9, 3]\n",
    " \n",
    "grouped_data = itertools.groupby(\n",
    "    data, key=lambda x: 'even' if x % 2 == 0 else 'odd'\n",
    ")\n",
    " \n",
    "for key, group in grouped_data:\n",
    "    print(f'{key} -> {list(group)}')\n",
    "    \n",
    "\n",
    "data = [1, 5, 3, 4, 6, 9, 3]\n",
    " \n",
    "func = lambda x: 'even' if x % 2 == 0 else 'odd'\n",
    "sorted_data = sorted(data, key=func)\n",
    "grouped_data = itertools.groupby(sorted_data, key=func)\n",
    " \n",
    "for key, group in grouped_data:\n",
    "    print(f'{key} -> {list(group)}')\n",
    "    "
   ]
  },
  {
   "cell_type": "code",
   "execution_count": null,
   "metadata": {},
   "outputs": [],
   "source": [
    "fnames = [\n",
    "    \"01_image.jpg\",\n",
    "    \"02_image.png\",\n",
    "    \"03_image.jpg\",\n",
    "    \"04_image.jpg\",\n",
    "    \"05_image.jpg\",\n",
    "    \"06_image.png\",\n",
    "    \"07_image.jpg\",\n",
    "    \"08_image.jpg\",\n",
    "]\n",
    " \n",
    "func = lambda fname: \"jpg\" if fname.endswith(\"jpg\") else \"png\"\n",
    "sorted_data = sorted(fnames, key=func)\n",
    "grouped_data = itertools.groupby(sorted_data, key=func)\n",
    " \n",
    "for key, group in grouped_data:\n",
    "    print(f\"{key} -> {list(group)}\")\n",
    "    "
   ]
  },
  {
   "cell_type": "code",
   "execution_count": null,
   "metadata": {},
   "outputs": [],
   "source": [
    "fnames = [\n",
    "    \"01_image.jpg\",\n",
    "    \"02_image.png\",\n",
    "    \"03_image.jpg\",\n",
    "    \"04_image.jpg\",\n",
    "    \"05_image.jpg\",\n",
    "    \"06_image.png\",\n",
    "    \"07_image.jpg\",\n",
    "    \"08_image.png\",\n",
    "    \"09_image.svg\",\n",
    "    \"10_image.svg\",\n",
    "    \"11_image.jpeg\",\n",
    "    \"12_image.jpeg\",\n",
    "]\n",
    " \n",
    "func = lambda fname: fname.split(\".\")[-1]\n",
    "sorted_data = sorted(fnames, key=func)\n",
    "grouped_data = itertools.groupby(sorted_data, key=func)\n",
    " \n",
    "for key, group in grouped_data:\n",
    "    print(f\"{key} -> {len(list(group))}\")\n",
    "    \n",
    " "
   ]
  },
  {
   "cell_type": "code",
   "execution_count": null,
   "metadata": {},
   "outputs": [],
   "source": [
    "fnames = [\n",
    "    \"01_image.jpg\",\n",
    "    \"02_image.png\",\n",
    "    \"03_image.jpg\",\n",
    "    \"04_image.jpg\",\n",
    "    \"05_image.jpg\",\n",
    "    \"06_image.png\",\n",
    "    \"07_image.jpg\",\n",
    "    \"08_image.png\",\n",
    "    \"09_image.svg\",\n",
    "    \"10_image.svg\",\n",
    "    \"11_image.jpeg\",\n",
    "    \"12_image.jpeg\",\n",
    "]\n",
    " \n",
    "func = lambda fname: fname.split(\".\")[-1]\n",
    "sorted_data = sorted(fnames, key=func)\n",
    "grouped_data = itertools.groupby(sorted_data, key=func)\n",
    " \n",
    "for key, group in grouped_data:\n",
    "    print(f\"{key} -> {round(100 * len(list(group)) / len(fnames), 2)}%\")\n",
    "    "
   ]
  },
  {
   "cell_type": "code",
   "execution_count": null,
   "metadata": {},
   "outputs": [],
   "source": [
    "data = [\n",
    "    {\"user\": \"0032\", \"level\": 70},\n",
    "    {\"user\": \"0034\", \"level\": 74},\n",
    "    {\"user\": \"0233\", \"level\": 71},\n",
    "    {\"user\": \"0532\", \"level\": 70},\n",
    "    {\"user\": \"0634\", \"level\": 74},\n",
    "    {\"user\": \"0245\", \"level\": 70},\n",
    "    {\"user\": \"0235\", \"level\": 70},\n",
    "    {\"user\": \"0255\", \"level\": 71},\n",
    "]\n",
    " \n",
    "func = lambda row: row[\"level\"]\n",
    "sorted_data = sorted(data, key=func)\n",
    "grouped_data = itertools.groupby(sorted_data, key=func)\n",
    " \n",
    "for key, group in grouped_data:\n",
    "    print(f\"{key} -> {list(group)}\")\n",
    "    "
   ]
  },
  {
   "cell_type": "code",
   "execution_count": null,
   "metadata": {},
   "outputs": [],
   "source": [
    "data = [\n",
    "    {\"user\": \"0032\", \"level\": 70},\n",
    "    {\"user\": \"0034\", \"level\": 74},\n",
    "    {\"user\": \"0233\", \"level\": 71},\n",
    "    {\"user\": \"0532\", \"level\": 70},\n",
    "    {\"user\": \"0634\", \"level\": 74},\n",
    "    {\"user\": \"0245\", \"level\": 70},\n",
    "    {\"user\": \"0235\", \"level\": 70},\n",
    "    {\"user\": \"0255\", \"level\": 71},\n",
    "]\n",
    " \n",
    "func = lambda row: row[\"level\"]\n",
    "sorted_data = sorted(data, key=func)\n",
    "grouped_data = itertools.groupby(sorted_data, key=func)\n",
    " \n",
    "for key, group in grouped_data:\n",
    "    print(f\"{key} -> \", end=\"\")\n",
    "    print([user[\"user\"] for user in group])"
   ]
  },
  {
   "cell_type": "code",
   "execution_count": null,
   "metadata": {},
   "outputs": [],
   "source": [
    "iterator = itertools.product('abc', [1, 2, 3])\n",
    "iter1, iter2 = itertools.tee(iterator, 2)\n",
    " \n",
    "print(list(iter1))\n",
    "print(list(iter2))\n",
    "\n",
    "\n",
    "def pairwise(iterable):\n",
    "    a, b = itertools.tee(iterable)\n",
    "    next(b)\n",
    "    return zip(a, b)\n",
    " \n",
    " \n",
    "print(f'[3, 5, 1, 8, 9, 4] -> {list(pairwise([3, 5, 1, 8, 9, 4]))}')\n",
    "print(\n",
    "    f\"['a', 'b', 'c', 'd', 'e'] -> \"\n",
    "    f\"{list(pairwise(['a', 'b', 'c', 'd', 'e']))}\"\n",
    ")\n",
    "print(f\"'Python' -> {list(pairwise('Python'))}\")\n",
    "\n",
    "\n",
    "def make_three(iterable):\n",
    "    iter1, iter2, iter3 = itertools.tee(iterable, 3)\n",
    "    next(iter3)\n",
    "    return zip(\n",
    "        itertools.chain([None], iter1),\n",
    "        iter2,\n",
    "        itertools.chain(iter3, [None]),\n",
    "    )\n",
    " \n",
    " \n",
    "print(f'[1, 2, 3, 4] -> {list(make_three([1, 2, 3, 4]))}')\n",
    "print(\n",
    "    f\"['a', 'b', 'c', 'd', 'e'] -> \"\n",
    "    f\"{list(make_three(['a', 'b', 'c', 'd', 'e']))}\"\n",
    ")\n",
    "print(f\"'Python' -> {list(make_three('Python'))}\")"
   ]
  }
 ],
 "metadata": {
  "kernelspec": {
   "display_name": "Python 3",
   "language": "python",
   "name": "python3"
  },
  "language_info": {
   "codemirror_mode": {
    "name": "ipython",
    "version": 3
   },
   "file_extension": ".py",
   "mimetype": "text/x-python",
   "name": "python",
   "nbconvert_exporter": "python",
   "pygments_lexer": "ipython3",
   "version": "3.11.3"
  },
  "orig_nbformat": 4
 },
 "nbformat": 4,
 "nbformat_minor": 2
}
