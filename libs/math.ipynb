{
 "cells": [
  {
   "cell_type": "code",
   "execution_count": null,
   "metadata": {},
   "outputs": [],
   "source": [
    "import math\n",
    " \n",
    " \n",
    "print(f'Pi number: {math.pi}')\n",
    "print(f'Euler\\'s number: {math.e}')"
   ]
  },
  {
   "cell_type": "code",
   "execution_count": null,
   "metadata": {},
   "outputs": [],
   "source": [
    "def calculate_seq(n):\n",
    "    return (1 + (1 / n)) ** n\n",
    " \n",
    " \n",
    "sequence = [calculate_seq(i) for i in range(1, 21)]\n",
    "for item in sequence:\n",
    "    print(item)"
   ]
  },
  {
   "cell_type": "code",
   "execution_count": null,
   "metadata": {},
   "outputs": [],
   "source": [
    "import math\n",
    " \n",
    " \n",
    "def calculate_seq(n):\n",
    "    return (1 + (1 / n)) ** n\n",
    " \n",
    " \n",
    "i = 1\n",
    "while True:\n",
    "    item = calculate_seq(i)\n",
    "    if math.isclose(item, math.e, rel_tol=1e-06):\n",
    "        print(i)\n",
    "        break\n",
    "    i += 1"
   ]
  },
  {
   "cell_type": "code",
   "execution_count": null,
   "metadata": {},
   "outputs": [],
   "source": [
    "import math\n",
    " \n",
    " \n",
    "result = 1 / math.comb(49, 6)\n",
    "print(f'{100 * result:.10f}%')"
   ]
  },
  {
   "cell_type": "code",
   "execution_count": null,
   "metadata": {},
   "outputs": [],
   "source": [
    "import math\n",
    " \n",
    " \n",
    "for k in range(0, 7)[::-1]:\n",
    "    hits = math.comb(6, k) * math.comb(49 - 6, 6 - k)\n",
    "    result = hits / math.comb(49, 6)\n",
    "    print(f'hit: {k} prob: {100 * result:.10f}%')"
   ]
  },
  {
   "cell_type": "code",
   "execution_count": null,
   "metadata": {},
   "outputs": [],
   "source": [
    "import math\n",
    " \n",
    " \n",
    "fnames = {\n",
    "    \"01_stream.txt\",\n",
    "    \"02_stream.txt\",\n",
    "    \"03_stream.txt\",\n",
    "    \"04_stream.txt\",\n",
    "    \"05_stream.txt\",\n",
    "}\n",
    "print(math.factorial(len(fnames)))"
   ]
  },
  {
   "cell_type": "code",
   "execution_count": null,
   "metadata": {},
   "outputs": [],
   "source": [
    "import math\n",
    " \n",
    " \n",
    "pv = 1000\n",
    "r = 0.04\n",
    "n = 3\n",
    " \n",
    "fv = pv * math.e ** (r * n)\n",
    "print(f'fv = $ {fv:.2f}')"
   ]
  },
  {
   "cell_type": "code",
   "execution_count": null,
   "metadata": {},
   "outputs": [],
   "source": [
    "import math\n",
    " \n",
    " \n",
    "pv = 1\n",
    "fv = 2\n",
    "r = 0.04\n",
    "n = math.ceil((1 / r) * math.log(fv / pv))\n",
    "print(f'n = {n}')"
   ]
  },
  {
   "cell_type": "code",
   "execution_count": null,
   "metadata": {},
   "outputs": [],
   "source": [
    "import math\n",
    "import random\n",
    "from random import random as rand\n",
    " \n",
    " \n",
    "random.seed(42)\n",
    "centroid = (0.5, 0.5)\n",
    "points = [(rand(), rand()) for i in range(10)]\n",
    "    \n",
    "distances = [math.dist(point, centroid) for point in points]\n",
    "result = min(list(enumerate(distances)), key=lambda item: item[1])\n",
    "print(result)"
   ]
  }
 ],
 "metadata": {
  "language_info": {
   "name": "python"
  },
  "orig_nbformat": 4
 },
 "nbformat": 4,
 "nbformat_minor": 2
}
