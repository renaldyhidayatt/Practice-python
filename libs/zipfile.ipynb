{
 "cells": [
  {
   "cell_type": "code",
   "execution_count": null,
   "metadata": {},
   "outputs": [],
   "source": [
    "from pathlib import Path\n",
    " \n",
    " \n",
    "path = Path.cwd().joinpath('cars.csv')\n",
    "original_size = path.stat().st_size\n",
    "print(f'original size: {original_size / 1024:.1f} KB')"
   ]
  },
  {
   "cell_type": "code",
   "execution_count": null,
   "metadata": {},
   "outputs": [],
   "source": [
    "from pathlib import Path\n",
    "import zipfile\n",
    " \n",
    " \n",
    "path = Path.cwd().joinpath('cars.csv')\n",
    " \n",
    "with zipfile.ZipFile('cars.zip', 'w') as zip:\n",
    "    zip.write(path, path.name, compress_type=zipfile.ZIP_DEFLATED)"
   ]
  },
  {
   "cell_type": "code",
   "execution_count": null,
   "metadata": {},
   "outputs": [],
   "source": [
    "from pathlib import Path\n",
    "import zipfile\n",
    " \n",
    " \n",
    "path = Path.cwd().joinpath('cars.csv')\n",
    " \n",
    "with zipfile.ZipFile('cars.zip', 'w') as zip:\n",
    "    zip.write(path, path.name, compress_type=zipfile.ZIP_DEFLATED)\n",
    "    \n",
    "compressed_size = Path('cars.zip').stat().st_size\n",
    "print(f'compressed size: {compressed_size / 1024:.1f} KB')"
   ]
  },
  {
   "cell_type": "code",
   "execution_count": null,
   "metadata": {},
   "outputs": [],
   "source": [
    "from pathlib import Path\n",
    "import zipfile\n",
    " \n",
    " \n",
    "path = Path.cwd().joinpath('cars.csv')\n",
    " \n",
    "with zipfile.ZipFile('archive.zip', 'w') as zip:\n",
    "    zip.write(path, path.name, compress_type=zipfile.ZIP_DEFLATED)\n",
    "    \n",
    "with zipfile.ZipFile('archive.zip', 'r') as zip:\n",
    "    zip.extractall('backup')"
   ]
  }
 ],
 "metadata": {
  "language_info": {
   "name": "python"
  },
  "orig_nbformat": 4
 },
 "nbformat": 4,
 "nbformat_minor": 2
}
