{
 "cells": [
  {
   "cell_type": "code",
   "execution_count": 2,
   "metadata": {},
   "outputs": [
    {
     "name": "stdout",
     "output_type": "stream",
     "text": [
      "fraction: 13/15\n",
      "numerator: 13\n",
      "denominator: 15\n"
     ]
    }
   ],
   "source": [
    "from fractions import Fraction\n",
    " \n",
    " \n",
    "frac = Fraction(13, 15)\n",
    "print(f'fraction: {frac}')\n",
    "print(f'numerator: {frac.numerator}')\n",
    "print(f'denominator: {frac.denominator}')"
   ]
  },
  {
   "cell_type": "code",
   "execution_count": 3,
   "metadata": {},
   "outputs": [
    {
     "name": "stdout",
     "output_type": "stream",
     "text": [
      "1/4 + 1/2 = 3/4\n",
      "1/4 - 1/2 = -1/4\n",
      "1/4 * 1/2 = 1/8\n",
      "1/4 / 1/2 = 1/2\n"
     ]
    }
   ],
   "source": [
    "f1 = Fraction(1, 4)\n",
    "f2 = Fraction(1, 2)\n",
    " \n",
    "print(f'{f1} + {f2} = {f1 + f2}')\n",
    "print(f'{f1} - {f2} = {f1 - f2}')\n",
    "print(f'{f1} * {f2} = {f1 * f2}')\n",
    "print(f'{f1} / {f2} = {f1 / f2}')\n"
   ]
  },
  {
   "cell_type": "code",
   "execution_count": 4,
   "metadata": {},
   "outputs": [
    {
     "name": "stdout",
     "output_type": "stream",
     "text": [
      "1/4 ** 2 = 1/16\n",
      "1/4 ** 3 = 1/64\n",
      "math.sqrt(1/4) = 0.5\n",
      "math.sqrt(Fraction(1/4) = 1/2\n"
     ]
    }
   ],
   "source": [
    "import math\n",
    " \n",
    " \n",
    "f1 = Fraction(1, 4)\n",
    " \n",
    "print(f'{f1} ** 2 = {f1 ** 2}')\n",
    "print(f'{f1} ** 3 = {f1 ** 3}')\n",
    "print(f'math.sqrt({f1}) = {math.sqrt(f1)}')\n",
    "print(f'math.sqrt(Fraction({f1}) = {Fraction(math.sqrt(f1))}')\n"
   ]
  },
  {
   "cell_type": "code",
   "execution_count": 5,
   "metadata": {},
   "outputs": [
    {
     "name": "stdout",
     "output_type": "stream",
     "text": [
      "pi = 884279719003555/281474976710656\n",
      "e = 6121026514868073/2251799813685248\n"
     ]
    }
   ],
   "source": [
    " \n",
    "pi = Fraction(math.pi)\n",
    "e = Fraction(math.e)\n",
    " \n",
    "print(f'pi = {pi}')\n",
    "print(f'e = {e}')"
   ]
  },
  {
   "cell_type": "code",
   "execution_count": 6,
   "metadata": {},
   "outputs": [
    {
     "name": "stdout",
     "output_type": "stream",
     "text": [
      "limit: 10\n",
      "\tpi = 22/7\n",
      "\te = 19/7\n",
      "limit: 100\n",
      "\tpi = 311/99\n",
      "\te = 193/71\n",
      "limit: 1000\n",
      "\tpi = 355/113\n",
      "\te = 1457/536\n"
     ]
    }
   ],
   "source": [
    " \n",
    "pi = Fraction(math.pi)\n",
    "e = Fraction(math.e)\n",
    " \n",
    "for limit in [10, 100, 1000]:\n",
    "    print(f'limit: {limit}')\n",
    "    print(f'\\tpi = {pi.limit_denominator(limit)}')\n",
    "    print(f'\\te = {e.limit_denominator(limit)}')"
   ]
  }
 ],
 "metadata": {
  "kernelspec": {
   "display_name": "Python 3",
   "language": "python",
   "name": "python3"
  },
  "language_info": {
   "codemirror_mode": {
    "name": "ipython",
    "version": 3
   },
   "file_extension": ".py",
   "mimetype": "text/x-python",
   "name": "python",
   "nbconvert_exporter": "python",
   "pygments_lexer": "ipython3",
   "version": "3.11.3"
  },
  "orig_nbformat": 4
 },
 "nbformat": 4,
 "nbformat_minor": 2
}
