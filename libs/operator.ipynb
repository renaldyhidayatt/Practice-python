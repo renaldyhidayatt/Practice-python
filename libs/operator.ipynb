{
 "cells": [
  {
   "cell_type": "code",
   "execution_count": null,
   "metadata": {},
   "outputs": [],
   "source": [
    "import operator\n",
    " \n",
    " \n",
    "print(operator.truediv(3, 5))\n",
    "print(operator.floordiv(5, 2))\n",
    "print(operator.mod(10, 3))\n",
    "print(operator.pow(2, 8))\n",
    "print(operator.xor(1, 3))"
   ]
  },
  {
   "cell_type": "code",
   "execution_count": null,
   "metadata": {},
   "outputs": [],
   "source": [
    "numbers = [3, 4, 5]\n",
    " \n",
    "print(operator.contains([3, 4, 5], 4))\n",
    "print(operator.getitem([3, 4, 5], 2))"
   ]
  }
 ],
 "metadata": {
  "language_info": {
   "name": "python"
  },
  "orig_nbformat": 4
 },
 "nbformat": 4,
 "nbformat_minor": 2
}
