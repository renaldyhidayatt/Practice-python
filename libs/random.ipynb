{
 "cells": [
  {
   "cell_type": "code",
   "execution_count": 1,
   "metadata": {},
   "outputs": [
    {
     "name": "stdout",
     "output_type": "stream",
     "text": [
      "0.63943\n"
     ]
    }
   ],
   "source": [
    "import random\n",
    " \n",
    " \n",
    "random.seed(42)\n",
    "var = random.random()\n",
    "print(f'{var:.5}')"
   ]
  },
  {
   "cell_type": "code",
   "execution_count": null,
   "metadata": {},
   "outputs": [],
   "source": [
    "import random\n",
    " \n",
    " \n",
    "random.seed(42)\n",
    "numbers = [round(random.random(), 4) for _ in range(10)]\n",
    "print(numbers)"
   ]
  },
  {
   "cell_type": "code",
   "execution_count": null,
   "metadata": {},
   "outputs": [],
   "source": [
    "import random\n",
    " \n",
    " \n",
    "random.seed(42)\n",
    "a = 5\n",
    "b = 10\n",
    "numbers = [round((b - a) * random.random() + a, 4) for _ in range(10)]\n",
    "print(numbers)"
   ]
  },
  {
   "cell_type": "code",
   "execution_count": null,
   "metadata": {},
   "outputs": [],
   "source": [
    "import random\n",
    " \n",
    " \n",
    "random.seed(42)\n",
    "numbers = [random.randint(1, 49) for _ in range(6)]\n",
    "print(numbers)"
   ]
  },
  {
   "cell_type": "code",
   "execution_count": null,
   "metadata": {},
   "outputs": [],
   "source": [
    "import random\n",
    " \n",
    " \n",
    "techs = ['python', 'java', 'php', 'c++', 'c#', 'javascript']\n",
    "random.seed(32)\n",
    "print(random.choice(techs))"
   ]
  },
  {
   "cell_type": "code",
   "execution_count": null,
   "metadata": {},
   "outputs": [],
   "source": [
    "import random\n",
    " \n",
    " \n",
    "techs = ['python', 'java', 'php', 'c++', 'c#', 'javascript']\n",
    "random.seed(32)\n",
    "print(random.choices(population=techs, k=3))"
   ]
  },
  {
   "cell_type": "code",
   "execution_count": null,
   "metadata": {},
   "outputs": [],
   "source": [
    "import random\n",
    " \n",
    " \n",
    "random.seed(32)\n",
    "techs = ['python', 'java', 'php', 'c++', 'c#', 'javascript']\n",
    "print(random.sample(population=techs, k=3))"
   ]
  },
  {
   "cell_type": "code",
   "execution_count": null,
   "metadata": {},
   "outputs": [],
   "source": [
    "import random\n",
    " \n",
    " \n",
    "random.seed(32)\n",
    "techs = ['python', 'java', 'php', 'c++', 'c#', 'javascript']\n",
    "random.shuffle(techs)\n",
    "print(techs)"
   ]
  }
 ],
 "metadata": {
  "kernelspec": {
   "display_name": "Python 3",
   "language": "python",
   "name": "python3"
  },
  "language_info": {
   "codemirror_mode": {
    "name": "ipython",
    "version": 3
   },
   "file_extension": ".py",
   "mimetype": "text/x-python",
   "name": "python",
   "nbconvert_exporter": "python",
   "pygments_lexer": "ipython3",
   "version": "3.10.8"
  },
  "orig_nbformat": 4,
  "vscode": {
   "interpreter": {
    "hash": "e7370f93d1d0cde622a1f8e1c04877d8463912d04d973331ad4851f04de6915a"
   }
  }
 },
 "nbformat": 4,
 "nbformat_minor": 2
}
