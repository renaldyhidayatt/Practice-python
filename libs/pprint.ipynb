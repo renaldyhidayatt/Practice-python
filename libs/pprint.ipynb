{
 "cells": [
  {
   "cell_type": "code",
   "execution_count": null,
   "metadata": {},
   "outputs": [],
   "source": [
    "from pprint import pprint\n",
    " \n",
    " \n",
    "data_dict = {\n",
    "    \"users\": [\n",
    "        {\n",
    "            \"userId\": 1,\n",
    "            \"firstName\": \"Krish\",\n",
    "            \"lastName\": \"Lee\",\n",
    "            \"emailAddress\": \"krish.lee@example.com\"\n",
    "        },\n",
    "        {\n",
    "            \"userId\": 2,\n",
    "            \"firstName\": \"racks\",\n",
    "            \"lastName\": \"jacson\",\n",
    "            \"emailAddress\": \"racks.jacson@example.com\"\n",
    "        },\n",
    "        {\n",
    "            \"userId\": 3,\n",
    "            \"firstName\": \"denial\",\n",
    "            \"lastName\": \"roast\",\n",
    "            \"emailAddress\": \"denial.roast@example.com\"\n",
    "        }\n",
    "    ]\n",
    "}\n",
    " \n",
    "pprint(data_dict)"
   ]
  }
 ],
 "metadata": {
  "language_info": {
   "name": "python"
  },
  "orig_nbformat": 4
 },
 "nbformat": 4,
 "nbformat_minor": 2
}
