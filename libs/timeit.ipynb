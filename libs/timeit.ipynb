{
 "cells": [
  {
   "cell_type": "code",
   "execution_count": null,
   "metadata": {},
   "outputs": [],
   "source": [
    "from timeit import timeit\n",
    " \n",
    " \n",
    "code = \"\"\"\n",
    "numbers = []\n",
    "for i in range(10):\n",
    "    numbers.append(i)\n",
    "\"\"\"\n",
    " \n",
    "print(timeit(code, number=100000))"
   ]
  },
  {
   "cell_type": "code",
   "execution_count": null,
   "metadata": {},
   "outputs": [],
   "source": [
    "from timeit import timeit\n",
    " \n",
    " \n",
    "code1 = \"\"\"\n",
    "numbers = []\n",
    "for i in range(10):\n",
    "    numbers.append(i)\n",
    "\"\"\"\n",
    " \n",
    "code2 = \"\"\"\n",
    "numbers = [i for i in range(10)]\n",
    "\"\"\"\n",
    " \n",
    "t1 = timeit(code1, number=1000000)\n",
    "t2 = timeit(code2, number=1000000)\n",
    " \n",
    "results = {'code1': t1, 'code2': t2}\n",
    "result = sorted(results.items(), key=lambda x: x[1])[0][0]\n",
    "print(result)"
   ]
  },
  {
   "cell_type": "code",
   "execution_count": null,
   "metadata": {},
   "outputs": [],
   "source": [
    "import timeit\n",
    " \n",
    " \n",
    "t1 = timeit.timeit(\"numbers.insert(0, 1)\", \"numbers = []\", number=100000)\n",
    "t2 = timeit.timeit(\n",
    "    \"d.appendleft(1)\", \n",
    "    \"import collections; d = collections.deque()\", \n",
    "    number=100000\n",
    ")\n",
    " \n",
    "results = {\"list\": t1, \"deque\": t2}\n",
    "result = sorted(results, key=lambda x: x[1])[0]\n",
    "print(result)"
   ]
  }
 ],
 "metadata": {
  "language_info": {
   "name": "python"
  },
  "orig_nbformat": 4
 },
 "nbformat": 4,
 "nbformat_minor": 2
}
