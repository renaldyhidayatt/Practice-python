{
 "cells": [
  {
   "cell_type": "code",
   "execution_count": null,
   "metadata": {},
   "outputs": [],
   "source": [
    "import urllib.request\n",
    " \n",
    " \n",
    "with urllib.request.urlopen('http://python.org') as response:\n",
    "    html = response.read().decode('utf-8')\n",
    "    \n",
    "print(html[:96])\n"
   ]
  },
  {
   "cell_type": "code",
   "execution_count": null,
   "metadata": {},
   "outputs": [],
   "source": [
    "\n",
    "from urllib.request import urlopen\n",
    " \n",
    " \n",
    "with urlopen('http://python.org') as response:\n",
    "    html = response.read().decode('utf-8')\n",
    "    lines = [line.strip() for line in html.splitlines() if line][:5]\n",
    " \n",
    "for line in lines:\n",
    "    print(line)"
   ]
  }
 ],
 "metadata": {
  "language_info": {
   "name": "python"
  },
  "orig_nbformat": 4
 },
 "nbformat": 4,
 "nbformat_minor": 2
}
