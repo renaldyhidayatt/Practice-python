{
 "cells": [
  {
   "cell_type": "code",
   "execution_count": null,
   "metadata": {},
   "outputs": [],
   "source": [
    "import copy\n",
    " \n",
    " \n",
    "stocks = [['CDR', '11B'], ['PLW'], ['TEN']]\n",
    "stocks_copied = copy.copy(stocks)\n",
    " \n",
    "stocks[0][1] = 'CRJ'\n",
    " \n",
    "print(f'stocks: {stocks}')\n",
    "print(f'stocks_copied: {stocks_copied}')"
   ]
  },
  {
   "cell_type": "code",
   "execution_count": null,
   "metadata": {},
   "outputs": [],
   "source": [
    "import copy\n",
    " \n",
    " \n",
    "stocks = [['CDR', '11B'], ['PLW'], ['TEN']]\n",
    "stocks_copied = copy.deepcopy(stocks)\n",
    " \n",
    "stocks[0][1] = 'CRJ'\n",
    " \n",
    "print(f'stocks: {stocks}')\n",
    "print(f'stocks_copied: {stocks_copied}')"
   ]
  }
 ],
 "metadata": {
  "kernelspec": {
   "display_name": "Python 3",
   "language": "python",
   "name": "python3"
  },
  "language_info": {
   "name": "python",
   "version": "3.10.8 (main, Nov  1 2022, 14:18:21) [GCC 12.2.0]"
  },
  "orig_nbformat": 4,
  "vscode": {
   "interpreter": {
    "hash": "e7370f93d1d0cde622a1f8e1c04877d8463912d04d973331ad4851f04de6915a"
   }
  }
 },
 "nbformat": 4,
 "nbformat_minor": 2
}
