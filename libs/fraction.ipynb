{
 "cells": [
  {
   "cell_type": "code",
   "execution_count": null,
   "metadata": {},
   "outputs": [],
   "source": [
    "from fractions import Fraction\n",
    " \n",
    " \n",
    "frac = Fraction(13, 15)\n",
    "print(f'fraction: {frac}')\n",
    "print(f'numerator: {frac.numerator}')\n",
    "print(f'denominator: {frac.denominator}')"
   ]
  },
  {
   "cell_type": "code",
   "execution_count": null,
   "metadata": {},
   "outputs": [],
   "source": [
    "from fractions import Fraction\n",
    " \n",
    " \n",
    "f1 = Fraction(1, 4)\n",
    "f2 = Fraction(1, 2)\n",
    " \n",
    "print(f'{f1} + {f2} = {f1 + f2}')\n",
    "print(f'{f1} - {f2} = {f1 - f2}')\n",
    "print(f'{f1} * {f2} = {f1 * f2}')\n",
    "print(f'{f1} / {f2} = {f1 / f2}')"
   ]
  },
  {
   "cell_type": "code",
   "execution_count": null,
   "metadata": {},
   "outputs": [],
   "source": [
    "from fractions import Fraction\n",
    "import math\n",
    " \n",
    " \n",
    "f1 = Fraction(1, 4)\n",
    " \n",
    "print(f'{f1} ** 2 = {f1 ** 2}')\n",
    "print(f'{f1} ** 3 = {f1 ** 3}')\n",
    "print(f'math.sqrt({f1}) = {math.sqrt(f1)}')\n",
    "print(f'math.sqrt(Fraction({f1}) = {Fraction(math.sqrt(f1))}')"
   ]
  },
  {
   "cell_type": "code",
   "execution_count": null,
   "metadata": {},
   "outputs": [],
   "source": [
    "from fractions import Fraction\n",
    "import math\n",
    " \n",
    " \n",
    "pi = Fraction(math.pi)\n",
    "e = Fraction(math.e)\n",
    " \n",
    "print(f'pi = {pi}')\n",
    "print(f'e = {e}')"
   ]
  },
  {
   "cell_type": "code",
   "execution_count": null,
   "metadata": {},
   "outputs": [],
   "source": [
    "from fractions import Fraction\n",
    "import math\n",
    " \n",
    " \n",
    "pi = Fraction(math.pi)\n",
    "e = Fraction(math.e)\n",
    " \n",
    "for limit in [10, 100, 1000]:\n",
    "    print(f'limit: {limit}')\n",
    "    print(f'\\tpi = {pi.limit_denominator(limit)}')\n",
    "    print(f'\\te = {e.limit_denominator(limit)}')"
   ]
  }
 ],
 "metadata": {
  "language_info": {
   "name": "python"
  },
  "orig_nbformat": 4
 },
 "nbformat": 4,
 "nbformat_minor": 2
}
