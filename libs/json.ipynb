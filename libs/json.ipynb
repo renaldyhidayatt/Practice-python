{
 "cells": [
  {
   "cell_type": "code",
   "execution_count": null,
   "metadata": {},
   "outputs": [],
   "source": [
    "import json\n",
    " \n",
    " \n",
    "employees_json = \"\"\"\n",
    "{\"IT\": [{\"employee_id\": \"0010\", \"stack\": [\"Python\", \"Java\", \"AWS\", \"Docker\", \"Linux\"], \"experience\": 5},\n",
    "{\"employee_id\": \"0360\", \"stack\": [\"Python\", \"AWS\", \"Docker\", \"Linux\", \"Azure\"], \"experience\": 6},\n",
    "{\"employee_id\": \"0323\", \"stack\": [\"Python\", \"AWS\", \"JavaScript\"]}],\n",
    "\"Marketing\": [{\"employee_id\": \"0863\", \"stack\": [\"Google Analytics\", \"Google Ads\", \"Facebook Ads\"]},\n",
    "{\"employee_id\": \"0543\", \"stack\": [\"Google Ads\", \"Facebook Ads\"]}]}\n",
    "\"\"\"\n",
    " \n",
    "employees = json.loads(employees_json)\n",
    "print(employees)"
   ]
  },
  {
   "cell_type": "code",
   "execution_count": null,
   "metadata": {},
   "outputs": [],
   "source": [
    "\n",
    "from pprint import pprint\n",
    " \n",
    " \n",
    "employees_json = \"\"\"\n",
    "{\"IT\": [{\"employee_id\": \"0010\", \"stack\": [\"Python\", \"Java\", \"AWS\", \"Docker\", \"Linux\"], \"experience\": 5},\n",
    "{\"employee_id\": \"0360\", \"stack\": [\"Python\", \"AWS\", \"Docker\", \"Linux\", \"Azure\"], \"experience\": 6},\n",
    "{\"employee_id\": \"0323\", \"stack\": [\"Python\", \"AWS\", \"JavaScript\"]}],\n",
    "\"Marketing\": [{\"employee_id\": \"0863\", \"stack\": [\"Google Analytics\", \"Google Ads\", \"Facebook Ads\"]},\n",
    "{\"employee_id\": \"0543\", \"stack\": [\"Google Ads\", \"Facebook Ads\"]}]}\n",
    "\"\"\"\n",
    " \n",
    "employees = json.loads(employees_json)\n",
    "pprint(employees)"
   ]
  },
  {
   "cell_type": "code",
   "execution_count": null,
   "metadata": {},
   "outputs": [],
   "source": [
    "\n",
    "employees_json = \"\"\"\n",
    "{\"IT\": [{\"employee_id\": \"0010\", \"stack\": [\"Python\", \"Java\", \"AWS\", \"Docker\", \"Linux\"], \"experience\": 5},\n",
    "{\"employee_id\": \"0360\", \"stack\": [\"Python\", \"AWS\", \"Docker\", \"Linux\", \"Azure\"], \"experience\": 6},\n",
    "{\"employee_id\": \"0323\", \"stack\": [\"Python\", \"AWS\", \"JavaScript\"]}],\n",
    "\"Marketing\": [{\"employee_id\": \"0863\", \"stack\": [\"Google Analytics\", \"Google Ads\", \"Facebook Ads\"]},\n",
    "{\"employee_id\": \"0543\", \"stack\": [\"Google Ads\", \"Facebook Ads\"]}]}\n",
    "\"\"\"\n",
    " \n",
    "employees = json.loads(employees_json)\n",
    " \n",
    "for department in employees:\n",
    "    print(department)"
   ]
  },
  {
   "cell_type": "code",
   "execution_count": null,
   "metadata": {},
   "outputs": [],
   "source": [
    "employees_json = \"\"\"\n",
    "{\"IT\": [{\"employee_id\": \"0010\", \"stack\": [\"Python\", \"Java\", \"AWS\", \"Docker\", \"Linux\"], \"experience\": 5},\n",
    "{\"employee_id\": \"0360\", \"stack\": [\"Python\", \"AWS\", \"Docker\", \"Linux\", \"Azure\"], \"experience\": 6},\n",
    "{\"employee_id\": \"0323\", \"stack\": [\"Python\", \"AWS\", \"JavaScript\"]}],\n",
    "\"Marketing\": [{\"employee_id\": \"0863\", \"stack\": [\"Google Analytics\", \"Google Ads\", \"Facebook Ads\"]},\n",
    "{\"employee_id\": \"0543\", \"stack\": [\"Google Ads\", \"Facebook Ads\"]}]}\n",
    "\"\"\"\n",
    " \n",
    "employees = json.loads(employees_json)\n",
    " \n",
    "for employee in employees['IT']:\n",
    "    print(employee)\n",
    "    \n",
    "\n",
    "with open('employees.json', 'r') as file:\n",
    "    employees = json.load(file)\n",
    "    \n",
    "print(employees)"
   ]
  },
  {
   "cell_type": "code",
   "execution_count": null,
   "metadata": {},
   "outputs": [],
   "source": [
    "employees = {'IT': [{'employee_id': '0010',\n",
    "   'stack': ['Python', 'Java', 'AWS', 'Docker', 'Linux'],\n",
    "   'experience': 5},\n",
    "  {'employee_id': '0360',\n",
    "   'stack': ['Python', 'AWS', 'Docker', 'Linux', 'Azure'],\n",
    "   'experience': 6},\n",
    "  {'employee_id': '0323', 'stack': ['Python', 'AWS', 'JavaScript']}],\n",
    " 'Marketing': [{'employee_id': '0863',\n",
    "   'stack': ['Google Analytics', 'Google Ads', 'Facebook Ads']},\n",
    "  {'employee_id': '0543', 'stack': ['Google Ads', 'Facebook Ads']}]}\n",
    " \n",
    "employees_json = json.dumps(employees, indent=4)\n",
    "print(employees_json)"
   ]
  },
  {
   "cell_type": "code",
   "execution_count": null,
   "metadata": {},
   "outputs": [],
   "source": [
    "\n",
    "\n",
    " \n",
    "employees = {'IT': [{'employee_id': '0010',\n",
    "   'stack': ['Python', 'Java', 'AWS', 'Docker', 'Linux'],\n",
    "   'experience': 5},\n",
    "  {'employee_id': '0360',\n",
    "   'stack': ['Python', 'AWS', 'Docker', 'Linux', 'Azure'],\n",
    "   'experience': 6},\n",
    "  {'employee_id': '0323', 'stack': ['Python', 'AWS', 'JavaScript']}],\n",
    " 'Marketing': [{'employee_id': '0863',\n",
    "   'stack': ['Google Analytics', 'Google Ads', 'Facebook Ads']},\n",
    "  {'employee_id': '0543', 'stack': ['Google Ads', 'Facebook Ads']}]}\n",
    " \n",
    "employees_json = json.dumps(employees, indent=4, sort_keys=True)\n",
    "print(employees_json)"
   ]
  }
 ],
 "metadata": {
  "language_info": {
   "name": "python"
  },
  "orig_nbformat": 4
 },
 "nbformat": 4,
 "nbformat_minor": 2
}
