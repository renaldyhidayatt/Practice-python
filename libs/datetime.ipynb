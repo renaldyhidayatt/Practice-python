{
 "cells": [
  {
   "attachments": {},
   "cell_type": "markdown",
   "metadata": {},
   "source": [
    "## Solution"
   ]
  },
  {
   "cell_type": "code",
   "execution_count": null,
   "metadata": {},
   "outputs": [],
   "source": [
    "import datetime\n",
    " \n",
    " \n",
    "d1 = datetime.date(2021, 1, 1)\n",
    "d2 = datetime.date(2021, 7, 31)\n",
    "d3 = datetime.date(1990, 5, 7)\n",
    " \n",
    "print(d1)\n",
    "print(d2)\n",
    "print(d3)"
   ]
  },
  {
   "cell_type": "code",
   "execution_count": null,
   "metadata": {},
   "outputs": [],
   "source": [
    "import datetime\n",
    " \n",
    " \n",
    "t1 = datetime.time(12, 0, 0)\n",
    "t2 = datetime.time(6, 30, 0)\n",
    "t3 = datetime.time(9, 15, 0)\n",
    " \n",
    "print(t1)\n",
    "print(t2)\n",
    "print(t3)"
   ]
  },
  {
   "cell_type": "code",
   "execution_count": null,
   "metadata": {},
   "outputs": [],
   "source": [
    "import datetime\n",
    " \n",
    " \n",
    "t1 = datetime.time(12, 0, 0)\n",
    "t2 = datetime.time(6, 30, 0)\n",
    "t3 = datetime.time(9, 15, 0)\n",
    " \n",
    "print(t1)\n",
    "print(t2)\n",
    "print(t3)"
   ]
  },
  {
   "cell_type": "code",
   "execution_count": null,
   "metadata": {},
   "outputs": [],
   "source": [
    "import datetime\n",
    " \n",
    " \n",
    "d1 = datetime.date(2020, 7, 21)\n",
    "d2 = datetime.date(2020, 12, 31)\n",
    "diff = (d2 - d1).days\n",
    "print(f'Number of days: {diff}')"
   ]
  },
  {
   "cell_type": "code",
   "execution_count": null,
   "metadata": {},
   "outputs": [],
   "source": [
    "import datetime\n",
    " \n",
    " \n",
    "dt1 = datetime.datetime(2020, 7, 20, 11, 30, 0)\n",
    "dt2 = datetime.datetime(2021, 2, 20, 10, 25, 0)\n",
    "print(dt2 - dt1)"
   ]
  },
  {
   "cell_type": "code",
   "execution_count": null,
   "metadata": {},
   "outputs": [],
   "source": [
    "from datetime import datetime\n",
    " \n",
    " \n",
    "dt1 = datetime(2021, 4, 20, 11, 30, 00)\n",
    " \n",
    "print(dt1.strftime('%Y-%m-%d'))\n",
    "print(dt1.strftime('%d-%m-%Y'))\n",
    "print(dt1.strftime('%m-%Y'))\n",
    "print(dt1.strftime('%B-%Y'))\n",
    "print(dt1.strftime('%d %B, %Y'))\n",
    "print(dt1.strftime('%Y-%m-%d %H:%M:%S'))\n",
    "print(dt1.strftime('%m/%d/%y %H:%M:%S'))\n",
    "print(dt1.strftime('%d(%a) %B %Y'))"
   ]
  },
  {
   "cell_type": "code",
   "execution_count": null,
   "metadata": {},
   "outputs": [],
   "source": [
    "from datetime import datetime\n",
    " \n",
    " \n",
    "date_str_1 = '3 March 1995'\n",
    "date_str_2 = '3/9/1995'\n",
    "date_str_3 = '21-07-2021'\n",
    " \n",
    "dt1 = datetime.strptime(date_str_1, '%d %B %Y')\n",
    "dt2 = datetime.strptime(date_str_2, '%d/%m/%Y')\n",
    "dt3 = datetime.strptime(date_str_3, '%d-%m-%Y')\n",
    " \n",
    "print(dt1)\n",
    "print(dt2)\n",
    "print(dt3)"
   ]
  },
  {
   "cell_type": "code",
   "execution_count": null,
   "metadata": {},
   "outputs": [],
   "source": [
    "import datetime\n",
    " \n",
    " \n",
    "today = datetime.date.today()\n",
    "end_of_year = datetime.date(today.year, 12, 31)\n",
    "diff = (end_of_year - today).days\n",
    "print(f'Number of days until the end of the year: {diff}')"
   ]
  },
  {
   "cell_type": "code",
   "execution_count": null,
   "metadata": {},
   "outputs": [],
   "source": [
    "import datetime\n",
    " \n",
    " \n",
    "now = datetime.datetime.now()\n",
    "end_of_year = datetime.datetime(now.year + 1, 1, 1)\n",
    "diff = end_of_year - now\n",
    "print(f'Until the end of the year: {diff}')"
   ]
  },
  {
   "cell_type": "code",
   "execution_count": null,
   "metadata": {},
   "outputs": [],
   "source": [
    "import datetime\n",
    " \n",
    " \n",
    "dt = datetime.datetime(2020, 1, 1)\n",
    " \n",
    "print(dt + datetime.timedelta(days=7))\n",
    "print(dt + datetime.timedelta(days=30))\n",
    "print(dt + datetime.timedelta(hours=30))\n",
    "print(dt + datetime.timedelta(minutes=15))"
   ]
  },
  {
   "cell_type": "code",
   "execution_count": null,
   "metadata": {},
   "outputs": [],
   "source": [
    "import datetime\n",
    " \n",
    " \n",
    "dt = datetime.datetime(2020, 1, 1)\n",
    "delta = datetime.timedelta(hours=8)\n",
    " \n",
    "dates = [dt + i * delta for i in range(12)]\n",
    " \n",
    "for date in dates:\n",
    "    print(date)"
   ]
  },
  {
   "cell_type": "code",
   "execution_count": null,
   "metadata": {},
   "outputs": [],
   "source": [
    "import datetime\n",
    " \n",
    " \n",
    "rate = 0.04\n",
    "pv = 1000\n",
    "daily_rate = rate / 365.0\n",
    " \n",
    "d1 = datetime.date(2021, 7, 1)\n",
    "d2 = datetime.date(2021, 12, 31)\n",
    "duration = d2 - d1\n",
    " \n",
    "fv = pv * (1 + daily_rate) ** duration.days\n",
    "print(f'Future value: $ {fv:.2f}')"
   ]
  },
  {
   "cell_type": "code",
   "execution_count": null,
   "metadata": {},
   "outputs": [],
   "source": []
  }
 ],
 "metadata": {
  "kernelspec": {
   "display_name": "Python 3",
   "language": "python",
   "name": "python3"
  },
  "language_info": {
   "codemirror_mode": {
    "name": "ipython",
    "version": 3
   },
   "file_extension": ".py",
   "mimetype": "text/x-python",
   "name": "python",
   "nbconvert_exporter": "python",
   "pygments_lexer": "ipython3",
   "version": "3.10.8"
  },
  "orig_nbformat": 4,
  "vscode": {
   "interpreter": {
    "hash": "e7370f93d1d0cde622a1f8e1c04877d8463912d04d973331ad4851f04de6915a"
   }
  }
 },
 "nbformat": 4,
 "nbformat_minor": 2
}
